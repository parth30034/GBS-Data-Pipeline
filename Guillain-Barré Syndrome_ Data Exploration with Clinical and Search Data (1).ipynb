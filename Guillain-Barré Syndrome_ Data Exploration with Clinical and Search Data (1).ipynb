{
 "cells": [
  {
   "cell_type": "markdown",
   "metadata": {
    "application/vnd.databricks.v1+cell": {
     "cellMetadata": {
      "byteLimit": 2048000,
      "rowLimit": 10000
     },
     "inputWidgets": {},
     "nuid": "6df4df21-e6d1-4958-90fe-e0c6f8b0a921",
     "showTitle": false,
     "tableResultSettingsMap": {},
     "title": ""
    }
   },
   "source": [
    "**PROJECT DESCRIPTION**\n",
    "\n",
    "This project explores data related to Guillain-Barré Syndrome from two sources clinical research data and search engine results. Using PySpark, I perform data cleaning, transformation, and exploratory analysis to understand patterns and insights from each dataset independently."
   ]
  },
  {
   "cell_type": "markdown",
   "metadata": {
    "application/vnd.databricks.v1+cell": {
     "cellMetadata": {
      "byteLimit": 2048000,
      "rowLimit": 10000
     },
     "inputWidgets": {},
     "nuid": "2419e18b-2d04-4023-920a-2c61fcb94612",
     "showTitle": false,
     "tableResultSettingsMap": {},
     "title": ""
    }
   },
   "source": [
    "**Fetching and Setting Up Data from Clinical and SerpApi APIs**"
   ]
  },
  {
   "cell_type": "code",
   "execution_count": 0,
   "metadata": {
    "application/vnd.databricks.v1+cell": {
     "cellMetadata": {
      "byteLimit": 2048000,
      "rowLimit": 10000
     },
     "inputWidgets": {},
     "nuid": "8651c7ff-8ef4-456a-8a8d-f8c6b7519f45",
     "showTitle": false,
     "tableResultSettingsMap": {},
     "title": ""
    }
   },
   "outputs": [
    {
     "output_type": "stream",
     "name": "stdout",
     "output_type": "stream",
     "text": [
      "{'studies': [{'protocolSection': {'identificationModule': {'nctId': 'NCT05324176',\n     'orgStudyIdInfo': {'id': 'MD.19.06.186.R1.R2'},\n     'organization': {'fullName': 'Mansoura University', 'class': 'OTHER'},\n     'briefTitle': 'Diaphragm Thickness by Ultrasonography in Neurological Disorders',\n     'officialTitle': 'Assessment of Diaphragm Thickness by Ultrasonography in Guillain Barre Syndrome and Myasthenia Gravis'},\n    'statusModule': {'statusVerifiedDate': '2022-05',\n     'overallStatus': 'COMPLETED',\n     'expandedAccessInfo': {'hasExpandedAccess': False},\n     'startDateStruct': {'date': '2022-04-13', 'type': 'ACTUAL'},\n     'primaryCompletionDateStruct': {'date': '2022-05-09', 'type': 'ACTUAL'},\n     'completionDateStruct': {'date': '2022-05-13', 'type': 'ACTUAL'},\n     'studyFirstSubmitDate': '2022-04-04',\n     'studyFirstSubmitQcDate': '2022-04-04',\n     'studyFirstPostDateStruct': {'date': '2022-04-12', 'type': 'ACTUAL'},\n     'lastUpdateSubmitDate': '2022-05-13',\n     'lastUpdatePostDateStruct': {'date': '2022-05-16', 'type': 'ACTUAL'}},\n    'sponsorCollaboratorsModule': {'responsibleParty': {'type': 'SPONSOR'},\n     'leadSponsor': {'name': 'Mansoura University', 'class': 'OTHER'}},\n    'oversightModule': {'oversightHasDmc': False,\n     'isFdaRegulatedDrug': False,\n     'isFdaRegulatedDevice': False},\n    'descriptionModule': {'briefSummary': 'participants will be allocated into three groups, acute neuropathy (Guillain Barre Syndrome) group, neuromuscular junction disorder(myasthenia gravis ) group, and control group(people with neurological disorders not affecting the respiratory system.Ultrasonography is done on the diaphragm. The index test (ultrasound imaging of the diaphragm) is used. A high-resolution portable ultrasound machine is used, with a 7- to 13-MHz linear array transducer. Patients will be examined in the supine position. diaphragmatic thickness will is measured on both sides during a deep breath in inspiration and during expiration. objectives: primary outcome: to compare diaphragm thickness between the three examined groups. Secondary outcome: correlation between clinical scores and reference US values of diaphragm',\n     'detailedDescription': 'after IRB (institutional research board ) approval, of the faculty of medicine, Mansoura University, Egypt, written informed consent from all participants will be taken. participants will be allocated into three groups, acute neuropathy (Guillain Barre Syndrome) group, neuromuscular junction disorder(myasthenia gravis ) group, and control group(people with neurological disorders not affecting the respiratory system. inclusion group: age more than 18, both sexes. exclusion criteria: cardiopulmonary disease, chest trauma, diaphragmatic injury, body mass index more than 30. Any participant who shows respiratory dysfunction on doing arterial blood gases and pulmonary function tests will not be enrolled in the study. methods: Ultrasonography is done on the diaphragm. The index test (ultrasound imaging of the diaphragm) is used. A high-resolution portable ultrasound machine is used, with a 7- to 13-MHz linear array transducer. Patients will be examined in the supine position. diaphragmatic thickness will is measured on both sides during a deep breath in inspiration and during expiration. objectives: primary outcome: to compare diaphragm thickness between the three examined groups. Secondary outcome: correlation between clinical scores and reference US values of diaphragm'},\n    'conditionsModule': {'conditions': ['Guillain-Barre Syndrome',\n      'Myasthenia Gravis'],\n     'keywords': ['diaphragm thickness']},\n    'designModule': {'studyType': 'INTERVENTIONAL',\n     'phases': ['NA'],\n     'designInfo': {'allocation': 'NON_RANDOMIZED',\n      'interventionModel': 'PARALLEL',\n      'interventionModelDescription': 'Patients will be examined in the supine position. diaphragmatic thickness will is measured on both sides during a deep breath in inspiration and during expiration in the 3 groups: (1) Gillian-Barre syndrome; (2) Myasthenia Gravis; (3) control',\n      'primaryPurpose': 'SCREENING',\n      'maskingInfo': {'masking': 'NONE'}},\n     'enrollmentInfo': {'count': 60, 'type': 'ACTUAL'}},\n    'armsInterventionsModule': {'armGroups': [{'label': 'Gillian-Barre',\n       'type': 'ACTIVE_COMPARATOR',\n       'description': 'Patients will be examined in the supine position. diaphragmatic thickness will is measured on both sides during a deep breath in inspiration and during expiration.',\n       'interventionNames': ['Radiation: diaphragmatic ultrasound']},\n      {'label': 'Myasthenia Gravis',\n       'type': 'ACTIVE_COMPARATOR',\n       'description': 'Patients will be examined in the supine position. diaphragmatic thickness will is measured on both sides during a deep breath in inspiration and during expiration.',\n       'interventionNames': ['Radiation: diaphragmatic ultrasound']},\n      {'label': 'control',\n       'type': 'ACTIVE_COMPARATOR',\n       'description': 'Patients hospitalized with neurological disorders without affection of the respiratory system.',\n       'interventionNames': ['Radiation: diaphragmatic ultrasound']}],\n     'interventions': [{'type': 'RADIATION',\n       'name': 'diaphragmatic ultrasound',\n       'description': 'diaphragmatic thickness will be measured on both sides during a deep breath in inspiration and during expiration.',\n       'armGroupLabels': ['Gillian-Barre', 'Myasthenia Gravis', 'control']}]},\n    'outcomesModule': {'primaryOutcomes': [{'measure': 'diaphragm thickness',\n       'description': 'will be reported in (mm)',\n       'timeFrame': 'within 24 hours from hospital admission'}],\n     'secondaryOutcomes': [{'measure': 'Hughes clinical score',\n       'description': 'score of disability 1-5, \"Hughes RA, Newsom-Davis JM, Perkin GD, Pierce JM.Controlled trial prednisolone in acute polyneuropathy.Lancet. 1978;2:750-3\"',\n       'timeFrame': 'within 24 hours from hospital admission'}]},\n    'eligibilityModule': {'eligibilityCriteria': 'Inclusion Criteria:\\n\\n* all adult patients admitted to the neurology department\\n\\nExclusion Criteria:\\n\\n* cardiopulmonary diseases\\n* chest trauma\\n* diaphragmatic diseases\\n* Body Mass Index (BMI) \\\\> 30',\n     'healthyVolunteers': False,\n     'sex': 'ALL',\n     'minimumAge': '18 Years',\n     'stdAges': ['ADULT', 'OLDER_ADULT']},\n    'contactsLocationsModule': {'overallOfficials': [{'name': 'Aya M Zhran',\n       'affiliation': 'Mansoura University Faculty of Medicine',\n       'role': 'PRINCIPAL_INVESTIGATOR'}],\n     'locations': [{'facility': 'Mansoura University Hospitals',\n       'city': 'Mansoura',\n       'state': 'Not In US Or Canada',\n       'zip': '35516',\n       'country': 'Egypt',\n       'geoPoint': {'lat': 31.03637, 'lon': 31.38069}}]},\n    'ipdSharingStatementModule': {'ipdSharing': 'YES',\n     'description': \"Anonymous patients' data will be available with the PI or corresponding Author on reasonable request according to local IRB regulations\",\n     'timeFrame': 'will be reported',\n     'accessCriteria': 'will be reported'}},\n   'derivedSection': {'miscInfoModule': {'versionHolder': '2025-05-27'},\n    'conditionBrowseModule': {'meshes': [{'id': 'D009157',\n       'term': 'Myasthenia Gravis'},\n      {'id': 'D020275', 'term': 'Guillain-Barre Syndrome'},\n      {'id': 'D013577', 'term': 'Syndrome'}],\n     'ancestors': [{'id': 'D004194', 'term': 'Disease'},\n      {'id': 'D010335', 'term': 'Pathologic Processes'},\n      {'id': 'D009422', 'term': 'Nervous System Diseases'},\n      {'id': 'D020361', 'term': 'Paraneoplastic Syndromes, Nervous System'},\n      {'id': 'D009423', 'term': 'Nervous System Neoplasms'},\n      {'id': 'D009371', 'term': 'Neoplasms by Site'},\n      {'id': 'D009369', 'term': 'Neoplasms'},\n      {'id': 'D010257', 'term': 'Paraneoplastic Syndromes'},\n      {'id': 'D020274', 'term': 'Autoimmune Diseases of the Nervous System'},\n      {'id': 'D019636', 'term': 'Neurodegenerative Diseases'},\n      {'id': 'D020511', 'term': 'Neuromuscular Junction Diseases'},\n      {'id': 'D009468', 'term': 'Neuromuscular Diseases'},\n      {'id': 'D001327', 'term': 'Autoimmune Diseases'},\n      {'id': 'D007154', 'term': 'Immune System Diseases'},\n      {'id': 'D011129', 'term': 'Polyradiculoneuropathy'},\n      {'id': 'D003711', 'term': 'Demyelinating Diseases'},\n      {'id': 'D011115', 'term': 'Polyneuropathies'},\n      {'id': 'D010523', 'term': 'Peripheral Nervous System Diseases'},\n      {'id': 'D000094025', 'term': 'Post-Infectious Disorders'},\n      {'id': 'D002908', 'term': 'Chronic Disease'},\n      {'id': 'D020969', 'term': 'Disease Attributes'}],\n     'browseLeaves': [{'id': 'M16355',\n       'name': 'Syndrome',\n       'asFound': 'Syndrome',\n       'relevance': 'HIGH'},\n      {'id': 'M12112',\n       'name': 'Myasthenia Gravis',\n       'asFound': 'Myasthenia Gravis',\n       'relevance': 'HIGH'},\n      {'id': 'M22095',\n       'name': 'Guillain-Barre Syndrome',\n       'asFound': 'Guillain-Barre Syndrome',\n       'relevance': 'HIGH'},\n      {'id': 'M13170', 'name': 'Paraneoplastic Syndromes', 'relevance': 'LOW'},\n      {'id': 'M22160',\n       'name': 'Paraneoplastic Syndromes, Nervous System',\n       'relevance': 'LOW'},\n      {'id': 'M12367', 'name': 'Nervous System Neoplasms', 'relevance': 'LOW'},\n      {'id': 'M4629', 'name': 'Autoimmune Diseases', 'relevance': 'LOW'},\n      {'id': 'M22094',\n       'name': 'Autoimmune Diseases of the Nervous System',\n       'relevance': 'LOW'},\n      {'id': 'M21558',\n       'name': 'Neurodegenerative Diseases',\n       'relevance': 'LOW'},\n      {'id': 'M22297',\n       'name': 'Neuromuscular Junction Diseases',\n       'relevance': 'LOW'},\n      {'id': 'M12411', 'name': 'Neuromuscular Diseases', 'relevance': 'LOW'},\n      {'id': 'M10200', 'name': 'Immune System Diseases', 'relevance': 'LOW'},\n      {'id': 'M14013', 'name': 'Polyradiculoneuropathy', 'relevance': 'LOW'},\n      {'id': 'M6909', 'name': 'Demyelinating Diseases', 'relevance': 'LOW'},\n      {'id': 'M13999', 'name': 'Polyneuropathies', 'relevance': 'LOW'},\n      {'id': 'M13432',\n       'name': 'Peripheral Nervous System Diseases',\n       'relevance': 'LOW'},\n      {'id': 'M10283', 'name': 'Infections', 'relevance': 'LOW'},\n      {'id': 'M6368', 'name': 'Communicable Diseases', 'relevance': 'LOW'},\n      {'id': 'M3014', 'name': 'Post-Infectious Disorders', 'relevance': 'LOW'},\n      {'id': 'M6147', 'name': 'Chronic Disease', 'relevance': 'LOW'},\n      {'id': 'M22700', 'name': 'Disease Attributes', 'relevance': 'LOW'},\n      {'id': 'T3973',\n       'name': 'Myasthenia Gravis',\n       'asFound': 'Myasthenia Gravis',\n       'relevance': 'HIGH'},\n      {'id': 'T2640',\n       'name': 'Guillain-Barre Syndrome',\n       'asFound': 'Guillain-Barre Syndrome',\n       'relevance': 'HIGH'},\n      {'id': 'T1303',\n       'name': 'Chronic Graft Versus Host Disease',\n       'relevance': 'LOW'}],\n     'browseBranches': [{'abbrev': 'BC23',\n       'name': 'Symptoms and General Pathology'},\n      {'abbrev': 'All', 'name': 'All Conditions'},\n      {'abbrev': 'BC04', 'name': 'Neoplasms'},\n      {'abbrev': 'BC10', 'name': 'Nervous System Diseases'},\n      {'abbrev': 'BC20', 'name': 'Immune System Diseases'},\n      {'abbrev': 'BC01', 'name': 'Infections'},\n      {'abbrev': 'Rare', 'name': 'Rare Diseases'}]},\n    'interventionBrowseModule': {'browseLeaves': [{'id': 'M21137',\n       'name': 'Respiratory System Agents',\n       'relevance': 'LOW'}],\n     'browseBranches': [{'abbrev': 'Resp',\n       'name': 'Respiratory System Agents'},\n      {'abbrev': 'All', 'name': 'All Drugs and Chemicals'}]}},\n   'hasResults': False},\n  {'protocolSection': {'identificationModule': {'nctId': 'NCT01655394',\n     'orgStudyIdInfo': {'id': '01607831337'},\n     'organization': {'fullName': 'University of Cologne', 'class': 'OTHER'},\n     'briefTitle': 'Change of Nerve Conduction Properties in IVIg Dependent Neuropathies',\n     'officialTitle': 'Change of Nerve Conduction Properties in IVIg Dependent Neuropathies'},\n    'statusModule': {'statusVerifiedDate': '2014-12',\n     'overallStatus': 'UNKNOWN',\n     'lastKnownStatus': 'ACTIVE_NOT_RECRUITING',\n     'expandedAccessInfo': {'hasExpandedAccess': False},\n     'startDateStruct': {'date': '2012-10'},\n     'primaryCompletionDateStruct': {'date': '2014-12', 'type': 'ACTUAL'},\n     'completionDateStruct': {'date': '2016-06', 'type': 'ESTIMATED'},\n     'studyFirstSubmitDate': '2012-07-30',\n     'studyFirstSubmitQcDate': '2012-07-31',\n     'studyFirstPostDateStruct': {'date': '2012-08-01', 'type': 'ESTIMATED'},\n     'lastUpdateSubmitDate': '2014-12-11',\n     'lastUpdatePostDateStruct': {'date': '2014-12-12', 'type': 'ESTIMATED'}},\n    'sponsorCollaboratorsModule': {'responsibleParty': {'type': 'PRINCIPAL_INVESTIGATOR',\n      'investigatorFullName': 'Helmar Lehmann',\n      'investigatorTitle': 'PD Dr. med. H. Lehmann',\n      'investigatorAffiliation': 'University of Cologne'},\n     'leadSponsor': {'name': 'University of Cologne', 'class': 'OTHER'}},\n    'oversightModule': {'oversightHasDmc': False},\n    'descriptionModule': {'briefSummary': 'IVIg exert a variety of different immunomodulatory effects and several mechanism of action have been proposed for IVIg. In this study the role of IVIg on short term nerve conduction in patients with immune-mediated neuropathies will be explored.',\n     'detailedDescription': 'IVIg exert a variety of different immunomodulatory effects and several mechanism of action have been proposed for IVIg. In this study the role of IVIg on short term nerve conduction in patients with immune-mediated neuropathies will be explored'},\n    'conditionsModule': {'conditions': ['Guillain-Barre Syndrome',\n      'CIDP',\n      'Multifocal Motor Neuropathy']},\n    'designModule': {'studyType': 'OBSERVATIONAL',\n     'designInfo': {'observationalModel': 'COHORT',\n      'timePerspective': 'PROSPECTIVE'},\n     'bioSpec': {'retention': 'SAMPLES_WITHOUT_DNA', 'description': 'Serum'},\n     'enrollmentInfo': {'count': 50, 'type': 'ESTIMATED'}},\n    'outcomesModule': {'primaryOutcomes': [{'measure': 'Clinical Improvement',\n       'timeFrame': '6 Months'}]},\n    'eligibilityModule': {'eligibilityCriteria': 'Inclusion Criteria:\\n\\n* immune neuropathy\\n* age above 18 y\\n* IVIg treatment\\n\\nexclusion:\\n\\n* no IVIg treatment',\n     'healthyVolunteers': False,\n     'sex': 'ALL',\n     'minimumAge': '18 Years',\n     'stdAges': ['ADULT', 'OLDER_ADULT'],\n     'studyPopulation': 'patients with immune neuropathies',\n     'samplingMethod': 'PROBABILITY_SAMPLE'},\n    'contactsLocationsModule': {'overallOfficials': [{'name': 'Helmar C. Lehmann, PD Dr. med.',\n       'affiliation': 'PI',\n       'role': 'PRINCIPAL_INVESTIGATOR'}],\n     'locations': [{'facility': 'University of Cologne',\n       'city': 'Cologne',\n       'country': 'Germany',\n       'geoPoint': {'lat': 50.93333, 'lon': 6.95}}]}},\n   'derivedSection': {'miscInfoModule': {'versionHolder': '2025-05-27'},\n    'conditionBrowseModule': {'meshes': [{'id': 'D020275',\n       'term': 'Guillain-Barre Syndrome'}],\n     'ancestors': [{'id': 'D010523',\n       'term': 'Peripheral Nervous System Diseases'},\n      {'id': 'D009468', 'term': 'Neuromuscular Diseases'},\n      {'id': 'D009422', 'term': 'Nervous System Diseases'},\n      {'id': 'D011129', 'term': 'Polyradiculoneuropathy'},\n      {'id': 'D020274', 'term': 'Autoimmune Diseases of the Nervous System'},\n      {'id': 'D003711', 'term': 'Demyelinating Diseases'},\n      {'id': 'D011115', 'term': 'Polyneuropathies'},\n      {'id': 'D001327', 'term': 'Autoimmune Diseases'},\n      {'id': 'D007154', 'term': 'Immune System Diseases'},\n      {'id': 'D000094025', 'term': 'Post-Infectious Disorders'},\n      {'id': 'D002908', 'term': 'Chronic Disease'},\n      {'id': 'D020969', 'term': 'Disease Attributes'},\n      {'id': 'D010335', 'term': 'Pathologic Processes'}],\n     'browseLeaves': [{'id': 'M16355', 'name': 'Syndrome', 'relevance': 'LOW'},\n      {'id': 'M22095',\n       'name': 'Guillain-Barre Syndrome',\n       'asFound': 'Guillain-Barre Syndrome',\n       'relevance': 'HIGH'},\n      {'id': 'M13432',\n       'name': 'Peripheral Nervous System Diseases',\n       'relevance': 'LOW'},\n      {'id': 'M12411', 'name': 'Neuromuscular Diseases', 'relevance': 'LOW'},\n      {'id': 'M14013', 'name': 'Polyradiculoneuropathy', 'relevance': 'LOW'},\n      {'id': 'M4629', 'name': 'Autoimmune Diseases', 'relevance': 'LOW'},\n      {'id': 'M22094',\n       'name': 'Autoimmune Diseases of the Nervous System',\n       'relevance': 'LOW'},\n      {'id': 'M6909', 'name': 'Demyelinating Diseases', 'relevance': 'LOW'},\n      {'id': 'M13999', 'name': 'Polyneuropathies', 'relevance': 'LOW'},\n      {'id': 'M10200', 'name': 'Immune System Diseases', 'relevance': 'LOW'},\n      {'id': 'M10283', 'name': 'Infections', 'relevance': 'LOW'},\n      {'id': 'M6368', 'name': 'Communicable Diseases', 'relevance': 'LOW'},\n      {'id': 'M3014', 'name': 'Post-Infectious Disorders', 'relevance': 'LOW'},\n      {'id': 'M6147', 'name': 'Chronic Disease', 'relevance': 'LOW'},\n      {'id': 'M22700', 'name': 'Disease Attributes', 'relevance': 'LOW'},\n      {'id': 'T2640',\n       'name': 'Guillain-Barre Syndrome',\n       'asFound': 'Guillain-Barre Syndrome',\n       'relevance': 'HIGH'},\n      {'id': 'T3929',\n       'name': 'Multifocal Motor Neuropathy',\n       'asFound': 'Multifocal Motor Neuropathy',\n       'relevance': 'HIGH'},\n      {'id': 'T1303',\n       'name': 'Chronic Graft Versus Host Disease',\n       'relevance': 'LOW'}],\n     'browseBranches': [{'abbrev': 'BC23',\n       'name': 'Symptoms and General Pathology'},\n      {'abbrev': 'All', 'name': 'All Conditions'},\n      {'abbrev': 'BC10', 'name': 'Nervous System Diseases'},\n      {'abbrev': 'BC20', 'name': 'Immune System Diseases'},\n      {'abbrev': 'BC01', 'name': 'Infections'},\n      {'abbrev': 'Rare', 'name': 'Rare Diseases'}]}},\n   'hasResults': False},\n  {'protocolSection': {'identificationModule': {'nctId': 'NCT00271791',\n     'orgStudyIdInfo': {'id': '42352'},\n     'secondaryIdInfos': [{'id': '20050277'}],\n     'organization': {'fullName': 'Carmel Medical Center', 'class': 'OTHER'},\n     'briefTitle': 'Prednisone Treatment for Vestibular Neuronitis',\n     'officialTitle': 'Prednisone Treatment for Vestibular Neuronitis'},\n    'statusModule': {'statusVerifiedDate': '2007-07',\n     'overallStatus': 'COMPLETED',\n     'expandedAccessInfo': {'hasExpandedAccess': False},\n     'startDateStruct': {'date': '2005-09'},\n     'completionDateStruct': {'date': '2007-05', 'type': 'ACTUAL'},\n     'studyFirstSubmitDate': '2006-01-01',\n     'studyFirstSubmitQcDate': '2006-01-01',\n     'studyFirstPostDateStruct': {'date': '2006-01-04', 'type': 'ESTIMATED'},\n     'lastUpdateSubmitDate': '2007-11-04',\n     'lastUpdatePostDateStruct': {'date': '2007-11-06', 'type': 'ESTIMATED'}},\n    'sponsorCollaboratorsModule': {'leadSponsor': {'name': 'Carmel Medical Center',\n      'class': 'OTHER'},\n     'collaborators': [{'name': 'Clalit Health Services, Haifa and West Galilee',\n       'class': 'OTHER'},\n      {'name': 'Hillel Yaffe Medical Center', 'class': 'OTHER_GOV'},\n      {'name': 'Rambam Health Care Campus', 'class': 'OTHER'},\n      {'name': 'University Health Network, Toronto', 'class': 'OTHER'}]},\n    'oversightModule': {'oversightHasDmc': False},\n    'descriptionModule': {'briefSummary': 'The purpose of the study is to investigate the value of steroids in the treatment of vestibular neuronitis. The potential benefits of steroid therapy would be analyzed by the clinical response, self-perceived handicap and laboratory parameters.',\n     'detailedDescription': \"Vestibular neuronitis is the second most common cause of peripheral vestibulopathy (the first being benign paroxysmal positional vertigo) with incidence of about 3.5/100000. Currently vestibular neuronitis is explained by a viral pathogenesis.\\n\\nVestibular neuronitis is considered to have a benign course. The static rotatory vertigo and disequilibrium, present even when the patient is completely at rest, subside in most cases within a few days, and a gradual return to daily activities is the rule. However, it has been shown that there is generally incomplete restoration of peripheral function, and clinical recovery is achieved by proprioceptive and visual substitution for the unilateral vestibular deficit, combined with central vestibular compensation of the imbalance in vestibular tone. Although vestibular neuronitis is usually restricted to one attack, several studies have reported continuous or episodic vertigo or unsteadiness in 43% -53% of patients. The main residua include impaired vision and disequilibrium during walking and especially during head movement toward the affected ear. The rate of positive finding on vestibular evaluation may reach 60%. However, vestibular impairment as reflected by positive bedside testing and vestibular laboratory evaluation is not necessarily accompanied by subjective complaints and does not always reflect the level of incapacity.\\n\\nThe assumed HSV-1 etiology of vestibular neuronitis and the reported benefit of the combination of steroids and acyclovir in Bell's palsy suggest similar advantage in the treatment of vestibular neuronitis. Also, glucocorticoid receptors activation was reported to enhance vestibular compensation after acute peripheral vestibular insults in various animal models. A recent study investigated the effect of prednisolone versus valacyclovir and placebo on canal paresis in vestibular neuronitis patients. It was found that steroid treatment significantly improved peripheral vestibular function to the extent reflected by the caloric testing. However, bedside findings, patients' complaints and daily handicap were not evaluated. The relevance of the EOG caloric test results to clinical improvement could be argued in light of a previous report showing no correlation between EOG findings and residual symptoms in a long-term follow-up of vestibular neuronitis patients, and the finding that corticosteroid therapy had no effect on symptoms despite significant recovery of the caloric-test results.\\n\\nThe purpose of the study:\\n\\nProspective controlled longitudinal 12-month evaluation of the value of steroids in the treatment of vestibular neuronitis. The potential benefits of steroid therapy would be analyzed by the clinical response, self-perceived handicap and EOG laboratory parameters.\"},\n    'conditionsModule': {'conditions': ['Vestibular Diseases',\n      'Vestibular Neuronitis'],\n     'keywords': ['Vestibular Neuronitis',\n      'Vestibular Function Tests',\n      'Vestibular Adaptation',\n      'Steroids']},\n    'designModule': {'studyType': 'INTERVENTIONAL',\n     'phases': ['PHASE2'],\n     'designInfo': {'allocation': 'RANDOMIZED',\n      'interventionModel': 'PARALLEL',\n      'primaryPurpose': 'TREATMENT',\n      'maskingInfo': {'masking': 'DOUBLE',\n       'whoMasked': ['PARTICIPANT', 'INVESTIGATOR']}},\n     'enrollmentInfo': {'count': 17, 'type': 'ACTUAL'}},\n    'armsInterventionsModule': {'armGroups': [{'label': '1',\n       'type': 'EXPERIMENTAL',\n       'description': 'Prednisone',\n       'interventionNames': ['Drug: Prednisone']},\n      {'label': '2',\n       'type': 'PLACEBO_COMPARATOR',\n       'description': 'Placebo',\n       'interventionNames': ['Drug: Prednisone']}],\n     'interventions': [{'type': 'DRUG',\n       'name': 'Prednisone',\n       'description': 'PO, 1 mg/kg body weight, 5 days Short tapering regimen: daily reductions in the dose, 12 days',\n       'armGroupLabels': ['1']},\n      {'type': 'DRUG',\n       'name': 'Prednisone',\n       'description': 'PO, Placebo, 17 days',\n       'armGroupLabels': ['2']}]},\n    'outcomesModule': {'primaryOutcomes': [{'measure': 'Clinical: The presence of static and dynamic nystagmus, positional and positioning nystagmus, and disequilibrium on bedside examination.',\n       'timeFrame': '12 months'}],\n     'secondaryOutcomes': [{'measure': 'Functional: Scores on the Dizziness Handicap Inventory questionnaires.',\n       'timeFrame': '12 months'},\n      {'measure': 'Laboratory: Caloric lateralization and directional preponderance on electro-oculography (EOG).',\n       'timeFrame': '12 months'}]},\n    'eligibilityModule': {'eligibilityCriteria': 'Inclusion Criteria:\\n\\n* Clinical diagnosis of vestibular neuronitis.\\n* Documentation of unilateral reduced caloric response (caloric asymmetry \\\\>25%) on the EOG caloric study.\\n\\nExclusion Criteria:\\n\\n* Complaints of new hearing loss, tinnitus, or neurological deficits.\\n* The presence of previously non-diagnosed sensorineural hearing loss (SNHL)\\n* History of vestibular dysfunction.\\n* Patient younger than 18 years of age.\\n* Known contra-indication to systemic steroids: Unbalanced hypertension, un-controlled diabetes mellitus, immunodeficiency, active peptic disease, and avascular necrosis of the femoral head.',\n     'healthyVolunteers': False,\n     'sex': 'ALL',\n     'minimumAge': '18 Years',\n     'stdAges': ['ADULT', 'OLDER_ADULT']},\n\n*** WARNING: max output size exceeded, skipping output. ***\n\nentionsModule': {'armGroups': [{'label': 'immunoglobulin group',\n       'type': 'EXPERIMENTAL',\n       'description': 'This group of patients was treated with intravenous immunoglobulin(30g ivgtt qd) for 5 days',\n       'interventionNames': ['Drug: Intravenous Immunoglobulins, Human']},\n      {'label': 'methylprednisolone group',\n       'type': 'EXPERIMENTAL',\n       'description': 'This group of patients was treated with methylprednisolone 500 MG Injection',\n       'interventionNames': ['Drug: Methylprednisolone 500 MG Injection']},\n      {'label': 'control group',\n       'type': 'NO_INTERVENTION',\n       'description': 'This group of patients was treated without immunoglobulin or hormone'},\n      {'label': 'mixed group',\n       'type': 'EXPERIMENTAL',\n       'description': 'This group of patients was treated both with intravenous immunoglobulin and methylprednisolone.',\n       'interventionNames': ['Drug: Intravenous Immunoglobulins, Human',\n        'Drug: Methylprednisolone 500 MG Injection']}],\n     'interventions': [{'type': 'DRUG',\n       'name': 'Intravenous Immunoglobulins, Human',\n       'description': 'patients were treated with intravenous immunoglobulin(30g ivgtt qd) for 5 days',\n       'armGroupLabels': ['immunoglobulin group', 'mixed group']},\n      {'type': 'DRUG',\n       'name': 'Methylprednisolone 500 MG Injection',\n       'description': 'patients were treated with methylprednisolone',\n       'armGroupLabels': ['methylprednisolone group', 'mixed group']}]},\n    'outcomesModule': {'primaryOutcomes': [{'measure': 'the severity of Guillain-barre syndrome',\n       'description': 'The Guillain-barre syndrome disability score is a wide scale for the severity of Guillain-barre syndrome (0, optimal health; 1, minor symptoms, able to run; 2, able to walk unaided 10 m, unable to run; 3, able to walk 10 m across an open space with help; 4 bedridden or wheelchair users; 5, require assisted ventilation; 6, dead).The higher the score, the worse the prognosis.',\n       'timeFrame': 'baseline, at 1 week, at 26 weeks'}]},\n    'eligibilityModule': {'eligibilityCriteria': 'Inclusion Criteria:\\n\\n* patients fulfilled clinical, biological, and electrophysiology criteria for Guillain-barre syndrome.\\n\\nExclusion Criteria:\\n\\n* nonidiopathic Guillain-barre syndrome and Miller Fisher syndrome',\n     'healthyVolunteers': False,\n     'sex': 'ALL',\n     'stdAges': ['CHILD', 'ADULT', 'OLDER_ADULT']},\n    'contactsLocationsModule': {'centralContacts': [{'name': 'Binbin Deng',\n       'role': 'CONTACT',\n       'phone': 'dbinbin@aliyun.com'}],\n     'locations': [{'facility': 'First Affiliated Hospital of Wenzhou Medical University',\n       'status': 'RECRUITING',\n       'city': 'Wenzhou',\n       'state': 'Zhejiang',\n       'zip': '325000',\n       'country': 'China',\n       'contacts': [{'name': 'Binbin Deng, Doctor',\n         'role': 'CONTACT',\n         'phone': '+8613695720610',\n         'email': 'dbinbin@aliyun.com'}],\n       'geoPoint': {'lat': 27.99942, 'lon': 120.66682}}]}},\n   'derivedSection': {'miscInfoModule': {'versionHolder': '2025-05-27'},\n    'conditionBrowseModule': {'meshes': [{'id': 'D020275',\n       'term': 'Guillain-Barre Syndrome'},\n      {'id': 'D013577', 'term': 'Syndrome'}],\n     'ancestors': [{'id': 'D004194', 'term': 'Disease'},\n      {'id': 'D010335', 'term': 'Pathologic Processes'},\n      {'id': 'D011129', 'term': 'Polyradiculoneuropathy'},\n      {'id': 'D020274', 'term': 'Autoimmune Diseases of the Nervous System'},\n      {'id': 'D009422', 'term': 'Nervous System Diseases'},\n      {'id': 'D003711', 'term': 'Demyelinating Diseases'},\n      {'id': 'D011115', 'term': 'Polyneuropathies'},\n      {'id': 'D010523', 'term': 'Peripheral Nervous System Diseases'},\n      {'id': 'D009468', 'term': 'Neuromuscular Diseases'},\n      {'id': 'D001327', 'term': 'Autoimmune Diseases'},\n      {'id': 'D007154', 'term': 'Immune System Diseases'},\n      {'id': 'D000094025', 'term': 'Post-Infectious Disorders'},\n      {'id': 'D002908', 'term': 'Chronic Disease'},\n      {'id': 'D020969', 'term': 'Disease Attributes'}],\n     'browseLeaves': [{'id': 'M16355',\n       'name': 'Syndrome',\n       'asFound': 'Syndrome',\n       'relevance': 'HIGH'},\n      {'id': 'M22095',\n       'name': 'Guillain-Barre Syndrome',\n       'asFound': 'Guillain-Barre Syndrome',\n       'relevance': 'HIGH'},\n      {'id': 'M14013', 'name': 'Polyradiculoneuropathy', 'relevance': 'LOW'},\n      {'id': 'M4629', 'name': 'Autoimmune Diseases', 'relevance': 'LOW'},\n      {'id': 'M22094',\n       'name': 'Autoimmune Diseases of the Nervous System',\n       'relevance': 'LOW'},\n      {'id': 'M6909', 'name': 'Demyelinating Diseases', 'relevance': 'LOW'},\n      {'id': 'M13999', 'name': 'Polyneuropathies', 'relevance': 'LOW'},\n      {'id': 'M13432',\n       'name': 'Peripheral Nervous System Diseases',\n       'relevance': 'LOW'},\n      {'id': 'M12411', 'name': 'Neuromuscular Diseases', 'relevance': 'LOW'},\n      {'id': 'M10200', 'name': 'Immune System Diseases', 'relevance': 'LOW'},\n      {'id': 'M10283', 'name': 'Infections', 'relevance': 'LOW'},\n      {'id': 'M6368', 'name': 'Communicable Diseases', 'relevance': 'LOW'},\n      {'id': 'M3014', 'name': 'Post-Infectious Disorders', 'relevance': 'LOW'},\n      {'id': 'M6147', 'name': 'Chronic Disease', 'relevance': 'LOW'},\n      {'id': 'M22700', 'name': 'Disease Attributes', 'relevance': 'LOW'},\n      {'id': 'T2640',\n       'name': 'Guillain-Barre Syndrome',\n       'asFound': 'Guillain-Barre Syndrome',\n       'relevance': 'HIGH'},\n      {'id': 'T1303',\n       'name': 'Chronic Graft Versus Host Disease',\n       'relevance': 'LOW'}],\n     'browseBranches': [{'abbrev': 'BC23',\n       'name': 'Symptoms and General Pathology'},\n      {'abbrev': 'All', 'name': 'All Conditions'},\n      {'abbrev': 'BC10', 'name': 'Nervous System Diseases'},\n      {'abbrev': 'BC20', 'name': 'Immune System Diseases'},\n      {'abbrev': 'BC01', 'name': 'Infections'},\n      {'abbrev': 'Rare', 'name': 'Rare Diseases'}]},\n    'interventionBrowseModule': {'meshes': [{'id': 'D008775',\n       'term': 'Methylprednisolone'},\n      {'id': 'D007136', 'term': 'Immunoglobulins'},\n      {'id': 'D016756', 'term': 'Immunoglobulins, Intravenous'},\n      {'id': 'D005719', 'term': 'gamma-Globulins'},\n      {'id': 'D018029', 'term': 'Rho(D) Immune Globulin'}],\n     'ancestors': [{'id': 'D000893', 'term': 'Anti-Inflammatory Agents'},\n      {'id': 'D000932', 'term': 'Antiemetics'},\n      {'id': 'D001337', 'term': 'Autonomic Agents'},\n      {'id': 'D018373', 'term': 'Peripheral Nervous System Agents'},\n      {'id': 'D045505', 'term': 'Physiological Effects of Drugs'},\n      {'id': 'D005765', 'term': 'Gastrointestinal Agents'},\n      {'id': 'D005938', 'term': 'Glucocorticoids'},\n      {'id': 'D006728', 'term': 'Hormones'},\n      {'id': 'D006730',\n       'term': 'Hormones, Hormone Substitutes, and Hormone Antagonists'},\n      {'id': 'D018696', 'term': 'Neuroprotective Agents'},\n      {'id': 'D020011', 'term': 'Protective Agents'},\n      {'id': 'D007155', 'term': 'Immunologic Factors'}],\n     'browseLeaves': [{'id': 'M10184',\n       'name': 'Immunoglobulins',\n       'asFound': 'Arthroplasty',\n       'relevance': 'HIGH'},\n      {'id': 'M4225', 'name': 'Antibodies', 'relevance': 'LOW'},\n      {'id': 'M8836',\n       'name': 'gamma-Globulins',\n       'asFound': 'Raltegravir',\n       'relevance': 'HIGH'},\n      {'id': 'M19117',\n       'name': 'Immunoglobulins, Intravenous',\n       'asFound': 'Myasthenic Syndrome',\n       'relevance': 'HIGH'},\n      {'id': 'M20191',\n       'name': 'Rho(D) Immune Globulin',\n       'asFound': 'Raltegravir',\n       'relevance': 'HIGH'},\n      {'id': 'M11749',\n       'name': 'Methylprednisolone',\n       'asFound': 'Who are',\n       'relevance': 'HIGH'},\n      {'id': 'M1833',\n       'name': 'Methylprednisolone Acetate',\n       'relevance': 'LOW'},\n      {'id': 'M11750',\n       'name': 'Methylprednisolone Hemisuccinate',\n       'relevance': 'LOW'},\n      {'id': 'M14120', 'name': 'Prednisolone', 'relevance': 'LOW'},\n      {'id': 'M229449', 'name': 'Prednisolone acetate', 'relevance': 'LOW'},\n      {'id': 'M211887',\n       'name': 'Prednisolone hemisuccinate',\n       'relevance': 'LOW'},\n      {'id': 'M248881', 'name': 'Prednisolone phosphate', 'relevance': 'LOW'},\n      {'id': 'M9789', 'name': 'Hormones', 'relevance': 'LOW'},\n      {'id': 'M4217', 'name': 'Anti-Inflammatory Agents', 'relevance': 'LOW'},\n      {'id': 'M4251', 'name': 'Antiemetics', 'relevance': 'LOW'},\n      {'id': 'M8881', 'name': 'Gastrointestinal Agents', 'relevance': 'LOW'},\n      {'id': 'M9047', 'name': 'Glucocorticoids', 'relevance': 'LOW'},\n      {'id': 'M9788', 'name': 'Hormone Antagonists', 'relevance': 'LOW'},\n      {'id': 'M20773', 'name': 'Neuroprotective Agents', 'relevance': 'LOW'},\n      {'id': 'M21869', 'name': 'Protective Agents', 'relevance': 'LOW'},\n      {'id': 'M10201', 'name': 'Immunologic Factors', 'relevance': 'LOW'}],\n     'browseBranches': [{'abbrev': 'All', 'name': 'All Drugs and Chemicals'},\n      {'abbrev': 'Infl', 'name': 'Anti-Inflammatory Agents'},\n      {'abbrev': 'AnEm', 'name': 'Antiemetics'},\n      {'abbrev': 'NeuroAg', 'name': 'Neuroprotective Agents'},\n      {'abbrev': 'Gast', 'name': 'Gastrointestinal Agents'},\n      {'abbrev': 'ANeo', 'name': 'Antineoplastic Agents'}]}},\n   'hasResults': False},\n  {'protocolSection': {'identificationModule': {'nctId': 'NCT06620198',\n     'orgStudyIdInfo': {'id': '110SL24'},\n     'organization': {'fullName': 'I.R.C.C.S. Fondazione Santa Lucia',\n      'class': 'OTHER'},\n     'briefTitle': 'Upper Limb Robot-Assisted Therapy in Patients with Guillain-Barré Syndrome',\n     'officialTitle': 'Effects of Robot-Assisted Therapy for Upper Limb Functional Recovery in Patients with Guillain-Barré Syndrome: a Randomized Controlled Trial',\n     'acronym': 'RAUL-Project'},\n    'statusModule': {'statusVerifiedDate': '2024-09',\n     'overallStatus': 'ACTIVE_NOT_RECRUITING',\n     'expandedAccessInfo': {'hasExpandedAccess': False},\n     'startDateStruct': {'date': '2024-10-01', 'type': 'ACTUAL'},\n     'primaryCompletionDateStruct': {'date': '2026-10-01',\n      'type': 'ESTIMATED'},\n     'completionDateStruct': {'date': '2027-10-01', 'type': 'ESTIMATED'},\n     'studyFirstSubmitDate': '2024-09-26',\n     'studyFirstSubmitQcDate': '2024-09-30',\n     'studyFirstPostDateStruct': {'date': '2024-10-01', 'type': 'ACTUAL'},\n     'lastUpdateSubmitDate': '2025-03-13',\n     'lastUpdatePostDateStruct': {'date': '2025-03-18', 'type': 'ACTUAL'}},\n    'sponsorCollaboratorsModule': {'responsibleParty': {'type': 'SPONSOR'},\n     'leadSponsor': {'name': 'I.R.C.C.S. Fondazione Santa Lucia',\n      'class': 'OTHER'}},\n    'oversightModule': {'oversightHasDmc': False,\n     'isFdaRegulatedDrug': False,\n     'isFdaRegulatedDevice': False,\n     'isUsExport': False},\n    'descriptionModule': {'briefSummary': 'Guillain-Barré Syndrome is an immune-mediated polyradiculoneuropathy, with around 100,000 new cases reported worldwide annually.\\n\\nThe aim of this double-blind randomized controlled trial with a SHAM control group is to evaluate the effects of robot-assisted therapy, integrated with conventional therapy, on upper limb motor recovery in patients with GBS.',\n     'detailedDescription': 'Guillain-Barré Syndrome is a leading cause of acute flaccid paralysis, presenting with limb weakness and hyporeflexia or areflexia. Guillain-Barré Syndrome is an immune-mediated polyradiculoneuropathy, with around 100,000 new cases reported worldwide annually. This study aims to assess the effectiveness of a robot-assisted rehabilitation treatment for upper limb motor recovery in patients with Guillain-Barré Syndrome. A double-blind randomized trial will be conducted, where the experimental group will undergo actual robotic rehabilitation sessions, while the control group will perform sessions in which the robot will carry out simple mobilization, comparable to traditional interventions. This approach will help maintain participant blinding. Patients will be evaluated before and after treatment, and with two follow-up assessments 60 and 90 days after therapy initiation. Evaluations will include muscle recruitment and autonomy in daily living activities.'},\n    'conditionsModule': {'conditions': ['Guillain Barré Syndrome'],\n     'keywords': ['Polyradiculopathy',\n      'Chronic Inflammatory Demyelinating Polyradiculoneuropathy',\n      'Polyradiculoneuropathy',\n      'Exoskeleton device',\n      'Robotic Rehabilitation']},\n    'designModule': {'studyType': 'INTERVENTIONAL',\n     'phases': ['PHASE4'],\n     'designInfo': {'allocation': 'RANDOMIZED',\n      'interventionModel': 'PARALLEL',\n      'interventionModelDescription': 'Randomized Clinical Trial',\n      'primaryPurpose': 'TREATMENT',\n      'maskingInfo': {'masking': 'DOUBLE',\n       'maskingDescription': 'Assessors, Patients and their caregivers will be blinded for the entire duration of the study.',\n       'whoMasked': ['PARTICIPANT', 'OUTCOMES_ASSESSOR']}},\n     'enrollmentInfo': {'count': 62, 'type': 'ESTIMATED'}},\n    'armsInterventionsModule': {'armGroups': [{'label': 'Active-assisted therapy with an upper limb robotic exoskeleton',\n       'type': 'EXPERIMENTAL',\n       'description': \"Patients will receive upper limb neurorehabilitation training using a robotic exoskeleton administered by the therapist. The assistance provided by the device is adjusted based on the maximum force (as a percentage of the upper limb's weight) the robot needs to exert to assist the patient's movements. The computer-robot interface is designed to offer various exergames that require specific upper limb movements.\\n\\nAll movements performed by the patient using the exoskeleton will provide immediate audiovisual feedback on the computer screen. The training will consist of 20 sessions, with five 45-minute sessions per week.\",\n       'interventionNames': ['Device: Armeo® Power 2 Exoskeleton - Active Rehabilitation with Feedback and Exercise Gaming']},\n      {'label': 'Passive mobilization with an upper limb robotic exoskeleton',\n       'type': 'ACTIVE_COMPARATOR',\n       'description': 'Patients will undergo a neurorehabilitation intervention with a SHAM treatment under the guidance of the experimental therapist.',\n       'interventionNames': ['Device: Armeo® Power 2 Exoskeleton - Passive Mobilization without Feedback']}],\n     'interventions': [{'type': 'DEVICE',\n       'name': 'Armeo® Power 2 Exoskeleton - Active Rehabilitation with Feedback and Exercise Gaming',\n       'description': \"Patients will undergo 20 session of 45 minutes each with an exoskeleton for upper limb rehabilitation. The assistance provided by the device is adjusted based on the maximum force (as a percentage of the upper limb's weight) the robot needs to exert to assist the patient's movements. Each session will include exercises designed to improve the range of motion (ROM) of the shoulder, elbow, wrist, and enhance hand coordination. The training parameters, such as difficulty level, duration, and visual stimuli, will be adjusted based on the patient's residual abilities. The selected exercises may involve movements of a single joint along one axis, combined movements of a single joint around 2 or 3 axes, selective exercises for the opening and closing hand, or multi-joint exercises. All exercises will be realized with audiovisual feedback.\",\n       'armGroupLabels': ['Active-assisted therapy with an upper limb robotic exoskeleton']},\n      {'type': 'DEVICE',\n       'name': 'Armeo® Power 2 Exoskeleton - Passive Mobilization without Feedback',\n       'description': 'Patients will undergo 20 session of 45 minute of a neurorehabilitation intervention with a SHAM treatment under the guidance of the experimental therapist. This will involve passive mobilization using the exoskeleton for the upper limb, without any audiovisual feedback. They will not realize any active movement during the training.',\n       'armGroupLabels': ['Passive mobilization with an upper limb robotic exoskeleton']}]},\n    'outcomesModule': {'primaryOutcomes': [{'measure': 'Fugl-Meyer Assessment scale for Upper Extremity (FMAUE)',\n       'description': 'THE FMAUE will be used to assess the change in the motor and sensory functions of the upper limb. The FMAUE included five domains: motor functioning, sensitivity, coordination, range of motion and pain. The score ranging from 0 to 66 points, a higher score corresponds to a better function of the upper limb.',\n       'timeFrame': 'Baseline (t0); 30 days (t1); 60 days (t2); 90 days (t3).'}],\n     'secondaryOutcomes': [{'measure': 'The 36-Item Short-Form Health Survey (SF-36)',\n       'description': 'The SF-36 will be used to assess the change in health-related quality of life. The SF-36 is organized into 8 different domains that are divided into physical components (Physical functioning, limitations due to physical problems, bodily pain and general perceptions of health status) and mental components (Social functioning, general mental health, limitations due to emotional problems and vitality). Each of the 8 domain scores, added together, is linearly transformed on a scale from 0 to 100, where 0 equals negative health and 100 equals positive health.',\n       'timeFrame': 'Baseline (t0); 30 days (t1); 60 days (t2); 90 days (t3).'},\n      {'measure': 'modified Barthel Index (mBI)',\n       'description': 'The mBI will be used to assess the change in the autonomy of patients during their activities of daily living. This scale has a score ranging from 0 to 100 points, a higher score corresponds to a better performance in the activities of daily living.',\n       'timeFrame': 'Baseline (t0); 30 days (t1); 60 days (t2); 90 days (t3).'},\n      {'measure': 'ABILHAND',\n       'description': 'The ABILHAND will be used to assess manual dexterity. The ABILHAND is a questionnaire-based assessment tool that measures the difficulty a patient perceives in using their hands to perform manual operations and activities in daily living. It assesses upper limb functionality. It has nonlinear logit values ranging from 1.72 to -2.18.',\n       'timeFrame': 'Baseline (t0); 30 days (t1); 60 days (t2); 90 days (t3).'},\n      {'measure': 'The Medical Research Council scale (MRC)',\n       'description': 'The MRC will be used to assess muscle strength. The score ranges from 0 to 5 where 0 equals no muscle recruitment and 5 normal muscle force.',\n       'timeFrame': 'Baseline (t0); 30 days (t1); 60 days (t2); 90 days (t3).'},\n      {'measure': 'The nine hole peg test (NHPG).',\n       'description': 'The NHPG will be used to assess fine manual dexterity. The NHPT consists of a square board with 9 pegs. At one end of the board are holes to insert the pegs, and at the other end is a shallow round plate to store the extracted pegs. The NHPT is administered by asking the patient to take the pegs from a container, one by one, and insert them into the holes on the board, as quickly as possible.',\n       'timeFrame': 'Baseline (t0); 30 days (t1); 60 days (t2); 90 days (t3).'},\n      {'measure': 'Grip strength',\n       'description': 'Grip strength will be assessed using a manual digital dynamometer. The maximum strength of the whole hand will be recorded for three times without feedback (with the patient sitting with his back to the monitor).',\n       'timeFrame': 'Baseline (t0); 30 days (t1); 60 days (t2); 90 days (t3).'}],\n     'otherOutcomes': [{'measure': 'Mini-Mental State Examination (MMSE)',\n       'description': 'MMSE is a widely used psychometric tool in clinical settings to assess cognitive function. It is employed to detect cognitive impairments, monitor the progression of neurodegenerative diseases such as Alzheimer disease, and evaluate the severity of cognitive decline.\\n\\nThe test consists of a series of questions and tasks that assess various cognitive domains, including orientation in time and space, memory, attention, language, and the ability to follow simple commands.',\n       'timeFrame': 'T0 (Baseline)'}]},\n    'eligibilityModule': {'eligibilityCriteria': 'Inclusion Criteria:\\n\\n1. Diagnosis of Guillan-Barré Syndrome;\\n2. UL motor impairment (0-4 in the Medical Research Council scale);\\n3. sub-acute phase (until 180 days);\\n4. Patients able to maintain the sitting position.\\n\\nExclusion Criteria:\\n\\n1. Concomitant neurological, orthopedic, metabolic, and oncological diseases;\\n2. Cognitive impairment assessed with the Mini Mental State Examination (score under 24 points);\\n3. Visual deficit;\\n4. Hearing disorders.',\n     'healthyVolunteers': False,\n     'sex': 'ALL',\n     'minimumAge': '18 Years',\n     'maximumAge': '80 Years',\n     'stdAges': ['ADULT', 'OLDER_ADULT']},\n    'contactsLocationsModule': {'overallOfficials': [{'name': 'Alex Martino Cinnera, PhD',\n       'affiliation': 'IRCCS Santa Lucia Foundation',\n       'role': 'STUDY_CHAIR'},\n      {'name': 'Diego Piatti, BSc',\n       'affiliation': 'IRCCS Santa Lucia Foundation',\n       'role': 'STUDY_CHAIR'},\n      {'name': 'Laura Casagrande Conti, MSc',\n       'affiliation': 'IRCCS Santa Lucia Foundation',\n       'role': 'STUDY_DIRECTOR'},\n      {'name': 'Martina D Arienzo, BSc',\n       'affiliation': 'IRCCS Santa Lucia Foundation',\n       'role': 'STUDY_DIRECTOR'}],\n     'locations': [{'facility': 'IRCCS Santa Lucia Foundation',\n       'city': 'Rome',\n       'state': 'Lazio',\n       'zip': '00179',\n       'country': 'Italy',\n       'geoPoint': {'lat': 41.89193, 'lon': 12.51133}}]},\n    'ipdSharingStatementModule': {'ipdSharing': 'YES',\n     'infoTypes': ['STUDY_PROTOCOL'],\n     'timeFrame': '2024/10/01',\n     'accessCriteria': 'on resonable request to the study\\\\&#39; PI'}},\n   'derivedSection': {'miscInfoModule': {'versionHolder': '2025-05-27'},\n    'conditionBrowseModule': {'meshes': [{'id': 'D020275',\n       'term': 'Guillain-Barre Syndrome'},\n      {'id': 'D013577', 'term': 'Syndrome'}],\n     'ancestors': [{'id': 'D004194', 'term': 'Disease'},\n      {'id': 'D010335', 'term': 'Pathologic Processes'},\n      {'id': 'D011129', 'term': 'Polyradiculoneuropathy'},\n      {'id': 'D020274', 'term': 'Autoimmune Diseases of the Nervous System'},\n      {'id': 'D009422', 'term': 'Nervous System Diseases'},\n      {'id': 'D003711', 'term': 'Demyelinating Diseases'},\n      {'id': 'D011115', 'term': 'Polyneuropathies'},\n      {'id': 'D010523', 'term': 'Peripheral Nervous System Diseases'},\n      {'id': 'D009468', 'term': 'Neuromuscular Diseases'},\n      {'id': 'D001327', 'term': 'Autoimmune Diseases'},\n      {'id': 'D007154', 'term': 'Immune System Diseases'},\n      {'id': 'D000094025', 'term': 'Post-Infectious Disorders'},\n      {'id': 'D002908', 'term': 'Chronic Disease'},\n      {'id': 'D020969', 'term': 'Disease Attributes'}],\n     'browseLeaves': [{'id': 'M16355',\n       'name': 'Syndrome',\n       'asFound': 'Syndrome',\n       'relevance': 'HIGH'},\n      {'id': 'M22097',\n       'name': 'Polyradiculoneuropathy, Chronic Inflammatory Demyelinating',\n       'relevance': 'LOW'},\n      {'id': 'M14013', 'name': 'Polyradiculoneuropathy', 'relevance': 'LOW'},\n      {'id': 'M22095',\n       'name': 'Guillain-Barre Syndrome',\n       'asFound': 'Guillain-Barre Syndrome',\n       'relevance': 'HIGH'},\n      {'id': 'M14012', 'name': 'Polyradiculopathy', 'relevance': 'LOW'},\n      {'id': 'M4629', 'name': 'Autoimmune Diseases', 'relevance': 'LOW'},\n      {'id': 'M22094',\n       'name': 'Autoimmune Diseases of the Nervous System',\n       'relevance': 'LOW'},\n      {'id': 'M6909', 'name': 'Demyelinating Diseases', 'relevance': 'LOW'},\n      {'id': 'M13999', 'name': 'Polyneuropathies', 'relevance': 'LOW'},\n      {'id': 'M13432',\n       'name': 'Peripheral Nervous System Diseases',\n       'relevance': 'LOW'},\n      {'id': 'M12411', 'name': 'Neuromuscular Diseases', 'relevance': 'LOW'},\n      {'id': 'M10200', 'name': 'Immune System Diseases', 'relevance': 'LOW'},\n      {'id': 'M10283', 'name': 'Infections', 'relevance': 'LOW'},\n      {'id': 'M6368', 'name': 'Communicable Diseases', 'relevance': 'LOW'},\n      {'id': 'M3014', 'name': 'Post-Infectious Disorders', 'relevance': 'LOW'},\n      {'id': 'M6147', 'name': 'Chronic Disease', 'relevance': 'LOW'},\n      {'id': 'M22700', 'name': 'Disease Attributes', 'relevance': 'LOW'},\n      {'id': 'T1303',\n       'name': 'Chronic Graft Versus Host Disease',\n       'relevance': 'LOW'},\n      {'id': 'T1306',\n       'name': 'Chronic Inflammatory Demyelinating Polyneuropathy',\n       'relevance': 'LOW'},\n      {'id': 'T2640',\n       'name': 'Guillain-Barre Syndrome',\n       'asFound': 'Guillain-Barre Syndrome',\n       'relevance': 'HIGH'}],\n     'browseBranches': [{'abbrev': 'BC23',\n       'name': 'Symptoms and General Pathology'},\n      {'abbrev': 'All', 'name': 'All Conditions'},\n      {'abbrev': 'BC10', 'name': 'Nervous System Diseases'},\n      {'abbrev': 'BC20', 'name': 'Immune System Diseases'},\n      {'abbrev': 'BC01', 'name': 'Infections'},\n      {'abbrev': 'Rare', 'name': 'Rare Diseases'}]}},\n   'hasResults': False}]}"
     ]
    }
   ],
   "source": [
    "# Fetching Clinical Trials Data for Guillain-Barré Syndrome using Clinicaltrials.gov API\n",
    "\n",
    "import requests\n",
    "\n",
    "# URL and parameters\n",
    "url = \"https://clinicaltrials.gov/api/v2/studies\"\n",
    "params = {\n",
    "    \"query.cond\": \"Guillain-Barre\",\n",
    "    \"pageSize\": \"100\"\n",
    "}\n",
    "\n",
    "# To store all results\n",
    "all_studies = []  \n",
    "\n",
    "while True:\n",
    "    # API request\n",
    "    response = requests.get(url, params=params)\n",
    "    data = response.json()\n",
    "    \n",
    "    # Append current page studies\n",
    "    all_studies.extend(data.get(\"studies\", []))\n",
    "    \n",
    "    # Check for next page\n",
    "    next_token = data.get(\"nextPageToken\")\n",
    "    if not next_token:\n",
    "        break\n",
    "    \n",
    "    # Set token for next page\n",
    "    params[\"pageToken\"] = next_token\n",
    "\n",
    "# Store full JSON response\n",
    "clinical_data = {\"studies\": all_studies}\n",
    "\n",
    "# Display the results in JSON format\n",
    "display(clinical_data)\n"
   ]
  },
  {
   "cell_type": "code",
   "execution_count": 0,
   "metadata": {
    "application/vnd.databricks.v1+cell": {
     "cellMetadata": {
      "byteLimit": 2048000,
      "rowLimit": 10000
     },
     "inputWidgets": {},
     "nuid": "f1ff7990-92b2-4ea2-9ed4-ce067cc811d8",
     "showTitle": false,
     "tableResultSettingsMap": {},
     "title": ""
    }
   },
   "outputs": [
    {
     "output_type": "stream",
     "name": "stdout",
     "output_type": "stream",
     "text": [
      "[\n  {\n    \"position\": 1,\n    \"title\": \"Guillain-Barre syndrome - Symptoms and causes\",\n    \"link\": \"https://www.mayoclinic.org/diseases-conditions/guillain-barre-syndrome/symptoms-causes/syc-20362793\",\n    \"redirect_link\": \"https://www.google.co.in/url?sa=t&source=web&rct=j&opi=89978449&url=https://www.mayoclinic.org/diseases-conditions/guillain-barre-syndrome/symptoms-causes/syc-20362793&ved=2ahUKEwiLmrWzsMSNAxXQgFYBHfVIOPgQFnoECBsQAQ\",\n    \"displayed_link\": \"https://www.mayoclinic.org › ...\",\n    \"thumbnail\": \"https://serpapi.com/searches/6836119ef052758ead83f85a/images/0d6cc8c82e5038e13c997e42de84add251d713f8066057e7f1cc49f0332ac3e9.jpeg\",\n    \"favicon\": \"https://serpapi.com/searches/6836119ef052758ead83f85a/images/0d6cc8c82e5038e13c997e42de84add2ca730e8d348b329fa7508194cb2eb761.png\",\n    \"date\": \"7 जून 2024\",\n    \"snippet\": \"Guillain-Barre syndrome often begins with tingling and weakness starting in the feet and legs and spreading to the upper body and arms. Some ...\",\n    \"snippet_highlighted_words\": [\n      \"Guillain\",\n      \"Barre syndrome\"\n    ],\n    \"source\": \"Mayo Clinic\"\n  },\n  {\n    \"position\": 2,\n    \"title\": \"Guillain-Barré Syndrome (GBS): Symptoms & Treatment\",\n    \"link\": \"https://my.clevelandclinic.org/health/diseases/15838-guillain-barre-syndrome\",\n    \"redirect_link\": \"https://www.google.co.in/url?sa=t&source=web&rct=j&opi=89978449&url=https://my.clevelandclinic.org/health/diseases/15838-guillain-barre-syndrome&ved=2ahUKEwiLmrWzsMSNAxXQgFYBHfVIOPgQFnoECBAQAQ\",\n    \"displayed_link\": \"https://my.clevelandclinic.org › ...\",\n    \"favicon\": \"https://serpapi.com/searches/6836119ef052758ead83f85a/images/0d6cc8c82e5038e13c997e42de84add2bd49124f964e162291e5f39bd9ce76c9.png\",\n    \"snippet\": \"Guillain-Barré syndrome is a rare autoimmune condition in which your immune system attacks your peripheral nerves. It causes numbness and muscle weakness.\",\n    \"snippet_highlighted_words\": [\n      \"Guillain-Barré syndrome is a rare autoimmune condition\"\n    ],\n    \"source\": \"Cleveland Clinic\"\n  },\n  {\n    \"position\": 3,\n    \"title\": \"Guillain-Barré Syndrome\",\n    \"link\": \"https://www.ninds.nih.gov/health-information/disorders/guillain-barre-syndrome\",\n    \"redirect_link\": \"https://www.google.co.in/url?sa=t&source=web&rct=j&opi=89978449&url=https://www.ninds.nih.gov/health-information/disorders/guillain-barre-syndrome&ved=2ahUKEwiLmrWzsMSNAxXQgFYBHfVIOPgQFnoECBQQAQ\",\n    \"displayed_link\": \"https://www.ninds.nih.gov › ...\",\n    \"favicon\": \"https://serpapi.com/searches/6836119ef052758ead83f85a/images/0d6cc8c82e5038e13c997e42de84add2f6342141eaae4e044e1c80587abd1509.png\",\n    \"date\": \"31 जन॰ 2025\",\n    \"snippet\": \"Guillain-Barré syndrome (GBS) (pronounced Ghee-yan Bah-ray) is a rare neurological disorder in which a person's immune system mistakenly attacks ...\",\n    \"snippet_highlighted_words\": [\n      \"a rare neurological disorder\"\n    ],\n    \"sitelinks\": {\n      \"inline\": [\n        {\n          \"title\": \"What is Guillain-Barré...\",\n          \"link\": \"https://www.ninds.nih.gov/health-information/disorders/guillain-barre-syndrome#toc-what-is-guillain-barr-syndrome-\"\n        },\n        {\n          \"title\": \"How is Guillain-Barré...\",\n          \"link\": \"https://www.ninds.nih.gov/health-information/disorders/guillain-barre-syndrome#toc-how-is-guillain-barr-syndrome-diagnosed-and-treated-\"\n        },\n        {\n          \"title\": \"What are the latest updates on...\",\n          \"link\": \"https://www.ninds.nih.gov/health-information/disorders/guillain-barre-syndrome#toc-what-are-the-latest-updates-on-guillain-barr-syndrome-\"\n        }\n      ]\n    },\n    \"source\": \"National Institute of Neurological Disorders and Stroke (.gov)\"\n  },\n  {\n    \"position\": 4,\n    \"title\": \"Guillain–Barré syndrome\",\n    \"link\": \"https://en.wikipedia.org/wiki/Guillain%E2%80%93Barr%C3%A9_syndrome\",\n    \"redirect_link\": \"https://www.google.co.in/url?sa=t&source=web&rct=j&opi=89978449&url=https://en.wikipedia.org/wiki/Guillain%25E2%2580%2593Barr%25C3%25A9_syndrome&ved=2ahUKEwiLmrWzsMSNAxXQgFYBHfVIOPgQFnoECA8QAQ\",\n    \"displayed_link\": \"https://en.wikipedia.org › ...\",\n    \"favicon\": \"https://serpapi.com/searches/6836119ef052758ead83f85a/images/0d6cc8c82e5038e13c997e42de84add25f339d6766418a4e1f4e599b51f5ae5f.png\",\n    \"snippet\": \"Guillain–Barré syndrome (GBS) is a rapid-onset muscle weakness caused by the immune system damaging the peripheral nervous system.\",\n    \"snippet_highlighted_words\": [\n      \"a rapid-onset muscle weakness\"\n    ],\n    \"source\": \"Wikipedia\"\n  },\n  {\n    \"position\": 5,\n    \"title\": \"Guillain–Barré syndrome\",\n    \"link\": \"https://www.who.int/news-room/fact-sheets/detail/guillain-barr%C3%A9-syndrome\",\n    \"redirect_link\": \"https://www.google.co.in/url?sa=t&source=web&rct=j&opi=89978449&url=https://www.who.int/news-room/fact-sheets/detail/guillain-barr%25C3%25A9-syndrome&ved=2ahUKEwiLmrWzsMSNAxXQgFYBHfVIOPgQFnoECFUQAQ\",\n    \"displayed_link\": \"https://www.who.int › ...\",\n    \"favicon\": \"https://serpapi.com/searches/6836119ef052758ead83f85a/images/0d6cc8c82e5038e13c997e42de84add2d3c5648fc164c5b4ffab6d03e036eeda.png\",\n    \"date\": \"15 अग॰ 2023\",\n    \"snippet\": \"Guillain-Barré syndrome (GBS) is a rare condition in which a person's immune system attacks the peripheral nerves.\",\n    \"snippet_highlighted_words\": [\n      \"Guillain\",\n      \"Barré syndrome\",\n      \"GBS\"\n    ],\n    \"source\": \"World Health Organization (WHO)\"\n  },\n  {\n    \"position\": 6,\n    \"title\": \"Guillain-Barré Syndrome\",\n    \"link\": \"https://www.hopkinsmedicine.org/health/conditions-and-diseases/guillainbarr-syndrome\",\n    \"redirect_link\": \"https://www.google.co.in/url?sa=t&source=web&rct=j&opi=89978449&url=https://www.hopkinsmedicine.org/health/conditions-and-diseases/guillainbarr-syndrome&ved=2ahUKEwiLmrWzsMSNAxXQgFYBHfVIOPgQFnoECE0QAQ\",\n    \"displayed_link\": \"https://www.hopkinsmedicine.org › ...\",\n    \"favicon\": \"https://serpapi.com/searches/6836119ef052758ead83f85a/images/0d6cc8c82e5038e13c997e42de84add250a3e32f9a427329e7733b29ea52f66e.png\",\n    \"snippet\": \"Guillain-Barré syndrome (GBS) is a rare neurological disorder in which the body's immune system attacks the peripheral nervous system.\",\n    \"snippet_highlighted_words\": [\n      \"a rare neurological disorder\"\n    ],\n    \"source\": \"Johns Hopkins Medicine\"\n  },\n  {\n    \"position\": 7,\n    \"title\": \"Guillain-Barre syndrome - Diagnosis and treatment\",\n    \"link\": \"https://www.mayoclinic.org/diseases-conditions/guillain-barre-syndrome/diagnosis-treatment/drc-20363006\",\n    \"redirect_link\": \"https://www.google.co.in/url?sa=t&source=web&rct=j&opi=89978449&url=https://www.mayoclinic.org/diseases-conditions/guillain-barre-syndrome/diagnosis-treatment/drc-20363006&ved=2ahUKEwiLmrWzsMSNAxXQgFYBHfVIOPgQFnoECFYQAQ\",\n    \"displayed_link\": \"https://www.mayoclinic.org › ...\",\n    \"favicon\": \"https://serpapi.com/searches/6836119ef052758ead83f85a/images/0d6cc8c82e5038e13c997e42de84add200d48b32aa6ea8e19cbddbff63f91cfe.png\",\n    \"date\": \"7 जून 2024\",\n    \"snippet\": \"This rare autoimmune condition affects the nerves, causing weakness and tingling in the arms and legs that quickly spreads throughout the ...\",\n    \"snippet_highlighted_words\": [\n      \"affects the nerves, causing weakness and tingling in the arms and legs\"\n    ],\n    \"sitelinks\": {\n      \"inline\": [\n        {\n          \"title\": \"Symptoms and causes\",\n          \"link\": \"https://www.mayoclinic.org/diseases-conditions/guillain-barre-syndrome/symptoms-causes/syc-20362793\"\n        },\n        {\n          \"title\": \"Doctors and departments\",\n          \"link\": \"https://www.mayoclinic.org/diseases-conditions/guillain-barre-syndrome/doctors-departments/ddc-20363037\"\n        },\n        {\n          \"title\": \"Care at Mayo Clinic\",\n          \"link\": \"https://www.mayoclinic.org/diseases-conditions/guillain-barre-syndrome/care-at-mayo-clinic/mac-20363049\"\n        }\n      ]\n    },\n    \"source\": \"Mayo Clinic\"\n  },\n  {\n    \"position\": 8,\n    \"title\": \"Guillain-Barre Syndrome\",\n    \"link\": \"https://www.physio-pedia.com/Guillain-Barre_Syndrome\",\n    \"redirect_link\": \"https://www.google.co.in/url?sa=t&source=web&rct=j&opi=89978449&url=https://www.physio-pedia.com/Guillain-Barre_Syndrome&ved=2ahUKEwiLmrWzsMSNAxXQgFYBHfVIOPgQFnoECFcQAQ\",\n    \"displayed_link\": \"https://www.physio-pedia.com › ...\",\n    \"favicon\": \"https://serpapi.com/searches/6836119ef052758ead83f85a/images/0d6cc8c82e5038e13c997e42de84add2268f77fa053b7f5c17b1d62f5a36decb.png\",\n    \"snippet\": \"Guillain-Barré syndrome (GBS) is a condition characterised by the autoimmune destruction of the peripheral sensory system.\",\n    \"snippet_highlighted_words\": [\n      \"Guillain\",\n      \"Barré syndrome\"\n    ],\n    \"sitelinks\": {\n      \"inline\": [\n        {\n          \"title\": \"Case Study\",\n          \"link\": \"https://www.physio-pedia.com/Case_Study:_Guillain-Barre_Syndrome_(Sub-Acute)\"\n        },\n        {\n          \"title\": \"Acute Motor Axonal...\",\n          \"link\": \"https://www.physio-pedia.com/Acute_Motor_Axonal_Neuropathy_(AMAN),_a_Variant_of_Guillain-Barre_Syndrome:_A_Case_Study\"\n        },\n        {\n          \"title\": \"Edit\",\n          \"link\": \"https://www.physio-pedia.com/Guillain-Barre_Syndrome?veaction=edit\"\n        }\n      ]\n    },\n    \"source\": \"Physiopedia\"\n  },\n  {\n    \"position\": 9,\n    \"title\": \"Guillain-Barre Syndrome: Practice Essentials, Background, ...\",\n    \"link\": \"https://emedicine.medscape.com/article/315632-overview\",\n    \"redirect_link\": \"https://www.google.co.in/url?sa=t&source=web&rct=j&opi=89978449&url=https://emedicine.medscape.com/article/315632-overview&ved=2ahUKEwiLmrWzsMSNAxXQgFYBHfVIOPgQFnoECE4QAQ\",\n    \"displayed_link\": \"https://emedicine.medscape.com › ...\",\n    \"favicon\": \"https://serpapi.com/searches/6836119ef052758ead83f85a/images/0d6cc8c82e5038e13c997e42de84add258c9b9574cf823b66c14afd79a8d63bc.png\",\n    \"date\": \"29 जुल॰ 2024\",\n    \"snippet\": \"GBS is considered to be a postinfectious, immune-mediated disease targeting peripheral nerves. Up to two thirds of patients report an antecedent ...\",\n    \"snippet_highlighted_words\": [\n      \"GBS is considered to be a postinfectious, immune-mediated disease\"\n    ],\n    \"source\": \"Medscape\"\n  },\n  {\n    \"position\": 10,\n    \"title\": \"Guillain-Barré Syndrome | Campylobacter\",\n    \"link\": \"https://www.cdc.gov/campylobacter/signs-symptoms/guillain-barre-syndrome.html\",\n    \"redirect_link\": \"https://www.google.co.in/url?sa=t&source=web&rct=j&opi=89978449&url=https://www.cdc.gov/campylobacter/signs-symptoms/guillain-barre-syndrome.html&ved=2ahUKEwiLmrWzsMSNAxXQgFYBHfVIOPgQFnoECFEQAQ\",\n    \"displayed_link\": \"https://www.cdc.gov › ...\",\n    \"thumbnail\": \"https://encrypted-tbn0.gstatic.com/images?q=tbn:ANd9GcQDBiD5imYB7iWi3gFRA-CLmn2agb0TJeuINNCBivNPdZoUz70Qjqshy7o&usqp=CAE&s\",\n    \"favicon\": \"https://serpapi.com/searches/6836119ef052758ead83f85a/images/0d6cc8c82e5038e13c997e42de84add277d04f37aaaac5249439c5e14eb87f6e.png\",\n    \"date\": \"10 मई 2024\",\n    \"snippet\": \"Guillain-Barré (Ghee-YAN Bah-RAY) syndrome happens when a person's immune system harms their nerves. This harm causes muscle weakness and ...\",\n    \"snippet_highlighted_words\": [\n      \"Guillain-Barré (Ghee-YAN Bah-RAY) syndrome\"\n    ],\n    \"source\": \"Centers for Disease Control and Prevention | CDC (.gov)\"\n  },\n  {\n    \"position\": 1,\n    \"title\": \"Guillain-Barré syndrome Information - Mount Sinai\",\n    \"link\": \"https://www.mountsinai.org/health-library/diseases-conditions/guillain-barr-syndrome\",\n    \"redirect_link\": \"https://www.google.co.in/url?sa=t&source=web&rct=j&opi=89978449&url=https://www.mountsinai.org/health-library/diseases-conditions/guillain-barr-syndrome&ved=2ahUKEwiG1ai5sMSNAxUsdvUHHVaCAEQ4ChAWegQIGRAB\",\n    \"displayed_link\": \"https://www.mountsinai.org › ...\",\n    \"thumbnail\": \"https://serpapi.com/searches/683611a0fda607dbbc7716cb/images/91e2dc40482c86945107c42c722ea68c610d8a6ede611ec905cd0fea5820320f.jpeg\",\n    \"favicon\": \"https://serpapi.com/searches/683611a0fda607dbbc7716cb/images/91e2dc40482c86945107c42c722ea68c7583807dfc0093d15b61f3fdc95ec573.png\",\n    \"snippet\": \"GBS damages parts of nerves. This nerve damage causes tingling, muscle weakness, loss of balance, and paralysis. GBS most often affects the nerve covering ( ...\",\n    \"snippet_highlighted_words\": [\n      \"GBS damages parts of nerves\"\n    ],\n    \"source\": \"Mount Sinai\"\n  },\n  {\n    \"position\": 2,\n    \"title\": \"Guillain-Barre Syndrome - StatPearls\",\n    \"link\": \"https://www.ncbi.nlm.nih.gov/books/NBK532254/\",\n    \"redirect_link\": \"https://www.google.co.in/url?sa=t&source=web&rct=j&opi=89978449&url=https://www.ncbi.nlm.nih.gov/books/NBK532254/&ved=2ahUKEwiG1ai5sMSNAxUsdvUHHVaCAEQ4ChAWegQIFxAB\",\n    \"displayed_link\": \"https://www.ncbi.nlm.nih.gov › ...\",\n    \"favicon\": \"https://serpapi.com/searches/683611a0fda607dbbc7716cb/images/91e2dc40482c86945107c42c722ea68c3f73c2000d340086e806fb814665300c.png\",\n    \"author\": \"TP Nguyen ने लिखी\",\n    \"snippet\": \"Guillain-Barré syndrome (GBS) is a rare but serious post-infectious immune-mediated neuropathy. It results from the autoimmune destruction of nerves in the ...\",\n    \"snippet_highlighted_words\": [\n      \"Guillain-Barré syndrome (GBS\"\n    ],\n    \"source\": \"National Institutes of Health (NIH) (.gov)\"\n  },\n  {\n    \"position\": 3,\n    \"title\": \"Guillain-Barré Syndrome: Causes, Symptoms, ... - WebMD\",\n    \"link\": \"https://www.webmd.com/brain/what-is-guillain-barre\",\n    \"redirect_link\": \"https://www.google.co.in/url?sa=t&source=web&rct=j&opi=89978449&url=https://www.webmd.com/brain/what-is-guillain-barre&ved=2ahUKEwiG1ai5sMSNAxUsdvUHHVaCAEQ4ChAWegQIGBAB\",\n    \"displayed_link\": \"https://www.webmd.com › ...\",\n    \"thumbnail\": \"https://serpapi.com/searches/683611a0fda607dbbc7716cb/images/91e2dc40482c86945107c42c722ea68cc8a500fca55c474262c07cf585e3fd5a.jpeg\",\n    \"favicon\": \"https://serpapi.com/searches/683611a0fda607dbbc7716cb/images/91e2dc40482c86945107c42c722ea68cf145cff818fee6539a702f0b169ef5da.png\",\n    \"date\": \"14 मार्च 2024\",\n    \"snippet\": \"Guillain-Barré Syndrome (GBS) is a rare disorder in which your immune system suddenly attacks your nerves, often after you've had a stomach ...\",\n    \"snippet_highlighted_words\": [\n      \"Guillain-Barré Syndrome (GBS\"\n    ],\n    \"source\": \"WebMD\"\n  },\n  {\n    \"position\": 4,\n    \"title\": \"Guillain–Barré syndrome | Nature Reviews Disease Primers\",\n    \"link\": \"https://www.nature.com/articles/s41572-024-00580-4\",\n    \"redirect_link\": \"https://www.google.co.in/url?sa=t&source=web&rct=j&opi=89978449&url=https://www.nature.com/articles/s41572-024-00580-4&ved=2ahUKEwiG1ai5sMSNAxUsdvUHHVaCAEQ4ChAWegQIGhAB\",\n    \"displayed_link\": \"https://www.nature.com › ...\",\n    \"thumbnail\": \"https://serpapi.com/searches/683611a0fda607dbbc7716cb/images/91e2dc40482c86945107c42c722ea68c8643d1a987ff0bae234e64c65fef609e.png\",\n    \"favicon\": \"https://serpapi.com/searches/683611a0fda607dbbc7716cb/images/91e2dc40482c86945107c42c722ea68ca4576444b480e128cb0ac5066a942cba.png\",\n    \"author\": \"SE Leonhard ने लिखी\",\n    \"snippet\": \"GBS is usually a monophasic condition in which the immune system aberrantly disrupts the function and structure of the peripheral nervous system ...\",\n    \"snippet_highlighted_words\": [\n      \"GBS is usually a monophasic condition\"\n    ],\n    \"source\": \"Nature\"\n  },\n  {\n    \"position\": 5,\n    \"title\": \"Guillain-Barré syndrome\",\n    \"link\": \"https://www.sciencedirect.com/science/article/abs/pii/S0140673621005171\",\n    \"redirect_link\": \"https://www.google.co.in/url?sa=t&source=web&rct=j&opi=89978449&url=https://www.sciencedirect.com/science/article/abs/pii/S0140673621005171&ved=2ahUKEwiG1ai5sMSNAxUsdvUHHVaCAEQ4ChAWegQIMBAB\",\n    \"displayed_link\": \"https://www.sciencedirect.com › ...\",\n    \"favicon\": \"https://serpapi.com/searches/683611a0fda607dbbc7716cb/images/91e2dc40482c86945107c42c722ea68c0aaa14add96d78bcece84bfbcc301817.png\",\n    \"author\": \"N Shahrizaila ने लिखी\",\n    \"snippet\": \"Guillain-Barré syndrome is an immune-mediated polyradiculoneuropathy that accounts for an estimated 100 000 new cases annually worldwide.1 In ...\",\n    \"snippet_highlighted_words\": [\n      \"an immune-mediated polyradiculoneuropathy\"\n    ],\n    \"source\": \"ScienceDirect.com\"\n  },\n  {\n    \"position\": 6,\n    \"title\": \"Guillain-Barré Syndrome : CONTINUUM\",\n    \"link\": \"https://journals.lww.com/continuum/fulltext/2020/10000/guillain_barr__syndrome.6.aspx\",\n    \"redirect_link\": \"https://www.google.co.in/url?sa=t&source=web&rct=j&opi=89978449&url=https://journals.lww.com/continuum/fulltext/2020/10000/guillain_barr__syndrome.6.aspx&ved=2ahUKEwiG1ai5sMSNAxUsdvUHHVaCAEQ4ChAWegQIMRAB\",\n    \"displayed_link\": \"https://journals.lww.com › ...\",\n    \"favicon\": \"https://serpapi.com/searches/683611a0fda607dbbc7716cb/images/91e2dc40482c86945107c42c722ea68c32a30885251aceddeef8fa5cfa51bf54.png\",\n    \"author\": \"KA Sheikh ने लिखी\",\n    \"snippet\": \"Guillain-Barré syndrome (GBS) encompasses a spectrum of acute neuropathic disorders, with muscle weakness being the cardinal manifestation in the majority of ...\",\n    \"snippet_highlighted_words\": [\n      \"Guillain-Barré syndrome (GBS\"\n    ],\n    \"source\": \"Lippincott\"\n  },\n  {\n    \"position\": 7,\n    \"title\": \"Guillain-Barre Syndrome - GBS\",\n    \"link\": \"https://medlineplus.gov/guillainbarresyndrome.html\",\n    \"redirect_link\": \"https://www.google.co.in/url?sa=t&source=web&rct=j&opi=89978449&url=https://medlineplus.gov/guillainbarresyndrome.html&ved=2ahUKEwiG1ai5sMSNAxUsdvUHHVaCAEQ4ChAWegQINxAB\",\n    \"displayed_link\": \"https://medlineplus.gov › ...\",\n    \"thumbnail\": \"https://serpapi.com/searches/683611a0fda607dbbc7716cb/images/91e2dc40482c86945107c42c722ea68cba504b4ae5c7e0fab9ebbf2ed5fdb76b.jpeg\",\n    \"favicon\": \"https://serpapi.com/searches/683611a0fda607dbbc7716cb/images/91e2dc40482c86945107c42c722ea68ce507287fd914ee6f509a32c6e2237372.png\",\n    \"date\": \"23 अग॰ 2024\",\n    \"snippet\": \"Guillain-Barre syndrome is a rare disorder that causes your immune system to attack your peripheral nervous system (PNS).\",\n    \"snippet_highlighted_words\": [\n      \"Guillain-Barre syndrome is a rare disorder\"\n    ],\n    \"source\": \"MedlinePlus (.gov)\"\n  },\n  {\n    \"position\": 8,\n    \"title\": \"Guillain-Barré Syndrome (GBS) - Brain, Spinal Cord, and ...\",\n    \"link\": \"https://www.msdmanuals.com/home/brain-spinal-cord-and-nerve-disorders/peripheral-nerve-and-related-disorders/guillain-barr%C3%A9-syndrome-gbs\",\n    \"redirect_link\": \"https://www.google.co.in/url?sa=t&source=web&rct=j&opi=89978449&url=https://www.msdmanuals.com/home/brain-spinal-cord-and-nerve-disorders/peripheral-nerve-and-related-disorders/guillain-barr%25C3%25A9-syndrome-gbs&ved=2ahUKEwiG1ai5sMSNAxUsdvUHHVaCAEQ4ChAWegQINhAB\",\n    \"displayed_link\": \"https://www.msdmanuals.com › ...\",\n    \"thumbnail\": \"https://serpapi.com/searches/683611a0fda607dbbc7716cb/images/91e2dc40482c86945107c42c722ea68cbdad3cb2311ee89f10b185c65c903894.jpeg\",\n    \"favicon\": \"https://serpapi.com/searches/683611a0fda607dbbc7716cb/images/91e2dc40482c86945107c42c722ea68c47016ac26b1ff836542586b70a40ea5c.png\",\n    \"snippet\": \"Guillain-Barré syndrome is a form of polyneuropathy causing muscle weakness, which usually worsens over a few days to weeks, then slowly improves or returns ...\",\n    \"snippet_highlighted_words\": [\n      \"Guillain-Barré syndrome is a form of polyneuropathy causing muscle weakness\"\n    ],\n    \"source\": \"MSD Manuals\"\n  },\n  {\n    \"position\": 9,\n    \"title\": \"Guillain-Barré syndrome: Symptoms, causes, diagnosis, ...\",\n    \"link\": \"https://www.medicalnewstoday.com/articles/167892\",\n    \"redirect_link\": \"https://www.google.co.in/url?sa=t&source=web&rct=j&opi=89978449&url=https://www.medicalnewstoday.com/articles/167892&ved=2ahUKEwiG1ai5sMSNAxUsdvUHHVaCAEQ4ChAWegQILxAB\",\n    \"displayed_link\": \"https://www.medicalnewstoday.com › ...\",\n    \"favicon\": \"https://serpapi.com/searches/683611a0fda607dbbc7716cb/images/91e2dc40482c86945107c42c722ea68c691b9c0c51fee4b3e4f8e114abb89e47.png\",\n    \"snippet\": \"Guillain-Barré syndrome is a neurological disorder and autoimmune disease that affects the peripheral nervous system. Guillain-Barré syndrome can lead to ...\",\n    \"snippet_highlighted_words\": [\n      \"Guillain-Barré syndrome is a neurological disorder and autoimmune disease\"\n    ],\n    \"source\": \"Medical News Today\"\n  },\n  {\n    \"position\": 1,\n    \"title\": \"Guillain-Barré syndrome (GBS)\",\n    \"link\": \"https://www.healthline.com/health/guillain-barre-syndrome\",\n    \"redirect_link\": \"https://www.google.co.in/url?sa=t&source=web&rct=j&opi=89978449&url=https://www.healthline.com/health/guillain-barre-syndrome&ved=2ahUKEwiG9cK6sMSNAxWrzjgGHRVkALg4FBAWegQIIBAB\",\n    \"displayed_link\": \"https://www.healthline.com › ...\",\n    \"thumbnail\": \"https://serpapi.com/searches/683611addd2e16346b277a50/images/9b9bef012a28c96c230f956f104b02a688cfc164d32f1660effecb59e22dcd23.jpeg\",\n    \"favicon\": \"https://serpapi.com/searches/683611addd2e16346b277a50/images/9b9bef012a28c96c230f956f104b02a61080edeb03af737c3d900533b6f0830f.png\",\n    \"snippet\": \"The first symptom of Guillain-Barré syndrome is usually a tingling sensation in your toes, feet, and legs. The tingling spreads upward to your arms and fingers.\",\n    \"snippet_highlighted_words\": [\n      \"tingling sensation in your toes, feet, and legs\"\n    ],\n    \"source\": \"Healthline\"\n  },\n  {\n    \"position\": 2,\n    \"title\": \"Guillain-Barré Syndrome (GBS) and Vaccines\",\n    \"link\": \"https://www.cdc.gov/vaccine-safety/about/guillain-barre.html\",\n    \"redirect_link\": \"https://www.google.co.in/url?sa=t&source=web&rct=j&opi=89978449&url=https://www.cdc.gov/vaccine-safety/about/guillain-barre.html&ved=2ahUKEwiG9cK6sMSNAxWrzjgGHRVkALg4FBAWegQIFBAB\",\n    \"displayed_link\": \"https://www.cdc.gov › ...\",\n    \"favicon\": \"https://serpapi.com/searches/683611addd2e16346b277a50/images/9b9bef012a28c96c230f956f104b02a62da536d1d29f188a7efb1561fc7ecb5a.png\",\n    \"author\": \"CV Recalls ने लिखी\",\n    \"snippet\": \"Guillain-Barré syndrome (GBS) is a rare disorder where the body's immune system damages nerve. To study whether a new vaccine might be ...\",\n    \"snippet_highlighted_words\": [\n      \"Guillain-Barré syndrome (GBS\"\n    ],\n    \"source\": \"Centers for Disease Control and Prevention | CDC (.gov)\"\n  },\n  {\n    \"position\": 3,\n    \"title\": \"Diagnosis and management of Guillain–Barré syndrome ...\",\n    \"link\": \"https://www.nature.com/articles/s41582-019-0250-9\",\n    \"redirect_link\": \"https://www.google.co.in/url?sa=t&source=web&rct=j&opi=89978449&url=https://www.nature.com/articles/s41582-019-0250-9&ved=2ahUKEwiG9cK6sMSNAxWrzjgGHRVkALg4FBAWegQIGRAB\",\n    \"displayed_link\": \"https://www.nature.com › ...\",\n    \"thumbnail\": \"https://serpapi.com/searches/683611addd2e16346b277a50/images/9b9bef012a28c96c230f956f104b02a6f9c78af152434747f0d31cd83a2cbe12.jpeg\",\n    \"favicon\": \"https://serpapi.com/searches/683611addd2e16346b277a50/images/9b9bef012a28c96c230f956f104b02a66856ac5208ad257cbb810acd8700d0a1.png\",\n    \"author\": \"SE Leonhard ने लिखी\",\n    \"snippet\": \"Guillain–Barré syndrome (GBS) is a rare, but potentially fatal, immune-mediated disease of the peripheral nerves and nerve roots that is ...\",\n    \"snippet_highlighted_words\": [\n      \"Guillain–Barré syndrome (GBS\"\n    ],\n    \"source\": \"Nature\"\n  },\n  {\n    \"position\": 4,\n    \"title\": \"Guillain–Barré Syndrome | NEJM\",\n    \"link\": \"https://www.nejm.org/doi/full/10.1056/NEJMra1114525\",\n    \"redirect_link\": \"https://www.google.co.in/url?sa=t&source=web&rct=j&opi=89978449&url=https://www.nejm.org/doi/full/10.1056/NEJMra1114525&ved=2ahUKEwiG9cK6sMSNAxWrzjgGHRVkALg4FBAWegQIJRAB\",\n    \"displayed_link\": \"https://www.nejm.org › ...\",\n    \"thumbnail\": \"https://serpapi.com/searches/683611addd2e16346b277a50/images/9b9bef012a28c96c230f956f104b02a69c9d206459bb382411d13394ad1ba971.png\",\n    \"favicon\": \"https://serpapi.com/searches/683611addd2e16346b277a50/images/9b9bef012a28c96c230f956f104b02a66ca3cd656c991c1ad05c46441bd76596.png\",\n    \"author\": \"N Yuki ने लिखी\",\n    \"snippet\": \"The Guillain–Barré syndrome is the most frequent cause of acute flaccid paralysis worldwide and constitutes a neurologic emergency.\",\n    \"snippet_highlighted_words\": [\n      \"is the most frequent cause of acute flaccid paralysis worldwide\"\n    ],\n    \"source\": \"The New England Journal of Medicine\"\n  },\n  {\n    \"position\": 5,\n    \"title\": \"Guillain-Barré syndrome\",\n    \"link\": \"https://www.sciencedirect.com/science/article/pii/S0140673621005171\",\n    \"redirect_link\": \"https://www.google.co.in/url?sa=t&source=web&rct=j&opi=89978449&url=https://www.sciencedirect.com/science/article/pii/S0140673621005171&ved=2ahUKEwiG9cK6sMSNAxWrzjgGHRVkALg4FBAWegQIHxAB\",\n    \"displayed_link\": \"https://www.sciencedirect.com › ...\",\n    \"thumbnail\": \"https://serpapi.com/searches/683611addd2e16346b277a50/images/9b9bef012a28c96c230f956f104b02a6ba7ef2c63d4f52c2aed2db0f30cb5ae9.jpeg\",\n    \"favicon\": \"https://serpapi.com/searches/683611addd2e16346b277a50/images/9b9bef012a28c96c230f956f104b02a6326b50024476b70f90bb302e71ba36d9.png\",\n    \"author\": \"N Shahrizaila ने लिखी\",\n    \"snippet\": \"Guillain-Barré syndrome is an immune-mediated polyradiculoneuropathy that accounts for an estimated 100 000 n\n\n*** WARNING: max output size exceeded, skipping output. ***\n\nb4b07e4ca8d99d0e731b79.png\",\n    \"author\": \"C Verboon ने लिखी\",\n    \"snippet\": \"Plasma exchange (PE) and IV immunoglobulin (IVIg) are the only proven effective treatments for Guillain-Barré syndrome (GBS), although there has been little ...\",\n    \"snippet_highlighted_words\": [\n      \"Plasma exchange (PE) and IV immunoglobulin (IVIg\"\n    ],\n    \"source\": \"Neurology® Journals\"\n  },\n  {\n    \"position\": 4,\n    \"title\": \"Guillain-Barre syndrome: Video, Causes, & Meaning\",\n    \"link\": \"https://www.osmosis.org/learn/Guillain-Barre_syndrome\",\n    \"redirect_link\": \"https://www.google.co.in/url?sa=t&source=web&rct=j&opi=89978449&url=https://www.osmosis.org/learn/Guillain-Barre_syndrome&ved=2ahUKEwiNz-C8sMSNAxXuPhAIHaZLAmM4HhAWegQIGRAB\",\n    \"displayed_link\": \"https://www.osmosis.org › ...\",\n    \"thumbnail\": \"https://serpapi.com/searches/683611b0aa0a88f825e43cd4/images/4c551630f80027b379afabcf1af7559e0728dd57bd3fb3f3b0dbc36a538f47a3.jpeg\",\n    \"favicon\": \"https://serpapi.com/searches/683611b0aa0a88f825e43cd4/images/4c551630f80027b379afabcf1af7559efccf3ae309b988be6b92cc787d57a3a1.png\",\n    \"snippet\": \"The cause of Guillain- Barré syndrome is unknown, but it's known to develop after a bacterial infection, like Campylobacter jejuni and Mycoplasma pneumoniae, or ...\",\n    \"snippet_highlighted_words\": [\n      \"Guil\"\n    ],\n    \"source\": \"Osmosis\"\n  },\n  {\n    \"position\": 5,\n    \"title\": \"Guillain-Barré Syndrome\",\n    \"link\": \"https://www.americanbrainfoundation.org/diseases/guillain-barre-syndrome/\",\n    \"redirect_link\": \"https://www.google.co.in/url?sa=t&source=web&rct=j&opi=89978449&url=https://www.americanbrainfoundation.org/diseases/guillain-barre-syndrome/&ved=2ahUKEwiNz-C8sMSNAxXuPhAIHaZLAmM4HhAWegQIGhAB\",\n    \"displayed_link\": \"https://www.americanbrainfoundation.org › ...\",\n    \"thumbnail\": \"https://serpapi.com/searches/683611b0aa0a88f825e43cd4/images/4c551630f80027b379afabcf1af7559e1323117875ca5efd2d00f75252298688.jpeg\",\n    \"favicon\": \"https://serpapi.com/searches/683611b0aa0a88f825e43cd4/images/4c551630f80027b379afabcf1af7559e5bbb7cc61c73a3b4c886ebb547102856.png\",\n    \"snippet\": \"Guillain-Barré syndrome (GBS) is a rare neurologic disorder in which the body's autoimmune response attacks the peripheral nervous system.\",\n    \"snippet_highlighted_words\": [\n      \"a rare neurologic disorder\"\n    ],\n    \"source\": \"American Brain Foundation\"\n  },\n  {\n    \"position\": 6,\n    \"title\": \"What is Guillain-Barré Syndrome (GBS)? - By Adhikari Lifeline\",\n    \"link\": \"https://www.adhikarilifeline.com/what-is-guillain-barre-syndrome-gbs/\",\n    \"redirect_link\": \"https://www.google.co.in/url?sa=t&source=web&rct=j&opi=89978449&url=https://www.adhikarilifeline.com/what-is-guillain-barre-syndrome-gbs/&ved=2ahUKEwiNz-C8sMSNAxXuPhAIHaZLAmM4HhAWegQIExAB\",\n    \"displayed_link\": \"https://www.adhikarilifeline.com › ...\",\n    \"favicon\": \"https://serpapi.com/searches/683611b0aa0a88f825e43cd4/images/4c551630f80027b379afabcf1af7559e4439c0f3efe282d40fdd162fd922a8ed.png\",\n    \"date\": \"20 फ़र॰ 2025\",\n    \"snippet\": \"Guillain-Barré Syndrome (GBS) is a rare but serious neurological disorder in which the body's immune system mistakenly attacks the nervous system.\",\n    \"snippet_highlighted_words\": [\n      \"a rare but serious neurological disorder\"\n    ],\n    \"source\": \"adhikarilifeline.com\"\n  },\n  {\n    \"position\": 7,\n    \"title\": \"Guillain-Barré syndrome: Types, Symptoms, Causes & ...\",\n    \"link\": \"https://www.pacehospital.com/guillain-barre-syndrome-symptoms-causes-diagnosis-treatment\",\n    \"redirect_link\": \"https://www.google.co.in/url?sa=t&source=web&rct=j&opi=89978449&url=https://www.pacehospital.com/guillain-barre-syndrome-symptoms-causes-diagnosis-treatment&ved=2ahUKEwiNz-C8sMSNAxXuPhAIHaZLAmM4HhAWegQIGBAB\",\n    \"displayed_link\": \"https://www.pacehospital.com › ...\",\n    \"favicon\": \"https://serpapi.com/searches/683611b0aa0a88f825e43cd4/images/4c551630f80027b379afabcf1af7559eeeb8fd87ceb1150818c9cb1e0cd4456b.png\",\n    \"snippet\": \"Guillain-Barré Syndrome is a rare autoimmune disorder in which the immune system attacks the nerves, leading to muscle weakness, numbness, and paralysis.\",\n    \"snippet_highlighted_words\": [\n      \"a rare autoimmune disorder\"\n    ],\n    \"source\": \"PACE Hospitals\"\n  },\n  {\n    \"position\": 8,\n    \"title\": \"Guillain Barré Syndrome\",\n    \"link\": \"https://www.brainfacts.org/diseases-and-disorders/neurological-disorders-az/diseases-a-to-z-from-ninds/guillain-barr%C3%A9-syndrome\",\n    \"redirect_link\": \"https://www.google.co.in/url?sa=t&source=web&rct=j&opi=89978449&url=https://www.brainfacts.org/diseases-and-disorders/neurological-disorders-az/diseases-a-to-z-from-ninds/guillain-barr%25C3%25A9-syndrome&ved=2ahUKEwiNz-C8sMSNAxXuPhAIHaZLAmM4HhAWegQIOxAB\",\n    \"displayed_link\": \"https://www.brainfacts.org › ...\",\n    \"favicon\": \"https://serpapi.com/searches/683611b0aa0a88f825e43cd4/images/4c551630f80027b379afabcf1af7559e203a73a23d2db81a46a759c8a53cd549.png\",\n    \"snippet\": \"Guillain-Barré syndrome is a disorder in which the body's immune system attacks part of the peripheral nervous system. The first symptoms of this disorder ...\",\n    \"snippet_highlighted_words\": [\n      \"Guillain\",\n      \"Barré syndrome\"\n    ],\n    \"source\": \"BrainFacts\"\n  },\n  {\n    \"position\": 9,\n    \"title\": \"Guillain-Barré Syndrome\",\n    \"link\": \"https://www.mayoclinicproceedings.org/article/S0025-6196(16)30818-7/fulltext\",\n    \"redirect_link\": \"https://www.google.co.in/url?sa=t&source=web&rct=j&opi=89978449&url=https://www.mayoclinicproceedings.org/article/S0025-6196(16)30818-7/fulltext&ved=2ahUKEwiNz-C8sMSNAxXuPhAIHaZLAmM4HhAWegQIOBAB\",\n    \"displayed_link\": \"https://www.mayoclinicproceedings.org › ...\",\n    \"favicon\": \"https://serpapi.com/searches/683611b0aa0a88f825e43cd4/images/4c551630f80027b379afabcf1af7559e5c18a415bb1ebb316959d4e178b70a50.png\",\n    \"author\": \"EFM Wijdicks ने लिखी\",\n    \"snippet\": \"Guillain-Barré syndrome is an acute inflammatory immune-mediated polyradiculoneuropathy presenting typically with tingling, progressive weakness, and pain.\",\n    \"snippet_highlighted_words\": [\n      \"an acute inflammatory immune-mediated polyradiculoneuropathy\"\n    ],\n    \"source\": \"Mayo Clinic Proceedings\"\n  },\n  {\n    \"position\": 10,\n    \"title\": \"Guillain-Barré Syndrome - Neurology - Highland Hospital\",\n    \"link\": \"https://www.urmc.rochester.edu/highland/departments-centers/neurology/conditions-we-treat/guillain-barr\",\n    \"redirect_link\": \"https://www.google.co.in/url?sa=t&source=web&rct=j&opi=89978449&url=https://www.urmc.rochester.edu/highland/departments-centers/neurology/conditions-we-treat/guillain-barr&ved=2ahUKEwiNz-C8sMSNAxXuPhAIHaZLAmM4HhAWegQINRAB\",\n    \"displayed_link\": \"https://www.urmc.rochester.edu › ...\",\n    \"favicon\": \"https://serpapi.com/searches/683611b0aa0a88f825e43cd4/images/4c551630f80027b379afabcf1af7559e16e80d8567a11fe60057b543f037207b.png\",\n    \"snippet\": \"Guillain-Barré (ghee-yan bah-ray) syndrome is a disorder in which the body's immune system attacks part of the peripheral nervous system.\",\n    \"snippet_highlighted_words\": [\n      \"Guillain\",\n      \"Barré\",\n      \"syndrome\",\n      \"disorder\"\n    ],\n    \"source\": \"University of Rochester Medical Center\"\n  },\n  {\n    \"position\": 1,\n    \"title\": \"Guillain-Barre Syndrome: Symptoms, Causes & Treatment\",\n    \"link\": \"https://www.blkmaxhospital.com/blogs/guillain-barre-syndrome\",\n    \"redirect_link\": \"https://www.google.co.in/url?sa=t&source=web&rct=j&opi=89978449&url=https://www.blkmaxhospital.com/blogs/guillain-barre-syndrome&ved=2ahUKEwi42qi-sMSNAxWP6zgGHYiBGxY4KBAWegQIFRAB\",\n    \"displayed_link\": \"https://www.blkmaxhospital.com › ...\",\n    \"favicon\": \"https://serpapi.com/searches/683611b427c2b0db7f84d447/images/1c425c5e9dbda66ab4f484c2d47c5b0b0de4bbdc482940ca66eb4f1f88377b70.png\",\n    \"date\": \"4 फ़र॰ 2025\",\n    \"snippet\": \"Guillain-Barre Syndrome (GBS) is a rare but serious autoimmune disorder that affects the peripheral nervous system.\",\n    \"snippet_highlighted_words\": [\n      \"Guillain\",\n      \"Barre Syndrome\"\n    ],\n    \"source\": \"BLK-Max Hospital\"\n  },\n  {\n    \"position\": 2,\n    \"title\": \"Pediatric Guillain-Barré syndrome (GBS) - Dallas\",\n    \"link\": \"https://www.childrens.com/specialties-services/conditions/guillain-barre-syndrome\",\n    \"redirect_link\": \"https://www.google.co.in/url?sa=t&source=web&rct=j&opi=89978449&url=https://www.childrens.com/specialties-services/conditions/guillain-barre-syndrome&ved=2ahUKEwi42qi-sMSNAxWP6zgGHYiBGxY4KBAWegQIFxAB\",\n    \"displayed_link\": \"https://www.childrens.com › ...\",\n    \"favicon\": \"https://serpapi.com/searches/683611b427c2b0db7f84d447/images/1c425c5e9dbda66ab4f484c2d47c5b0bc43f0cc036d30fe9229e7cb3b55d6013.png\",\n    \"snippet\": \"A typical sign of GBS is muscle weakness, numbness, tingling (pins-and-needle sensation) and occasionally pain, that starts in the feet and legs. These symptoms ...\",\n    \"snippet_highlighted_words\": [\n      \"GBS\"\n    ],\n    \"source\": \"Children’s Health\"\n  },\n  {\n    \"position\": 3,\n    \"title\": \"Guillain-Barre Syndrome (GBS)\",\n    \"link\": \"https://www.jeffersonhealth.org/conditions-and-treatments/guillain-barre-syndrome\",\n    \"redirect_link\": \"https://www.google.co.in/url?sa=t&source=web&rct=j&opi=89978449&url=https://www.jeffersonhealth.org/conditions-and-treatments/guillain-barre-syndrome&ved=2ahUKEwi42qi-sMSNAxWP6zgGHYiBGxY4KBAWegQIFBAB\",\n    \"displayed_link\": \"https://www.jeffersonhealth.org › ...\",\n    \"favicon\": \"https://serpapi.com/searches/683611b427c2b0db7f84d447/images/1c425c5e9dbda66ab4f484c2d47c5b0baa4e4c2b348dce0bb2656999878be9c0.png\",\n    \"snippet\": \"We're also involved in researching the underlying causes of GBS and other autoimmune neuromuscular conditions. At Jefferson Health, you can be sure you're ...\",\n    \"snippet_highlighted_words\": [\n      \"GBS\"\n    ],\n    \"source\": \"Jefferson Health\"\n  },\n  {\n    \"position\": 4,\n    \"title\": \"Pune's Guillain-Barré Syndrome Epidemic Related to ...\",\n    \"link\": \"https://www.vax-before-travel.com/punes-guillain-barr-syndrome-epidemic-related-water-quality-2025-03-10\",\n    \"redirect_link\": \"https://www.google.co.in/url?sa=t&source=web&rct=j&opi=89978449&url=https://www.vax-before-travel.com/punes-guillain-barr-syndrome-epidemic-related-water-quality-2025-03-10&ved=2ahUKEwi42qi-sMSNAxWP6zgGHYiBGxY4KBAWegQIGhAB\",\n    \"displayed_link\": \"https://www.vax-before-travel.com › ...\",\n    \"favicon\": \"https://serpapi.com/searches/683611b427c2b0db7f84d447/images/1c425c5e9dbda66ab4f484c2d47c5b0b5e9cc574884a1be7002f25940d09bdf0.png\",\n    \"date\": \"10 मार्च 2025\",\n    \"snippet\": \"Experts have linked these GBS infections with Campylobacter jejuni. This bacteria is one of the most common causes of food poisoning.\",\n    \"snippet_highlighted_words\": [\n      \"GBS\"\n    ],\n    \"source\": \"Vax-Before-Travel\"\n  },\n  {\n    \"position\": 5,\n    \"title\": \"Guillain-Barré Syndrome (GBS)\",\n    \"link\": \"https://litfl.com/guillain-barre-syndrome-gbs/\",\n    \"redirect_link\": \"https://www.google.co.in/url?sa=t&source=web&rct=j&opi=89978449&url=https://litfl.com/guillain-barre-syndrome-gbs/&ved=2ahUKEwi42qi-sMSNAxWP6zgGHYiBGxY4KBAWegQIFhAB\",\n    \"displayed_link\": \"https://litfl.com › ...\",\n    \"favicon\": \"https://serpapi.com/searches/683611b427c2b0db7f84d447/images/1c425c5e9dbda66ab4f484c2d47c5b0b372f3132903d32f5900c98be3c9e1712.png\",\n    \"snippet\": \"Guillain-Barré Syndrome (GBS) is the most common and most severe acute paralytic neuropathy, consisting of multiple variants with distinct clinical and ...\",\n    \"snippet_highlighted_words\": [\n      \"Guillain\",\n      \"Barré Syndrome\"\n    ],\n    \"source\": \"Life in the Fast Lane • LITFL\"\n  },\n  {\n    \"position\": 6,\n    \"title\": \"Guillain-Barré Syndrome\",\n    \"link\": \"https://zerotofinals.com/medicine/neurology/guillainbarre/\",\n    \"redirect_link\": \"https://www.google.co.in/url?sa=t&source=web&rct=j&opi=89978449&url=https://zerotofinals.com/medicine/neurology/guillainbarre/&ved=2ahUKEwi42qi-sMSNAxWP6zgGHYiBGxY4KBAWegQIExAB\",\n    \"displayed_link\": \"https://zerotofinals.com › ...\",\n    \"favicon\": \"https://serpapi.com/searches/683611b427c2b0db7f84d447/images/1c425c5e9dbda66ab4f484c2d47c5b0b73517e842c52c8829273e8ecea76c9bc.png\",\n    \"snippet\": \"Presentation. Symptoms usually start within four weeks of the triggering infection. They begin in the feet and progress upward. Symptoms peak within 2-4 weeks.\",\n    \"source\": \"Zero To Finals\"\n  },\n  {\n    \"position\": 7,\n    \"title\": \"Guillain-Barré Syndrome (for Parents)\",\n    \"link\": \"https://kidshealth.org/en/parents/gbs.html\",\n    \"redirect_link\": \"https://www.google.co.in/url?sa=t&source=web&rct=j&opi=89978449&url=https://kidshealth.org/en/parents/gbs.html&ved=2ahUKEwi42qi-sMSNAxWP6zgGHYiBGxY4KBAWegQIGRAB\",\n    \"displayed_link\": \"https://kidshealth.org › ...\",\n    \"favicon\": \"https://serpapi.com/searches/683611b427c2b0db7f84d447/images/1c425c5e9dbda66ab4f484c2d47c5b0b9acbedc61db8c8f57296b7fcefbcc9fc.png\",\n    \"snippet\": \"What Are the Signs & Symptoms of Guillain-Barré Syndrome? · tingling or pain in the toes and fingertips · weakness or pain in the legs that causes trouble ...\",\n    \"snippet_highlighted_words\": [\n      \"Guillain\",\n      \"Barré Syndrome\"\n    ],\n    \"source\": \"KidsHealth\"\n  },\n  {\n    \"position\": 8,\n    \"title\": \"Guillain-Barré Syndrome | McGovern Medical School\",\n    \"link\": \"https://med.uth.edu/neurosciences/conditions-and-treatments/nerve-disorders/guillain-barre-syndrome/\",\n    \"redirect_link\": \"https://www.google.co.in/url?sa=t&source=web&rct=j&opi=89978449&url=https://med.uth.edu/neurosciences/conditions-and-treatments/nerve-disorders/guillain-barre-syndrome/&ved=2ahUKEwi42qi-sMSNAxWP6zgGHYiBGxY4KBAWegQIMxAB\",\n    \"displayed_link\": \"https://med.uth.edu › ...\",\n    \"favicon\": \"https://serpapi.com/searches/683611b427c2b0db7f84d447/images/1c425c5e9dbda66ab4f484c2d47c5b0b0de8581eef63bf866d3cde1f532d710a.png\",\n    \"snippet\": \"Signs Guillain-Barré Syndrome. Initial symptoms may present as pain, weakness, or tingling in the hands or feet. Patients usually experience this in one side of ...\",\n    \"snippet_highlighted_words\": [\n      \"Guillain\",\n      \"Barré Syndrome\"\n    ],\n    \"source\": \"UTHealth Houston\"\n  },\n  {\n    \"position\": 9,\n    \"title\": \"Guillain-Barré Syndrome\",\n    \"link\": \"https://www.medcomic.com/medcomic/guillain-barre-syndrome\",\n    \"redirect_link\": \"https://www.google.co.in/url?sa=t&source=web&rct=j&opi=89978449&url=https://www.medcomic.com/medcomic/guillain-barre-syndrome&ved=2ahUKEwi42qi-sMSNAxWP6zgGHYiBGxY4KBAWegQIMhAB\",\n    \"displayed_link\": \"https://www.medcomic.com › ...\",\n    \"favicon\": \"https://serpapi.com/searches/683611b427c2b0db7f84d447/images/1c425c5e9dbda66ab4f484c2d47c5b0bca43306a4013f332382ac0a754e29673.png\",\n    \"snippet\": \"Guillain-Barré syndrome (GBS) is an acute, inflammatory demyelinating polyneuropathy with ascending muscle weakness that is autoimmune in nature.\",\n    \"snippet_highlighted_words\": [\n      \"Guillain\",\n      \"Barré syndrome\"\n    ],\n    \"source\": \"Medcomic\"\n  },\n  {\n    \"position\": 10,\n    \"title\": \"Physical Therapy Guide to Guillain-Barré Syndrome\",\n    \"link\": \"https://www.choosept.com/guide/physical-therapy-guide-guillain-barre-syndrome\",\n    \"redirect_link\": \"https://www.google.co.in/url?sa=t&source=web&rct=j&opi=89978449&url=https://www.choosept.com/guide/physical-therapy-guide-guillain-barre-syndrome&ved=2ahUKEwi42qi-sMSNAxWP6zgGHYiBGxY4KBAWegQIOBAB\",\n    \"displayed_link\": \"https://www.choosept.com › ...\",\n    \"favicon\": \"https://serpapi.com/searches/683611b427c2b0db7f84d447/images/1c425c5e9dbda66ab4f484c2d47c5b0b6ade25d0c483b720a0173e4efed6d7d1.png\",\n    \"date\": \"7 जुल॰ 2023\",\n    \"snippet\": \"Physical therapists have extensive training to help people during GBS recovery. They help patients understand how GBS affects their ability to move safely.\",\n    \"snippet_highlighted_words\": [\n      \"GBS\",\n      \"GBS\"\n    ],\n    \"source\": \"ChoosePT\"\n  },\n  {\n    \"position\": 1,\n    \"title\": \"Guillain-Barre Syndrome: Symptoms, Causes & Treatment\",\n    \"link\": \"https://www.blkmaxhospital.com/blogs/guillain-barre-syndrome\",\n    \"redirect_link\": \"https://www.google.co.in/url?sa=t&source=web&rct=j&opi=89978449&url=https://www.blkmaxhospital.com/blogs/guillain-barre-syndrome&ved=2ahUKEwjxl-fIsMSNAxVQVPUHHaxwM4s4MhAWegQIFRAB\",\n    \"displayed_link\": \"https://www.blkmaxhospital.com › ...\",\n    \"favicon\": \"https://serpapi.com/searches/683611b714537b69e2f85ff6/images/f59fd6eb17ef1f20cebf1a76cc520104cefbae3b8577bd9b6b1a0ea60e880ae0.png\",\n    \"date\": \"4 फ़र॰ 2025\",\n    \"snippet\": \"Guillain-Barre Syndrome is a rare but serious neurological disorder that requires immediate medical attention. While most people recover, early ...\",\n    \"snippet_highlighted_words\": [\n      \"Guillain\",\n      \"Barre Syndrome\"\n    ],\n    \"source\": \"BLK-Max Hospital\"\n  },\n  {\n    \"position\": 2,\n    \"title\": \"Guillain-Barré Syndrome\",\n    \"link\": \"https://www.yalemedicine.org/conditions/guillain-barre-syndrome\",\n    \"redirect_link\": \"https://www.google.co.in/url?sa=t&source=web&rct=j&opi=89978449&url=https://www.yalemedicine.org/conditions/guillain-barre-syndrome&ved=2ahUKEwjxl-fIsMSNAxVQVPUHHaxwM4s4MhAWegQIFBAB\",\n    \"displayed_link\": \"https://www.yalemedicine.org › ...\",\n    \"favicon\": \"https://serpapi.com/searches/683611b714537b69e2f85ff6/images/f59fd6eb17ef1f20cebf1a76cc520104972f86470677e36b7683f539ca8858d4.png\",\n    \"snippet\": \"Guillain-Barré syndrome (GBS) is a neurological condition in which the body's immune system attacks healthy nerve cells.\",\n    \"snippet_highlighted_words\": [\n      \"Guillain\",\n      \"Barré syndrome\"\n    ],\n    \"source\": \"Yale Medicine\"\n  },\n  {\n    \"position\": 3,\n    \"title\": \"Definition of Guillain-Barré syndrome\",\n    \"link\": \"https://www.cancer.gov/publications/dictionaries/cancer-terms/def/guillain-barre-syndrome\",\n    \"redirect_link\": \"https://www.google.co.in/url?sa=t&source=web&rct=j&opi=89978449&url=https://www.cancer.gov/publications/dictionaries/cancer-terms/def/guillain-barre-syndrome&ved=2ahUKEwjxl-fIsMSNAxVQVPUHHaxwM4s4MhAWegQIExAB\",\n    \"displayed_link\": \"https://www.cancer.gov › ...\",\n    \"favicon\": \"https://serpapi.com/searches/683611b714537b69e2f85ff6/images/f59fd6eb17ef1f20cebf1a76cc5201040243be512f4f8ad5fba8556ce15e8b2f.png\",\n    \"snippet\": \"A rare condition in which the body's immune system attacks the nerves located outside the brain and spinal cord. Symptoms of Guillain-Barré syndrome include ...\",\n    \"snippet_highlighted_words\": [\n      \"Guillain\",\n      \"Barré syndrome\"\n    ],\n    \"source\": \"National Cancer Institute (.gov)\"\n  },\n  {\n    \"position\": 4,\n    \"title\": \"à¥ à¤¯à¤¾ à¤¹à¥ˆ?\",\n    \"link\": \"https://translate.google.com/translate?u=https://www.webmd.com/brain/what-is-guillain-barre&hl=hi&sl=en&tl=hi&client=srp\",\n    \"redirect_link\": \"https://www.google.co.in/url?sa=t&source=web&rct=j&opi=89978449&url=https://translate.google.com/translate%3Fu%3Dhttps://www.webmd.com/brain/what-is-guillain-barre%26hl%3Dhi%26sl%3Den%26tl%3Dhi%26client%3Dsrp&ved=2ahUKEwjxl-fIsMSNAxVQVPUHHaxwM4s4MhAWegQIGRAB\",\n    \"displayed_link\": \"https://www.webmd.com › brain › what-is-guillain-barre\",\n    \"favicon\": \"https://serpapi.com/searches/683611b714537b69e2f85ff6/images/f59fd6eb17ef1f20cebf1a76cc520104da48d3547f44e64b6e4bec40daa14053.png\",\n    \"date\": \"14 मार्च 2024\",\n    \"snippet\": \"à¤—à¥ à¤‡à¤²à¥‡à¤¨-à¤¬à¥ˆà¤°à¥‡ à¤¸à¤¿à¤‚à¤¡à¥ à¤°à¥‹à¤® à¤ à¤• à¤¦à¥ à¤°à¥ à¤²à¤ à¤'à¤Ÿà¥‹à¤‡à¤®à¥ à¤¯à¥‚à¤¨ à¤µà¤¿à¤•à¤¾à¤° à¤¹à¥ˆà¥¤ ...\",\n    \"source\": \"WebMD\"\n  },\n  {\n    \"position\": 5,\n    \"title\": \"Epidemiology of Guillain Barre Syndrome in North Western ...\",\n    \"link\": \"https://www.ijnonline.org/article-details/1785\",\n    \"redirect_link\": \"https://www.google.co.in/url?sa=t&source=web&rct=j&opi=89978449&url=https://www.ijnonline.org/article-details/1785&ved=2ahUKEwjxl-fIsMSNAxVQVPUHHaxwM4s4MhAWegQIFhAB\",\n    \"displayed_link\": \"https://www.ijnonline.org › ...\",\n    \"favicon\": \"https://serpapi.com/searches/683611b714537b69e2f85ff6/images/f59fd6eb17ef1f20cebf1a76cc520104ceb70dc3ca25aed5dbb2aa14d5235054.png\",\n    \"snippet\": \"In our study prevalence of GBS was 41.5%. Most cases were in the age range of 13-60 months. In these study males (68.5%) were more affected than girls (31.5%).\",\n    \"source\": \"Indian Journal of Neurosciences\"\n  },\n  {\n    \"position\": 6,\n    \"title\": \"When Your Child Has Guillain-Barre Syndrome (GBS)\",\n    \"link\": \"https://www.saintlukeskc.org/health-library/when-your-child-has-guillain-barre-syndrome-gbs\",\n    \"redirect_link\": \"https://www.google.co.in/url?sa=t&source=web&rct=j&opi=89978449&url=https://www.saintlukeskc.org/health-library/when-your-child-has-guillain-barre-syndrome-gbs&ved=2ahUKEwjxl-fIsMSNAxVQVPUHHaxwM4s4MhAWegQIFxAB\",\n    \"displayed_link\": \"https://www.saintlukeskc.org › ...\",\n    \"favicon\": \"https://serpapi.com/searches/683611b714537b69e2f85ff6/images/f59fd6eb17ef1f20cebf1a76cc520104e3174dc5a46694b8df3cc5e21151ede8.png\",\n    \"snippet\": \"Your child has been diagnosed with Guillain-Barré syndrome (GBS). This is an illness that affects the peripheral nerves, often both the sensory and motor ...\",\n    \"snippet_highlighted_words\": [\n      \"Guillain\",\n      \"Barré syndrome\"\n    ],\n    \"source\": \"Saint Luke's Health System Kansas City\"\n  },\n  {\n    \"position\": 7,\n    \"title\": \"Guillain-Barré Syndrome (GBS): Symptoms & Causes\",\n    \"link\": \"https://www.nyp.org/neuro/neuromuscular-disorders/guillain-barre-syndrome\",\n    \"redirect_link\": \"https://www.google.co.in/url?sa=t&source=web&rct=j&opi=89978449&url=https://www.nyp.org/neuro/neuromuscular-disorders/guillain-barre-syndrome&ved=2ahUKEwjxl-fIsMSNAxVQVPUHHaxwM4s4MhAWegQIGBAB\",\n    \"displayed_link\": \"https://www.nyp.org › ...\",\n    \"favicon\": \"https://serpapi.com/searches/683611b714537b69e2f85ff6/images/f59fd6eb17ef1f20cebf1a76cc520104fef2bff4928d4ac2e8a67ffc082c0813.png\",\n    \"snippet\": \"Guillain-Barré syndrome is a neurological disorder in which the body's immune system attacks the nerves outside the brain and spinal cord.\",\n    \"snippet_highlighted_words\": [\n      \"Guillain\",\n      \"Barré syndrome\",\n      \"a neurological disorder in which the body's immune system attacks the nerves outside the brain and spinal cord\"\n    ],\n    \"source\": \"NewYork-Presbyterian\"\n  },\n  {\n    \"position\": 8,\n    \"title\": \"Guillain-Barre syndrome (GBS)\",\n    \"link\": \"https://gpnotebook.com/pages/infectious-disease/guillain-barre-syndrome-gbs\",\n    \"redirect_link\": \"https://www.google.co.in/url?sa=t&source=web&rct=j&opi=89978449&url=https://gpnotebook.com/pages/infectious-disease/guillain-barre-syndrome-gbs&ved=2ahUKEwjxl-fIsMSNAxVQVPUHHaxwM4s4MhAWegQIKBAB\",\n    \"displayed_link\": \"https://gpnotebook.com › ...\",\n    \"favicon\": \"https://serpapi.com/searches/683611b714537b69e2f85ff6/images/f59fd6eb17ef1f20cebf1a76cc520104194bf6b628130fffdefa41f6b058ff0c.png\",\n    \"date\": \"26 फ़र॰ 2025\",\n    \"snippet\": \"Guillain-Barre syndrome (GBS) ... A prodromal malaise with vomiting, headache, fever and limb pains is rapidly surmounted by a progressive and ...\",\n    \"snippet_highlighted_words\": [\n      \"Guillain\",\n      \"Barre syndrome\"\n    ],\n    \"source\": \"GPnotebook\"\n  },\n  {\n    \"position\": 9,\n    \"title\": \"Guillain-Barré Syndrome\",\n    \"link\": \"https://zerotofinals.com/medicine/neurology/guillainbarre/\",\n    \"redirect_link\": \"https://www.google.co.in/url?sa=t&source=web&rct=j&opi=89978449&url=https://zerotofinals.com/medicine/neurology/guillainbarre/&ved=2ahUKEwjxl-fIsMSNAxVQVPUHHaxwM4s4MhAWegQIKhAB\",\n    \"displayed_link\": \"https://zerotofinals.com › ...\",\n    \"favicon\": \"https://serpapi.com/searches/683611b714537b69e2f85ff6/images/f59fd6eb17ef1f20cebf1a76cc5201041b01ee672b1e3b46c8e1e46e6cf8ab67.png\",\n    \"snippet\": \"Guillain-Barré syndrome is an acute paralytic polyneuropathy that affects the peripheral nervous system. It causes acute, symmetrical, ascending weakness.\",\n    \"snippet_highlighted_words\": [\n      \"Guillain\",\n      \"Barré syndrome\",\n      \"an acute paralytic polyneuropathy that affects the peripheral nervous system\"\n    ],\n    \"source\": \"Zero To Finals\"\n  },\n  {\n    \"position\": 10,\n    \"title\": \"क्या है Guillain-Barre Syndrome? महाराष्ट्र में 6 की मौत ...\",\n    \"link\": \"https://www.prabhatkhabar.com/state/maharashtra/what-is-guillain-barre-syndrome-maharashtra-in-grip-most-cases-from-youth\",\n    \"redirect_link\": \"https://www.google.co.in/url?sa=t&source=web&rct=j&opi=89978449&url=https://www.prabhatkhabar.com/state/maharashtra/what-is-guillain-barre-syndrome-maharashtra-in-grip-most-cases-from-youth&ved=2ahUKEwjxl-fIsMSNAxVQVPUHHaxwM4s4MhAWegQIKRAB\",\n    \"displayed_link\": \"https://www.prabhatkhabar.com › Rajya › Maharashtra\",\n    \"favicon\": \"https://serpapi.com/searches/683611b714537b69e2f85ff6/images/f59fd6eb17ef1f20cebf1a76cc5201042d9cadeef76e362968e5d6e8bf483613.png\",\n    \"date\": \"6 फ़र॰ 2025\",\n    \"snippet\": \"गिलियन-बैरे सिंड्रोम (जीबीएस) एक ऑटोइम्यून बीमारी है. यह मरीजों के इम्यून सिस्टम को प्रभावित करता है. जीबीएस मरीजों के स्वस्थ्य नसों पर हमला करता है. जिससे नसें कमजोर हो जाती हैं. अगर समय पर इसका इलाज ...\",\n    \"snippet_highlighted_words\": [\n      \"बैरे सिंड्रोम\"\n    ],\n    \"source\": \"Prabhat Khabar\"\n  }\n]\n"
     ]
    }
   ],
   "source": [
    "# Fetching Google Search Results for Guillain-Barré Syndrome using SerpApi\n",
    "\n",
    "#%pip install google-search-results==2.4.2\n",
    "\n",
    "from serpapi import GoogleSearch\n",
    "import json\n",
    "\n",
    "api_key = \"1e9e3313e442d407a5bb0f40096ff8633cfd38190089299db0626007b6c08632\"\n",
    "\n",
    "# To store all results\n",
    "fetched_results_raw = []\n",
    "\n",
    "page_size = 10\n",
    "max_pages = 10\n",
    "\n",
    "# Loop over pages to fetch results\n",
    "for page in range(max_pages):\n",
    "    params = {\n",
    "        \"api_key\": api_key,\n",
    "        \"engine\": \"google\",\n",
    "        \"q\": \"Guillain Barre Syndrome\",\n",
    "        \"location\": \"India\",\n",
    "        \"google_domain\": \"google.co.in\",\n",
    "        \"gl\": \"in\",\n",
    "        \"hl\": \"hi\",\n",
    "        \"cr\": \"countryUS\",\n",
    "        \"start\": page * page_size\n",
    "    }\n",
    "\n",
    "    search = GoogleSearch(params)\n",
    "    results = search.get_dict()\n",
    "\n",
    "    fetched_results_raw += results.get(\"organic_results\", [])\n",
    "\n",
    "# Display the results in JSON format\n",
    "print(json.dumps(fetched_results_raw, indent=2, ensure_ascii=False))\n"
   ]
  },
  {
   "cell_type": "markdown",
   "metadata": {
    "application/vnd.databricks.v1+cell": {
     "cellMetadata": {
      "byteLimit": 2048000,
      "rowLimit": 10000
     },
     "inputWidgets": {},
     "nuid": "d784a5b2-9f37-45a6-9c17-32f31be10fcc",
     "showTitle": false,
     "tableResultSettingsMap": {},
     "title": ""
    }
   },
   "source": [
    "**Convert Clinical Trials and SerpApi JSON Data to Pandas DataFrames (Normalization)**"
   ]
  },
  {
   "cell_type": "code",
   "execution_count": 0,
   "metadata": {
    "application/vnd.databricks.v1+cell": {
     "cellMetadata": {
      "byteLimit": 2048000,
      "rowLimit": 10000
     },
     "inputWidgets": {},
     "nuid": "2f41f252-ef0e-4a76-92c9-839b227bbdfc",
     "showTitle": false,
     "tableResultSettingsMap": {},
     "title": ""
    }
   },
   "outputs": [
    {
     "output_type": "display_data",
     "data": {
      "application/vnd.databricks.v1+bamboolib_hint": "{\"pd.DataFrames\": [], \"version\": \"0.0.1\"}",
      "text/plain": []
     },
     "metadata": {},
     "output_type": "display_data"
    },
    {
     "output_type": "display_data",
     "data": {
      "text/html": [
       "<style scoped>\n",
       "  .table-result-container {\n",
       "    max-height: 300px;\n",
       "    overflow: auto;\n",
       "  }\n",
       "  table, th, td {\n",
       "    border: 1px solid black;\n",
       "    border-collapse: collapse;\n",
       "  }\n",
       "  th, td {\n",
       "    padding: 5px;\n",
       "  }\n",
       "  th {\n",
       "    text-align: left;\n",
       "  }\n",
       "</style><div class='table-result-container'><table class='table-result'><thead style='background-color: white'><tr><th>nctId</th><th>briefTitle</th><th>overallStatus</th><th>hasResults</th></tr></thead><tbody><tr><td>NCT05324176</td><td>Diaphragm Thickness by Ultrasonography in Neurological Disorders</td><td>COMPLETED</td><td>false</td></tr><tr><td>NCT01655394</td><td>Change of Nerve Conduction Properties in IVIg Dependent Neuropathies</td><td>UNKNOWN</td><td>false</td></tr><tr><td>NCT00271791</td><td>Prednisone Treatment for Vestibular Neuronitis</td><td>COMPLETED</td><td>false</td></tr><tr><td>NCT06822231</td><td>High-Tech Rehabilitation Pathway for Acute Adult Neuromuscular Diseases - Fit4MedRob-Acute MND Project</td><td>NOT_YET_RECRUITING</td><td>false</td></tr><tr><td>NCT06885762</td><td>Efgartigimod for the Treatment of Guillain-Barré Syndrome</td><td>NOT_YET_RECRUITING</td><td>false</td></tr><tr><td>NCT05095844</td><td>National Vaccine Adverse Event Reporting Survey and Etiology</td><td>UNKNOWN</td><td>false</td></tr><tr><td>NCT05701189</td><td>Evaluating Efgartigimod in Patients with Guillain-Barré Syndrome</td><td>RECRUITING</td><td>false</td></tr><tr><td>NCT04752566</td><td>A Study to Evaluate the Efficacy and Safety of Eculizumab in Guillain-Barré Syndrome</td><td>COMPLETED</td><td>true</td></tr><tr><td>NCT04829526</td><td>Firm Observational Clinical Unicenter Study on Guillain Barré Syndrome</td><td>RECRUITING</td><td>false</td></tr><tr><td>NCT02493725</td><td>JET-GBS - Japanese Eculizumab Trial for GBS</td><td>COMPLETED</td><td>false</td></tr><tr><td>NCT04166357</td><td>Early Prediction of Respiratory and Autonomic Complications of GBS Using Neuromuscular Ultrasound</td><td>UNKNOWN</td><td>false</td></tr><tr><td>NCT05940922</td><td>RWE-based Treatment Patterns and Outcomes in CIDP</td><td>NOT_YET_RECRUITING</td><td>false</td></tr><tr><td>NCT05212792</td><td>Genomics and COVID-19 Vaccine Adverse Events</td><td>RECRUITING</td><td>false</td></tr><tr><td>NCT04303962</td><td>Efficacy of Intravenous Gamma Globulin on Guillain-Barre Syndrome</td><td>UNKNOWN</td><td>false</td></tr><tr><td>NCT03943589</td><td>A Study of Imlifidase in Patients With Guillain-Barré Syndrome</td><td>COMPLETED</td><td>true</td></tr><tr><td>NCT05104762</td><td>IVIG Versus Plasmapheresis in the Treatment of Guillian Barrie Syndrome Patients</td><td>COMPLETED</td><td>false</td></tr><tr><td>NCT06615622</td><td>Our Study Aims to Determine If Nerve Alterations in Acute GBS and CIDP Detectable by Ultrasound Match Electrodiagnostic Findings and If This Method Aids Early Diagnosis, Predict Their Outcomes and Differentiate Between Axonal and Demyelinating Subtypes.</td><td>RECRUITING</td><td>false</td></tr><tr><td>NCT05284786</td><td>Ultrasonography and Electrophysiology in GBS</td><td>UNKNOWN</td><td>false</td></tr><tr><td>NCT01005524</td><td>Brain Computer Interface for Communication in ICU: a Feasibility Study</td><td>COMPLETED</td><td>false</td></tr><tr><td>NCT06939634</td><td>Evaluation of Usability and Safety of the System Atalante in Patients With High Paraplegia and Tetraplegia</td><td>COMPLETED</td><td>false</td></tr><tr><td>NCT04035135</td><td>A Clinical Study of ANX005 and IVIG in Subjects With Guillain Barré Syndrome (GBS)</td><td>COMPLETED</td><td>false</td></tr><tr><td>NCT00167622</td><td>Early Mechanical Ventilation for Guillain Barré Syndrome</td><td>COMPLETED</td><td>false</td></tr><tr><td>NCT01582763</td><td>International Guillain-Barré Syndrome Outcome Study</td><td>COMPLETED</td><td>false</td></tr><tr><td>NCT03801135</td><td>Changes in Haemostasis After Therapeutic Plasmapheresis With Citrate Anticoagulation</td><td>UNKNOWN</td><td>false</td></tr><tr><td>NCT03941184</td><td>Spontaneous Coronary Artery Dissection (SCAD) and Autoimmunity</td><td>COMPLETED</td><td>false</td></tr><tr><td>NCT04092140</td><td>Neuromuscular Ultrasound in Correlation to Neurophysiological Findings</td><td>UNKNOWN</td><td>false</td></tr><tr><td>NCT03268304</td><td>Feasibility of Two New Software Modules for the Rehabilitation of Patients With Neuromuscular Upper Limb Impairments</td><td>WITHDRAWN</td><td>false</td></tr><tr><td>NCT00411216</td><td>Recovery of Visual Acuity in People With Vestibular Deficits</td><td>COMPLETED</td><td>true</td></tr><tr><td>NCT01469858</td><td>Perception and Multisensory Integration in Neurological Patients Using fMRI</td><td>UNKNOWN</td><td>false</td></tr><tr><td>NCT06167239</td><td>Ventilator Trigger Sensitivity Adjustment Versus Threshold Inspiratory Muscle Training on Arterial Blood Gases</td><td>RECRUITING</td><td>false</td></tr><tr><td>NCT04674163</td><td>Expression Profile of ERK5 and PKM2 Kinases in Neuroinflammatory Diseases.</td><td>WITHDRAWN</td><td>false</td></tr><tr><td>NCT05630313</td><td>Gene Sequencing as a Strategy for Identifying Genetic Factors Associated With Serious Adverse Events After Covid-19 Vaccines in Use in Brazil</td><td>RECRUITING</td><td>false</td></tr><tr><td>NCT02459808</td><td>Gastrointestinal Transit Time in Patients With Guillain-Barré Syndrome</td><td>WITHDRAWN</td><td>false</td></tr><tr><td>NCT06605612</td><td>Development and Validation of the FBIndex to Determine the Risk of Falls for Patients with Neuromuscular Disorders</td><td>ENROLLING_BY_INVITATION</td><td>false</td></tr><tr><td>NCT00056810</td><td>Assessment of Chronic Guillain-Barre Syndrome Improvement With Use of 4-aminopyridine</td><td>COMPLETED</td><td>false</td></tr><tr><td>NCT06032741</td><td>Prognosis in Patients With Guillain-Barre Syndrome</td><td>UNKNOWN</td><td>false</td></tr><tr><td>NCT05494619</td><td>A Study to Evaluate the Efficacy, Safety, Pharmacokinetics, and Pharmacodynamics of Crovalimab in Participants With Guillain-Barré Syndrome (GBS)</td><td>WITHDRAWN</td><td>false</td></tr><tr><td>NCT05114941</td><td>Comparison of the Efficacy and Safety of Immunoadsorption and Intravenous Immunoglobulin for Guillain-Barre Syndrome</td><td>NOT_YET_RECRUITING</td><td>false</td></tr><tr><td>NCT03206541</td><td>Neurologic Manifestations of the Arbovirus Infection in Colombia</td><td>COMPLETED</td><td>false</td></tr><tr><td>NCT06334796</td><td>Artificial Intelligence-powered Virtual Assistant for Emergency Triage in Neurology</td><td>COMPLETED</td><td>false</td></tr><tr><td>NCT05491096</td><td>Effects of Proprioceptive Neuromuscular Training on Sensory and Motor Function in Guillain Barre Syndrome</td><td>COMPLETED</td><td>false</td></tr><tr><td>NCT04871035</td><td>Immunoadsorption Versus Plasma Exchange for Treatment of Guillain-Barré Syndrome (GBS)</td><td>RECRUITING</td><td>false</td></tr><tr><td>NCT06612242</td><td>Early vs. Late Tracheostomy in Patients With Guillain -Barre Syndrome</td><td>RECRUITING</td><td>false</td></tr><tr><td>NCT02883270</td><td>Effects of Robotic-assisted Gait Training In Non-Ambulatory Patients After Guillain-Barré Syndrome</td><td>COMPLETED</td><td>false</td></tr><tr><td>NCT00173199</td><td>The Changes of Cytokines in Guillain Barré Syndrome: the Correlation With Clinical Manifestations and Skin Innervation</td><td>UNKNOWN</td><td>false</td></tr><tr><td>NCT02422875</td><td>Comparative Autoantibody and Immunologic Cell Marker Study</td><td>ENROLLING_BY_INVITATION</td><td>false</td></tr><tr><td>NCT06300359</td><td>Prognostic Indicators of Gullian-Barre Syndrome</td><td>NOT_YET_RECRUITING</td><td>false</td></tr><tr><td>NCT06502015</td><td>Biomarkers in Autoimmune Disease of Nervous System</td><td>RECRUITING</td><td>false</td></tr><tr><td>NCT05945784</td><td>Exploring Accessible Beauty for Individuals With Upper Extremity Deficits</td><td>COMPLETED</td><td>false</td></tr><tr><td>NCT04701164</td><td>Efficacy and Safety of ANX005 in Subjects With Guillain-Barré Syndrome</td><td>COMPLETED</td><td>false</td></tr><tr><td>NCT02342184</td><td>Efficacy and Safety Study of GB-0998 for Guillain-Barré Syndrome</td><td>COMPLETED</td><td>false</td></tr><tr><td>NCT05292690</td><td>An Assistive Powered Wheelchair: Stage 2 Trial</td><td>COMPLETED</td><td>false</td></tr><tr><td>NCT06940908</td><td>Living With Guillain-Barré Syndrome as Children.</td><td>RECRUITING</td><td>false</td></tr><tr><td>NCT01370200</td><td>Regional Citrate Anticoagulation in Plasma Exchange Treatment</td><td>COMPLETED</td><td>false</td></tr><tr><td>NCT04249752</td><td>Biomarkers in Polyradiculoneuropathies</td><td>UNKNOWN</td><td>false</td></tr><tr><td>NCT04053452</td><td>Peripheral Nerve Ultrasound for Diagnosis and Prognosis of Guillain-Barre Syndrome</td><td>TERMINATED</td><td>true</td></tr><tr><td>NCT06740656</td><td>Neuromuscular Complications of MEK Inhibitors: a French Case Series and a Systematic Review of the Literature</td><td>NOT_YET_RECRUITING</td><td>false</td></tr><tr><td>NCT01306578</td><td>Intravenous Immunoglobulin (IVIG) Versus Plasma Exchange (PE) for Ventilated Children With Guillain Barre Syndrome (GBS)</td><td>COMPLETED</td><td>false</td></tr><tr><td>NCT02221271</td><td>Phase III Clinical Trial of NPB-01 in Patients With Guillain-Barré Syndrome</td><td>COMPLETED</td><td>false</td></tr><tr><td>NCT03826056</td><td>Neurology Inpatient Clinical Education Trial</td><td>COMPLETED</td><td>false</td></tr><tr><td>NCT02029378</td><td>Inhibition of Complement Activation (Eculizumab) in Guillain-Barre Syndrome Study</td><td>UNKNOWN</td><td>false</td></tr><tr><td>NCT04550611</td><td>Mini-pool Intravenous Immunoglobulin (MP-IVIG) in Guillain-Barré Syndrome</td><td>UNKNOWN</td><td>false</td></tr><tr><td>NCT03710278</td><td>The Effectiveness and Safety of Human Lumbar Puncture Assist Device (LPat)</td><td>COMPLETED</td><td>false</td></tr><tr><td>NCT01024088</td><td>Prospective Study on Swallowing/Breathing Interactions in Severe Guillain Barre Syndrome.</td><td>COMPLETED</td><td>false</td></tr><tr><td>NCT05461898</td><td>RehabGBs: Rehabilitation in People With Guillain-Barré Syndrome</td><td>RECRUITING</td><td>false</td></tr><tr><td>NCT02780570</td><td>Small Volume Plasma Exchange (SVPE) for Guillain-Barré Syndrome (GBS) Patients</td><td>COMPLETED</td><td>false</td></tr><tr><td>NCT02722070</td><td>Processing Integration in Neurological Patients Using fMRI</td><td>UNKNOWN</td><td>false</td></tr><tr><td>NCT04927598</td><td>Predictors and Prognostic Factors of Gullian Barrie Syndrome Outcome</td><td>COMPLETED</td><td>false</td></tr><tr><td>NCT03773328</td><td>A Clinical Trial of CK0801 (a New Drug) In Patients With Treatment-Resistant Guillain-Barré Syndrome (GBS)</td><td>WITHDRAWN</td><td>false</td></tr><tr><td>NCT03840928</td><td>PatientSpot Formerly Known as ArthritisPower</td><td>RECRUITING</td><td>false</td></tr><tr><td>NCT02582853</td><td>sCD163 as a Potential Biomarker in Guillain- Barré Syndrome</td><td>UNKNOWN</td><td>false</td></tr><tr><td>NCT06200454</td><td>Predictive Value of Neuromuscular Ultrasound of Cranial Nerves in Guillain-Barré Syndrome</td><td>NOT_YET_RECRUITING</td><td>false</td></tr><tr><td>NCT00004833</td><td>Randomized Study of Plasmapheresis or Human Immunoglobulin Infusion in Childhood Guillain-Barre Syndrome</td><td>TERMINATED</td><td>false</td></tr><tr><td>NCT00575653</td><td>Safety Study of GBS Following Menactra Meningococcal Vaccination</td><td>COMPLETED</td><td>false</td></tr><tr><td>NCT06041451</td><td>Early and Late Prognosis in Patients With Guillain-Barre Syndrome</td><td>UNKNOWN</td><td>false</td></tr><tr><td>NCT06620198</td><td>Upper Limb Robot-Assisted Therapy in Patients with Guillain-Barré Syndrome</td><td>ACTIVE_NOT_RECRUITING</td><td>false</td></tr></tbody></table></div>"
      ]
     },
     "metadata": {
      "application/vnd.databricks.v1+output": {
       "addedWidgets": {},
       "aggData": [],
       "aggError": "",
       "aggOverflow": false,
       "aggSchema": [],
       "aggSeriesLimitReached": false,
       "aggType": "",
       "arguments": {},
       "columnCustomDisplayInfos": {},
       "data": [
        [
         "NCT05324176",
         "Diaphragm Thickness by Ultrasonography in Neurological Disorders",
         "COMPLETED",
         false
        ],
        [
         "NCT01655394",
         "Change of Nerve Conduction Properties in IVIg Dependent Neuropathies",
         "UNKNOWN",
         false
        ],
        [
         "NCT00271791",
         "Prednisone Treatment for Vestibular Neuronitis",
         "COMPLETED",
         false
        ],
        [
         "NCT06822231",
         "High-Tech Rehabilitation Pathway for Acute Adult Neuromuscular Diseases - Fit4MedRob-Acute MND Project",
         "NOT_YET_RECRUITING",
         false
        ],
        [
         "NCT06885762",
         "Efgartigimod for the Treatment of Guillain-Barré Syndrome",
         "NOT_YET_RECRUITING",
         false
        ],
        [
         "NCT05095844",
         "National Vaccine Adverse Event Reporting Survey and Etiology",
         "UNKNOWN",
         false
        ],
        [
         "NCT05701189",
         "Evaluating Efgartigimod in Patients with Guillain-Barré Syndrome",
         "RECRUITING",
         false
        ],
        [
         "NCT04752566",
         "A Study to Evaluate the Efficacy and Safety of Eculizumab in Guillain-Barré Syndrome",
         "COMPLETED",
         true
        ],
        [
         "NCT04829526",
         "Firm Observational Clinical Unicenter Study on Guillain Barré Syndrome",
         "RECRUITING",
         false
        ],
        [
         "NCT02493725",
         "JET-GBS - Japanese Eculizumab Trial for GBS",
         "COMPLETED",
         false
        ],
        [
         "NCT04166357",
         "Early Prediction of Respiratory and Autonomic Complications of GBS Using Neuromuscular Ultrasound",
         "UNKNOWN",
         false
        ],
        [
         "NCT05940922",
         "RWE-based Treatment Patterns and Outcomes in CIDP",
         "NOT_YET_RECRUITING",
         false
        ],
        [
         "NCT05212792",
         "Genomics and COVID-19 Vaccine Adverse Events",
         "RECRUITING",
         false
        ],
        [
         "NCT04303962",
         "Efficacy of Intravenous Gamma Globulin on Guillain-Barre Syndrome",
         "UNKNOWN",
         false
        ],
        [
         "NCT03943589",
         "A Study of Imlifidase in Patients With Guillain-Barré Syndrome",
         "COMPLETED",
         true
        ],
        [
         "NCT05104762",
         "IVIG Versus Plasmapheresis in the Treatment of Guillian Barrie Syndrome Patients",
         "COMPLETED",
         false
        ],
        [
         "NCT06615622",
         "Our Study Aims to Determine If Nerve Alterations in Acute GBS and CIDP Detectable by Ultrasound Match Electrodiagnostic Findings and If This Method Aids Early Diagnosis, Predict Their Outcomes and Differentiate Between Axonal and Demyelinating Subtypes.",
         "RECRUITING",
         false
        ],
        [
         "NCT05284786",
         "Ultrasonography and Electrophysiology in GBS",
         "UNKNOWN",
         false
        ],
        [
         "NCT01005524",
         "Brain Computer Interface for Communication in ICU: a Feasibility Study",
         "COMPLETED",
         false
        ],
        [
         "NCT06939634",
         "Evaluation of Usability and Safety of the System Atalante in Patients With High Paraplegia and Tetraplegia",
         "COMPLETED",
         false
        ],
        [
         "NCT04035135",
         "A Clinical Study of ANX005 and IVIG in Subjects With Guillain Barré Syndrome (GBS)",
         "COMPLETED",
         false
        ],
        [
         "NCT00167622",
         "Early Mechanical Ventilation for Guillain Barré Syndrome",
         "COMPLETED",
         false
        ],
        [
         "NCT01582763",
         "International Guillain-Barré Syndrome Outcome Study",
         "COMPLETED",
         false
        ],
        [
         "NCT03801135",
         "Changes in Haemostasis After Therapeutic Plasmapheresis With Citrate Anticoagulation",
         "UNKNOWN",
         false
        ],
        [
         "NCT03941184",
         "Spontaneous Coronary Artery Dissection (SCAD) and Autoimmunity",
         "COMPLETED",
         false
        ],
        [
         "NCT04092140",
         "Neuromuscular Ultrasound in Correlation to Neurophysiological Findings",
         "UNKNOWN",
         false
        ],
        [
         "NCT03268304",
         "Feasibility of Two New Software Modules for the Rehabilitation of Patients With Neuromuscular Upper Limb Impairments",
         "WITHDRAWN",
         false
        ],
        [
         "NCT00411216",
         "Recovery of Visual Acuity in People With Vestibular Deficits",
         "COMPLETED",
         true
        ],
        [
         "NCT01469858",
         "Perception and Multisensory Integration in Neurological Patients Using fMRI",
         "UNKNOWN",
         false
        ],
        [
         "NCT06167239",
         "Ventilator Trigger Sensitivity Adjustment Versus Threshold Inspiratory Muscle Training on Arterial Blood Gases",
         "RECRUITING",
         false
        ],
        [
         "NCT04674163",
         "Expression Profile of ERK5 and PKM2 Kinases in Neuroinflammatory Diseases.",
         "WITHDRAWN",
         false
        ],
        [
         "NCT05630313",
         "Gene Sequencing as a Strategy for Identifying Genetic Factors Associated With Serious Adverse Events After Covid-19 Vaccines in Use in Brazil",
         "RECRUITING",
         false
        ],
        [
         "NCT02459808",
         "Gastrointestinal Transit Time in Patients With Guillain-Barré Syndrome",
         "WITHDRAWN",
         false
        ],
        [
         "NCT06605612",
         "Development and Validation of the FBIndex to Determine the Risk of Falls for Patients with Neuromuscular Disorders",
         "ENROLLING_BY_INVITATION",
         false
        ],
        [
         "NCT00056810",
         "Assessment of Chronic Guillain-Barre Syndrome Improvement With Use of 4-aminopyridine",
         "COMPLETED",
         false
        ],
        [
         "NCT06032741",
         "Prognosis in Patients With Guillain-Barre Syndrome",
         "UNKNOWN",
         false
        ],
        [
         "NCT05494619",
         "A Study to Evaluate the Efficacy, Safety, Pharmacokinetics, and Pharmacodynamics of Crovalimab in Participants With Guillain-Barré Syndrome (GBS)",
         "WITHDRAWN",
         false
        ],
        [
         "NCT05114941",
         "Comparison of the Efficacy and Safety of Immunoadsorption and Intravenous Immunoglobulin for Guillain-Barre Syndrome",
         "NOT_YET_RECRUITING",
         false
        ],
        [
         "NCT03206541",
         "Neurologic Manifestations of the Arbovirus Infection in Colombia",
         "COMPLETED",
         false
        ],
        [
         "NCT06334796",
         "Artificial Intelligence-powered Virtual Assistant for Emergency Triage in Neurology",
         "COMPLETED",
         false
        ],
        [
         "NCT05491096",
         "Effects of Proprioceptive Neuromuscular Training on Sensory and Motor Function in Guillain Barre Syndrome",
         "COMPLETED",
         false
        ],
        [
         "NCT04871035",
         "Immunoadsorption Versus Plasma Exchange for Treatment of Guillain-Barré Syndrome (GBS)",
         "RECRUITING",
         false
        ],
        [
         "NCT06612242",
         "Early vs. Late Tracheostomy in Patients With Guillain -Barre Syndrome",
         "RECRUITING",
         false
        ],
        [
         "NCT02883270",
         "Effects of Robotic-assisted Gait Training In Non-Ambulatory Patients After Guillain-Barré Syndrome",
         "COMPLETED",
         false
        ],
        [
         "NCT00173199",
         "The Changes of Cytokines in Guillain Barré Syndrome: the Correlation With Clinical Manifestations and Skin Innervation",
         "UNKNOWN",
         false
        ],
        [
         "NCT02422875",
         "Comparative Autoantibody and Immunologic Cell Marker Study",
         "ENROLLING_BY_INVITATION",
         false
        ],
        [
         "NCT06300359",
         "Prognostic Indicators of Gullian-Barre Syndrome",
         "NOT_YET_RECRUITING",
         false
        ],
        [
         "NCT06502015",
         "Biomarkers in Autoimmune Disease of Nervous System",
         "RECRUITING",
         false
        ],
        [
         "NCT05945784",
         "Exploring Accessible Beauty for Individuals With Upper Extremity Deficits",
         "COMPLETED",
         false
        ],
        [
         "NCT04701164",
         "Efficacy and Safety of ANX005 in Subjects With Guillain-Barré Syndrome",
         "COMPLETED",
         false
        ],
        [
         "NCT02342184",
         "Efficacy and Safety Study of GB-0998 for Guillain-Barré Syndrome",
         "COMPLETED",
         false
        ],
        [
         "NCT05292690",
         "An Assistive Powered Wheelchair: Stage 2 Trial",
         "COMPLETED",
         false
        ],
        [
         "NCT06940908",
         "Living With Guillain-Barré Syndrome as Children.",
         "RECRUITING",
         false
        ],
        [
         "NCT01370200",
         "Regional Citrate Anticoagulation in Plasma Exchange Treatment",
         "COMPLETED",
         false
        ],
        [
         "NCT04249752",
         "Biomarkers in Polyradiculoneuropathies",
         "UNKNOWN",
         false
        ],
        [
         "NCT04053452",
         "Peripheral Nerve Ultrasound for Diagnosis and Prognosis of Guillain-Barre Syndrome",
         "TERMINATED",
         true
        ],
        [
         "NCT06740656",
         "Neuromuscular Complications of MEK Inhibitors: a French Case Series and a Systematic Review of the Literature",
         "NOT_YET_RECRUITING",
         false
        ],
        [
         "NCT01306578",
         "Intravenous Immunoglobulin (IVIG) Versus Plasma Exchange (PE) for Ventilated Children With Guillain Barre Syndrome (GBS)",
         "COMPLETED",
         false
        ],
        [
         "NCT02221271",
         "Phase III Clinical Trial of NPB-01 in Patients With Guillain-Barré Syndrome",
         "COMPLETED",
         false
        ],
        [
         "NCT03826056",
         "Neurology Inpatient Clinical Education Trial",
         "COMPLETED",
         false
        ],
        [
         "NCT02029378",
         "Inhibition of Complement Activation (Eculizumab) in Guillain-Barre Syndrome Study",
         "UNKNOWN",
         false
        ],
        [
         "NCT04550611",
         "Mini-pool Intravenous Immunoglobulin (MP-IVIG) in Guillain-Barré Syndrome",
         "UNKNOWN",
         false
        ],
        [
         "NCT03710278",
         "The Effectiveness and Safety of Human Lumbar Puncture Assist Device (LPat)",
         "COMPLETED",
         false
        ],
        [
         "NCT01024088",
         "Prospective Study on Swallowing/Breathing Interactions in Severe Guillain Barre Syndrome.",
         "COMPLETED",
         false
        ],
        [
         "NCT05461898",
         "RehabGBs: Rehabilitation in People With Guillain-Barré Syndrome",
         "RECRUITING",
         false
        ],
        [
         "NCT02780570",
         "Small Volume Plasma Exchange (SVPE) for Guillain-Barré Syndrome (GBS) Patients",
         "COMPLETED",
         false
        ],
        [
         "NCT02722070",
         "Processing Integration in Neurological Patients Using fMRI",
         "UNKNOWN",
         false
        ],
        [
         "NCT04927598",
         "Predictors and Prognostic Factors of Gullian Barrie Syndrome Outcome",
         "COMPLETED",
         false
        ],
        [
         "NCT03773328",
         "A Clinical Trial of CK0801 (a New Drug) In Patients With Treatment-Resistant Guillain-Barré Syndrome (GBS)",
         "WITHDRAWN",
         false
        ],
        [
         "NCT03840928",
         "PatientSpot Formerly Known as ArthritisPower",
         "RECRUITING",
         false
        ],
        [
         "NCT02582853",
         "sCD163 as a Potential Biomarker in Guillain- Barré Syndrome",
         "UNKNOWN",
         false
        ],
        [
         "NCT06200454",
         "Predictive Value of Neuromuscular Ultrasound of Cranial Nerves in Guillain-Barré Syndrome",
         "NOT_YET_RECRUITING",
         false
        ],
        [
         "NCT00004833",
         "Randomized Study of Plasmapheresis or Human Immunoglobulin Infusion in Childhood Guillain-Barre Syndrome",
         "TERMINATED",
         false
        ],
        [
         "NCT00575653",
         "Safety Study of GBS Following Menactra Meningococcal Vaccination",
         "COMPLETED",
         false
        ],
        [
         "NCT06041451",
         "Early and Late Prognosis in Patients With Guillain-Barre Syndrome",
         "UNKNOWN",
         false
        ],
        [
         "NCT06620198",
         "Upper Limb Robot-Assisted Therapy in Patients with Guillain-Barré Syndrome",
         "ACTIVE_NOT_RECRUITING",
         false
        ]
       ],
       "datasetInfos": [],
       "dbfsResultPath": null,
       "isJsonSchema": true,
       "metadata": {},
       "overflow": false,
       "plotOptions": {
        "customPlotOptions": {},
        "displayType": "table",
        "pivotAggregation": null,
        "pivotColumns": null,
        "xColumns": null,
        "yColumns": null
       },
       "removedWidgets": [],
       "schema": [
        {
         "metadata": "{}",
         "name": "nctId",
         "type": "\"string\""
        },
        {
         "metadata": "{}",
         "name": "briefTitle",
         "type": "\"string\""
        },
        {
         "metadata": "{}",
         "name": "overallStatus",
         "type": "\"string\""
        },
        {
         "metadata": "{}",
         "name": "hasResults",
         "type": "\"boolean\""
        }
       ],
       "type": "table"
      }
     },
     "output_type": "display_data"
    }
   ],
   "source": [
    "# Convert Clinical Trials JSON Data to Pandas DataFrame for Analysis\n",
    "\n",
    "import requests\n",
    "import pandas as pd\n",
    "\n",
    "url = \"https://clinicaltrials.gov/api/v2/studies\"\n",
    "params = {\n",
    "    \"query.cond\": \"Guillain-Barre\",\n",
    "    \"pageSize\": \"100\"  \n",
    "}\n",
    "\n",
    "response = requests.get(url, params=params)\n",
    "data = response.json()\n",
    "\n",
    "studies = data.get(\"studies\", [])\n",
    "\n",
    "# Creating an empty list to collect trial records\n",
    "trials_list = []\n",
    "\n",
    "# Loop through each study\n",
    "for study in studies:\n",
    "    try:\n",
    "        id_module = study.get('protocolSection', {}).get('identificationModule', {})\n",
    "        status_module = study.get('protocolSection', {}).get('statusModule', {})\n",
    "\n",
    "        trials_list.append({\n",
    "            \"nctId\": id_module.get('nctId', ''),\n",
    "            \"briefTitle\": id_module.get('briefTitle', ''),\n",
    "            \"overallStatus\": status_module.get('overallStatus', ''),\n",
    "            \"hasResults\": study.get('hasResults', False)\n",
    "        })\n",
    "\n",
    "    except Exception as e:\n",
    "        print(f\"Error processing a study: {e}\")\n",
    "\n",
    "# Convert to DataFrame\n",
    "df = pd.DataFrame(trials_list)\n",
    "\n",
    "# Display the DataFrame\n",
    "display(df.head(100))\n",
    "\n",
    "\n"
   ]
  },
  {
   "cell_type": "code",
   "execution_count": 0,
   "metadata": {
    "application/vnd.databricks.v1+cell": {
     "cellMetadata": {
      "byteLimit": 2048000,
      "rowLimit": 10000
     },
     "inputWidgets": {},
     "nuid": "d705de4d-dfd4-423f-b063-a8010a035853",
     "showTitle": false,
     "tableResultSettingsMap": {},
     "title": ""
    }
   },
   "outputs": [
    {
     "output_type": "stream",
     "name": "stdout",
     "output_type": "stream",
     "text": [
      "Length of fetched_results_raw: 59\n"
     ]
    },
    {
     "output_type": "display_data",
     "data": {
      "text/html": [
       "<style scoped>\n",
       "  .table-result-container {\n",
       "    max-height: 300px;\n",
       "    overflow: auto;\n",
       "  }\n",
       "  table, th, td {\n",
       "    border: 1px solid black;\n",
       "    border-collapse: collapse;\n",
       "  }\n",
       "  th, td {\n",
       "    padding: 5px;\n",
       "  }\n",
       "  th {\n",
       "    text-align: left;\n",
       "  }\n",
       "</style><div class='table-result-container'><table class='table-result'><thead style='background-color: white'><tr><th>Position</th><th>Title</th><th>Link</th><th>Snippet</th><th>Source</th><th>Displayed Link</th><th>Sitelinks</th></tr></thead><tbody><tr><td>1</td><td>Guillain-Barre syndrome - Symptoms and causes</td><td>https://www.mayoclinic.org/diseases-conditions/guillain-barre-syndrome/symptoms-causes/syc-20362793</td><td>Guillain-Barre syndrome often begins with tingling and weakness starting in the feet and legs and spreading to the upper body and arms. Some ...</td><td>Mayo Clinic</td><td>https://www.mayoclinic.org › ...</td><td></td></tr><tr><td>2</td><td>Guillain-Barré Syndrome (GBS): Symptoms & Treatment</td><td>https://my.clevelandclinic.org/health/diseases/15838-guillain-barre-syndrome</td><td>Guillain-Barré syndrome is a rare autoimmune condition in which your immune system attacks your peripheral nerves. It causes numbness and muscle weakness.</td><td>Cleveland Clinic</td><td>https://my.clevelandclinic.org › ...</td><td></td></tr><tr><td>3</td><td>Guillain-Barré Syndrome</td><td>https://www.ninds.nih.gov/health-information/disorders/guillain-barre-syndrome</td><td>Guillain-Barré syndrome (GBS) (pronounced Ghee-yan Bah-ray) is a rare neurological disorder in which a person's immune system mistakenly attacks ...</td><td>National Institute of Neurological Disorders and Stroke (.gov)</td><td>https://www.ninds.nih.gov › ...</td><td>{'inline': [{'title': 'What is Guillain-Barré...', 'link': 'https://www.ninds.nih.gov/health-information/disorders/guillain-barre-syndrome#toc-what-is-guillain-barr-syndrome-'}, {'title': 'How is Guillain-Barré...', 'link': 'https://www.ninds.nih.gov/health-information/disorders/guillain-barre-syndrome#toc-how-is-guillain-barr-syndrome-diagnosed-and-treated-'}, {'title': 'What are the latest updates on...', 'link': 'https://www.ninds.nih.gov/health-information/disorders/guillain-barre-syndrome#toc-what-are-the-latest-updates-on-guillain-barr-syndrome-'}]}</td></tr><tr><td>4</td><td>Guillain–Barré syndrome</td><td>https://en.wikipedia.org/wiki/Guillain%E2%80%93Barr%C3%A9_syndrome</td><td>Guillain–Barré syndrome (GBS) is a rapid-onset muscle weakness caused by the immune system damaging the peripheral nervous system.</td><td>Wikipedia</td><td>https://en.wikipedia.org › ...</td><td></td></tr><tr><td>5</td><td>Guillain–Barré syndrome</td><td>https://www.who.int/news-room/fact-sheets/detail/guillain-barr%C3%A9-syndrome</td><td>Guillain-Barré syndrome (GBS) is a rare condition in which a person's immune system attacks the peripheral nerves.</td><td>World Health Organization (WHO)</td><td>https://www.who.int › ...</td><td></td></tr><tr><td>6</td><td>Guillain-Barré Syndrome</td><td>https://www.hopkinsmedicine.org/health/conditions-and-diseases/guillainbarr-syndrome</td><td>Guillain-Barré syndrome (GBS) is a rare neurological disorder in which the body's immune system attacks the peripheral nervous system.</td><td>Johns Hopkins Medicine</td><td>https://www.hopkinsmedicine.org › ...</td><td></td></tr><tr><td>7</td><td>Guillain-Barre syndrome - Diagnosis and treatment</td><td>https://www.mayoclinic.org/diseases-conditions/guillain-barre-syndrome/diagnosis-treatment/drc-20363006</td><td>This rare autoimmune condition affects the nerves, causing weakness and tingling in the arms and legs that quickly spreads throughout the ...</td><td>Mayo Clinic</td><td>https://www.mayoclinic.org › ...</td><td>{'inline': [{'title': 'Symptoms and causes', 'link': 'https://www.mayoclinic.org/diseases-conditions/guillain-barre-syndrome/symptoms-causes/syc-20362793'}, {'title': 'Doctors and departments', 'link': 'https://www.mayoclinic.org/diseases-conditions/guillain-barre-syndrome/doctors-departments/ddc-20363037'}, {'title': 'Care at Mayo Clinic', 'link': 'https://www.mayoclinic.org/diseases-conditions/guillain-barre-syndrome/care-at-mayo-clinic/mac-20363049'}]}</td></tr><tr><td>8</td><td>Guillain-Barre Syndrome</td><td>https://www.physio-pedia.com/Guillain-Barre_Syndrome</td><td>Guillain-Barré syndrome (GBS) is a condition characterised by the autoimmune destruction of the peripheral sensory system.</td><td>Physiopedia</td><td>https://www.physio-pedia.com › ...</td><td>{'inline': [{'title': 'Case Study', 'link': 'https://www.physio-pedia.com/Case_Study:_Guillain-Barre_Syndrome_(Sub-Acute)'}, {'title': 'Acute Motor Axonal...', 'link': 'https://www.physio-pedia.com/Acute_Motor_Axonal_Neuropathy_(AMAN),_a_Variant_of_Guillain-Barre_Syndrome:_A_Case_Study'}, {'title': 'Edit', 'link': 'https://www.physio-pedia.com/Guillain-Barre_Syndrome?veaction=edit'}]}</td></tr><tr><td>9</td><td>Guillain-Barre Syndrome: Practice Essentials, Background, ...</td><td>https://emedicine.medscape.com/article/315632-overview</td><td>GBS is considered to be a postinfectious, immune-mediated disease targeting peripheral nerves. Up to two thirds of patients report an antecedent ...</td><td>Medscape</td><td>https://emedicine.medscape.com › ...</td><td></td></tr><tr><td>10</td><td>Guillain-Barré Syndrome | Campylobacter</td><td>https://www.cdc.gov/campylobacter/signs-symptoms/guillain-barre-syndrome.html</td><td>Guillain-Barré (Ghee-YAN Bah-RAY) syndrome happens when a person's immune system harms their nerves. This harm causes muscle weakness and ...</td><td>Centers for Disease Control and Prevention | CDC (.gov)</td><td>https://www.cdc.gov › ...</td><td></td></tr><tr><td>1</td><td>Guillain-Barré syndrome Information - Mount Sinai</td><td>https://www.mountsinai.org/health-library/diseases-conditions/guillain-barr-syndrome</td><td>GBS damages parts of nerves. This nerve damage causes tingling, muscle weakness, loss of balance, and paralysis. GBS most often affects the nerve covering ( ...</td><td>Mount Sinai</td><td>https://www.mountsinai.org › ...</td><td></td></tr><tr><td>2</td><td>Guillain-Barre Syndrome - StatPearls</td><td>https://www.ncbi.nlm.nih.gov/books/NBK532254/</td><td>Guillain-Barré syndrome (GBS) is a rare but serious post-infectious immune-mediated neuropathy. It results from the autoimmune destruction of nerves in the ...</td><td>National Institutes of Health (NIH) (.gov)</td><td>https://www.ncbi.nlm.nih.gov › ...</td><td></td></tr><tr><td>3</td><td>Guillain-Barré Syndrome: Causes, Symptoms, ... - WebMD</td><td>https://www.webmd.com/brain/what-is-guillain-barre</td><td>Guillain-Barré Syndrome (GBS) is a rare disorder in which your immune system suddenly attacks your nerves, often after you've had a stomach ...</td><td>WebMD</td><td>https://www.webmd.com › ...</td><td></td></tr><tr><td>4</td><td>Guillain–Barré syndrome | Nature Reviews Disease Primers</td><td>https://www.nature.com/articles/s41572-024-00580-4</td><td>GBS is usually a monophasic condition in which the immune system aberrantly disrupts the function and structure of the peripheral nervous system ...</td><td>Nature</td><td>https://www.nature.com › ...</td><td></td></tr><tr><td>5</td><td>Guillain-Barré syndrome</td><td>https://www.sciencedirect.com/science/article/abs/pii/S0140673621005171</td><td>Guillain-Barré syndrome is an immune-mediated polyradiculoneuropathy that accounts for an estimated 100 000 new cases annually worldwide.1 In ...</td><td>ScienceDirect.com</td><td>https://www.sciencedirect.com › ...</td><td></td></tr><tr><td>6</td><td>Guillain-Barré Syndrome : CONTINUUM</td><td>https://journals.lww.com/continuum/fulltext/2020/10000/guillain_barr__syndrome.6.aspx</td><td>Guillain-Barré syndrome (GBS) encompasses a spectrum of acute neuropathic disorders, with muscle weakness being the cardinal manifestation in the majority of ...</td><td>Lippincott</td><td>https://journals.lww.com › ...</td><td></td></tr><tr><td>7</td><td>Guillain-Barre Syndrome - GBS</td><td>https://medlineplus.gov/guillainbarresyndrome.html</td><td>Guillain-Barre syndrome is a rare disorder that causes your immune system to attack your peripheral nervous system (PNS).</td><td>MedlinePlus (.gov)</td><td>https://medlineplus.gov › ...</td><td></td></tr><tr><td>8</td><td>Guillain-Barré Syndrome (GBS) - Brain, Spinal Cord, and ...</td><td>https://www.msdmanuals.com/home/brain-spinal-cord-and-nerve-disorders/peripheral-nerve-and-related-disorders/guillain-barr%C3%A9-syndrome-gbs</td><td>Guillain-Barré syndrome is a form of polyneuropathy causing muscle weakness, which usually worsens over a few days to weeks, then slowly improves or returns ...</td><td>MSD Manuals</td><td>https://www.msdmanuals.com › ...</td><td></td></tr><tr><td>9</td><td>Guillain-Barré syndrome: Symptoms, causes, diagnosis, ...</td><td>https://www.medicalnewstoday.com/articles/167892</td><td>Guillain-Barré syndrome is a neurological disorder and autoimmune disease that affects the peripheral nervous system. Guillain-Barré syndrome can lead to ...</td><td>Medical News Today</td><td>https://www.medicalnewstoday.com › ...</td><td></td></tr><tr><td>1</td><td>Guillain-Barré syndrome (GBS)</td><td>https://www.healthline.com/health/guillain-barre-syndrome</td><td>The first symptom of Guillain-Barré syndrome is usually a tingling sensation in your toes, feet, and legs. The tingling spreads upward to your arms and fingers.</td><td>Healthline</td><td>https://www.healthline.com › ...</td><td></td></tr><tr><td>2</td><td>Guillain-Barré Syndrome (GBS) and Vaccines</td><td>https://www.cdc.gov/vaccine-safety/about/guillain-barre.html</td><td>Guillain-Barré syndrome (GBS) is a rare disorder where the body's immune system damages nerve. To study whether a new vaccine might be ...</td><td>Centers for Disease Control and Prevention | CDC (.gov)</td><td>https://www.cdc.gov › ...</td><td></td></tr><tr><td>3</td><td>Diagnosis and management of Guillain–Barré syndrome ...</td><td>https://www.nature.com/articles/s41582-019-0250-9</td><td>Guillain–Barré syndrome (GBS) is a rare, but potentially fatal, immune-mediated disease of the peripheral nerves and nerve roots that is ...</td><td>Nature</td><td>https://www.nature.com › ...</td><td></td></tr><tr><td>4</td><td>Guillain–Barré Syndrome | NEJM</td><td>https://www.nejm.org/doi/full/10.1056/NEJMra1114525</td><td>The Guillain–Barré syndrome is the most frequent cause of acute flaccid paralysis worldwide and constitutes a neurologic emergency.</td><td>The New England Journal of Medicine</td><td>https://www.nejm.org › ...</td><td></td></tr><tr><td>5</td><td>Guillain-Barré syndrome</td><td>https://www.sciencedirect.com/science/article/pii/S0140673621005171</td><td>Guillain-Barré syndrome is an immune-mediated polyradiculoneuropathy that accounts for an estimated 100 000 new cases annually worldwide.</td><td>ScienceDirect.com</td><td>https://www.sciencedirect.com › ...</td><td></td></tr><tr><td>6</td><td>Guillain-Barré Syndrome | Diagnosis & Disease Information</td><td>https://www.pulmonologyadvisor.com/ddi/guillain-barre-syndrome/</td><td>Guillain-Barré syndrome is an autoimmune disorder that results in inflammatory demyelination.1 The condition was first described in 1916 by ...</td><td>Pulmonology Advisor</td><td>https://www.pulmonologyadvisor.com › ...</td><td></td></tr><tr><td>7</td><td>Guillain‐Barré syndrome: a comprehensive review - Bellanti</td><td>https://onlinelibrary.wiley.com/doi/10.1111/ene.16365</td><td>Guillain-Barré syndrome is a postinfectious, immune-mediated peripheral neuropathy. As our knowledge continues to expand, its pathophysiological ...</td><td>Wiley Online Library</td><td>https://onlinelibrary.wiley.com › ...</td><td></td></tr><tr><td>8</td><td>Guillain-Barré Syndrome (GBS)</td><td>https://www.childrenshospital.org/conditions/guillain-barre-syndrome</td><td>Guillain-Barré syndrome (GBS) occurs when the immune system attacks the peripheral nervous system. Learn more from Boston Children's Hospital.</td><td>Boston Children's Hospital</td><td>https://www.childrenshospital.org › ...</td><td></td></tr><tr><td>9</td><td>Guillain–Barré syndrome outbreak in Pune - The Lancet</td><td>https://www.thelancet.com/journals/lancet/article/PIIS0140-6736(25)00414-3/fulltext</td><td>As of March 8, 2025, the total number of Guillain–Barré syndrome cases in Pune was 225, with 197 confirmed diagnoses and 28 suspected cases, ...</td><td>The Lancet</td><td>https://www.thelancet.com › ...</td><td></td></tr><tr><td>10</td><td>What is Guillain-Barré Syndrome or GBS</td><td>https://www.gbs-cidp.org/gbs/</td><td>GBS is characterized by the rapid onset of numbness, weakness, and often paralysis of the legs, arms, breathing muscles, and face. Paralysis is ascending, ...</td><td>GBS/CIDP Foundation International</td><td>https://www.gbs-cidp.org › ...</td><td></td></tr><tr><td>1</td><td>Guillain-Barré Syndrome - Symptoms, Causes, Treatment</td><td>https://rarediseases.org/rare-diseases/guillain-barre-syndrome/</td><td>Guillain-Barré syndrome (GBS) is a rare, rapidly progressive disease due to inflammation of the nerves causing muscle weakness, sometimes ...</td><td>National Organization for Rare Disorders</td><td>https://rarediseases.org › ...</td><td></td></tr><tr><td>2</td><td>Guillain-Barré syndrome in adults: Pathogenesis, clinical ...</td><td>https://www.uptodate.com/contents/guillain-barre-syndrome-in-adults-pathogenesis-clinical-features-and-diagnosis</td><td>Time course of symptoms · Examination findings · - Weakness · - Deep tendon reflexes · - Other findings · Variant forms of Guillain-Barré syndrome.</td><td>Wolters Kluwer</td><td>https://www.uptodate.com › ...</td><td></td></tr><tr><td>3</td><td>Current treatment practice of Guillain-Barré syndrome</td><td>https://www.neurology.org/doi/10.1212/WNL.0000000000007719</td><td>Plasma exchange (PE) and IV immunoglobulin (IVIg) are the only proven effective treatments for Guillain-Barré syndrome (GBS), although there has been little ...</td><td>Neurology® Journals</td><td>https://www.neurology.org › ...</td><td></td></tr><tr><td>4</td><td>Guillain-Barre syndrome: Video, Causes, & Meaning</td><td>https://www.osmosis.org/learn/Guillain-Barre_syndrome</td><td>The cause of Guillain- Barré syndrome is unknown, but it's known to develop after a bacterial infection, like Campylobacter jejuni and Mycoplasma pneumoniae, or ...</td><td>Osmosis</td><td>https://www.osmosis.org › ...</td><td></td></tr><tr><td>5</td><td>Guillain-Barré Syndrome</td><td>https://www.americanbrainfoundation.org/diseases/guillain-barre-syndrome/</td><td>Guillain-Barré syndrome (GBS) is a rare neurologic disorder in which the body's autoimmune response attacks the peripheral nervous system.</td><td>American Brain Foundation</td><td>https://www.americanbrainfoundation.org › ...</td><td></td></tr><tr><td>6</td><td>What is Guillain-Barré Syndrome (GBS)? - By Adhikari Lifeline</td><td>https://www.adhikarilifeline.com/what-is-guillain-barre-syndrome-gbs/</td><td>Guillain-Barré Syndrome (GBS) is a rare but serious neurological disorder in which the body's immune system mistakenly attacks the nervous system.</td><td>adhikarilifeline.com</td><td>https://www.adhikarilifeline.com › ...</td><td></td></tr><tr><td>7</td><td>Guillain-Barré syndrome: Types, Symptoms, Causes & ...</td><td>https://www.pacehospital.com/guillain-barre-syndrome-symptoms-causes-diagnosis-treatment</td><td>Guillain-Barré Syndrome is a rare autoimmune disorder in which the immune system attacks the nerves, leading to muscle weakness, numbness, and paralysis.</td><td>PACE Hospitals</td><td>https://www.pacehospital.com › ...</td><td></td></tr><tr><td>8</td><td>Guillain Barré Syndrome</td><td>https://www.brainfacts.org/diseases-and-disorders/neurological-disorders-az/diseases-a-to-z-from-ninds/guillain-barr%C3%A9-syndrome</td><td>Guillain-Barré syndrome is a disorder in which the body's immune system attacks part of the peripheral nervous system. The first symptoms of this disorder ...</td><td>BrainFacts</td><td>https://www.brainfacts.org › ...</td><td></td></tr><tr><td>9</td><td>Guillain-Barré Syndrome</td><td>https://www.mayoclinicproceedings.org/article/S0025-6196(16)30818-7/fulltext</td><td>Guillain-Barré syndrome is an acute inflammatory immune-mediated polyradiculoneuropathy presenting typically with tingling, progressive weakness, and pain.</td><td>Mayo Clinic Proceedings</td><td>https://www.mayoclinicproceedings.org › ...</td><td></td></tr><tr><td>10</td><td>Guillain-Barré Syndrome - Neurology - Highland Hospital</td><td>https://www.urmc.rochester.edu/highland/departments-centers/neurology/conditions-we-treat/guillain-barr</td><td>Guillain-Barré (ghee-yan bah-ray) syndrome is a disorder in which the body's immune system attacks part of the peripheral nervous system.</td><td>University of Rochester Medical Center</td><td>https://www.urmc.rochester.edu › ...</td><td></td></tr><tr><td>1</td><td>Guillain-Barre Syndrome: Symptoms, Causes & Treatment</td><td>https://www.blkmaxhospital.com/blogs/guillain-barre-syndrome</td><td>Guillain-Barre Syndrome (GBS) is a rare but serious autoimmune disorder that affects the peripheral nervous system.</td><td>BLK-Max Hospital</td><td>https://www.blkmaxhospital.com › ...</td><td></td></tr><tr><td>2</td><td>Pediatric Guillain-Barré syndrome (GBS) - Dallas</td><td>https://www.childrens.com/specialties-services/conditions/guillain-barre-syndrome</td><td>A typical sign of GBS is muscle weakness, numbness, tingling (pins-and-needle sensation) and occasionally pain, that starts in the feet and legs. These symptoms ...</td><td>Children’s Health</td><td>https://www.childrens.com › ...</td><td></td></tr><tr><td>3</td><td>Guillain-Barre Syndrome (GBS)</td><td>https://www.jeffersonhealth.org/conditions-and-treatments/guillain-barre-syndrome</td><td>We're also involved in researching the underlying causes of GBS and other autoimmune neuromuscular conditions. At Jefferson Health, you can be sure you're ...</td><td>Jefferson Health</td><td>https://www.jeffersonhealth.org › ...</td><td></td></tr><tr><td>4</td><td>Pune's Guillain-Barré Syndrome Epidemic Related to ...</td><td>https://www.vax-before-travel.com/punes-guillain-barr-syndrome-epidemic-related-water-quality-2025-03-10</td><td>Experts have linked these GBS infections with Campylobacter jejuni. This bacteria is one of the most common causes of food poisoning.</td><td>Vax-Before-Travel</td><td>https://www.vax-before-travel.com › ...</td><td></td></tr><tr><td>5</td><td>Guillain-Barré Syndrome (GBS)</td><td>https://litfl.com/guillain-barre-syndrome-gbs/</td><td>Guillain-Barré Syndrome (GBS) is the most common and most severe acute paralytic neuropathy, consisting of multiple variants with distinct clinical and ...</td><td>Life in the Fast Lane • LITFL</td><td>https://litfl.com › ...</td><td></td></tr><tr><td>6</td><td>Guillain-Barré Syndrome</td><td>https://zerotofinals.com/medicine/neurology/guillainbarre/</td><td>Presentation. Symptoms usually start within four weeks of the triggering infection. They begin in the feet and progress upward. Symptoms peak within 2-4 weeks.</td><td>Zero To Finals</td><td>https://zerotofinals.com › ...</td><td></td></tr><tr><td>7</td><td>Guillain-Barré Syndrome (for Parents)</td><td>https://kidshealth.org/en/parents/gbs.html</td><td>What Are the Signs & Symptoms of Guillain-Barré Syndrome? · tingling or pain in the toes and fingertips · weakness or pain in the legs that causes trouble ...</td><td>KidsHealth</td><td>https://kidshealth.org › ...</td><td></td></tr><tr><td>8</td><td>Guillain-Barré Syndrome | McGovern Medical School</td><td>https://med.uth.edu/neurosciences/conditions-and-treatments/nerve-disorders/guillain-barre-syndrome/</td><td>Signs Guillain-Barré Syndrome. Initial symptoms may present as pain, weakness, or tingling in the hands or feet. Patients usually experience this in one side of ...</td><td>UTHealth Houston</td><td>https://med.uth.edu › ...</td><td></td></tr><tr><td>9</td><td>Guillain-Barré Syndrome</td><td>https://www.medcomic.com/medcomic/guillain-barre-syndrome</td><td>Guillain-Barré syndrome (GBS) is an acute, inflammatory demyelinating polyneuropathy with ascending muscle weakness that is autoimmune in nature.</td><td>Medcomic</td><td>https://www.medcomic.com › ...</td><td></td></tr><tr><td>10</td><td>Physical Therapy Guide to Guillain-Barré Syndrome</td><td>https://www.choosept.com/guide/physical-therapy-guide-guillain-barre-syndrome</td><td>Physical therapists have extensive training to help people during GBS recovery. They help patients understand how GBS affects their ability to move safely.</td><td>ChoosePT</td><td>https://www.choosept.com › ...</td><td></td></tr><tr><td>1</td><td>Guillain-Barre Syndrome: Symptoms, Causes & Treatment</td><td>https://www.blkmaxhospital.com/blogs/guillain-barre-syndrome</td><td>Guillain-Barre Syndrome is a rare but serious neurological disorder that requires immediate medical attention. While most people recover, early ...</td><td>BLK-Max Hospital</td><td>https://www.blkmaxhospital.com › ...</td><td></td></tr><tr><td>2</td><td>Guillain-Barré Syndrome</td><td>https://www.yalemedicine.org/conditions/guillain-barre-syndrome</td><td>Guillain-Barré syndrome (GBS) is a neurological condition in which the body's immune system attacks healthy nerve cells.</td><td>Yale Medicine</td><td>https://www.yalemedicine.org › ...</td><td></td></tr><tr><td>3</td><td>Definition of Guillain-Barré syndrome</td><td>https://www.cancer.gov/publications/dictionaries/cancer-terms/def/guillain-barre-syndrome</td><td>A rare condition in which the body's immune system attacks the nerves located outside the brain and spinal cord. Symptoms of Guillain-Barré syndrome include ...</td><td>National Cancer Institute (.gov)</td><td>https://www.cancer.gov › ...</td><td></td></tr><tr><td>4</td><td>à¥ à¤¯à¤¾ à¤¹à¥ˆ?</td><td>https://translate.google.com/translate?u=https://www.webmd.com/brain/what-is-guillain-barre&hl=hi&sl=en&tl=hi&client=srp</td><td>à¤—à¥ à¤‡à¤²à¥‡à¤¨-à¤¬à¥ˆà¤°à¥‡ à¤¸à¤¿à¤‚à¤¡à¥ à¤°à¥‹à¤® à¤ à¤• à¤¦à¥ à¤°à¥ à¤²à¤ à¤'à¤Ÿà¥‹à¤‡à¤®à¥ à¤¯à¥‚à¤¨ à¤µà¤¿à¤•à¤¾à¤° à¤¹à¥ˆà¥¤ ...</td><td>WebMD</td><td>https://www.webmd.com › brain › what-is-guillain-barre</td><td></td></tr><tr><td>5</td><td>Epidemiology of Guillain Barre Syndrome in North Western ...</td><td>https://www.ijnonline.org/article-details/1785</td><td>In our study prevalence of GBS was 41.5%. Most cases were in the age range of 13-60 months. In these study males (68.5%) were more affected than girls (31.5%).</td><td>Indian Journal of Neurosciences</td><td>https://www.ijnonline.org › ...</td><td></td></tr><tr><td>6</td><td>When Your Child Has Guillain-Barre Syndrome (GBS)</td><td>https://www.saintlukeskc.org/health-library/when-your-child-has-guillain-barre-syndrome-gbs</td><td>Your child has been diagnosed with Guillain-Barré syndrome (GBS). This is an illness that affects the peripheral nerves, often both the sensory and motor ...</td><td>Saint Luke's Health System Kansas City</td><td>https://www.saintlukeskc.org › ...</td><td></td></tr><tr><td>7</td><td>Guillain-Barré Syndrome (GBS): Symptoms & Causes</td><td>https://www.nyp.org/neuro/neuromuscular-disorders/guillain-barre-syndrome</td><td>Guillain-Barré syndrome is a neurological disorder in which the body's immune system attacks the nerves outside the brain and spinal cord.</td><td>NewYork-Presbyterian</td><td>https://www.nyp.org › ...</td><td></td></tr><tr><td>8</td><td>Guillain-Barre syndrome (GBS)</td><td>https://gpnotebook.com/pages/infectious-disease/guillain-barre-syndrome-gbs</td><td>Guillain-Barre syndrome (GBS) ... A prodromal malaise with vomiting, headache, fever and limb pains is rapidly surmounted by a progressive and ...</td><td>GPnotebook</td><td>https://gpnotebook.com › ...</td><td></td></tr><tr><td>9</td><td>Guillain-Barré Syndrome</td><td>https://zerotofinals.com/medicine/neurology/guillainbarre/</td><td>Guillain-Barré syndrome is an acute paralytic polyneuropathy that affects the peripheral nervous system. It causes acute, symmetrical, ascending weakness.</td><td>Zero To Finals</td><td>https://zerotofinals.com › ...</td><td></td></tr><tr><td>10</td><td>क्या है Guillain-Barre Syndrome? महाराष्ट्र में 6 की मौत ...</td><td>https://www.prabhatkhabar.com/state/maharashtra/what-is-guillain-barre-syndrome-maharashtra-in-grip-most-cases-from-youth</td><td>गिलियन-बैरे सिंड्रोम (जीबीएस) एक ऑटोइम्यून बीमारी है. यह मरीजों के इम्यून सिस्टम को प्रभावित करता है. जीबीएस मरीजों के स्वस्थ्य नसों पर हमला करता है. जिससे नसें कमजोर हो जाती हैं. अगर समय पर इसका इलाज ...</td><td>Prabhat Khabar</td><td>https://www.prabhatkhabar.com › Rajya › Maharashtra</td><td></td></tr></tbody></table></div>"
      ]
     },
     "metadata": {
      "application/vnd.databricks.v1+output": {
       "addedWidgets": {},
       "aggData": [],
       "aggError": "",
       "aggOverflow": false,
       "aggSchema": [],
       "aggSeriesLimitReached": false,
       "aggType": "",
       "arguments": {},
       "columnCustomDisplayInfos": {},
       "data": [
        [
         1,
         "Guillain-Barre syndrome - Symptoms and causes",
         "https://www.mayoclinic.org/diseases-conditions/guillain-barre-syndrome/symptoms-causes/syc-20362793",
         "Guillain-Barre syndrome often begins with tingling and weakness starting in the feet and legs and spreading to the upper body and arms. Some ...",
         "Mayo Clinic",
         "https://www.mayoclinic.org › ...",
         ""
        ],
        [
         2,
         "Guillain-Barré Syndrome (GBS): Symptoms & Treatment",
         "https://my.clevelandclinic.org/health/diseases/15838-guillain-barre-syndrome",
         "Guillain-Barré syndrome is a rare autoimmune condition in which your immune system attacks your peripheral nerves. It causes numbness and muscle weakness.",
         "Cleveland Clinic",
         "https://my.clevelandclinic.org › ...",
         ""
        ],
        [
         3,
         "Guillain-Barré Syndrome",
         "https://www.ninds.nih.gov/health-information/disorders/guillain-barre-syndrome",
         "Guillain-Barré syndrome (GBS) (pronounced Ghee-yan Bah-ray) is a rare neurological disorder in which a person's immune system mistakenly attacks ...",
         "National Institute of Neurological Disorders and Stroke (.gov)",
         "https://www.ninds.nih.gov › ...",
         "{'inline': [{'title': 'What is Guillain-Barré...', 'link': 'https://www.ninds.nih.gov/health-information/disorders/guillain-barre-syndrome#toc-what-is-guillain-barr-syndrome-'}, {'title': 'How is Guillain-Barré...', 'link': 'https://www.ninds.nih.gov/health-information/disorders/guillain-barre-syndrome#toc-how-is-guillain-barr-syndrome-diagnosed-and-treated-'}, {'title': 'What are the latest updates on...', 'link': 'https://www.ninds.nih.gov/health-information/disorders/guillain-barre-syndrome#toc-what-are-the-latest-updates-on-guillain-barr-syndrome-'}]}"
        ],
        [
         4,
         "Guillain–Barré syndrome",
         "https://en.wikipedia.org/wiki/Guillain%E2%80%93Barr%C3%A9_syndrome",
         "Guillain–Barré syndrome (GBS) is a rapid-onset muscle weakness caused by the immune system damaging the peripheral nervous system.",
         "Wikipedia",
         "https://en.wikipedia.org › ...",
         ""
        ],
        [
         5,
         "Guillain–Barré syndrome",
         "https://www.who.int/news-room/fact-sheets/detail/guillain-barr%C3%A9-syndrome",
         "Guillain-Barré syndrome (GBS) is a rare condition in which a person's immune system attacks the peripheral nerves.",
         "World Health Organization (WHO)",
         "https://www.who.int › ...",
         ""
        ],
        [
         6,
         "Guillain-Barré Syndrome",
         "https://www.hopkinsmedicine.org/health/conditions-and-diseases/guillainbarr-syndrome",
         "Guillain-Barré syndrome (GBS) is a rare neurological disorder in which the body's immune system attacks the peripheral nervous system.",
         "Johns Hopkins Medicine",
         "https://www.hopkinsmedicine.org › ...",
         ""
        ],
        [
         7,
         "Guillain-Barre syndrome - Diagnosis and treatment",
         "https://www.mayoclinic.org/diseases-conditions/guillain-barre-syndrome/diagnosis-treatment/drc-20363006",
         "This rare autoimmune condition affects the nerves, causing weakness and tingling in the arms and legs that quickly spreads throughout the ...",
         "Mayo Clinic",
         "https://www.mayoclinic.org › ...",
         "{'inline': [{'title': 'Symptoms and causes', 'link': 'https://www.mayoclinic.org/diseases-conditions/guillain-barre-syndrome/symptoms-causes/syc-20362793'}, {'title': 'Doctors and departments', 'link': 'https://www.mayoclinic.org/diseases-conditions/guillain-barre-syndrome/doctors-departments/ddc-20363037'}, {'title': 'Care at Mayo Clinic', 'link': 'https://www.mayoclinic.org/diseases-conditions/guillain-barre-syndrome/care-at-mayo-clinic/mac-20363049'}]}"
        ],
        [
         8,
         "Guillain-Barre Syndrome",
         "https://www.physio-pedia.com/Guillain-Barre_Syndrome",
         "Guillain-Barré syndrome (GBS) is a condition characterised by the autoimmune destruction of the peripheral sensory system.",
         "Physiopedia",
         "https://www.physio-pedia.com › ...",
         "{'inline': [{'title': 'Case Study', 'link': 'https://www.physio-pedia.com/Case_Study:_Guillain-Barre_Syndrome_(Sub-Acute)'}, {'title': 'Acute Motor Axonal...', 'link': 'https://www.physio-pedia.com/Acute_Motor_Axonal_Neuropathy_(AMAN),_a_Variant_of_Guillain-Barre_Syndrome:_A_Case_Study'}, {'title': 'Edit', 'link': 'https://www.physio-pedia.com/Guillain-Barre_Syndrome?veaction=edit'}]}"
        ],
        [
         9,
         "Guillain-Barre Syndrome: Practice Essentials, Background, ...",
         "https://emedicine.medscape.com/article/315632-overview",
         "GBS is considered to be a postinfectious, immune-mediated disease targeting peripheral nerves. Up to two thirds of patients report an antecedent ...",
         "Medscape",
         "https://emedicine.medscape.com › ...",
         ""
        ],
        [
         10,
         "Guillain-Barré Syndrome | Campylobacter",
         "https://www.cdc.gov/campylobacter/signs-symptoms/guillain-barre-syndrome.html",
         "Guillain-Barré (Ghee-YAN Bah-RAY) syndrome happens when a person's immune system harms their nerves. This harm causes muscle weakness and ...",
         "Centers for Disease Control and Prevention | CDC (.gov)",
         "https://www.cdc.gov › ...",
         ""
        ],
        [
         1,
         "Guillain-Barré syndrome Information - Mount Sinai",
         "https://www.mountsinai.org/health-library/diseases-conditions/guillain-barr-syndrome",
         "GBS damages parts of nerves. This nerve damage causes tingling, muscle weakness, loss of balance, and paralysis. GBS most often affects the nerve covering ( ...",
         "Mount Sinai",
         "https://www.mountsinai.org › ...",
         ""
        ],
        [
         2,
         "Guillain-Barre Syndrome - StatPearls",
         "https://www.ncbi.nlm.nih.gov/books/NBK532254/",
         "Guillain-Barré syndrome (GBS) is a rare but serious post-infectious immune-mediated neuropathy. It results from the autoimmune destruction of nerves in the ...",
         "National Institutes of Health (NIH) (.gov)",
         "https://www.ncbi.nlm.nih.gov › ...",
         ""
        ],
        [
         3,
         "Guillain-Barré Syndrome: Causes, Symptoms, ... - WebMD",
         "https://www.webmd.com/brain/what-is-guillain-barre",
         "Guillain-Barré Syndrome (GBS) is a rare disorder in which your immune system suddenly attacks your nerves, often after you've had a stomach ...",
         "WebMD",
         "https://www.webmd.com › ...",
         ""
        ],
        [
         4,
         "Guillain–Barré syndrome | Nature Reviews Disease Primers",
         "https://www.nature.com/articles/s41572-024-00580-4",
         "GBS is usually a monophasic condition in which the immune system aberrantly disrupts the function and structure of the peripheral nervous system ...",
         "Nature",
         "https://www.nature.com › ...",
         ""
        ],
        [
         5,
         "Guillain-Barré syndrome",
         "https://www.sciencedirect.com/science/article/abs/pii/S0140673621005171",
         "Guillain-Barré syndrome is an immune-mediated polyradiculoneuropathy that accounts for an estimated 100 000 new cases annually worldwide.1 In ...",
         "ScienceDirect.com",
         "https://www.sciencedirect.com › ...",
         ""
        ],
        [
         6,
         "Guillain-Barré Syndrome : CONTINUUM",
         "https://journals.lww.com/continuum/fulltext/2020/10000/guillain_barr__syndrome.6.aspx",
         "Guillain-Barré syndrome (GBS) encompasses a spectrum of acute neuropathic disorders, with muscle weakness being the cardinal manifestation in the majority of ...",
         "Lippincott",
         "https://journals.lww.com › ...",
         ""
        ],
        [
         7,
         "Guillain-Barre Syndrome - GBS",
         "https://medlineplus.gov/guillainbarresyndrome.html",
         "Guillain-Barre syndrome is a rare disorder that causes your immune system to attack your peripheral nervous system (PNS).",
         "MedlinePlus (.gov)",
         "https://medlineplus.gov › ...",
         ""
        ],
        [
         8,
         "Guillain-Barré Syndrome (GBS) - Brain, Spinal Cord, and ...",
         "https://www.msdmanuals.com/home/brain-spinal-cord-and-nerve-disorders/peripheral-nerve-and-related-disorders/guillain-barr%C3%A9-syndrome-gbs",
         "Guillain-Barré syndrome is a form of polyneuropathy causing muscle weakness, which usually worsens over a few days to weeks, then slowly improves or returns ...",
         "MSD Manuals",
         "https://www.msdmanuals.com › ...",
         ""
        ],
        [
         9,
         "Guillain-Barré syndrome: Symptoms, causes, diagnosis, ...",
         "https://www.medicalnewstoday.com/articles/167892",
         "Guillain-Barré syndrome is a neurological disorder and autoimmune disease that affects the peripheral nervous system. Guillain-Barré syndrome can lead to ...",
         "Medical News Today",
         "https://www.medicalnewstoday.com › ...",
         ""
        ],
        [
         1,
         "Guillain-Barré syndrome (GBS)",
         "https://www.healthline.com/health/guillain-barre-syndrome",
         "The first symptom of Guillain-Barré syndrome is usually a tingling sensation in your toes, feet, and legs. The tingling spreads upward to your arms and fingers.",
         "Healthline",
         "https://www.healthline.com › ...",
         ""
        ],
        [
         2,
         "Guillain-Barré Syndrome (GBS) and Vaccines",
         "https://www.cdc.gov/vaccine-safety/about/guillain-barre.html",
         "Guillain-Barré syndrome (GBS) is a rare disorder where the body's immune system damages nerve. To study whether a new vaccine might be ...",
         "Centers for Disease Control and Prevention | CDC (.gov)",
         "https://www.cdc.gov › ...",
         ""
        ],
        [
         3,
         "Diagnosis and management of Guillain–Barré syndrome ...",
         "https://www.nature.com/articles/s41582-019-0250-9",
         "Guillain–Barré syndrome (GBS) is a rare, but potentially fatal, immune-mediated disease of the peripheral nerves and nerve roots that is ...",
         "Nature",
         "https://www.nature.com › ...",
         ""
        ],
        [
         4,
         "Guillain–Barré Syndrome | NEJM",
         "https://www.nejm.org/doi/full/10.1056/NEJMra1114525",
         "The Guillain–Barré syndrome is the most frequent cause of acute flaccid paralysis worldwide and constitutes a neurologic emergency.",
         "The New England Journal of Medicine",
         "https://www.nejm.org › ...",
         ""
        ],
        [
         5,
         "Guillain-Barré syndrome",
         "https://www.sciencedirect.com/science/article/pii/S0140673621005171",
         "Guillain-Barré syndrome is an immune-mediated polyradiculoneuropathy that accounts for an estimated 100 000 new cases annually worldwide.",
         "ScienceDirect.com",
         "https://www.sciencedirect.com › ...",
         ""
        ],
        [
         6,
         "Guillain-Barré Syndrome | Diagnosis & Disease Information",
         "https://www.pulmonologyadvisor.com/ddi/guillain-barre-syndrome/",
         "Guillain-Barré syndrome is an autoimmune disorder that results in inflammatory demyelination.1 The condition was first described in 1916 by ...",
         "Pulmonology Advisor",
         "https://www.pulmonologyadvisor.com › ...",
         ""
        ],
        [
         7,
         "Guillain‐Barré syndrome: a comprehensive review - Bellanti",
         "https://onlinelibrary.wiley.com/doi/10.1111/ene.16365",
         "Guillain-Barré syndrome is a postinfectious, immune-mediated peripheral neuropathy. As our knowledge continues to expand, its pathophysiological ...",
         "Wiley Online Library",
         "https://onlinelibrary.wiley.com › ...",
         ""
        ],
        [
         8,
         "Guillain-Barré Syndrome (GBS)",
         "https://www.childrenshospital.org/conditions/guillain-barre-syndrome",
         "Guillain-Barré syndrome (GBS) occurs when the immune system attacks the peripheral nervous system. Learn more from Boston Children's Hospital.",
         "Boston Children's Hospital",
         "https://www.childrenshospital.org › ...",
         ""
        ],
        [
         9,
         "Guillain–Barré syndrome outbreak in Pune - The Lancet",
         "https://www.thelancet.com/journals/lancet/article/PIIS0140-6736(25)00414-3/fulltext",
         "As of March 8, 2025, the total number of Guillain–Barré syndrome cases in Pune was 225, with 197 confirmed diagnoses and 28 suspected cases, ...",
         "The Lancet",
         "https://www.thelancet.com › ...",
         ""
        ],
        [
         10,
         "What is Guillain-Barré Syndrome or GBS",
         "https://www.gbs-cidp.org/gbs/",
         "GBS is characterized by the rapid onset of numbness, weakness, and often paralysis of the legs, arms, breathing muscles, and face. Paralysis is ascending, ...",
         "GBS/CIDP Foundation International",
         "https://www.gbs-cidp.org › ...",
         ""
        ],
        [
         1,
         "Guillain-Barré Syndrome - Symptoms, Causes, Treatment",
         "https://rarediseases.org/rare-diseases/guillain-barre-syndrome/",
         "Guillain-Barré syndrome (GBS) is a rare, rapidly progressive disease due to inflammation of the nerves causing muscle weakness, sometimes ...",
         "National Organization for Rare Disorders",
         "https://rarediseases.org › ...",
         ""
        ],
        [
         2,
         "Guillain-Barré syndrome in adults: Pathogenesis, clinical ...",
         "https://www.uptodate.com/contents/guillain-barre-syndrome-in-adults-pathogenesis-clinical-features-and-diagnosis",
         "Time course of symptoms · Examination findings · - Weakness · - Deep tendon reflexes · - Other findings · Variant forms of Guillain-Barré syndrome.",
         "Wolters Kluwer",
         "https://www.uptodate.com › ...",
         ""
        ],
        [
         3,
         "Current treatment practice of Guillain-Barré syndrome",
         "https://www.neurology.org/doi/10.1212/WNL.0000000000007719",
         "Plasma exchange (PE) and IV immunoglobulin (IVIg) are the only proven effective treatments for Guillain-Barré syndrome (GBS), although there has been little ...",
         "Neurology® Journals",
         "https://www.neurology.org › ...",
         ""
        ],
        [
         4,
         "Guillain-Barre syndrome: Video, Causes, & Meaning",
         "https://www.osmosis.org/learn/Guillain-Barre_syndrome",
         "The cause of Guillain- Barré syndrome is unknown, but it's known to develop after a bacterial infection, like Campylobacter jejuni and Mycoplasma pneumoniae, or ...",
         "Osmosis",
         "https://www.osmosis.org › ...",
         ""
        ],
        [
         5,
         "Guillain-Barré Syndrome",
         "https://www.americanbrainfoundation.org/diseases/guillain-barre-syndrome/",
         "Guillain-Barré syndrome (GBS) is a rare neurologic disorder in which the body's autoimmune response attacks the peripheral nervous system.",
         "American Brain Foundation",
         "https://www.americanbrainfoundation.org › ...",
         ""
        ],
        [
         6,
         "What is Guillain-Barré Syndrome (GBS)? - By Adhikari Lifeline",
         "https://www.adhikarilifeline.com/what-is-guillain-barre-syndrome-gbs/",
         "Guillain-Barré Syndrome (GBS) is a rare but serious neurological disorder in which the body's immune system mistakenly attacks the nervous system.",
         "adhikarilifeline.com",
         "https://www.adhikarilifeline.com › ...",
         ""
        ],
        [
         7,
         "Guillain-Barré syndrome: Types, Symptoms, Causes & ...",
         "https://www.pacehospital.com/guillain-barre-syndrome-symptoms-causes-diagnosis-treatment",
         "Guillain-Barré Syndrome is a rare autoimmune disorder in which the immune system attacks the nerves, leading to muscle weakness, numbness, and paralysis.",
         "PACE Hospitals",
         "https://www.pacehospital.com › ...",
         ""
        ],
        [
         8,
         "Guillain Barré Syndrome",
         "https://www.brainfacts.org/diseases-and-disorders/neurological-disorders-az/diseases-a-to-z-from-ninds/guillain-barr%C3%A9-syndrome",
         "Guillain-Barré syndrome is a disorder in which the body's immune system attacks part of the peripheral nervous system. The first symptoms of this disorder ...",
         "BrainFacts",
         "https://www.brainfacts.org › ...",
         ""
        ],
        [
         9,
         "Guillain-Barré Syndrome",
         "https://www.mayoclinicproceedings.org/article/S0025-6196(16)30818-7/fulltext",
         "Guillain-Barré syndrome is an acute inflammatory immune-mediated polyradiculoneuropathy presenting typically with tingling, progressive weakness, and pain.",
         "Mayo Clinic Proceedings",
         "https://www.mayoclinicproceedings.org › ...",
         ""
        ],
        [
         10,
         "Guillain-Barré Syndrome - Neurology - Highland Hospital",
         "https://www.urmc.rochester.edu/highland/departments-centers/neurology/conditions-we-treat/guillain-barr",
         "Guillain-Barré (ghee-yan bah-ray) syndrome is a disorder in which the body's immune system attacks part of the peripheral nervous system.",
         "University of Rochester Medical Center",
         "https://www.urmc.rochester.edu › ...",
         ""
        ],
        [
         1,
         "Guillain-Barre Syndrome: Symptoms, Causes & Treatment",
         "https://www.blkmaxhospital.com/blogs/guillain-barre-syndrome",
         "Guillain-Barre Syndrome (GBS) is a rare but serious autoimmune disorder that affects the peripheral nervous system.",
         "BLK-Max Hospital",
         "https://www.blkmaxhospital.com › ...",
         ""
        ],
        [
         2,
         "Pediatric Guillain-Barré syndrome (GBS) - Dallas",
         "https://www.childrens.com/specialties-services/conditions/guillain-barre-syndrome",
         "A typical sign of GBS is muscle weakness, numbness, tingling (pins-and-needle sensation) and occasionally pain, that starts in the feet and legs. These symptoms ...",
         "Children’s Health",
         "https://www.childrens.com › ...",
         ""
        ],
        [
         3,
         "Guillain-Barre Syndrome (GBS)",
         "https://www.jeffersonhealth.org/conditions-and-treatments/guillain-barre-syndrome",
         "We're also involved in researching the underlying causes of GBS and other autoimmune neuromuscular conditions. At Jefferson Health, you can be sure you're ...",
         "Jefferson Health",
         "https://www.jeffersonhealth.org › ...",
         ""
        ],
        [
         4,
         "Pune's Guillain-Barré Syndrome Epidemic Related to ...",
         "https://www.vax-before-travel.com/punes-guillain-barr-syndrome-epidemic-related-water-quality-2025-03-10",
         "Experts have linked these GBS infections with Campylobacter jejuni. This bacteria is one of the most common causes of food poisoning.",
         "Vax-Before-Travel",
         "https://www.vax-before-travel.com › ...",
         ""
        ],
        [
         5,
         "Guillain-Barré Syndrome (GBS)",
         "https://litfl.com/guillain-barre-syndrome-gbs/",
         "Guillain-Barré Syndrome (GBS) is the most common and most severe acute paralytic neuropathy, consisting of multiple variants with distinct clinical and ...",
         "Life in the Fast Lane • LITFL",
         "https://litfl.com › ...",
         ""
        ],
        [
         6,
         "Guillain-Barré Syndrome",
         "https://zerotofinals.com/medicine/neurology/guillainbarre/",
         "Presentation. Symptoms usually start within four weeks of the triggering infection. They begin in the feet and progress upward. Symptoms peak within 2-4 weeks.",
         "Zero To Finals",
         "https://zerotofinals.com › ...",
         ""
        ],
        [
         7,
         "Guillain-Barré Syndrome (for Parents)",
         "https://kidshealth.org/en/parents/gbs.html",
         "What Are the Signs & Symptoms of Guillain-Barré Syndrome? · tingling or pain in the toes and fingertips · weakness or pain in the legs that causes trouble ...",
         "KidsHealth",
         "https://kidshealth.org › ...",
         ""
        ],
        [
         8,
         "Guillain-Barré Syndrome | McGovern Medical School",
         "https://med.uth.edu/neurosciences/conditions-and-treatments/nerve-disorders/guillain-barre-syndrome/",
         "Signs Guillain-Barré Syndrome. Initial symptoms may present as pain, weakness, or tingling in the hands or feet. Patients usually experience this in one side of ...",
         "UTHealth Houston",
         "https://med.uth.edu › ...",
         ""
        ],
        [
         9,
         "Guillain-Barré Syndrome",
         "https://www.medcomic.com/medcomic/guillain-barre-syndrome",
         "Guillain-Barré syndrome (GBS) is an acute, inflammatory demyelinating polyneuropathy with ascending muscle weakness that is autoimmune in nature.",
         "Medcomic",
         "https://www.medcomic.com › ...",
         ""
        ],
        [
         10,
         "Physical Therapy Guide to Guillain-Barré Syndrome",
         "https://www.choosept.com/guide/physical-therapy-guide-guillain-barre-syndrome",
         "Physical therapists have extensive training to help people during GBS recovery. They help patients understand how GBS affects their ability to move safely.",
         "ChoosePT",
         "https://www.choosept.com › ...",
         ""
        ],
        [
         1,
         "Guillain-Barre Syndrome: Symptoms, Causes & Treatment",
         "https://www.blkmaxhospital.com/blogs/guillain-barre-syndrome",
         "Guillain-Barre Syndrome is a rare but serious neurological disorder that requires immediate medical attention. While most people recover, early ...",
         "BLK-Max Hospital",
         "https://www.blkmaxhospital.com › ...",
         ""
        ],
        [
         2,
         "Guillain-Barré Syndrome",
         "https://www.yalemedicine.org/conditions/guillain-barre-syndrome",
         "Guillain-Barré syndrome (GBS) is a neurological condition in which the body's immune system attacks healthy nerve cells.",
         "Yale Medicine",
         "https://www.yalemedicine.org › ...",
         ""
        ],
        [
         3,
         "Definition of Guillain-Barré syndrome",
         "https://www.cancer.gov/publications/dictionaries/cancer-terms/def/guillain-barre-syndrome",
         "A rare condition in which the body's immune system attacks the nerves located outside the brain and spinal cord. Symptoms of Guillain-Barré syndrome include ...",
         "National Cancer Institute (.gov)",
         "https://www.cancer.gov › ...",
         ""
        ],
        [
         4,
         "à¥ à¤¯à¤¾ à¤¹à¥ˆ?",
         "https://translate.google.com/translate?u=https://www.webmd.com/brain/what-is-guillain-barre&hl=hi&sl=en&tl=hi&client=srp",
         "à¤—à¥ à¤‡à¤²à¥‡à¤¨-à¤¬à¥ˆà¤°à¥‡ à¤¸à¤¿à¤‚à¤¡à¥ à¤°à¥‹à¤® à¤ à¤• à¤¦à¥ à¤°à¥ à¤²à¤ à¤'à¤Ÿà¥‹à¤‡à¤®à¥ à¤¯à¥‚à¤¨ à¤µà¤¿à¤•à¤¾à¤° à¤¹à¥ˆà¥¤ ...",
         "WebMD",
         "https://www.webmd.com › brain › what-is-guillain-barre",
         ""
        ],
        [
         5,
         "Epidemiology of Guillain Barre Syndrome in North Western ...",
         "https://www.ijnonline.org/article-details/1785",
         "In our study prevalence of GBS was 41.5%. Most cases were in the age range of 13-60 months. In these study males (68.5%) were more affected than girls (31.5%).",
         "Indian Journal of Neurosciences",
         "https://www.ijnonline.org › ...",
         ""
        ],
        [
         6,
         "When Your Child Has Guillain-Barre Syndrome (GBS)",
         "https://www.saintlukeskc.org/health-library/when-your-child-has-guillain-barre-syndrome-gbs",
         "Your child has been diagnosed with Guillain-Barré syndrome (GBS). This is an illness that affects the peripheral nerves, often both the sensory and motor ...",
         "Saint Luke's Health System Kansas City",
         "https://www.saintlukeskc.org › ...",
         ""
        ],
        [
         7,
         "Guillain-Barré Syndrome (GBS): Symptoms & Causes",
         "https://www.nyp.org/neuro/neuromuscular-disorders/guillain-barre-syndrome",
         "Guillain-Barré syndrome is a neurological disorder in which the body's immune system attacks the nerves outside the brain and spinal cord.",
         "NewYork-Presbyterian",
         "https://www.nyp.org › ...",
         ""
        ],
        [
         8,
         "Guillain-Barre syndrome (GBS)",
         "https://gpnotebook.com/pages/infectious-disease/guillain-barre-syndrome-gbs",
         "Guillain-Barre syndrome (GBS) ... A prodromal malaise with vomiting, headache, fever and limb pains is rapidly surmounted by a progressive and ...",
         "GPnotebook",
         "https://gpnotebook.com › ...",
         ""
        ],
        [
         9,
         "Guillain-Barré Syndrome",
         "https://zerotofinals.com/medicine/neurology/guillainbarre/",
         "Guillain-Barré syndrome is an acute paralytic polyneuropathy that affects the peripheral nervous system. It causes acute, symmetrical, ascending weakness.",
         "Zero To Finals",
         "https://zerotofinals.com › ...",
         ""
        ],
        [
         10,
         "क्या है Guillain-Barre Syndrome? महाराष्ट्र में 6 की मौत ...",
         "https://www.prabhatkhabar.com/state/maharashtra/what-is-guillain-barre-syndrome-maharashtra-in-grip-most-cases-from-youth",
         "गिलियन-बैरे सिंड्रोम (जीबीएस) एक ऑटोइम्यून बीमारी है. यह मरीजों के इम्यून सिस्टम को प्रभावित करता है. जीबीएस मरीजों के स्वस्थ्य नसों पर हमला करता है. जिससे नसें कमजोर हो जाती हैं. अगर समय पर इसका इलाज ...",
         "Prabhat Khabar",
         "https://www.prabhatkhabar.com › Rajya › Maharashtra",
         ""
        ]
       ],
       "datasetInfos": [],
       "dbfsResultPath": null,
       "isJsonSchema": true,
       "metadata": {},
       "overflow": false,
       "plotOptions": {
        "customPlotOptions": {},
        "displayType": "table",
        "pivotAggregation": null,
        "pivotColumns": null,
        "xColumns": null,
        "yColumns": null
       },
       "removedWidgets": [],
       "schema": [
        {
         "metadata": "{}",
         "name": "Position",
         "type": "\"long\""
        },
        {
         "metadata": "{}",
         "name": "Title",
         "type": "\"string\""
        },
        {
         "metadata": "{}",
         "name": "Link",
         "type": "\"string\""
        },
        {
         "metadata": "{}",
         "name": "Snippet",
         "type": "\"string\""
        },
        {
         "metadata": "{}",
         "name": "Source",
         "type": "\"string\""
        },
        {
         "metadata": "{}",
         "name": "Displayed Link",
         "type": "\"string\""
        },
        {
         "metadata": "{}",
         "name": "Sitelinks",
         "type": "\"string\""
        }
       ],
       "type": "table"
      }
     },
     "output_type": "display_data"
    }
   ],
   "source": [
    "# Convert Google Search Results JSON Data to Pandas DataFrame for Analysis\n",
    "\n",
    "\n",
    "import pandas as pd\n",
    "print(f\"Length of fetched_results_raw: {len(fetched_results_raw)}\")\n",
    "\n",
    "\n",
    "try:\n",
    "    serpapi_info = []\n",
    "\n",
    "    for result in fetched_results_raw:\n",
    "        serpapi_info.append({\n",
    "            'Position': result.get('position', ''),\n",
    "            'Title': result.get('title', ''),\n",
    "            'Link': result.get('link', ''),\n",
    "            'Snippet': result.get('snippet', ''),\n",
    "            'Source': result.get('source', ''),\n",
    "            'Displayed Link': result.get('displayed_link', ''),\n",
    "            'Sitelinks': str(result.get('sitelinks', ''))  \n",
    "        })\n",
    "\n",
    "    df_serpapi = pd.DataFrame(serpapi_info)\n",
    "    display(df_serpapi.head(100))\n",
    "\n",
    "except NameError:\n",
    "    print(\"Variable 'fetched_results_raw' not found. Please run the fetching cell first.\")\n",
    "\n",
    "\n"
   ]
  },
  {
   "cell_type": "markdown",
   "metadata": {
    "application/vnd.databricks.v1+cell": {
     "cellMetadata": {
      "byteLimit": 2048000,
      "rowLimit": 10000
     },
     "inputWidgets": {},
     "nuid": "45bd7513-509b-4413-aae8-57e9cdaa514c",
     "showTitle": false,
     "tableResultSettingsMap": {},
     "title": ""
    }
   },
   "source": [
    "**Defining PySpark Schemas and Creating Separate DataFrames for Clinical Trials and Google Search Results**"
   ]
  },
  {
   "cell_type": "code",
   "execution_count": 0,
   "metadata": {
    "application/vnd.databricks.v1+cell": {
     "cellMetadata": {
      "byteLimit": 2048000,
      "rowLimit": 10000
     },
     "inputWidgets": {},
     "nuid": "d5885565-2014-4d30-9de1-cfd242e58948",
     "showTitle": false,
     "tableResultSettingsMap": {},
     "title": ""
    }
   },
   "outputs": [
    {
     "output_type": "display_data",
     "data": {
      "text/html": [
       "<style scoped>\n",
       "  .table-result-container {\n",
       "    max-height: 300px;\n",
       "    overflow: auto;\n",
       "  }\n",
       "  table, th, td {\n",
       "    border: 1px solid black;\n",
       "    border-collapse: collapse;\n",
       "  }\n",
       "  th, td {\n",
       "    padding: 5px;\n",
       "  }\n",
       "  th {\n",
       "    text-align: left;\n",
       "  }\n",
       "</style><div class='table-result-container'><table class='table-result'><thead style='background-color: white'><tr><th>nctId</th><th>briefTitle</th><th>overallStatus</th><th>hasResults</th></tr></thead><tbody><tr><td>NCT05324176</td><td>Diaphragm Thickness by Ultrasonography in Neurological Disorders</td><td>COMPLETED</td><td>false</td></tr><tr><td>NCT01655394</td><td>Change of Nerve Conduction Properties in IVIg Dependent Neuropathies</td><td>UNKNOWN</td><td>false</td></tr><tr><td>NCT00271791</td><td>Prednisone Treatment for Vestibular Neuronitis</td><td>COMPLETED</td><td>false</td></tr><tr><td>NCT06822231</td><td>High-Tech Rehabilitation Pathway for Acute Adult Neuromuscular Diseases - Fit4MedRob-Acute MND Project</td><td>NOT_YET_RECRUITING</td><td>false</td></tr><tr><td>NCT06885762</td><td>Efgartigimod for the Treatment of Guillain-Barré Syndrome</td><td>NOT_YET_RECRUITING</td><td>false</td></tr><tr><td>NCT05095844</td><td>National Vaccine Adverse Event Reporting Survey and Etiology</td><td>UNKNOWN</td><td>false</td></tr><tr><td>NCT05701189</td><td>Evaluating Efgartigimod in Patients with Guillain-Barré Syndrome</td><td>RECRUITING</td><td>false</td></tr><tr><td>NCT04752566</td><td>A Study to Evaluate the Efficacy and Safety of Eculizumab in Guillain-Barré Syndrome</td><td>COMPLETED</td><td>true</td></tr><tr><td>NCT04829526</td><td>Firm Observational Clinical Unicenter Study on Guillain Barré Syndrome</td><td>RECRUITING</td><td>false</td></tr><tr><td>NCT02493725</td><td>JET-GBS - Japanese Eculizumab Trial for GBS</td><td>COMPLETED</td><td>false</td></tr><tr><td>NCT04166357</td><td>Early Prediction of Respiratory and Autonomic Complications of GBS Using Neuromuscular Ultrasound</td><td>UNKNOWN</td><td>false</td></tr><tr><td>NCT05940922</td><td>RWE-based Treatment Patterns and Outcomes in CIDP</td><td>NOT_YET_RECRUITING</td><td>false</td></tr><tr><td>NCT05212792</td><td>Genomics and COVID-19 Vaccine Adverse Events</td><td>RECRUITING</td><td>false</td></tr><tr><td>NCT04303962</td><td>Efficacy of Intravenous Gamma Globulin on Guillain-Barre Syndrome</td><td>UNKNOWN</td><td>false</td></tr><tr><td>NCT03943589</td><td>A Study of Imlifidase in Patients With Guillain-Barré Syndrome</td><td>COMPLETED</td><td>true</td></tr><tr><td>NCT05104762</td><td>IVIG Versus Plasmapheresis in the Treatment of Guillian Barrie Syndrome Patients</td><td>COMPLETED</td><td>false</td></tr><tr><td>NCT06615622</td><td>Our Study Aims to Determine If Nerve Alterations in Acute GBS and CIDP Detectable by Ultrasound Match Electrodiagnostic Findings and If This Method Aids Early Diagnosis, Predict Their Outcomes and Differentiate Between Axonal and Demyelinating Subtypes.</td><td>RECRUITING</td><td>false</td></tr><tr><td>NCT05284786</td><td>Ultrasonography and Electrophysiology in GBS</td><td>UNKNOWN</td><td>false</td></tr><tr><td>NCT01005524</td><td>Brain Computer Interface for Communication in ICU: a Feasibility Study</td><td>COMPLETED</td><td>false</td></tr><tr><td>NCT06939634</td><td>Evaluation of Usability and Safety of the System Atalante in Patients With High Paraplegia and Tetraplegia</td><td>COMPLETED</td><td>false</td></tr><tr><td>NCT04035135</td><td>A Clinical Study of ANX005 and IVIG in Subjects With Guillain Barré Syndrome (GBS)</td><td>COMPLETED</td><td>false</td></tr><tr><td>NCT00167622</td><td>Early Mechanical Ventilation for Guillain Barré Syndrome</td><td>COMPLETED</td><td>false</td></tr><tr><td>NCT01582763</td><td>International Guillain-Barré Syndrome Outcome Study</td><td>COMPLETED</td><td>false</td></tr><tr><td>NCT03801135</td><td>Changes in Haemostasis After Therapeutic Plasmapheresis With Citrate Anticoagulation</td><td>UNKNOWN</td><td>false</td></tr><tr><td>NCT03941184</td><td>Spontaneous Coronary Artery Dissection (SCAD) and Autoimmunity</td><td>COMPLETED</td><td>false</td></tr><tr><td>NCT04092140</td><td>Neuromuscular Ultrasound in Correlation to Neurophysiological Findings</td><td>UNKNOWN</td><td>false</td></tr><tr><td>NCT03268304</td><td>Feasibility of Two New Software Modules for the Rehabilitation of Patients With Neuromuscular Upper Limb Impairments</td><td>WITHDRAWN</td><td>false</td></tr><tr><td>NCT00411216</td><td>Recovery of Visual Acuity in People With Vestibular Deficits</td><td>COMPLETED</td><td>true</td></tr><tr><td>NCT01469858</td><td>Perception and Multisensory Integration in Neurological Patients Using fMRI</td><td>UNKNOWN</td><td>false</td></tr><tr><td>NCT06167239</td><td>Ventilator Trigger Sensitivity Adjustment Versus Threshold Inspiratory Muscle Training on Arterial Blood Gases</td><td>RECRUITING</td><td>false</td></tr><tr><td>NCT04674163</td><td>Expression Profile of ERK5 and PKM2 Kinases in Neuroinflammatory Diseases.</td><td>WITHDRAWN</td><td>false</td></tr><tr><td>NCT05630313</td><td>Gene Sequencing as a Strategy for Identifying Genetic Factors Associated With Serious Adverse Events After Covid-19 Vaccines in Use in Brazil</td><td>RECRUITING</td><td>false</td></tr><tr><td>NCT02459808</td><td>Gastrointestinal Transit Time in Patients With Guillain-Barré Syndrome</td><td>WITHDRAWN</td><td>false</td></tr><tr><td>NCT06605612</td><td>Development and Validation of the FBIndex to Determine the Risk of Falls for Patients with Neuromuscular Disorders</td><td>ENROLLING_BY_INVITATION</td><td>false</td></tr><tr><td>NCT00056810</td><td>Assessment of Chronic Guillain-Barre Syndrome Improvement With Use of 4-aminopyridine</td><td>COMPLETED</td><td>false</td></tr><tr><td>NCT06032741</td><td>Prognosis in Patients With Guillain-Barre Syndrome</td><td>UNKNOWN</td><td>false</td></tr><tr><td>NCT05494619</td><td>A Study to Evaluate the Efficacy, Safety, Pharmacokinetics, and Pharmacodynamics of Crovalimab in Participants With Guillain-Barré Syndrome (GBS)</td><td>WITHDRAWN</td><td>false</td></tr><tr><td>NCT05114941</td><td>Comparison of the Efficacy and Safety of Immunoadsorption and Intravenous Immunoglobulin for Guillain-Barre Syndrome</td><td>NOT_YET_RECRUITING</td><td>false</td></tr><tr><td>NCT03206541</td><td>Neurologic Manifestations of the Arbovirus Infection in Colombia</td><td>COMPLETED</td><td>false</td></tr><tr><td>NCT06334796</td><td>Artificial Intelligence-powered Virtual Assistant for Emergency Triage in Neurology</td><td>COMPLETED</td><td>false</td></tr><tr><td>NCT05491096</td><td>Effects of Proprioceptive Neuromuscular Training on Sensory and Motor Function in Guillain Barre Syndrome</td><td>COMPLETED</td><td>false</td></tr><tr><td>NCT04871035</td><td>Immunoadsorption Versus Plasma Exchange for Treatment of Guillain-Barré Syndrome (GBS)</td><td>RECRUITING</td><td>false</td></tr><tr><td>NCT06612242</td><td>Early vs. Late Tracheostomy in Patients With Guillain -Barre Syndrome</td><td>RECRUITING</td><td>false</td></tr><tr><td>NCT02883270</td><td>Effects of Robotic-assisted Gait Training In Non-Ambulatory Patients After Guillain-Barré Syndrome</td><td>COMPLETED</td><td>false</td></tr><tr><td>NCT00173199</td><td>The Changes of Cytokines in Guillain Barré Syndrome: the Correlation With Clinical Manifestations and Skin Innervation</td><td>UNKNOWN</td><td>false</td></tr><tr><td>NCT02422875</td><td>Comparative Autoantibody and Immunologic Cell Marker Study</td><td>ENROLLING_BY_INVITATION</td><td>false</td></tr><tr><td>NCT06300359</td><td>Prognostic Indicators of Gullian-Barre Syndrome</td><td>NOT_YET_RECRUITING</td><td>false</td></tr><tr><td>NCT06502015</td><td>Biomarkers in Autoimmune Disease of Nervous System</td><td>RECRUITING</td><td>false</td></tr><tr><td>NCT05945784</td><td>Exploring Accessible Beauty for Individuals With Upper Extremity Deficits</td><td>COMPLETED</td><td>false</td></tr><tr><td>NCT04701164</td><td>Efficacy and Safety of ANX005 in Subjects With Guillain-Barré Syndrome</td><td>COMPLETED</td><td>false</td></tr><tr><td>NCT02342184</td><td>Efficacy and Safety Study of GB-0998 for Guillain-Barré Syndrome</td><td>COMPLETED</td><td>false</td></tr><tr><td>NCT05292690</td><td>An Assistive Powered Wheelchair: Stage 2 Trial</td><td>COMPLETED</td><td>false</td></tr><tr><td>NCT06940908</td><td>Living With Guillain-Barré Syndrome as Children.</td><td>RECRUITING</td><td>false</td></tr><tr><td>NCT01370200</td><td>Regional Citrate Anticoagulation in Plasma Exchange Treatment</td><td>COMPLETED</td><td>false</td></tr><tr><td>NCT04249752</td><td>Biomarkers in Polyradiculoneuropathies</td><td>UNKNOWN</td><td>false</td></tr><tr><td>NCT04053452</td><td>Peripheral Nerve Ultrasound for Diagnosis and Prognosis of Guillain-Barre Syndrome</td><td>TERMINATED</td><td>true</td></tr><tr><td>NCT06740656</td><td>Neuromuscular Complications of MEK Inhibitors: a French Case Series and a Systematic Review of the Literature</td><td>NOT_YET_RECRUITING</td><td>false</td></tr><tr><td>NCT01306578</td><td>Intravenous Immunoglobulin (IVIG) Versus Plasma Exchange (PE) for Ventilated Children With Guillain Barre Syndrome (GBS)</td><td>COMPLETED</td><td>false</td></tr><tr><td>NCT02221271</td><td>Phase III Clinical Trial of NPB-01 in Patients With Guillain-Barré Syndrome</td><td>COMPLETED</td><td>false</td></tr><tr><td>NCT03826056</td><td>Neurology Inpatient Clinical Education Trial</td><td>COMPLETED</td><td>false</td></tr><tr><td>NCT02029378</td><td>Inhibition of Complement Activation (Eculizumab) in Guillain-Barre Syndrome Study</td><td>UNKNOWN</td><td>false</td></tr><tr><td>NCT04550611</td><td>Mini-pool Intravenous Immunoglobulin (MP-IVIG) in Guillain-Barré Syndrome</td><td>UNKNOWN</td><td>false</td></tr><tr><td>NCT03710278</td><td>The Effectiveness and Safety of Human Lumbar Puncture Assist Device (LPat)</td><td>COMPLETED</td><td>false</td></tr><tr><td>NCT01024088</td><td>Prospective Study on Swallowing/Breathing Interactions in Severe Guillain Barre Syndrome.</td><td>COMPLETED</td><td>false</td></tr><tr><td>NCT05461898</td><td>RehabGBs: Rehabilitation in People With Guillain-Barré Syndrome</td><td>RECRUITING</td><td>false</td></tr><tr><td>NCT02780570</td><td>Small Volume Plasma Exchange (SVPE) for Guillain-Barré Syndrome (GBS) Patients</td><td>COMPLETED</td><td>false</td></tr><tr><td>NCT02722070</td><td>Processing Integration in Neurological Patients Using fMRI</td><td>UNKNOWN</td><td>false</td></tr><tr><td>NCT04927598</td><td>Predictors and Prognostic Factors of Gullian Barrie Syndrome Outcome</td><td>COMPLETED</td><td>false</td></tr><tr><td>NCT03773328</td><td>A Clinical Trial of CK0801 (a New Drug) In Patients With Treatment-Resistant Guillain-Barré Syndrome (GBS)</td><td>WITHDRAWN</td><td>false</td></tr><tr><td>NCT03840928</td><td>PatientSpot Formerly Known as ArthritisPower</td><td>RECRUITING</td><td>false</td></tr><tr><td>NCT02582853</td><td>sCD163 as a Potential Biomarker in Guillain- Barré Syndrome</td><td>UNKNOWN</td><td>false</td></tr><tr><td>NCT06200454</td><td>Predictive Value of Neuromuscular Ultrasound of Cranial Nerves in Guillain-Barré Syndrome</td><td>NOT_YET_RECRUITING</td><td>false</td></tr><tr><td>NCT00004833</td><td>Randomized Study of Plasmapheresis or Human Immunoglobulin Infusion in Childhood Guillain-Barre Syndrome</td><td>TERMINATED</td><td>false</td></tr><tr><td>NCT00575653</td><td>Safety Study of GBS Following Menactra Meningococcal Vaccination</td><td>COMPLETED</td><td>false</td></tr><tr><td>NCT06041451</td><td>Early and Late Prognosis in Patients With Guillain-Barre Syndrome</td><td>UNKNOWN</td><td>false</td></tr><tr><td>NCT06620198</td><td>Upper Limb Robot-Assisted Therapy in Patients with Guillain-Barré Syndrome</td><td>ACTIVE_NOT_RECRUITING</td><td>false</td></tr></tbody></table></div>"
      ]
     },
     "metadata": {
      "application/vnd.databricks.v1+output": {
       "addedWidgets": {},
       "aggData": [],
       "aggError": "",
       "aggOverflow": false,
       "aggSchema": [],
       "aggSeriesLimitReached": false,
       "aggType": "",
       "arguments": {},
       "columnCustomDisplayInfos": {},
       "data": [
        [
         "NCT05324176",
         "Diaphragm Thickness by Ultrasonography in Neurological Disorders",
         "COMPLETED",
         false
        ],
        [
         "NCT01655394",
         "Change of Nerve Conduction Properties in IVIg Dependent Neuropathies",
         "UNKNOWN",
         false
        ],
        [
         "NCT00271791",
         "Prednisone Treatment for Vestibular Neuronitis",
         "COMPLETED",
         false
        ],
        [
         "NCT06822231",
         "High-Tech Rehabilitation Pathway for Acute Adult Neuromuscular Diseases - Fit4MedRob-Acute MND Project",
         "NOT_YET_RECRUITING",
         false
        ],
        [
         "NCT06885762",
         "Efgartigimod for the Treatment of Guillain-Barré Syndrome",
         "NOT_YET_RECRUITING",
         false
        ],
        [
         "NCT05095844",
         "National Vaccine Adverse Event Reporting Survey and Etiology",
         "UNKNOWN",
         false
        ],
        [
         "NCT05701189",
         "Evaluating Efgartigimod in Patients with Guillain-Barré Syndrome",
         "RECRUITING",
         false
        ],
        [
         "NCT04752566",
         "A Study to Evaluate the Efficacy and Safety of Eculizumab in Guillain-Barré Syndrome",
         "COMPLETED",
         true
        ],
        [
         "NCT04829526",
         "Firm Observational Clinical Unicenter Study on Guillain Barré Syndrome",
         "RECRUITING",
         false
        ],
        [
         "NCT02493725",
         "JET-GBS - Japanese Eculizumab Trial for GBS",
         "COMPLETED",
         false
        ],
        [
         "NCT04166357",
         "Early Prediction of Respiratory and Autonomic Complications of GBS Using Neuromuscular Ultrasound",
         "UNKNOWN",
         false
        ],
        [
         "NCT05940922",
         "RWE-based Treatment Patterns and Outcomes in CIDP",
         "NOT_YET_RECRUITING",
         false
        ],
        [
         "NCT05212792",
         "Genomics and COVID-19 Vaccine Adverse Events",
         "RECRUITING",
         false
        ],
        [
         "NCT04303962",
         "Efficacy of Intravenous Gamma Globulin on Guillain-Barre Syndrome",
         "UNKNOWN",
         false
        ],
        [
         "NCT03943589",
         "A Study of Imlifidase in Patients With Guillain-Barré Syndrome",
         "COMPLETED",
         true
        ],
        [
         "NCT05104762",
         "IVIG Versus Plasmapheresis in the Treatment of Guillian Barrie Syndrome Patients",
         "COMPLETED",
         false
        ],
        [
         "NCT06615622",
         "Our Study Aims to Determine If Nerve Alterations in Acute GBS and CIDP Detectable by Ultrasound Match Electrodiagnostic Findings and If This Method Aids Early Diagnosis, Predict Their Outcomes and Differentiate Between Axonal and Demyelinating Subtypes.",
         "RECRUITING",
         false
        ],
        [
         "NCT05284786",
         "Ultrasonography and Electrophysiology in GBS",
         "UNKNOWN",
         false
        ],
        [
         "NCT01005524",
         "Brain Computer Interface for Communication in ICU: a Feasibility Study",
         "COMPLETED",
         false
        ],
        [
         "NCT06939634",
         "Evaluation of Usability and Safety of the System Atalante in Patients With High Paraplegia and Tetraplegia",
         "COMPLETED",
         false
        ],
        [
         "NCT04035135",
         "A Clinical Study of ANX005 and IVIG in Subjects With Guillain Barré Syndrome (GBS)",
         "COMPLETED",
         false
        ],
        [
         "NCT00167622",
         "Early Mechanical Ventilation for Guillain Barré Syndrome",
         "COMPLETED",
         false
        ],
        [
         "NCT01582763",
         "International Guillain-Barré Syndrome Outcome Study",
         "COMPLETED",
         false
        ],
        [
         "NCT03801135",
         "Changes in Haemostasis After Therapeutic Plasmapheresis With Citrate Anticoagulation",
         "UNKNOWN",
         false
        ],
        [
         "NCT03941184",
         "Spontaneous Coronary Artery Dissection (SCAD) and Autoimmunity",
         "COMPLETED",
         false
        ],
        [
         "NCT04092140",
         "Neuromuscular Ultrasound in Correlation to Neurophysiological Findings",
         "UNKNOWN",
         false
        ],
        [
         "NCT03268304",
         "Feasibility of Two New Software Modules for the Rehabilitation of Patients With Neuromuscular Upper Limb Impairments",
         "WITHDRAWN",
         false
        ],
        [
         "NCT00411216",
         "Recovery of Visual Acuity in People With Vestibular Deficits",
         "COMPLETED",
         true
        ],
        [
         "NCT01469858",
         "Perception and Multisensory Integration in Neurological Patients Using fMRI",
         "UNKNOWN",
         false
        ],
        [
         "NCT06167239",
         "Ventilator Trigger Sensitivity Adjustment Versus Threshold Inspiratory Muscle Training on Arterial Blood Gases",
         "RECRUITING",
         false
        ],
        [
         "NCT04674163",
         "Expression Profile of ERK5 and PKM2 Kinases in Neuroinflammatory Diseases.",
         "WITHDRAWN",
         false
        ],
        [
         "NCT05630313",
         "Gene Sequencing as a Strategy for Identifying Genetic Factors Associated With Serious Adverse Events After Covid-19 Vaccines in Use in Brazil",
         "RECRUITING",
         false
        ],
        [
         "NCT02459808",
         "Gastrointestinal Transit Time in Patients With Guillain-Barré Syndrome",
         "WITHDRAWN",
         false
        ],
        [
         "NCT06605612",
         "Development and Validation of the FBIndex to Determine the Risk of Falls for Patients with Neuromuscular Disorders",
         "ENROLLING_BY_INVITATION",
         false
        ],
        [
         "NCT00056810",
         "Assessment of Chronic Guillain-Barre Syndrome Improvement With Use of 4-aminopyridine",
         "COMPLETED",
         false
        ],
        [
         "NCT06032741",
         "Prognosis in Patients With Guillain-Barre Syndrome",
         "UNKNOWN",
         false
        ],
        [
         "NCT05494619",
         "A Study to Evaluate the Efficacy, Safety, Pharmacokinetics, and Pharmacodynamics of Crovalimab in Participants With Guillain-Barré Syndrome (GBS)",
         "WITHDRAWN",
         false
        ],
        [
         "NCT05114941",
         "Comparison of the Efficacy and Safety of Immunoadsorption and Intravenous Immunoglobulin for Guillain-Barre Syndrome",
         "NOT_YET_RECRUITING",
         false
        ],
        [
         "NCT03206541",
         "Neurologic Manifestations of the Arbovirus Infection in Colombia",
         "COMPLETED",
         false
        ],
        [
         "NCT06334796",
         "Artificial Intelligence-powered Virtual Assistant for Emergency Triage in Neurology",
         "COMPLETED",
         false
        ],
        [
         "NCT05491096",
         "Effects of Proprioceptive Neuromuscular Training on Sensory and Motor Function in Guillain Barre Syndrome",
         "COMPLETED",
         false
        ],
        [
         "NCT04871035",
         "Immunoadsorption Versus Plasma Exchange for Treatment of Guillain-Barré Syndrome (GBS)",
         "RECRUITING",
         false
        ],
        [
         "NCT06612242",
         "Early vs. Late Tracheostomy in Patients With Guillain -Barre Syndrome",
         "RECRUITING",
         false
        ],
        [
         "NCT02883270",
         "Effects of Robotic-assisted Gait Training In Non-Ambulatory Patients After Guillain-Barré Syndrome",
         "COMPLETED",
         false
        ],
        [
         "NCT00173199",
         "The Changes of Cytokines in Guillain Barré Syndrome: the Correlation With Clinical Manifestations and Skin Innervation",
         "UNKNOWN",
         false
        ],
        [
         "NCT02422875",
         "Comparative Autoantibody and Immunologic Cell Marker Study",
         "ENROLLING_BY_INVITATION",
         false
        ],
        [
         "NCT06300359",
         "Prognostic Indicators of Gullian-Barre Syndrome",
         "NOT_YET_RECRUITING",
         false
        ],
        [
         "NCT06502015",
         "Biomarkers in Autoimmune Disease of Nervous System",
         "RECRUITING",
         false
        ],
        [
         "NCT05945784",
         "Exploring Accessible Beauty for Individuals With Upper Extremity Deficits",
         "COMPLETED",
         false
        ],
        [
         "NCT04701164",
         "Efficacy and Safety of ANX005 in Subjects With Guillain-Barré Syndrome",
         "COMPLETED",
         false
        ],
        [
         "NCT02342184",
         "Efficacy and Safety Study of GB-0998 for Guillain-Barré Syndrome",
         "COMPLETED",
         false
        ],
        [
         "NCT05292690",
         "An Assistive Powered Wheelchair: Stage 2 Trial",
         "COMPLETED",
         false
        ],
        [
         "NCT06940908",
         "Living With Guillain-Barré Syndrome as Children.",
         "RECRUITING",
         false
        ],
        [
         "NCT01370200",
         "Regional Citrate Anticoagulation in Plasma Exchange Treatment",
         "COMPLETED",
         false
        ],
        [
         "NCT04249752",
         "Biomarkers in Polyradiculoneuropathies",
         "UNKNOWN",
         false
        ],
        [
         "NCT04053452",
         "Peripheral Nerve Ultrasound for Diagnosis and Prognosis of Guillain-Barre Syndrome",
         "TERMINATED",
         true
        ],
        [
         "NCT06740656",
         "Neuromuscular Complications of MEK Inhibitors: a French Case Series and a Systematic Review of the Literature",
         "NOT_YET_RECRUITING",
         false
        ],
        [
         "NCT01306578",
         "Intravenous Immunoglobulin (IVIG) Versus Plasma Exchange (PE) for Ventilated Children With Guillain Barre Syndrome (GBS)",
         "COMPLETED",
         false
        ],
        [
         "NCT02221271",
         "Phase III Clinical Trial of NPB-01 in Patients With Guillain-Barré Syndrome",
         "COMPLETED",
         false
        ],
        [
         "NCT03826056",
         "Neurology Inpatient Clinical Education Trial",
         "COMPLETED",
         false
        ],
        [
         "NCT02029378",
         "Inhibition of Complement Activation (Eculizumab) in Guillain-Barre Syndrome Study",
         "UNKNOWN",
         false
        ],
        [
         "NCT04550611",
         "Mini-pool Intravenous Immunoglobulin (MP-IVIG) in Guillain-Barré Syndrome",
         "UNKNOWN",
         false
        ],
        [
         "NCT03710278",
         "The Effectiveness and Safety of Human Lumbar Puncture Assist Device (LPat)",
         "COMPLETED",
         false
        ],
        [
         "NCT01024088",
         "Prospective Study on Swallowing/Breathing Interactions in Severe Guillain Barre Syndrome.",
         "COMPLETED",
         false
        ],
        [
         "NCT05461898",
         "RehabGBs: Rehabilitation in People With Guillain-Barré Syndrome",
         "RECRUITING",
         false
        ],
        [
         "NCT02780570",
         "Small Volume Plasma Exchange (SVPE) for Guillain-Barré Syndrome (GBS) Patients",
         "COMPLETED",
         false
        ],
        [
         "NCT02722070",
         "Processing Integration in Neurological Patients Using fMRI",
         "UNKNOWN",
         false
        ],
        [
         "NCT04927598",
         "Predictors and Prognostic Factors of Gullian Barrie Syndrome Outcome",
         "COMPLETED",
         false
        ],
        [
         "NCT03773328",
         "A Clinical Trial of CK0801 (a New Drug) In Patients With Treatment-Resistant Guillain-Barré Syndrome (GBS)",
         "WITHDRAWN",
         false
        ],
        [
         "NCT03840928",
         "PatientSpot Formerly Known as ArthritisPower",
         "RECRUITING",
         false
        ],
        [
         "NCT02582853",
         "sCD163 as a Potential Biomarker in Guillain- Barré Syndrome",
         "UNKNOWN",
         false
        ],
        [
         "NCT06200454",
         "Predictive Value of Neuromuscular Ultrasound of Cranial Nerves in Guillain-Barré Syndrome",
         "NOT_YET_RECRUITING",
         false
        ],
        [
         "NCT00004833",
         "Randomized Study of Plasmapheresis or Human Immunoglobulin Infusion in Childhood Guillain-Barre Syndrome",
         "TERMINATED",
         false
        ],
        [
         "NCT00575653",
         "Safety Study of GBS Following Menactra Meningococcal Vaccination",
         "COMPLETED",
         false
        ],
        [
         "NCT06041451",
         "Early and Late Prognosis in Patients With Guillain-Barre Syndrome",
         "UNKNOWN",
         false
        ],
        [
         "NCT06620198",
         "Upper Limb Robot-Assisted Therapy in Patients with Guillain-Barré Syndrome",
         "ACTIVE_NOT_RECRUITING",
         false
        ]
       ],
       "datasetInfos": [],
       "dbfsResultPath": null,
       "isJsonSchema": true,
       "metadata": {},
       "overflow": false,
       "plotOptions": {
        "customPlotOptions": {},
        "displayType": "table",
        "pivotAggregation": null,
        "pivotColumns": null,
        "xColumns": null,
        "yColumns": null
       },
       "removedWidgets": [],
       "schema": [
        {
         "metadata": "{}",
         "name": "nctId",
         "type": "\"string\""
        },
        {
         "metadata": "{}",
         "name": "briefTitle",
         "type": "\"string\""
        },
        {
         "metadata": "{}",
         "name": "overallStatus",
         "type": "\"string\""
        },
        {
         "metadata": "{}",
         "name": "hasResults",
         "type": "\"boolean\""
        }
       ],
       "type": "table"
      }
     },
     "output_type": "display_data"
    }
   ],
   "source": [
    "# Defining PySpark Schema and Creating Clinical Trials DataFrame\n",
    "from pyspark.sql.types import *\n",
    "\n",
    "clinical_schema = StructType([\n",
    "    StructField(\"nctId\", StringType(), True),\n",
    "    StructField(\"briefTitle\", StringType(), True),\n",
    "    StructField(\"overallStatus\", StringType(), True),\n",
    "    StructField(\"hasResults\", BooleanType(), True)\n",
    "])\n",
    "\n",
    "df_clinical_spark = spark.createDataFrame(trials_list, schema=clinical_schema)\n",
    "display(df_clinical_spark)\n"
   ]
  },
  {
   "cell_type": "code",
   "execution_count": 0,
   "metadata": {
    "application/vnd.databricks.v1+cell": {
     "cellMetadata": {
      "byteLimit": 2048000,
      "rowLimit": 10000
     },
     "inputWidgets": {},
     "nuid": "0aaaf6a3-402c-4082-905a-dce1e58a8758",
     "showTitle": false,
     "tableResultSettingsMap": {},
     "title": ""
    }
   },
   "outputs": [
    {
     "output_type": "display_data",
     "data": {
      "text/html": [
       "<style scoped>\n",
       "  .table-result-container {\n",
       "    max-height: 300px;\n",
       "    overflow: auto;\n",
       "  }\n",
       "  table, th, td {\n",
       "    border: 1px solid black;\n",
       "    border-collapse: collapse;\n",
       "  }\n",
       "  th, td {\n",
       "    padding: 5px;\n",
       "  }\n",
       "  th {\n",
       "    text-align: left;\n",
       "  }\n",
       "</style><div class='table-result-container'><table class='table-result'><thead style='background-color: white'><tr><th>Position</th><th>Title</th><th>Link</th><th>Snippet</th><th>Source</th><th>Displayed Link</th><th>Sitelinks</th></tr></thead><tbody><tr><td>1</td><td>Guillain-Barre syndrome - Symptoms and causes</td><td>https://www.mayoclinic.org/diseases-conditions/guillain-barre-syndrome/symptoms-causes/syc-20362793</td><td>Guillain-Barre syndrome often begins with tingling and weakness starting in the feet and legs and spreading to the upper body and arms. Some ...</td><td>Mayo Clinic</td><td>https://www.mayoclinic.org › ...</td><td></td></tr><tr><td>2</td><td>Guillain-Barré Syndrome (GBS): Symptoms & Treatment</td><td>https://my.clevelandclinic.org/health/diseases/15838-guillain-barre-syndrome</td><td>Guillain-Barré syndrome is a rare autoimmune condition in which your immune system attacks your peripheral nerves. It causes numbness and muscle weakness.</td><td>Cleveland Clinic</td><td>https://my.clevelandclinic.org › ...</td><td></td></tr><tr><td>3</td><td>Guillain-Barré Syndrome</td><td>https://www.ninds.nih.gov/health-information/disorders/guillain-barre-syndrome</td><td>Guillain-Barré syndrome (GBS) (pronounced Ghee-yan Bah-ray) is a rare neurological disorder in which a person's immune system mistakenly attacks ...</td><td>National Institute of Neurological Disorders and Stroke (.gov)</td><td>https://www.ninds.nih.gov › ...</td><td>{'inline': [{'title': 'What is Guillain-Barré...', 'link': 'https://www.ninds.nih.gov/health-information/disorders/guillain-barre-syndrome#toc-what-is-guillain-barr-syndrome-'}, {'title': 'How is Guillain-Barré...', 'link': 'https://www.ninds.nih.gov/health-information/disorders/guillain-barre-syndrome#toc-how-is-guillain-barr-syndrome-diagnosed-and-treated-'}, {'title': 'What are the latest updates on...', 'link': 'https://www.ninds.nih.gov/health-information/disorders/guillain-barre-syndrome#toc-what-are-the-latest-updates-on-guillain-barr-syndrome-'}]}</td></tr><tr><td>4</td><td>Guillain–Barré syndrome</td><td>https://en.wikipedia.org/wiki/Guillain%E2%80%93Barr%C3%A9_syndrome</td><td>Guillain–Barré syndrome (GBS) is a rapid-onset muscle weakness caused by the immune system damaging the peripheral nervous system.</td><td>Wikipedia</td><td>https://en.wikipedia.org › ...</td><td></td></tr><tr><td>5</td><td>Guillain–Barré syndrome</td><td>https://www.who.int/news-room/fact-sheets/detail/guillain-barr%C3%A9-syndrome</td><td>Guillain-Barré syndrome (GBS) is a rare condition in which a person's immune system attacks the peripheral nerves.</td><td>World Health Organization (WHO)</td><td>https://www.who.int › ...</td><td></td></tr><tr><td>6</td><td>Guillain-Barré Syndrome</td><td>https://www.hopkinsmedicine.org/health/conditions-and-diseases/guillainbarr-syndrome</td><td>Guillain-Barré syndrome (GBS) is a rare neurological disorder in which the body's immune system attacks the peripheral nervous system.</td><td>Johns Hopkins Medicine</td><td>https://www.hopkinsmedicine.org › ...</td><td></td></tr><tr><td>7</td><td>Guillain-Barre syndrome - Diagnosis and treatment</td><td>https://www.mayoclinic.org/diseases-conditions/guillain-barre-syndrome/diagnosis-treatment/drc-20363006</td><td>This rare autoimmune condition affects the nerves, causing weakness and tingling in the arms and legs that quickly spreads throughout the ...</td><td>Mayo Clinic</td><td>https://www.mayoclinic.org › ...</td><td>{'inline': [{'title': 'Symptoms and causes', 'link': 'https://www.mayoclinic.org/diseases-conditions/guillain-barre-syndrome/symptoms-causes/syc-20362793'}, {'title': 'Doctors and departments', 'link': 'https://www.mayoclinic.org/diseases-conditions/guillain-barre-syndrome/doctors-departments/ddc-20363037'}, {'title': 'Care at Mayo Clinic', 'link': 'https://www.mayoclinic.org/diseases-conditions/guillain-barre-syndrome/care-at-mayo-clinic/mac-20363049'}]}</td></tr><tr><td>8</td><td>Guillain-Barre Syndrome</td><td>https://www.physio-pedia.com/Guillain-Barre_Syndrome</td><td>Guillain-Barré syndrome (GBS) is a condition characterised by the autoimmune destruction of the peripheral sensory system.</td><td>Physiopedia</td><td>https://www.physio-pedia.com › ...</td><td>{'inline': [{'title': 'Case Study', 'link': 'https://www.physio-pedia.com/Case_Study:_Guillain-Barre_Syndrome_(Sub-Acute)'}, {'title': 'Acute Motor Axonal...', 'link': 'https://www.physio-pedia.com/Acute_Motor_Axonal_Neuropathy_(AMAN),_a_Variant_of_Guillain-Barre_Syndrome:_A_Case_Study'}, {'title': 'Edit', 'link': 'https://www.physio-pedia.com/Guillain-Barre_Syndrome?veaction=edit'}]}</td></tr><tr><td>9</td><td>Guillain-Barre Syndrome: Practice Essentials, Background, ...</td><td>https://emedicine.medscape.com/article/315632-overview</td><td>GBS is considered to be a postinfectious, immune-mediated disease targeting peripheral nerves. Up to two thirds of patients report an antecedent ...</td><td>Medscape</td><td>https://emedicine.medscape.com › ...</td><td></td></tr><tr><td>10</td><td>Guillain-Barré Syndrome | Campylobacter</td><td>https://www.cdc.gov/campylobacter/signs-symptoms/guillain-barre-syndrome.html</td><td>Guillain-Barré (Ghee-YAN Bah-RAY) syndrome happens when a person's immune system harms their nerves. This harm causes muscle weakness and ...</td><td>Centers for Disease Control and Prevention | CDC (.gov)</td><td>https://www.cdc.gov › ...</td><td></td></tr><tr><td>1</td><td>Guillain-Barré syndrome Information - Mount Sinai</td><td>https://www.mountsinai.org/health-library/diseases-conditions/guillain-barr-syndrome</td><td>GBS damages parts of nerves. This nerve damage causes tingling, muscle weakness, loss of balance, and paralysis. GBS most often affects the nerve covering ( ...</td><td>Mount Sinai</td><td>https://www.mountsinai.org › ...</td><td></td></tr><tr><td>2</td><td>Guillain-Barre Syndrome - StatPearls</td><td>https://www.ncbi.nlm.nih.gov/books/NBK532254/</td><td>Guillain-Barré syndrome (GBS) is a rare but serious post-infectious immune-mediated neuropathy. It results from the autoimmune destruction of nerves in the ...</td><td>National Institutes of Health (NIH) (.gov)</td><td>https://www.ncbi.nlm.nih.gov › ...</td><td></td></tr><tr><td>3</td><td>Guillain-Barré Syndrome: Causes, Symptoms, ... - WebMD</td><td>https://www.webmd.com/brain/what-is-guillain-barre</td><td>Guillain-Barré Syndrome (GBS) is a rare disorder in which your immune system suddenly attacks your nerves, often after you've had a stomach ...</td><td>WebMD</td><td>https://www.webmd.com › ...</td><td></td></tr><tr><td>4</td><td>Guillain–Barré syndrome | Nature Reviews Disease Primers</td><td>https://www.nature.com/articles/s41572-024-00580-4</td><td>GBS is usually a monophasic condition in which the immune system aberrantly disrupts the function and structure of the peripheral nervous system ...</td><td>Nature</td><td>https://www.nature.com › ...</td><td></td></tr><tr><td>5</td><td>Guillain-Barré syndrome</td><td>https://www.sciencedirect.com/science/article/abs/pii/S0140673621005171</td><td>Guillain-Barré syndrome is an immune-mediated polyradiculoneuropathy that accounts for an estimated 100 000 new cases annually worldwide.1 In ...</td><td>ScienceDirect.com</td><td>https://www.sciencedirect.com › ...</td><td></td></tr><tr><td>6</td><td>Guillain-Barré Syndrome : CONTINUUM</td><td>https://journals.lww.com/continuum/fulltext/2020/10000/guillain_barr__syndrome.6.aspx</td><td>Guillain-Barré syndrome (GBS) encompasses a spectrum of acute neuropathic disorders, with muscle weakness being the cardinal manifestation in the majority of ...</td><td>Lippincott</td><td>https://journals.lww.com › ...</td><td></td></tr><tr><td>7</td><td>Guillain-Barre Syndrome - GBS</td><td>https://medlineplus.gov/guillainbarresyndrome.html</td><td>Guillain-Barre syndrome is a rare disorder that causes your immune system to attack your peripheral nervous system (PNS).</td><td>MedlinePlus (.gov)</td><td>https://medlineplus.gov › ...</td><td></td></tr><tr><td>8</td><td>Guillain-Barré Syndrome (GBS) - Brain, Spinal Cord, and ...</td><td>https://www.msdmanuals.com/home/brain-spinal-cord-and-nerve-disorders/peripheral-nerve-and-related-disorders/guillain-barr%C3%A9-syndrome-gbs</td><td>Guillain-Barré syndrome is a form of polyneuropathy causing muscle weakness, which usually worsens over a few days to weeks, then slowly improves or returns ...</td><td>MSD Manuals</td><td>https://www.msdmanuals.com › ...</td><td></td></tr><tr><td>9</td><td>Guillain-Barré syndrome: Symptoms, causes, diagnosis, ...</td><td>https://www.medicalnewstoday.com/articles/167892</td><td>Guillain-Barré syndrome is a neurological disorder and autoimmune disease that affects the peripheral nervous system. Guillain-Barré syndrome can lead to ...</td><td>Medical News Today</td><td>https://www.medicalnewstoday.com › ...</td><td></td></tr><tr><td>1</td><td>Guillain-Barré syndrome (GBS)</td><td>https://www.healthline.com/health/guillain-barre-syndrome</td><td>The first symptom of Guillain-Barré syndrome is usually a tingling sensation in your toes, feet, and legs. The tingling spreads upward to your arms and fingers.</td><td>Healthline</td><td>https://www.healthline.com › ...</td><td></td></tr><tr><td>2</td><td>Guillain-Barré Syndrome (GBS) and Vaccines</td><td>https://www.cdc.gov/vaccine-safety/about/guillain-barre.html</td><td>Guillain-Barré syndrome (GBS) is a rare disorder where the body's immune system damages nerve. To study whether a new vaccine might be ...</td><td>Centers for Disease Control and Prevention | CDC (.gov)</td><td>https://www.cdc.gov › ...</td><td></td></tr><tr><td>3</td><td>Diagnosis and management of Guillain–Barré syndrome ...</td><td>https://www.nature.com/articles/s41582-019-0250-9</td><td>Guillain–Barré syndrome (GBS) is a rare, but potentially fatal, immune-mediated disease of the peripheral nerves and nerve roots that is ...</td><td>Nature</td><td>https://www.nature.com › ...</td><td></td></tr><tr><td>4</td><td>Guillain–Barré Syndrome | NEJM</td><td>https://www.nejm.org/doi/full/10.1056/NEJMra1114525</td><td>The Guillain–Barré syndrome is the most frequent cause of acute flaccid paralysis worldwide and constitutes a neurologic emergency.</td><td>The New England Journal of Medicine</td><td>https://www.nejm.org › ...</td><td></td></tr><tr><td>5</td><td>Guillain-Barré syndrome</td><td>https://www.sciencedirect.com/science/article/pii/S0140673621005171</td><td>Guillain-Barré syndrome is an immune-mediated polyradiculoneuropathy that accounts for an estimated 100 000 new cases annually worldwide.</td><td>ScienceDirect.com</td><td>https://www.sciencedirect.com › ...</td><td></td></tr><tr><td>6</td><td>Guillain-Barré Syndrome | Diagnosis & Disease Information</td><td>https://www.pulmonologyadvisor.com/ddi/guillain-barre-syndrome/</td><td>Guillain-Barré syndrome is an autoimmune disorder that results in inflammatory demyelination.1 The condition was first described in 1916 by ...</td><td>Pulmonology Advisor</td><td>https://www.pulmonologyadvisor.com › ...</td><td></td></tr><tr><td>7</td><td>Guillain‐Barré syndrome: a comprehensive review - Bellanti</td><td>https://onlinelibrary.wiley.com/doi/10.1111/ene.16365</td><td>Guillain-Barré syndrome is a postinfectious, immune-mediated peripheral neuropathy. As our knowledge continues to expand, its pathophysiological ...</td><td>Wiley Online Library</td><td>https://onlinelibrary.wiley.com › ...</td><td></td></tr><tr><td>8</td><td>Guillain-Barré Syndrome (GBS)</td><td>https://www.childrenshospital.org/conditions/guillain-barre-syndrome</td><td>Guillain-Barré syndrome (GBS) occurs when the immune system attacks the peripheral nervous system. Learn more from Boston Children's Hospital.</td><td>Boston Children's Hospital</td><td>https://www.childrenshospital.org › ...</td><td></td></tr><tr><td>9</td><td>Guillain–Barré syndrome outbreak in Pune - The Lancet</td><td>https://www.thelancet.com/journals/lancet/article/PIIS0140-6736(25)00414-3/fulltext</td><td>As of March 8, 2025, the total number of Guillain–Barré syndrome cases in Pune was 225, with 197 confirmed diagnoses and 28 suspected cases, ...</td><td>The Lancet</td><td>https://www.thelancet.com › ...</td><td></td></tr><tr><td>10</td><td>What is Guillain-Barré Syndrome or GBS</td><td>https://www.gbs-cidp.org/gbs/</td><td>GBS is characterized by the rapid onset of numbness, weakness, and often paralysis of the legs, arms, breathing muscles, and face. Paralysis is ascending, ...</td><td>GBS/CIDP Foundation International</td><td>https://www.gbs-cidp.org › ...</td><td></td></tr><tr><td>1</td><td>Guillain-Barré Syndrome - Symptoms, Causes, Treatment</td><td>https://rarediseases.org/rare-diseases/guillain-barre-syndrome/</td><td>Guillain-Barré syndrome (GBS) is a rare, rapidly progressive disease due to inflammation of the nerves causing muscle weakness, sometimes ...</td><td>National Organization for Rare Disorders</td><td>https://rarediseases.org › ...</td><td></td></tr><tr><td>2</td><td>Guillain-Barré syndrome in adults: Pathogenesis, clinical ...</td><td>https://www.uptodate.com/contents/guillain-barre-syndrome-in-adults-pathogenesis-clinical-features-and-diagnosis</td><td>Time course of symptoms · Examination findings · - Weakness · - Deep tendon reflexes · - Other findings · Variant forms of Guillain-Barré syndrome.</td><td>Wolters Kluwer</td><td>https://www.uptodate.com › ...</td><td></td></tr><tr><td>3</td><td>Current treatment practice of Guillain-Barré syndrome</td><td>https://www.neurology.org/doi/10.1212/WNL.0000000000007719</td><td>Plasma exchange (PE) and IV immunoglobulin (IVIg) are the only proven effective treatments for Guillain-Barré syndrome (GBS), although there has been little ...</td><td>Neurology® Journals</td><td>https://www.neurology.org › ...</td><td></td></tr><tr><td>4</td><td>Guillain-Barre syndrome: Video, Causes, & Meaning</td><td>https://www.osmosis.org/learn/Guillain-Barre_syndrome</td><td>The cause of Guillain- Barré syndrome is unknown, but it's known to develop after a bacterial infection, like Campylobacter jejuni and Mycoplasma pneumoniae, or ...</td><td>Osmosis</td><td>https://www.osmosis.org › ...</td><td></td></tr><tr><td>5</td><td>Guillain-Barré Syndrome</td><td>https://www.americanbrainfoundation.org/diseases/guillain-barre-syndrome/</td><td>Guillain-Barré syndrome (GBS) is a rare neurologic disorder in which the body's autoimmune response attacks the peripheral nervous system.</td><td>American Brain Foundation</td><td>https://www.americanbrainfoundation.org › ...</td><td></td></tr><tr><td>6</td><td>What is Guillain-Barré Syndrome (GBS)? - By Adhikari Lifeline</td><td>https://www.adhikarilifeline.com/what-is-guillain-barre-syndrome-gbs/</td><td>Guillain-Barré Syndrome (GBS) is a rare but serious neurological disorder in which the body's immune system mistakenly attacks the nervous system.</td><td>adhikarilifeline.com</td><td>https://www.adhikarilifeline.com › ...</td><td></td></tr><tr><td>7</td><td>Guillain-Barré syndrome: Types, Symptoms, Causes & ...</td><td>https://www.pacehospital.com/guillain-barre-syndrome-symptoms-causes-diagnosis-treatment</td><td>Guillain-Barré Syndrome is a rare autoimmune disorder in which the immune system attacks the nerves, leading to muscle weakness, numbness, and paralysis.</td><td>PACE Hospitals</td><td>https://www.pacehospital.com › ...</td><td></td></tr><tr><td>8</td><td>Guillain Barré Syndrome</td><td>https://www.brainfacts.org/diseases-and-disorders/neurological-disorders-az/diseases-a-to-z-from-ninds/guillain-barr%C3%A9-syndrome</td><td>Guillain-Barré syndrome is a disorder in which the body's immune system attacks part of the peripheral nervous system. The first symptoms of this disorder ...</td><td>BrainFacts</td><td>https://www.brainfacts.org › ...</td><td></td></tr><tr><td>9</td><td>Guillain-Barré Syndrome</td><td>https://www.mayoclinicproceedings.org/article/S0025-6196(16)30818-7/fulltext</td><td>Guillain-Barré syndrome is an acute inflammatory immune-mediated polyradiculoneuropathy presenting typically with tingling, progressive weakness, and pain.</td><td>Mayo Clinic Proceedings</td><td>https://www.mayoclinicproceedings.org › ...</td><td></td></tr><tr><td>10</td><td>Guillain-Barré Syndrome - Neurology - Highland Hospital</td><td>https://www.urmc.rochester.edu/highland/departments-centers/neurology/conditions-we-treat/guillain-barr</td><td>Guillain-Barré (ghee-yan bah-ray) syndrome is a disorder in which the body's immune system attacks part of the peripheral nervous system.</td><td>University of Rochester Medical Center</td><td>https://www.urmc.rochester.edu › ...</td><td></td></tr><tr><td>1</td><td>Guillain-Barre Syndrome: Symptoms, Causes & Treatment</td><td>https://www.blkmaxhospital.com/blogs/guillain-barre-syndrome</td><td>Guillain-Barre Syndrome (GBS) is a rare but serious autoimmune disorder that affects the peripheral nervous system.</td><td>BLK-Max Hospital</td><td>https://www.blkmaxhospital.com › ...</td><td></td></tr><tr><td>2</td><td>Pediatric Guillain-Barré syndrome (GBS) - Dallas</td><td>https://www.childrens.com/specialties-services/conditions/guillain-barre-syndrome</td><td>A typical sign of GBS is muscle weakness, numbness, tingling (pins-and-needle sensation) and occasionally pain, that starts in the feet and legs. These symptoms ...</td><td>Children’s Health</td><td>https://www.childrens.com › ...</td><td></td></tr><tr><td>3</td><td>Guillain-Barre Syndrome (GBS)</td><td>https://www.jeffersonhealth.org/conditions-and-treatments/guillain-barre-syndrome</td><td>We're also involved in researching the underlying causes of GBS and other autoimmune neuromuscular conditions. At Jefferson Health, you can be sure you're ...</td><td>Jefferson Health</td><td>https://www.jeffersonhealth.org › ...</td><td></td></tr><tr><td>4</td><td>Pune's Guillain-Barré Syndrome Epidemic Related to ...</td><td>https://www.vax-before-travel.com/punes-guillain-barr-syndrome-epidemic-related-water-quality-2025-03-10</td><td>Experts have linked these GBS infections with Campylobacter jejuni. This bacteria is one of the most common causes of food poisoning.</td><td>Vax-Before-Travel</td><td>https://www.vax-before-travel.com › ...</td><td></td></tr><tr><td>5</td><td>Guillain-Barré Syndrome (GBS)</td><td>https://litfl.com/guillain-barre-syndrome-gbs/</td><td>Guillain-Barré Syndrome (GBS) is the most common and most severe acute paralytic neuropathy, consisting of multiple variants with distinct clinical and ...</td><td>Life in the Fast Lane • LITFL</td><td>https://litfl.com › ...</td><td></td></tr><tr><td>6</td><td>Guillain-Barré Syndrome</td><td>https://zerotofinals.com/medicine/neurology/guillainbarre/</td><td>Presentation. Symptoms usually start within four weeks of the triggering infection. They begin in the feet and progress upward. Symptoms peak within 2-4 weeks.</td><td>Zero To Finals</td><td>https://zerotofinals.com › ...</td><td></td></tr><tr><td>7</td><td>Guillain-Barré Syndrome (for Parents)</td><td>https://kidshealth.org/en/parents/gbs.html</td><td>What Are the Signs & Symptoms of Guillain-Barré Syndrome? · tingling or pain in the toes and fingertips · weakness or pain in the legs that causes trouble ...</td><td>KidsHealth</td><td>https://kidshealth.org › ...</td><td></td></tr><tr><td>8</td><td>Guillain-Barré Syndrome | McGovern Medical School</td><td>https://med.uth.edu/neurosciences/conditions-and-treatments/nerve-disorders/guillain-barre-syndrome/</td><td>Signs Guillain-Barré Syndrome. Initial symptoms may present as pain, weakness, or tingling in the hands or feet. Patients usually experience this in one side of ...</td><td>UTHealth Houston</td><td>https://med.uth.edu › ...</td><td></td></tr><tr><td>9</td><td>Guillain-Barré Syndrome</td><td>https://www.medcomic.com/medcomic/guillain-barre-syndrome</td><td>Guillain-Barré syndrome (GBS) is an acute, inflammatory demyelinating polyneuropathy with ascending muscle weakness that is autoimmune in nature.</td><td>Medcomic</td><td>https://www.medcomic.com › ...</td><td></td></tr><tr><td>10</td><td>Physical Therapy Guide to Guillain-Barré Syndrome</td><td>https://www.choosept.com/guide/physical-therapy-guide-guillain-barre-syndrome</td><td>Physical therapists have extensive training to help people during GBS recovery. They help patients understand how GBS affects their ability to move safely.</td><td>ChoosePT</td><td>https://www.choosept.com › ...</td><td></td></tr><tr><td>1</td><td>Guillain-Barre Syndrome: Symptoms, Causes & Treatment</td><td>https://www.blkmaxhospital.com/blogs/guillain-barre-syndrome</td><td>Guillain-Barre Syndrome is a rare but serious neurological disorder that requires immediate medical attention. While most people recover, early ...</td><td>BLK-Max Hospital</td><td>https://www.blkmaxhospital.com › ...</td><td></td></tr><tr><td>2</td><td>Guillain-Barré Syndrome</td><td>https://www.yalemedicine.org/conditions/guillain-barre-syndrome</td><td>Guillain-Barré syndrome (GBS) is a neurological condition in which the body's immune system attacks healthy nerve cells.</td><td>Yale Medicine</td><td>https://www.yalemedicine.org › ...</td><td></td></tr><tr><td>3</td><td>Definition of Guillain-Barré syndrome</td><td>https://www.cancer.gov/publications/dictionaries/cancer-terms/def/guillain-barre-syndrome</td><td>A rare condition in which the body's immune system attacks the nerves located outside the brain and spinal cord. Symptoms of Guillain-Barré syndrome include ...</td><td>National Cancer Institute (.gov)</td><td>https://www.cancer.gov › ...</td><td></td></tr><tr><td>4</td><td>à¥ à¤¯à¤¾ à¤¹à¥ˆ?</td><td>https://translate.google.com/translate?u=https://www.webmd.com/brain/what-is-guillain-barre&hl=hi&sl=en&tl=hi&client=srp</td><td>à¤—à¥ à¤‡à¤²à¥‡à¤¨-à¤¬à¥ˆà¤°à¥‡ à¤¸à¤¿à¤‚à¤¡à¥ à¤°à¥‹à¤® à¤ à¤• à¤¦à¥ à¤°à¥ à¤²à¤ à¤'à¤Ÿà¥‹à¤‡à¤®à¥ à¤¯à¥‚à¤¨ à¤µà¤¿à¤•à¤¾à¤° à¤¹à¥ˆà¥¤ ...</td><td>WebMD</td><td>https://www.webmd.com › brain › what-is-guillain-barre</td><td></td></tr><tr><td>5</td><td>Epidemiology of Guillain Barre Syndrome in North Western ...</td><td>https://www.ijnonline.org/article-details/1785</td><td>In our study prevalence of GBS was 41.5%. Most cases were in the age range of 13-60 months. In these study males (68.5%) were more affected than girls (31.5%).</td><td>Indian Journal of Neurosciences</td><td>https://www.ijnonline.org › ...</td><td></td></tr><tr><td>6</td><td>When Your Child Has Guillain-Barre Syndrome (GBS)</td><td>https://www.saintlukeskc.org/health-library/when-your-child-has-guillain-barre-syndrome-gbs</td><td>Your child has been diagnosed with Guillain-Barré syndrome (GBS). This is an illness that affects the peripheral nerves, often both the sensory and motor ...</td><td>Saint Luke's Health System Kansas City</td><td>https://www.saintlukeskc.org › ...</td><td></td></tr><tr><td>7</td><td>Guillain-Barré Syndrome (GBS): Symptoms & Causes</td><td>https://www.nyp.org/neuro/neuromuscular-disorders/guillain-barre-syndrome</td><td>Guillain-Barré syndrome is a neurological disorder in which the body's immune system attacks the nerves outside the brain and spinal cord.</td><td>NewYork-Presbyterian</td><td>https://www.nyp.org › ...</td><td></td></tr><tr><td>8</td><td>Guillain-Barre syndrome (GBS)</td><td>https://gpnotebook.com/pages/infectious-disease/guillain-barre-syndrome-gbs</td><td>Guillain-Barre syndrome (GBS) ... A prodromal malaise with vomiting, headache, fever and limb pains is rapidly surmounted by a progressive and ...</td><td>GPnotebook</td><td>https://gpnotebook.com › ...</td><td></td></tr><tr><td>9</td><td>Guillain-Barré Syndrome</td><td>https://zerotofinals.com/medicine/neurology/guillainbarre/</td><td>Guillain-Barré syndrome is an acute paralytic polyneuropathy that affects the peripheral nervous system. It causes acute, symmetrical, ascending weakness.</td><td>Zero To Finals</td><td>https://zerotofinals.com › ...</td><td></td></tr><tr><td>10</td><td>क्या है Guillain-Barre Syndrome? महाराष्ट्र में 6 की मौत ...</td><td>https://www.prabhatkhabar.com/state/maharashtra/what-is-guillain-barre-syndrome-maharashtra-in-grip-most-cases-from-youth</td><td>गिलियन-बैरे सिंड्रोम (जीबीएस) एक ऑटोइम्यून बीमारी है. यह मरीजों के इम्यून सिस्टम को प्रभावित करता है. जीबीएस मरीजों के स्वस्थ्य नसों पर हमला करता है. जिससे नसें कमजोर हो जाती हैं. अगर समय पर इसका इलाज ...</td><td>Prabhat Khabar</td><td>https://www.prabhatkhabar.com › Rajya › Maharashtra</td><td></td></tr></tbody></table></div>"
      ]
     },
     "metadata": {
      "application/vnd.databricks.v1+output": {
       "addedWidgets": {},
       "aggData": [],
       "aggError": "",
       "aggOverflow": false,
       "aggSchema": [],
       "aggSeriesLimitReached": false,
       "aggType": "",
       "arguments": {},
       "columnCustomDisplayInfos": {},
       "data": [
        [
         1,
         "Guillain-Barre syndrome - Symptoms and causes",
         "https://www.mayoclinic.org/diseases-conditions/guillain-barre-syndrome/symptoms-causes/syc-20362793",
         "Guillain-Barre syndrome often begins with tingling and weakness starting in the feet and legs and spreading to the upper body and arms. Some ...",
         "Mayo Clinic",
         "https://www.mayoclinic.org › ...",
         ""
        ],
        [
         2,
         "Guillain-Barré Syndrome (GBS): Symptoms & Treatment",
         "https://my.clevelandclinic.org/health/diseases/15838-guillain-barre-syndrome",
         "Guillain-Barré syndrome is a rare autoimmune condition in which your immune system attacks your peripheral nerves. It causes numbness and muscle weakness.",
         "Cleveland Clinic",
         "https://my.clevelandclinic.org › ...",
         ""
        ],
        [
         3,
         "Guillain-Barré Syndrome",
         "https://www.ninds.nih.gov/health-information/disorders/guillain-barre-syndrome",
         "Guillain-Barré syndrome (GBS) (pronounced Ghee-yan Bah-ray) is a rare neurological disorder in which a person's immune system mistakenly attacks ...",
         "National Institute of Neurological Disorders and Stroke (.gov)",
         "https://www.ninds.nih.gov › ...",
         "{'inline': [{'title': 'What is Guillain-Barré...', 'link': 'https://www.ninds.nih.gov/health-information/disorders/guillain-barre-syndrome#toc-what-is-guillain-barr-syndrome-'}, {'title': 'How is Guillain-Barré...', 'link': 'https://www.ninds.nih.gov/health-information/disorders/guillain-barre-syndrome#toc-how-is-guillain-barr-syndrome-diagnosed-and-treated-'}, {'title': 'What are the latest updates on...', 'link': 'https://www.ninds.nih.gov/health-information/disorders/guillain-barre-syndrome#toc-what-are-the-latest-updates-on-guillain-barr-syndrome-'}]}"
        ],
        [
         4,
         "Guillain–Barré syndrome",
         "https://en.wikipedia.org/wiki/Guillain%E2%80%93Barr%C3%A9_syndrome",
         "Guillain–Barré syndrome (GBS) is a rapid-onset muscle weakness caused by the immune system damaging the peripheral nervous system.",
         "Wikipedia",
         "https://en.wikipedia.org › ...",
         ""
        ],
        [
         5,
         "Guillain–Barré syndrome",
         "https://www.who.int/news-room/fact-sheets/detail/guillain-barr%C3%A9-syndrome",
         "Guillain-Barré syndrome (GBS) is a rare condition in which a person's immune system attacks the peripheral nerves.",
         "World Health Organization (WHO)",
         "https://www.who.int › ...",
         ""
        ],
        [
         6,
         "Guillain-Barré Syndrome",
         "https://www.hopkinsmedicine.org/health/conditions-and-diseases/guillainbarr-syndrome",
         "Guillain-Barré syndrome (GBS) is a rare neurological disorder in which the body's immune system attacks the peripheral nervous system.",
         "Johns Hopkins Medicine",
         "https://www.hopkinsmedicine.org › ...",
         ""
        ],
        [
         7,
         "Guillain-Barre syndrome - Diagnosis and treatment",
         "https://www.mayoclinic.org/diseases-conditions/guillain-barre-syndrome/diagnosis-treatment/drc-20363006",
         "This rare autoimmune condition affects the nerves, causing weakness and tingling in the arms and legs that quickly spreads throughout the ...",
         "Mayo Clinic",
         "https://www.mayoclinic.org › ...",
         "{'inline': [{'title': 'Symptoms and causes', 'link': 'https://www.mayoclinic.org/diseases-conditions/guillain-barre-syndrome/symptoms-causes/syc-20362793'}, {'title': 'Doctors and departments', 'link': 'https://www.mayoclinic.org/diseases-conditions/guillain-barre-syndrome/doctors-departments/ddc-20363037'}, {'title': 'Care at Mayo Clinic', 'link': 'https://www.mayoclinic.org/diseases-conditions/guillain-barre-syndrome/care-at-mayo-clinic/mac-20363049'}]}"
        ],
        [
         8,
         "Guillain-Barre Syndrome",
         "https://www.physio-pedia.com/Guillain-Barre_Syndrome",
         "Guillain-Barré syndrome (GBS) is a condition characterised by the autoimmune destruction of the peripheral sensory system.",
         "Physiopedia",
         "https://www.physio-pedia.com › ...",
         "{'inline': [{'title': 'Case Study', 'link': 'https://www.physio-pedia.com/Case_Study:_Guillain-Barre_Syndrome_(Sub-Acute)'}, {'title': 'Acute Motor Axonal...', 'link': 'https://www.physio-pedia.com/Acute_Motor_Axonal_Neuropathy_(AMAN),_a_Variant_of_Guillain-Barre_Syndrome:_A_Case_Study'}, {'title': 'Edit', 'link': 'https://www.physio-pedia.com/Guillain-Barre_Syndrome?veaction=edit'}]}"
        ],
        [
         9,
         "Guillain-Barre Syndrome: Practice Essentials, Background, ...",
         "https://emedicine.medscape.com/article/315632-overview",
         "GBS is considered to be a postinfectious, immune-mediated disease targeting peripheral nerves. Up to two thirds of patients report an antecedent ...",
         "Medscape",
         "https://emedicine.medscape.com › ...",
         ""
        ],
        [
         10,
         "Guillain-Barré Syndrome | Campylobacter",
         "https://www.cdc.gov/campylobacter/signs-symptoms/guillain-barre-syndrome.html",
         "Guillain-Barré (Ghee-YAN Bah-RAY) syndrome happens when a person's immune system harms their nerves. This harm causes muscle weakness and ...",
         "Centers for Disease Control and Prevention | CDC (.gov)",
         "https://www.cdc.gov › ...",
         ""
        ],
        [
         1,
         "Guillain-Barré syndrome Information - Mount Sinai",
         "https://www.mountsinai.org/health-library/diseases-conditions/guillain-barr-syndrome",
         "GBS damages parts of nerves. This nerve damage causes tingling, muscle weakness, loss of balance, and paralysis. GBS most often affects the nerve covering ( ...",
         "Mount Sinai",
         "https://www.mountsinai.org › ...",
         ""
        ],
        [
         2,
         "Guillain-Barre Syndrome - StatPearls",
         "https://www.ncbi.nlm.nih.gov/books/NBK532254/",
         "Guillain-Barré syndrome (GBS) is a rare but serious post-infectious immune-mediated neuropathy. It results from the autoimmune destruction of nerves in the ...",
         "National Institutes of Health (NIH) (.gov)",
         "https://www.ncbi.nlm.nih.gov › ...",
         ""
        ],
        [
         3,
         "Guillain-Barré Syndrome: Causes, Symptoms, ... - WebMD",
         "https://www.webmd.com/brain/what-is-guillain-barre",
         "Guillain-Barré Syndrome (GBS) is a rare disorder in which your immune system suddenly attacks your nerves, often after you've had a stomach ...",
         "WebMD",
         "https://www.webmd.com › ...",
         ""
        ],
        [
         4,
         "Guillain–Barré syndrome | Nature Reviews Disease Primers",
         "https://www.nature.com/articles/s41572-024-00580-4",
         "GBS is usually a monophasic condition in which the immune system aberrantly disrupts the function and structure of the peripheral nervous system ...",
         "Nature",
         "https://www.nature.com › ...",
         ""
        ],
        [
         5,
         "Guillain-Barré syndrome",
         "https://www.sciencedirect.com/science/article/abs/pii/S0140673621005171",
         "Guillain-Barré syndrome is an immune-mediated polyradiculoneuropathy that accounts for an estimated 100 000 new cases annually worldwide.1 In ...",
         "ScienceDirect.com",
         "https://www.sciencedirect.com › ...",
         ""
        ],
        [
         6,
         "Guillain-Barré Syndrome : CONTINUUM",
         "https://journals.lww.com/continuum/fulltext/2020/10000/guillain_barr__syndrome.6.aspx",
         "Guillain-Barré syndrome (GBS) encompasses a spectrum of acute neuropathic disorders, with muscle weakness being the cardinal manifestation in the majority of ...",
         "Lippincott",
         "https://journals.lww.com › ...",
         ""
        ],
        [
         7,
         "Guillain-Barre Syndrome - GBS",
         "https://medlineplus.gov/guillainbarresyndrome.html",
         "Guillain-Barre syndrome is a rare disorder that causes your immune system to attack your peripheral nervous system (PNS).",
         "MedlinePlus (.gov)",
         "https://medlineplus.gov › ...",
         ""
        ],
        [
         8,
         "Guillain-Barré Syndrome (GBS) - Brain, Spinal Cord, and ...",
         "https://www.msdmanuals.com/home/brain-spinal-cord-and-nerve-disorders/peripheral-nerve-and-related-disorders/guillain-barr%C3%A9-syndrome-gbs",
         "Guillain-Barré syndrome is a form of polyneuropathy causing muscle weakness, which usually worsens over a few days to weeks, then slowly improves or returns ...",
         "MSD Manuals",
         "https://www.msdmanuals.com › ...",
         ""
        ],
        [
         9,
         "Guillain-Barré syndrome: Symptoms, causes, diagnosis, ...",
         "https://www.medicalnewstoday.com/articles/167892",
         "Guillain-Barré syndrome is a neurological disorder and autoimmune disease that affects the peripheral nervous system. Guillain-Barré syndrome can lead to ...",
         "Medical News Today",
         "https://www.medicalnewstoday.com › ...",
         ""
        ],
        [
         1,
         "Guillain-Barré syndrome (GBS)",
         "https://www.healthline.com/health/guillain-barre-syndrome",
         "The first symptom of Guillain-Barré syndrome is usually a tingling sensation in your toes, feet, and legs. The tingling spreads upward to your arms and fingers.",
         "Healthline",
         "https://www.healthline.com › ...",
         ""
        ],
        [
         2,
         "Guillain-Barré Syndrome (GBS) and Vaccines",
         "https://www.cdc.gov/vaccine-safety/about/guillain-barre.html",
         "Guillain-Barré syndrome (GBS) is a rare disorder where the body's immune system damages nerve. To study whether a new vaccine might be ...",
         "Centers for Disease Control and Prevention | CDC (.gov)",
         "https://www.cdc.gov › ...",
         ""
        ],
        [
         3,
         "Diagnosis and management of Guillain–Barré syndrome ...",
         "https://www.nature.com/articles/s41582-019-0250-9",
         "Guillain–Barré syndrome (GBS) is a rare, but potentially fatal, immune-mediated disease of the peripheral nerves and nerve roots that is ...",
         "Nature",
         "https://www.nature.com › ...",
         ""
        ],
        [
         4,
         "Guillain–Barré Syndrome | NEJM",
         "https://www.nejm.org/doi/full/10.1056/NEJMra1114525",
         "The Guillain–Barré syndrome is the most frequent cause of acute flaccid paralysis worldwide and constitutes a neurologic emergency.",
         "The New England Journal of Medicine",
         "https://www.nejm.org › ...",
         ""
        ],
        [
         5,
         "Guillain-Barré syndrome",
         "https://www.sciencedirect.com/science/article/pii/S0140673621005171",
         "Guillain-Barré syndrome is an immune-mediated polyradiculoneuropathy that accounts for an estimated 100 000 new cases annually worldwide.",
         "ScienceDirect.com",
         "https://www.sciencedirect.com › ...",
         ""
        ],
        [
         6,
         "Guillain-Barré Syndrome | Diagnosis & Disease Information",
         "https://www.pulmonologyadvisor.com/ddi/guillain-barre-syndrome/",
         "Guillain-Barré syndrome is an autoimmune disorder that results in inflammatory demyelination.1 The condition was first described in 1916 by ...",
         "Pulmonology Advisor",
         "https://www.pulmonologyadvisor.com › ...",
         ""
        ],
        [
         7,
         "Guillain‐Barré syndrome: a comprehensive review - Bellanti",
         "https://onlinelibrary.wiley.com/doi/10.1111/ene.16365",
         "Guillain-Barré syndrome is a postinfectious, immune-mediated peripheral neuropathy. As our knowledge continues to expand, its pathophysiological ...",
         "Wiley Online Library",
         "https://onlinelibrary.wiley.com › ...",
         ""
        ],
        [
         8,
         "Guillain-Barré Syndrome (GBS)",
         "https://www.childrenshospital.org/conditions/guillain-barre-syndrome",
         "Guillain-Barré syndrome (GBS) occurs when the immune system attacks the peripheral nervous system. Learn more from Boston Children's Hospital.",
         "Boston Children's Hospital",
         "https://www.childrenshospital.org › ...",
         ""
        ],
        [
         9,
         "Guillain–Barré syndrome outbreak in Pune - The Lancet",
         "https://www.thelancet.com/journals/lancet/article/PIIS0140-6736(25)00414-3/fulltext",
         "As of March 8, 2025, the total number of Guillain–Barré syndrome cases in Pune was 225, with 197 confirmed diagnoses and 28 suspected cases, ...",
         "The Lancet",
         "https://www.thelancet.com › ...",
         ""
        ],
        [
         10,
         "What is Guillain-Barré Syndrome or GBS",
         "https://www.gbs-cidp.org/gbs/",
         "GBS is characterized by the rapid onset of numbness, weakness, and often paralysis of the legs, arms, breathing muscles, and face. Paralysis is ascending, ...",
         "GBS/CIDP Foundation International",
         "https://www.gbs-cidp.org › ...",
         ""
        ],
        [
         1,
         "Guillain-Barré Syndrome - Symptoms, Causes, Treatment",
         "https://rarediseases.org/rare-diseases/guillain-barre-syndrome/",
         "Guillain-Barré syndrome (GBS) is a rare, rapidly progressive disease due to inflammation of the nerves causing muscle weakness, sometimes ...",
         "National Organization for Rare Disorders",
         "https://rarediseases.org › ...",
         ""
        ],
        [
         2,
         "Guillain-Barré syndrome in adults: Pathogenesis, clinical ...",
         "https://www.uptodate.com/contents/guillain-barre-syndrome-in-adults-pathogenesis-clinical-features-and-diagnosis",
         "Time course of symptoms · Examination findings · - Weakness · - Deep tendon reflexes · - Other findings · Variant forms of Guillain-Barré syndrome.",
         "Wolters Kluwer",
         "https://www.uptodate.com › ...",
         ""
        ],
        [
         3,
         "Current treatment practice of Guillain-Barré syndrome",
         "https://www.neurology.org/doi/10.1212/WNL.0000000000007719",
         "Plasma exchange (PE) and IV immunoglobulin (IVIg) are the only proven effective treatments for Guillain-Barré syndrome (GBS), although there has been little ...",
         "Neurology® Journals",
         "https://www.neurology.org › ...",
         ""
        ],
        [
         4,
         "Guillain-Barre syndrome: Video, Causes, & Meaning",
         "https://www.osmosis.org/learn/Guillain-Barre_syndrome",
         "The cause of Guillain- Barré syndrome is unknown, but it's known to develop after a bacterial infection, like Campylobacter jejuni and Mycoplasma pneumoniae, or ...",
         "Osmosis",
         "https://www.osmosis.org › ...",
         ""
        ],
        [
         5,
         "Guillain-Barré Syndrome",
         "https://www.americanbrainfoundation.org/diseases/guillain-barre-syndrome/",
         "Guillain-Barré syndrome (GBS) is a rare neurologic disorder in which the body's autoimmune response attacks the peripheral nervous system.",
         "American Brain Foundation",
         "https://www.americanbrainfoundation.org › ...",
         ""
        ],
        [
         6,
         "What is Guillain-Barré Syndrome (GBS)? - By Adhikari Lifeline",
         "https://www.adhikarilifeline.com/what-is-guillain-barre-syndrome-gbs/",
         "Guillain-Barré Syndrome (GBS) is a rare but serious neurological disorder in which the body's immune system mistakenly attacks the nervous system.",
         "adhikarilifeline.com",
         "https://www.adhikarilifeline.com › ...",
         ""
        ],
        [
         7,
         "Guillain-Barré syndrome: Types, Symptoms, Causes & ...",
         "https://www.pacehospital.com/guillain-barre-syndrome-symptoms-causes-diagnosis-treatment",
         "Guillain-Barré Syndrome is a rare autoimmune disorder in which the immune system attacks the nerves, leading to muscle weakness, numbness, and paralysis.",
         "PACE Hospitals",
         "https://www.pacehospital.com › ...",
         ""
        ],
        [
         8,
         "Guillain Barré Syndrome",
         "https://www.brainfacts.org/diseases-and-disorders/neurological-disorders-az/diseases-a-to-z-from-ninds/guillain-barr%C3%A9-syndrome",
         "Guillain-Barré syndrome is a disorder in which the body's immune system attacks part of the peripheral nervous system. The first symptoms of this disorder ...",
         "BrainFacts",
         "https://www.brainfacts.org › ...",
         ""
        ],
        [
         9,
         "Guillain-Barré Syndrome",
         "https://www.mayoclinicproceedings.org/article/S0025-6196(16)30818-7/fulltext",
         "Guillain-Barré syndrome is an acute inflammatory immune-mediated polyradiculoneuropathy presenting typically with tingling, progressive weakness, and pain.",
         "Mayo Clinic Proceedings",
         "https://www.mayoclinicproceedings.org › ...",
         ""
        ],
        [
         10,
         "Guillain-Barré Syndrome - Neurology - Highland Hospital",
         "https://www.urmc.rochester.edu/highland/departments-centers/neurology/conditions-we-treat/guillain-barr",
         "Guillain-Barré (ghee-yan bah-ray) syndrome is a disorder in which the body's immune system attacks part of the peripheral nervous system.",
         "University of Rochester Medical Center",
         "https://www.urmc.rochester.edu › ...",
         ""
        ],
        [
         1,
         "Guillain-Barre Syndrome: Symptoms, Causes & Treatment",
         "https://www.blkmaxhospital.com/blogs/guillain-barre-syndrome",
         "Guillain-Barre Syndrome (GBS) is a rare but serious autoimmune disorder that affects the peripheral nervous system.",
         "BLK-Max Hospital",
         "https://www.blkmaxhospital.com › ...",
         ""
        ],
        [
         2,
         "Pediatric Guillain-Barré syndrome (GBS) - Dallas",
         "https://www.childrens.com/specialties-services/conditions/guillain-barre-syndrome",
         "A typical sign of GBS is muscle weakness, numbness, tingling (pins-and-needle sensation) and occasionally pain, that starts in the feet and legs. These symptoms ...",
         "Children’s Health",
         "https://www.childrens.com › ...",
         ""
        ],
        [
         3,
         "Guillain-Barre Syndrome (GBS)",
         "https://www.jeffersonhealth.org/conditions-and-treatments/guillain-barre-syndrome",
         "We're also involved in researching the underlying causes of GBS and other autoimmune neuromuscular conditions. At Jefferson Health, you can be sure you're ...",
         "Jefferson Health",
         "https://www.jeffersonhealth.org › ...",
         ""
        ],
        [
         4,
         "Pune's Guillain-Barré Syndrome Epidemic Related to ...",
         "https://www.vax-before-travel.com/punes-guillain-barr-syndrome-epidemic-related-water-quality-2025-03-10",
         "Experts have linked these GBS infections with Campylobacter jejuni. This bacteria is one of the most common causes of food poisoning.",
         "Vax-Before-Travel",
         "https://www.vax-before-travel.com › ...",
         ""
        ],
        [
         5,
         "Guillain-Barré Syndrome (GBS)",
         "https://litfl.com/guillain-barre-syndrome-gbs/",
         "Guillain-Barré Syndrome (GBS) is the most common and most severe acute paralytic neuropathy, consisting of multiple variants with distinct clinical and ...",
         "Life in the Fast Lane • LITFL",
         "https://litfl.com › ...",
         ""
        ],
        [
         6,
         "Guillain-Barré Syndrome",
         "https://zerotofinals.com/medicine/neurology/guillainbarre/",
         "Presentation. Symptoms usually start within four weeks of the triggering infection. They begin in the feet and progress upward. Symptoms peak within 2-4 weeks.",
         "Zero To Finals",
         "https://zerotofinals.com › ...",
         ""
        ],
        [
         7,
         "Guillain-Barré Syndrome (for Parents)",
         "https://kidshealth.org/en/parents/gbs.html",
         "What Are the Signs & Symptoms of Guillain-Barré Syndrome? · tingling or pain in the toes and fingertips · weakness or pain in the legs that causes trouble ...",
         "KidsHealth",
         "https://kidshealth.org › ...",
         ""
        ],
        [
         8,
         "Guillain-Barré Syndrome | McGovern Medical School",
         "https://med.uth.edu/neurosciences/conditions-and-treatments/nerve-disorders/guillain-barre-syndrome/",
         "Signs Guillain-Barré Syndrome. Initial symptoms may present as pain, weakness, or tingling in the hands or feet. Patients usually experience this in one side of ...",
         "UTHealth Houston",
         "https://med.uth.edu › ...",
         ""
        ],
        [
         9,
         "Guillain-Barré Syndrome",
         "https://www.medcomic.com/medcomic/guillain-barre-syndrome",
         "Guillain-Barré syndrome (GBS) is an acute, inflammatory demyelinating polyneuropathy with ascending muscle weakness that is autoimmune in nature.",
         "Medcomic",
         "https://www.medcomic.com › ...",
         ""
        ],
        [
         10,
         "Physical Therapy Guide to Guillain-Barré Syndrome",
         "https://www.choosept.com/guide/physical-therapy-guide-guillain-barre-syndrome",
         "Physical therapists have extensive training to help people during GBS recovery. They help patients understand how GBS affects their ability to move safely.",
         "ChoosePT",
         "https://www.choosept.com › ...",
         ""
        ],
        [
         1,
         "Guillain-Barre Syndrome: Symptoms, Causes & Treatment",
         "https://www.blkmaxhospital.com/blogs/guillain-barre-syndrome",
         "Guillain-Barre Syndrome is a rare but serious neurological disorder that requires immediate medical attention. While most people recover, early ...",
         "BLK-Max Hospital",
         "https://www.blkmaxhospital.com › ...",
         ""
        ],
        [
         2,
         "Guillain-Barré Syndrome",
         "https://www.yalemedicine.org/conditions/guillain-barre-syndrome",
         "Guillain-Barré syndrome (GBS) is a neurological condition in which the body's immune system attacks healthy nerve cells.",
         "Yale Medicine",
         "https://www.yalemedicine.org › ...",
         ""
        ],
        [
         3,
         "Definition of Guillain-Barré syndrome",
         "https://www.cancer.gov/publications/dictionaries/cancer-terms/def/guillain-barre-syndrome",
         "A rare condition in which the body's immune system attacks the nerves located outside the brain and spinal cord. Symptoms of Guillain-Barré syndrome include ...",
         "National Cancer Institute (.gov)",
         "https://www.cancer.gov › ...",
         ""
        ],
        [
         4,
         "à¥ à¤¯à¤¾ à¤¹à¥ˆ?",
         "https://translate.google.com/translate?u=https://www.webmd.com/brain/what-is-guillain-barre&hl=hi&sl=en&tl=hi&client=srp",
         "à¤—à¥ à¤‡à¤²à¥‡à¤¨-à¤¬à¥ˆà¤°à¥‡ à¤¸à¤¿à¤‚à¤¡à¥ à¤°à¥‹à¤® à¤ à¤• à¤¦à¥ à¤°à¥ à¤²à¤ à¤'à¤Ÿà¥‹à¤‡à¤®à¥ à¤¯à¥‚à¤¨ à¤µà¤¿à¤•à¤¾à¤° à¤¹à¥ˆà¥¤ ...",
         "WebMD",
         "https://www.webmd.com › brain › what-is-guillain-barre",
         ""
        ],
        [
         5,
         "Epidemiology of Guillain Barre Syndrome in North Western ...",
         "https://www.ijnonline.org/article-details/1785",
         "In our study prevalence of GBS was 41.5%. Most cases were in the age range of 13-60 months. In these study males (68.5%) were more affected than girls (31.5%).",
         "Indian Journal of Neurosciences",
         "https://www.ijnonline.org › ...",
         ""
        ],
        [
         6,
         "When Your Child Has Guillain-Barre Syndrome (GBS)",
         "https://www.saintlukeskc.org/health-library/when-your-child-has-guillain-barre-syndrome-gbs",
         "Your child has been diagnosed with Guillain-Barré syndrome (GBS). This is an illness that affects the peripheral nerves, often both the sensory and motor ...",
         "Saint Luke's Health System Kansas City",
         "https://www.saintlukeskc.org › ...",
         ""
        ],
        [
         7,
         "Guillain-Barré Syndrome (GBS): Symptoms & Causes",
         "https://www.nyp.org/neuro/neuromuscular-disorders/guillain-barre-syndrome",
         "Guillain-Barré syndrome is a neurological disorder in which the body's immune system attacks the nerves outside the brain and spinal cord.",
         "NewYork-Presbyterian",
         "https://www.nyp.org › ...",
         ""
        ],
        [
         8,
         "Guillain-Barre syndrome (GBS)",
         "https://gpnotebook.com/pages/infectious-disease/guillain-barre-syndrome-gbs",
         "Guillain-Barre syndrome (GBS) ... A prodromal malaise with vomiting, headache, fever and limb pains is rapidly surmounted by a progressive and ...",
         "GPnotebook",
         "https://gpnotebook.com › ...",
         ""
        ],
        [
         9,
         "Guillain-Barré Syndrome",
         "https://zerotofinals.com/medicine/neurology/guillainbarre/",
         "Guillain-Barré syndrome is an acute paralytic polyneuropathy that affects the peripheral nervous system. It causes acute, symmetrical, ascending weakness.",
         "Zero To Finals",
         "https://zerotofinals.com › ...",
         ""
        ],
        [
         10,
         "क्या है Guillain-Barre Syndrome? महाराष्ट्र में 6 की मौत ...",
         "https://www.prabhatkhabar.com/state/maharashtra/what-is-guillain-barre-syndrome-maharashtra-in-grip-most-cases-from-youth",
         "गिलियन-बैरे सिंड्रोम (जीबीएस) एक ऑटोइम्यून बीमारी है. यह मरीजों के इम्यून सिस्टम को प्रभावित करता है. जीबीएस मरीजों के स्वस्थ्य नसों पर हमला करता है. जिससे नसें कमजोर हो जाती हैं. अगर समय पर इसका इलाज ...",
         "Prabhat Khabar",
         "https://www.prabhatkhabar.com › Rajya › Maharashtra",
         ""
        ]
       ],
       "datasetInfos": [],
       "dbfsResultPath": null,
       "isJsonSchema": true,
       "metadata": {},
       "overflow": false,
       "plotOptions": {
        "customPlotOptions": {},
        "displayType": "table",
        "pivotAggregation": null,
        "pivotColumns": null,
        "xColumns": null,
        "yColumns": null
       },
       "removedWidgets": [],
       "schema": [
        {
         "metadata": "{}",
         "name": "Position",
         "type": "\"integer\""
        },
        {
         "metadata": "{}",
         "name": "Title",
         "type": "\"string\""
        },
        {
         "metadata": "{}",
         "name": "Link",
         "type": "\"string\""
        },
        {
         "metadata": "{}",
         "name": "Snippet",
         "type": "\"string\""
        },
        {
         "metadata": "{}",
         "name": "Source",
         "type": "\"string\""
        },
        {
         "metadata": "{}",
         "name": "Displayed Link",
         "type": "\"string\""
        },
        {
         "metadata": "{}",
         "name": "Sitelinks",
         "type": "\"string\""
        }
       ],
       "type": "table"
      }
     },
     "output_type": "display_data"
    }
   ],
   "source": [
    "# Defining PySpark Schema and Creating Google Search Results DataFrame\n",
    "\n",
    "from pyspark.sql.types import *\n",
    "\n",
    "serpapi_schema = StructType([\n",
    "    StructField(\"Position\", IntegerType(), True),\n",
    "    StructField(\"Title\", StringType(), True),\n",
    "    StructField(\"Link\", StringType(), True),\n",
    "    StructField(\"Snippet\", StringType(), True),\n",
    "    StructField(\"Source\", StringType(), True),\n",
    "    StructField(\"Displayed Link\", StringType(), True),\n",
    "    StructField(\"Sitelinks\", StringType(), True)\n",
    "])\n",
    "\n",
    "df_serpapi_spark = spark.createDataFrame(df_serpapi, schema=serpapi_schema)\n",
    "display(df_serpapi_spark)\n"
   ]
  },
  {
   "cell_type": "markdown",
   "metadata": {
    "application/vnd.databricks.v1+cell": {
     "cellMetadata": {
      "byteLimit": 2048000,
      "rowLimit": 10000
     },
     "inputWidgets": {},
     "nuid": "e046e4fc-1ae7-41f6-a24d-541999fd3327",
     "showTitle": false,
     "tableResultSettingsMap": {},
     "title": ""
    }
   },
   "source": [
    "**Cleaning and Preparation of Clinical Trials Data**"
   ]
  },
  {
   "cell_type": "code",
   "execution_count": 0,
   "metadata": {
    "application/vnd.databricks.v1+cell": {
     "cellMetadata": {
      "byteLimit": 2048000,
      "rowLimit": 10000
     },
     "inputWidgets": {},
     "nuid": "685304c5-8620-47bb-b615-eb125e6b0ac0",
     "showTitle": false,
     "tableResultSettingsMap": {},
     "title": ""
    }
   },
   "outputs": [
    {
     "output_type": "display_data",
     "data": {
      "text/html": [
       "<style scoped>\n",
       "  .table-result-container {\n",
       "    max-height: 300px;\n",
       "    overflow: auto;\n",
       "  }\n",
       "  table, th, td {\n",
       "    border: 1px solid black;\n",
       "    border-collapse: collapse;\n",
       "  }\n",
       "  th, td {\n",
       "    padding: 5px;\n",
       "  }\n",
       "  th {\n",
       "    text-align: left;\n",
       "  }\n",
       "</style><div class='table-result-container'><table class='table-result'><thead style='background-color: white'><tr><th>summary</th><th>nctId</th><th>briefTitle</th><th>overallStatus</th></tr></thead><tbody><tr><td>count</td><td>76</td><td>76</td><td>76</td></tr><tr><td>mean</td><td>null</td><td>null</td><td>null</td></tr><tr><td>stddev</td><td>null</td><td>null</td><td>null</td></tr><tr><td>min</td><td>NCT00004833</td><td>A Clinical Study of ANX005 and IVIG in Subjects With Guillain Barré Syndrome (GBS)</td><td>ACTIVE_NOT_RECRUITING</td></tr><tr><td>max</td><td>NCT06940908</td><td>sCD163 as a Potential Biomarker in Guillain- Barré Syndrome</td><td>WITHDRAWN</td></tr></tbody></table></div>"
      ]
     },
     "metadata": {
      "application/vnd.databricks.v1+output": {
       "addedWidgets": {},
       "aggData": [],
       "aggError": "",
       "aggOverflow": false,
       "aggSchema": [],
       "aggSeriesLimitReached": false,
       "aggType": "",
       "arguments": {},
       "columnCustomDisplayInfos": {},
       "data": [
        [
         "count",
         "76",
         "76",
         "76"
        ],
        [
         "mean",
         null,
         null,
         null
        ],
        [
         "stddev",
         null,
         null,
         null
        ],
        [
         "min",
         "NCT00004833",
         "A Clinical Study of ANX005 and IVIG in Subjects With Guillain Barré Syndrome (GBS)",
         "ACTIVE_NOT_RECRUITING"
        ],
        [
         "max",
         "NCT06940908",
         "sCD163 as a Potential Biomarker in Guillain- Barré Syndrome",
         "WITHDRAWN"
        ]
       ],
       "datasetInfos": [],
       "dbfsResultPath": null,
       "isJsonSchema": true,
       "metadata": {},
       "overflow": false,
       "plotOptions": {
        "customPlotOptions": {},
        "displayType": "table",
        "pivotAggregation": null,
        "pivotColumns": null,
        "xColumns": null,
        "yColumns": null
       },
       "removedWidgets": [],
       "schema": [
        {
         "metadata": "{}",
         "name": "summary",
         "type": "\"string\""
        },
        {
         "metadata": "{}",
         "name": "nctId",
         "type": "\"string\""
        },
        {
         "metadata": "{}",
         "name": "briefTitle",
         "type": "\"string\""
        },
        {
         "metadata": "{}",
         "name": "overallStatus",
         "type": "\"string\""
        }
       ],
       "type": "table"
      }
     },
     "output_type": "display_data"
    }
   ],
   "source": [
    "# Clinical Trials Data Summary Statistics\n",
    "display(df_clinical_spark.describe())"
   ]
  },
  {
   "cell_type": "code",
   "execution_count": 0,
   "metadata": {
    "application/vnd.databricks.v1+cell": {
     "cellMetadata": {
      "byteLimit": 2048000,
      "rowLimit": 10000
     },
     "inputWidgets": {},
     "nuid": "e56f9fb0-7b66-4fb2-8265-7c54990a0d8a",
     "showTitle": false,
     "tableResultSettingsMap": {},
     "title": ""
    }
   },
   "outputs": [
    {
     "output_type": "stream",
     "name": "stdout",
     "output_type": "stream",
     "text": [
      "root\n |-- nctId: string (nullable = true)\n |-- briefTitle: string (nullable = true)\n |-- overallStatus: string (nullable = true)\n |-- hasResults: boolean (nullable = true)\n\n"
     ]
    }
   ],
   "source": [
    "# Print Schema of Clinical Trials DataFrame\n",
    "df_clinical_spark.printSchema()"
   ]
  },
  {
   "cell_type": "code",
   "execution_count": 0,
   "metadata": {
    "application/vnd.databricks.v1+cell": {
     "cellMetadata": {
      "byteLimit": 2048000,
      "rowLimit": 10000
     },
     "inputWidgets": {},
     "nuid": "bd408392-234c-42a0-937a-0f25cf2c5d47",
     "showTitle": false,
     "tableResultSettingsMap": {},
     "title": ""
    }
   },
   "outputs": [
    {
     "output_type": "display_data",
     "data": {
      "text/html": [
       "<style scoped>\n",
       "  .table-result-container {\n",
       "    max-height: 300px;\n",
       "    overflow: auto;\n",
       "  }\n",
       "  table, th, td {\n",
       "    border: 1px solid black;\n",
       "    border-collapse: collapse;\n",
       "  }\n",
       "  th, td {\n",
       "    padding: 5px;\n",
       "  }\n",
       "  th {\n",
       "    text-align: left;\n",
       "  }\n",
       "</style><div class='table-result-container'><table class='table-result'><thead style='background-color: white'><tr><th>nctId</th><th>briefTitle</th><th>overallStatus</th><th>hasResults</th></tr></thead><tbody><tr><td>0</td><td>0</td><td>0</td><td>0</td></tr></tbody></table></div>"
      ]
     },
     "metadata": {
      "application/vnd.databricks.v1+output": {
       "addedWidgets": {},
       "aggData": [],
       "aggError": "",
       "aggOverflow": false,
       "aggSchema": [],
       "aggSeriesLimitReached": false,
       "aggType": "",
       "arguments": {},
       "columnCustomDisplayInfos": {},
       "data": [
        [
         0,
         0,
         0,
         0
        ]
       ],
       "datasetInfos": [],
       "dbfsResultPath": null,
       "isJsonSchema": true,
       "metadata": {},
       "overflow": false,
       "plotOptions": {
        "customPlotOptions": {},
        "displayType": "table",
        "pivotAggregation": null,
        "pivotColumns": null,
        "xColumns": null,
        "yColumns": null
       },
       "removedWidgets": [],
       "schema": [
        {
         "metadata": "{}",
         "name": "nctId",
         "type": "\"long\""
        },
        {
         "metadata": "{}",
         "name": "briefTitle",
         "type": "\"long\""
        },
        {
         "metadata": "{}",
         "name": "overallStatus",
         "type": "\"long\""
        },
        {
         "metadata": "{}",
         "name": "hasResults",
         "type": "\"long\""
        }
       ],
       "type": "table"
      }
     },
     "output_type": "display_data"
    }
   ],
   "source": [
    "# Check for Null Values in Clinical Trials DataFrame Columns\n",
    "\n",
    "import pyspark.sql.functions as p\n",
    "df_clinical_spark.select([\n",
    "    p.count(p.when(p.col(c).isNull(), c)).alias(c) for c in df_clinical_spark.columns\n",
    "]).display()\n"
   ]
  },
  {
   "cell_type": "code",
   "execution_count": 0,
   "metadata": {
    "application/vnd.databricks.v1+cell": {
     "cellMetadata": {
      "byteLimit": 2048000,
      "rowLimit": 10000
     },
     "inputWidgets": {},
     "nuid": "cfccf9f7-f88d-4ece-b6e1-2be65e3b29b7",
     "showTitle": false,
     "tableResultSettingsMap": {},
     "title": ""
    }
   },
   "outputs": [
    {
     "output_type": "stream",
     "name": "stdout",
     "output_type": "stream",
     "text": [
      "Duplicates in Clinical Data:\nOut[10]: 0"
     ]
    }
   ],
   "source": [
    "# Check for Duplicate Rows in Clinical Trials DataFrame\n",
    "\n",
    "print(\"Duplicates in Clinical Data:\")\n",
    "df_clinical_spark.count() - df_clinical_spark.dropDuplicates().count()\n"
   ]
  },
  {
   "cell_type": "markdown",
   "metadata": {
    "application/vnd.databricks.v1+cell": {
     "cellMetadata": {
      "byteLimit": 2048000,
      "rowLimit": 10000
     },
     "inputWidgets": {},
     "nuid": "f17f24d8-20ed-42ae-8ae3-61dd97456fa0",
     "showTitle": false,
     "tableResultSettingsMap": {},
     "title": ""
    }
   },
   "source": [
    "**Cleaning and Preparation of Google Search Results Data**"
   ]
  },
  {
   "cell_type": "code",
   "execution_count": 0,
   "metadata": {
    "application/vnd.databricks.v1+cell": {
     "cellMetadata": {
      "byteLimit": 2048000,
      "rowLimit": 10000
     },
     "inputWidgets": {},
     "nuid": "4ec3ab3b-6e81-4374-9fb8-3140c29a7c72",
     "showTitle": false,
     "tableResultSettingsMap": {},
     "title": ""
    }
   },
   "outputs": [
    {
     "output_type": "display_data",
     "data": {
      "text/html": [
       "<style scoped>\n",
       "  .table-result-container {\n",
       "    max-height: 300px;\n",
       "    overflow: auto;\n",
       "  }\n",
       "  table, th, td {\n",
       "    border: 1px solid black;\n",
       "    border-collapse: collapse;\n",
       "  }\n",
       "  th, td {\n",
       "    padding: 5px;\n",
       "  }\n",
       "  th {\n",
       "    text-align: left;\n",
       "  }\n",
       "</style><div class='table-result-container'><table class='table-result'><thead style='background-color: white'><tr><th>summary</th><th>Position</th><th>Title</th><th>Link</th><th>Snippet</th><th>Source</th><th>Displayed Link</th><th>Sitelinks</th></tr></thead><tbody><tr><td>count</td><td>59</td><td>59</td><td>59</td><td>59</td><td>59</td><td>59</td><td>59</td></tr><tr><td>mean</td><td>5.423728813559322</td><td>null</td><td>null</td><td>null</td><td>null</td><td>null</td><td>null</td></tr><tr><td>stddev</td><td>2.8599697962626767</td><td>null</td><td>null</td><td>null</td><td>null</td><td>null</td><td>null</td></tr><tr><td>min</td><td>1</td><td>Current treatment practice of Guillain-Barré syndrome</td><td>https://emedicine.medscape.com/article/315632-overview</td><td>A rare condition in which the body's immune system attacks the nerves located outside the brain and spinal cord. Symptoms of Guillain-Barré syndrome include ...</td><td>American Brain Foundation</td><td>https://emedicine.medscape.com › ...</td><td></td></tr><tr><td>max</td><td>10</td><td>क्या है Guillain-Barre Syndrome? महाराष्ट्र में 6 की मौत ...</td><td>https://zerotofinals.com/medicine/neurology/guillainbarre/</td><td>गिलियन-बैरे सिंड्रोम (जीबीएस) एक ऑटोइम्यून बीमारी है. यह मरीजों के इम्यून सिस्टम को प्रभावित करता है. जीबीएस मरीजों के स्वस्थ्य नसों पर हमला करता है. जिससे नसें कमजोर हो जाती हैं. अगर समय पर इसका इलाज ...</td><td>adhikarilifeline.com</td><td>https://zerotofinals.com › ...</td><td>{'inline': [{'title': 'What is Guillain-Barré...', 'link': 'https://www.ninds.nih.gov/health-information/disorders/guillain-barre-syndrome#toc-what-is-guillain-barr-syndrome-'}, {'title': 'How is Guillain-Barré...', 'link': 'https://www.ninds.nih.gov/health-information/disorders/guillain-barre-syndrome#toc-how-is-guillain-barr-syndrome-diagnosed-and-treated-'}, {'title': 'What are the latest updates on...', 'link': 'https://www.ninds.nih.gov/health-information/disorders/guillain-barre-syndrome#toc-what-are-the-latest-updates-on-guillain-barr-syndrome-'}]}</td></tr></tbody></table></div>"
      ]
     },
     "metadata": {
      "application/vnd.databricks.v1+output": {
       "addedWidgets": {},
       "aggData": [],
       "aggError": "",
       "aggOverflow": false,
       "aggSchema": [],
       "aggSeriesLimitReached": false,
       "aggType": "",
       "arguments": {},
       "columnCustomDisplayInfos": {},
       "data": [
        [
         "count",
         "59",
         "59",
         "59",
         "59",
         "59",
         "59",
         "59"
        ],
        [
         "mean",
         "5.423728813559322",
         null,
         null,
         null,
         null,
         null,
         null
        ],
        [
         "stddev",
         "2.8599697962626767",
         null,
         null,
         null,
         null,
         null,
         null
        ],
        [
         "min",
         "1",
         "Current treatment practice of Guillain-Barré syndrome",
         "https://emedicine.medscape.com/article/315632-overview",
         "A rare condition in which the body's immune system attacks the nerves located outside the brain and spinal cord. Symptoms of Guillain-Barré syndrome include ...",
         "American Brain Foundation",
         "https://emedicine.medscape.com › ...",
         ""
        ],
        [
         "max",
         "10",
         "क्या है Guillain-Barre Syndrome? महाराष्ट्र में 6 की मौत ...",
         "https://zerotofinals.com/medicine/neurology/guillainbarre/",
         "गिलियन-बैरे सिंड्रोम (जीबीएस) एक ऑटोइम्यून बीमारी है. यह मरीजों के इम्यून सिस्टम को प्रभावित करता है. जीबीएस मरीजों के स्वस्थ्य नसों पर हमला करता है. जिससे नसें कमजोर हो जाती हैं. अगर समय पर इसका इलाज ...",
         "adhikarilifeline.com",
         "https://zerotofinals.com › ...",
         "{'inline': [{'title': 'What is Guillain-Barré...', 'link': 'https://www.ninds.nih.gov/health-information/disorders/guillain-barre-syndrome#toc-what-is-guillain-barr-syndrome-'}, {'title': 'How is Guillain-Barré...', 'link': 'https://www.ninds.nih.gov/health-information/disorders/guillain-barre-syndrome#toc-how-is-guillain-barr-syndrome-diagnosed-and-treated-'}, {'title': 'What are the latest updates on...', 'link': 'https://www.ninds.nih.gov/health-information/disorders/guillain-barre-syndrome#toc-what-are-the-latest-updates-on-guillain-barr-syndrome-'}]}"
        ]
       ],
       "datasetInfos": [],
       "dbfsResultPath": null,
       "isJsonSchema": true,
       "metadata": {},
       "overflow": false,
       "plotOptions": {
        "customPlotOptions": {},
        "displayType": "table",
        "pivotAggregation": null,
        "pivotColumns": null,
        "xColumns": null,
        "yColumns": null
       },
       "removedWidgets": [],
       "schema": [
        {
         "metadata": "{}",
         "name": "summary",
         "type": "\"string\""
        },
        {
         "metadata": "{}",
         "name": "Position",
         "type": "\"string\""
        },
        {
         "metadata": "{}",
         "name": "Title",
         "type": "\"string\""
        },
        {
         "metadata": "{}",
         "name": "Link",
         "type": "\"string\""
        },
        {
         "metadata": "{}",
         "name": "Snippet",
         "type": "\"string\""
        },
        {
         "metadata": "{}",
         "name": "Source",
         "type": "\"string\""
        },
        {
         "metadata": "{}",
         "name": "Displayed Link",
         "type": "\"string\""
        },
        {
         "metadata": "{}",
         "name": "Sitelinks",
         "type": "\"string\""
        }
       ],
       "type": "table"
      }
     },
     "output_type": "display_data"
    }
   ],
   "source": [
    "#Statistics Summary of Google Search Results Data\n",
    "display(df_serpapi_spark.describe())"
   ]
  },
  {
   "cell_type": "code",
   "execution_count": 0,
   "metadata": {
    "application/vnd.databricks.v1+cell": {
     "cellMetadata": {
      "byteLimit": 2048000,
      "rowLimit": 10000
     },
     "inputWidgets": {},
     "nuid": "1a664f93-19f7-4ed3-b063-85e40e50461c",
     "showTitle": false,
     "tableResultSettingsMap": {},
     "title": ""
    }
   },
   "outputs": [
    {
     "output_type": "stream",
     "name": "stdout",
     "output_type": "stream",
     "text": [
      "root\n |-- Position: integer (nullable = true)\n |-- Title: string (nullable = true)\n |-- Link: string (nullable = true)\n |-- Snippet: string (nullable = true)\n |-- Source: string (nullable = true)\n |-- Displayed Link: string (nullable = true)\n |-- Sitelinks: string (nullable = true)\n\n"
     ]
    }
   ],
   "source": [
    "# Print Schema of Google Search Results DataFrame\n",
    "df_serpapi_spark.printSchema()\n"
   ]
  },
  {
   "cell_type": "code",
   "execution_count": 0,
   "metadata": {
    "application/vnd.databricks.v1+cell": {
     "cellMetadata": {
      "byteLimit": 2048000,
      "rowLimit": 10000
     },
     "inputWidgets": {},
     "nuid": "ede6e21d-dbb5-4151-bfd9-442ebad38565",
     "showTitle": false,
     "tableResultSettingsMap": {},
     "title": ""
    }
   },
   "outputs": [
    {
     "output_type": "display_data",
     "data": {
      "text/html": [
       "<style scoped>\n",
       "  .table-result-container {\n",
       "    max-height: 300px;\n",
       "    overflow: auto;\n",
       "  }\n",
       "  table, th, td {\n",
       "    border: 1px solid black;\n",
       "    border-collapse: collapse;\n",
       "  }\n",
       "  th, td {\n",
       "    padding: 5px;\n",
       "  }\n",
       "  th {\n",
       "    text-align: left;\n",
       "  }\n",
       "</style><div class='table-result-container'><table class='table-result'><thead style='background-color: white'><tr><th>Position</th><th>Title</th><th>Link</th><th>Snippet</th><th>Source</th><th>Displayed Link</th><th>Sitelinks</th></tr></thead><tbody><tr><td>0</td><td>0</td><td>0</td><td>0</td><td>0</td><td>0</td><td>0</td></tr></tbody></table></div>"
      ]
     },
     "metadata": {
      "application/vnd.databricks.v1+output": {
       "addedWidgets": {},
       "aggData": [],
       "aggError": "",
       "aggOverflow": false,
       "aggSchema": [],
       "aggSeriesLimitReached": false,
       "aggType": "",
       "arguments": {},
       "columnCustomDisplayInfos": {},
       "data": [
        [
         0,
         0,
         0,
         0,
         0,
         0,
         0
        ]
       ],
       "datasetInfos": [],
       "dbfsResultPath": null,
       "isJsonSchema": true,
       "metadata": {},
       "overflow": false,
       "plotOptions": {
        "customPlotOptions": {},
        "displayType": "table",
        "pivotAggregation": null,
        "pivotColumns": null,
        "xColumns": null,
        "yColumns": null
       },
       "removedWidgets": [],
       "schema": [
        {
         "metadata": "{}",
         "name": "Position",
         "type": "\"long\""
        },
        {
         "metadata": "{}",
         "name": "Title",
         "type": "\"long\""
        },
        {
         "metadata": "{}",
         "name": "Link",
         "type": "\"long\""
        },
        {
         "metadata": "{}",
         "name": "Snippet",
         "type": "\"long\""
        },
        {
         "metadata": "{}",
         "name": "Source",
         "type": "\"long\""
        },
        {
         "metadata": "{}",
         "name": "Displayed Link",
         "type": "\"long\""
        },
        {
         "metadata": "{}",
         "name": "Sitelinks",
         "type": "\"long\""
        }
       ],
       "type": "table"
      }
     },
     "output_type": "display_data"
    }
   ],
   "source": [
    "# Check for Null Values in Google Search Results DataFrame\n",
    "\n",
    "import pyspark.sql.functions as p\n",
    "\n",
    "df_serpapi_spark.select([\n",
    "    p.count(p.when(p.col(c).isNull(), c)).alias(c) for c in df_serpapi_spark.columns\n",
    "]).display()\n"
   ]
  },
  {
   "cell_type": "code",
   "execution_count": 0,
   "metadata": {
    "application/vnd.databricks.v1+cell": {
     "cellMetadata": {
      "byteLimit": 2048000,
      "rowLimit": 10000
     },
     "inputWidgets": {},
     "nuid": "e7365b18-4113-4b76-9ebd-7a3ace0533bc",
     "showTitle": false,
     "tableResultSettingsMap": {},
     "title": ""
    }
   },
   "outputs": [
    {
     "output_type": "stream",
     "name": "stdout",
     "output_type": "stream",
     "text": [
      "Duplicates in SERP API Data:\nOut[14]: 0"
     ]
    }
   ],
   "source": [
    "# Check for Duplicates in Google Search Results DataFrame\n",
    "\n",
    "print(\"Duplicates in SERP API Data:\")\n",
    "df_serpapi_spark.count() - df_serpapi_spark.dropDuplicates().count()\n"
   ]
  },
  {
   "cell_type": "code",
   "execution_count": 0,
   "metadata": {
    "application/vnd.databricks.v1+cell": {
     "cellMetadata": {
      "byteLimit": 2048000,
      "rowLimit": 10000
     },
     "inputWidgets": {},
     "nuid": "ef585264-0361-4704-bd8c-60f156223a26",
     "showTitle": false,
     "tableResultSettingsMap": {},
     "title": ""
    }
   },
   "outputs": [
    {
     "output_type": "display_data",
     "data": {
      "text/html": [
       "<style scoped>\n",
       "  .table-result-container {\n",
       "    max-height: 300px;\n",
       "    overflow: auto;\n",
       "  }\n",
       "  table, th, td {\n",
       "    border: 1px solid black;\n",
       "    border-collapse: collapse;\n",
       "  }\n",
       "  th, td {\n",
       "    padding: 5px;\n",
       "  }\n",
       "  th {\n",
       "    text-align: left;\n",
       "  }\n",
       "</style><div class='table-result-container'><table class='table-result'><thead style='background-color: white'><tr><th>Position</th><th>Title</th><th>Link</th><th>Snippet</th><th>Source</th><th>Displayed Link</th><th>Sitelinks</th><th>count</th></tr></thead><tbody></tbody></table></div>"
      ]
     },
     "metadata": {
      "application/vnd.databricks.v1+output": {
       "addedWidgets": {},
       "aggData": [],
       "aggError": "",
       "aggOverflow": false,
       "aggSchema": [],
       "aggSeriesLimitReached": false,
       "aggType": "",
       "arguments": {},
       "columnCustomDisplayInfos": {},
       "data": [],
       "datasetInfos": [],
       "dbfsResultPath": null,
       "isJsonSchema": true,
       "metadata": {},
       "overflow": false,
       "plotOptions": {
        "customPlotOptions": {},
        "displayType": "table",
        "pivotAggregation": null,
        "pivotColumns": null,
        "xColumns": null,
        "yColumns": null
       },
       "removedWidgets": [],
       "schema": [
        {
         "metadata": "{}",
         "name": "Position",
         "type": "\"integer\""
        },
        {
         "metadata": "{}",
         "name": "Title",
         "type": "\"string\""
        },
        {
         "metadata": "{}",
         "name": "Link",
         "type": "\"string\""
        },
        {
         "metadata": "{}",
         "name": "Snippet",
         "type": "\"string\""
        },
        {
         "metadata": "{}",
         "name": "Source",
         "type": "\"string\""
        },
        {
         "metadata": "{}",
         "name": "Displayed Link",
         "type": "\"string\""
        },
        {
         "metadata": "{}",
         "name": "Sitelinks",
         "type": "\"string\""
        },
        {
         "metadata": "{}",
         "name": "count",
         "type": "\"long\""
        }
       ],
       "type": "table"
      }
     },
     "output_type": "display_data"
    }
   ],
   "source": [
    "# Identify and Display Duplicate Rows in Google Search Results DataFrame\n",
    "\n",
    "from pyspark.sql import functions as p\n",
    "\n",
    "# Group by all columns and count occurrences\n",
    "duplicate_rows = (\n",
    "    df_serpapi_spark\n",
    "    .groupBy(df_serpapi_spark.columns)\n",
    "    .count()\n",
    "    .filter(\"count > 1\")\n",
    ")\n",
    "\n",
    "# Show the duplicate rows\n",
    "duplicate_rows.display(truncate=False)\n"
   ]
  },
  {
   "cell_type": "code",
   "execution_count": 0,
   "metadata": {
    "application/vnd.databricks.v1+cell": {
     "cellMetadata": {
      "byteLimit": 2048000,
      "rowLimit": 10000
     },
     "inputWidgets": {},
     "nuid": "0ad18500-dd04-4ca6-8976-21e722c18676",
     "showTitle": false,
     "tableResultSettingsMap": {},
     "title": ""
    }
   },
   "outputs": [
    {
     "output_type": "stream",
     "name": "stdout",
     "output_type": "stream",
     "text": [
      "Removed 0 duplicate rows\n"
     ]
    }
   ],
   "source": [
    "# Remove Duplicate Rows from Google Search Results DataFrame and Report Count\n",
    "\n",
    "before = df_serpapi_spark.count()\n",
    "df_serpapi_spark = df_serpapi_spark.dropDuplicates()\n",
    "after = df_serpapi_spark.count()\n",
    "\n",
    "print(f\"Removed {before - after} duplicate rows\")\n"
   ]
  },
  {
   "cell_type": "code",
   "execution_count": 0,
   "metadata": {
    "application/vnd.databricks.v1+cell": {
     "cellMetadata": {
      "byteLimit": 2048000,
      "rowLimit": 10000
     },
     "inputWidgets": {},
     "nuid": "8d2d7a48-d64a-44f1-9762-5b8b999d1801",
     "showTitle": false,
     "tableResultSettingsMap": {},
     "title": ""
    }
   },
   "outputs": [],
   "source": [
    "# Fill Missing Values in 'Sitelinks' Column of Google Search Results DataFrame\n",
    "\n",
    "df_serpapi_spark = df_serpapi_spark.na.fill({'Sitelinks': 'No Sitelinks'})"
   ]
  },
  {
   "cell_type": "code",
   "execution_count": 0,
   "metadata": {
    "application/vnd.databricks.v1+cell": {
     "cellMetadata": {
      "byteLimit": 2048000,
      "rowLimit": 10000
     },
     "inputWidgets": {},
     "nuid": "b6062101-0701-4a20-ae90-010b2623e1b6",
     "showTitle": false,
     "tableResultSettingsMap": {},
     "title": ""
    }
   },
   "outputs": [
    {
     "output_type": "display_data",
     "data": {
      "text/html": [
       "<style scoped>\n",
       "  .table-result-container {\n",
       "    max-height: 300px;\n",
       "    overflow: auto;\n",
       "  }\n",
       "  table, th, td {\n",
       "    border: 1px solid black;\n",
       "    border-collapse: collapse;\n",
       "  }\n",
       "  th, td {\n",
       "    padding: 5px;\n",
       "  }\n",
       "  th {\n",
       "    text-align: left;\n",
       "  }\n",
       "</style><div class='table-result-container'><table class='table-result'><thead style='background-color: white'><tr><th>Position</th><th>Title</th><th>Link</th><th>Snippet</th><th>Source</th><th>Displayed Link</th><th>Sitelinks</th><th>count</th></tr></thead><tbody></tbody></table></div>"
      ]
     },
     "metadata": {
      "application/vnd.databricks.v1+output": {
       "addedWidgets": {},
       "aggData": [],
       "aggError": "",
       "aggOverflow": false,
       "aggSchema": [],
       "aggSeriesLimitReached": false,
       "aggType": "",
       "arguments": {},
       "columnCustomDisplayInfos": {},
       "data": [],
       "datasetInfos": [],
       "dbfsResultPath": null,
       "isJsonSchema": true,
       "metadata": {},
       "overflow": false,
       "plotOptions": {
        "customPlotOptions": {},
        "displayType": "table",
        "pivotAggregation": null,
        "pivotColumns": null,
        "xColumns": null,
        "yColumns": null
       },
       "removedWidgets": [],
       "schema": [
        {
         "metadata": "{}",
         "name": "Position",
         "type": "\"integer\""
        },
        {
         "metadata": "{}",
         "name": "Title",
         "type": "\"string\""
        },
        {
         "metadata": "{}",
         "name": "Link",
         "type": "\"string\""
        },
        {
         "metadata": "{}",
         "name": "Snippet",
         "type": "\"string\""
        },
        {
         "metadata": "{}",
         "name": "Source",
         "type": "\"string\""
        },
        {
         "metadata": "{}",
         "name": "Displayed Link",
         "type": "\"string\""
        },
        {
         "metadata": "{}",
         "name": "Sitelinks",
         "type": "\"string\""
        },
        {
         "metadata": "{}",
         "name": "count",
         "type": "\"long\""
        }
       ],
       "type": "table"
      }
     },
     "output_type": "display_data"
    }
   ],
   "source": [
    "# Identify Duplicate Rows in Google Search Results DataFrame\n",
    "\n",
    "df_serpapi_spark.groupBy(df_serpapi_spark.columns) \\\n",
    "    .count().filter(\"count > 1\").display()\n"
   ]
  },
  {
   "cell_type": "code",
   "execution_count": 0,
   "metadata": {
    "application/vnd.databricks.v1+cell": {
     "cellMetadata": {
      "byteLimit": 2048000,
      "rowLimit": 10000
     },
     "inputWidgets": {},
     "nuid": "41a83f39-f1b4-4654-92e5-7a171a37124e",
     "showTitle": false,
     "tableResultSettingsMap": {},
     "title": ""
    }
   },
   "outputs": [
    {
     "output_type": "display_data",
     "data": {
      "text/html": [
       "<style scoped>\n",
       "  .table-result-container {\n",
       "    max-height: 300px;\n",
       "    overflow: auto;\n",
       "  }\n",
       "  table, th, td {\n",
       "    border: 1px solid black;\n",
       "    border-collapse: collapse;\n",
       "  }\n",
       "  th, td {\n",
       "    padding: 5px;\n",
       "  }\n",
       "  th {\n",
       "    text-align: left;\n",
       "  }\n",
       "</style><div class='table-result-container'><table class='table-result'><thead style='background-color: white'><tr><th>Position</th><th>Title</th><th>Link</th><th>Snippet</th><th>Source</th><th>Displayed Link</th><th>Sitelinks</th></tr></thead><tbody><tr><td>0</td><td>0</td><td>0</td><td>0</td><td>0</td><td>0</td><td>0</td></tr></tbody></table></div>"
      ]
     },
     "metadata": {
      "application/vnd.databricks.v1+output": {
       "addedWidgets": {},
       "aggData": [],
       "aggError": "",
       "aggOverflow": false,
       "aggSchema": [],
       "aggSeriesLimitReached": false,
       "aggType": "",
       "arguments": {},
       "columnCustomDisplayInfos": {},
       "data": [
        [
         0,
         0,
         0,
         0,
         0,
         0,
         0
        ]
       ],
       "datasetInfos": [],
       "dbfsResultPath": null,
       "isJsonSchema": true,
       "metadata": {},
       "overflow": false,
       "plotOptions": {
        "customPlotOptions": {},
        "displayType": "table",
        "pivotAggregation": null,
        "pivotColumns": null,
        "xColumns": null,
        "yColumns": null
       },
       "removedWidgets": [],
       "schema": [
        {
         "metadata": "{}",
         "name": "Position",
         "type": "\"long\""
        },
        {
         "metadata": "{}",
         "name": "Title",
         "type": "\"long\""
        },
        {
         "metadata": "{}",
         "name": "Link",
         "type": "\"long\""
        },
        {
         "metadata": "{}",
         "name": "Snippet",
         "type": "\"long\""
        },
        {
         "metadata": "{}",
         "name": "Source",
         "type": "\"long\""
        },
        {
         "metadata": "{}",
         "name": "Displayed Link",
         "type": "\"long\""
        },
        {
         "metadata": "{}",
         "name": "Sitelinks",
         "type": "\"long\""
        }
       ],
       "type": "table"
      }
     },
     "output_type": "display_data"
    }
   ],
   "source": [
    "# Count Null Values in Each Column of Google Search Results DataFrame\n",
    "\n",
    "import pyspark.sql.functions as p\n",
    "\n",
    "df_serpapi_spark.select([\n",
    "    p.count(p.when(p.col(c).isNull(), c)).alias(c) for c in df_serpapi_spark.columns\n",
    "]).display()\n"
   ]
  },
  {
   "cell_type": "code",
   "execution_count": 0,
   "metadata": {
    "application/vnd.databricks.v1+cell": {
     "cellMetadata": {
      "byteLimit": 2048000,
      "rowLimit": 10000
     },
     "inputWidgets": {},
     "nuid": "590bbaf7-11df-4168-b6e9-669efe1206cf",
     "showTitle": false,
     "tableResultSettingsMap": {},
     "title": ""
    }
   },
   "outputs": [],
   "source": [
    "# Clean column names for df_serpapi_spark\n",
    "df_serpapi_spark = df_serpapi_spark.withColumnRenamed(\"Displayed Link\", \"Displayed_Link\")"
   ]
  },
  {
   "cell_type": "code",
   "execution_count": 0,
   "metadata": {
    "application/vnd.databricks.v1+cell": {
     "cellMetadata": {
      "byteLimit": 2048000,
      "rowLimit": 10000
     },
     "inputWidgets": {},
     "nuid": "77715c8d-8460-423d-8104-ab9f3385bf51",
     "showTitle": false,
     "tableResultSettingsMap": {},
     "title": ""
    }
   },
   "outputs": [
    {
     "output_type": "display_data",
     "data": {
      "text/html": [
       "<style scoped>\n",
       "  .table-result-container {\n",
       "    max-height: 300px;\n",
       "    overflow: auto;\n",
       "  }\n",
       "  table, th, td {\n",
       "    border: 1px solid black;\n",
       "    border-collapse: collapse;\n",
       "  }\n",
       "  th, td {\n",
       "    padding: 5px;\n",
       "  }\n",
       "  th {\n",
       "    text-align: left;\n",
       "  }\n",
       "</style><div class='table-result-container'><table class='table-result'><thead style='background-color: white'><tr><th>Position</th><th>Title</th><th>Link</th><th>Snippet</th><th>Source</th><th>Displayed_Link</th><th>Sitelinks</th></tr></thead><tbody><tr><td>6</td><td>Guillain-Barré Syndrome</td><td>https://www.hopkinsmedicine.org/health/conditions-and-diseases/guillainbarr-syndrome</td><td>Guillain-Barré syndrome (GBS) is a rare neurological disorder in which the body's immune system attacks the peripheral nervous system.</td><td>Johns Hopkins Medicine</td><td>https://www.hopkinsmedicine.org › ...</td><td></td></tr><tr><td>5</td><td>Guillain–Barré syndrome</td><td>https://www.who.int/news-room/fact-sheets/detail/guillain-barr%C3%A9-syndrome</td><td>Guillain-Barré syndrome (GBS) is a rare condition in which a person's immune system attacks the peripheral nerves.</td><td>World Health Organization (WHO)</td><td>https://www.who.int › ...</td><td></td></tr><tr><td>2</td><td>Guillain-Barré Syndrome (GBS): Symptoms & Treatment</td><td>https://my.clevelandclinic.org/health/diseases/15838-guillain-barre-syndrome</td><td>Guillain-Barré syndrome is a rare autoimmune condition in which your immune system attacks your peripheral nerves. It causes numbness and muscle weakness.</td><td>Cleveland Clinic</td><td>https://my.clevelandclinic.org › ...</td><td></td></tr><tr><td>1</td><td>Guillain-Barre syndrome - Symptoms and causes</td><td>https://www.mayoclinic.org/diseases-conditions/guillain-barre-syndrome/symptoms-causes/syc-20362793</td><td>Guillain-Barre syndrome often begins with tingling and weakness starting in the feet and legs and spreading to the upper body and arms. Some ...</td><td>Mayo Clinic</td><td>https://www.mayoclinic.org › ...</td><td></td></tr><tr><td>7</td><td>Guillain-Barre syndrome - Diagnosis and treatment</td><td>https://www.mayoclinic.org/diseases-conditions/guillain-barre-syndrome/diagnosis-treatment/drc-20363006</td><td>This rare autoimmune condition affects the nerves, causing weakness and tingling in the arms and legs that quickly spreads throughout the ...</td><td>Mayo Clinic</td><td>https://www.mayoclinic.org › ...</td><td>{'inline': [{'title': 'Symptoms and causes', 'link': 'https://www.mayoclinic.org/diseases-conditions/guillain-barre-syndrome/symptoms-causes/syc-20362793'}, {'title': 'Doctors and departments', 'link': 'https://www.mayoclinic.org/diseases-conditions/guillain-barre-syndrome/doctors-departments/ddc-20363037'}, {'title': 'Care at Mayo Clinic', 'link': 'https://www.mayoclinic.org/diseases-conditions/guillain-barre-syndrome/care-at-mayo-clinic/mac-20363049'}]}</td></tr><tr><td>4</td><td>Guillain–Barré syndrome</td><td>https://en.wikipedia.org/wiki/Guillain%E2%80%93Barr%C3%A9_syndrome</td><td>Guillain–Barré syndrome (GBS) is a rapid-onset muscle weakness caused by the immune system damaging the peripheral nervous system.</td><td>Wikipedia</td><td>https://en.wikipedia.org › ...</td><td></td></tr><tr><td>3</td><td>Guillain-Barré Syndrome</td><td>https://www.ninds.nih.gov/health-information/disorders/guillain-barre-syndrome</td><td>Guillain-Barré syndrome (GBS) (pronounced Ghee-yan Bah-ray) is a rare neurological disorder in which a person's immune system mistakenly attacks ...</td><td>National Institute of Neurological Disorders and Stroke (.gov)</td><td>https://www.ninds.nih.gov › ...</td><td>{'inline': [{'title': 'What is Guillain-Barré...', 'link': 'https://www.ninds.nih.gov/health-information/disorders/guillain-barre-syndrome#toc-what-is-guillain-barr-syndrome-'}, {'title': 'How is Guillain-Barré...', 'link': 'https://www.ninds.nih.gov/health-information/disorders/guillain-barre-syndrome#toc-how-is-guillain-barr-syndrome-diagnosed-and-treated-'}, {'title': 'What are the latest updates on...', 'link': 'https://www.ninds.nih.gov/health-information/disorders/guillain-barre-syndrome#toc-what-are-the-latest-updates-on-guillain-barr-syndrome-'}]}</td></tr><tr><td>8</td><td>Guillain-Barre Syndrome</td><td>https://www.physio-pedia.com/Guillain-Barre_Syndrome</td><td>Guillain-Barré syndrome (GBS) is a condition characterised by the autoimmune destruction of the peripheral sensory system.</td><td>Physiopedia</td><td>https://www.physio-pedia.com › ...</td><td>{'inline': [{'title': 'Case Study', 'link': 'https://www.physio-pedia.com/Case_Study:_Guillain-Barre_Syndrome_(Sub-Acute)'}, {'title': 'Acute Motor Axonal...', 'link': 'https://www.physio-pedia.com/Acute_Motor_Axonal_Neuropathy_(AMAN),_a_Variant_of_Guillain-Barre_Syndrome:_A_Case_Study'}, {'title': 'Edit', 'link': 'https://www.physio-pedia.com/Guillain-Barre_Syndrome?veaction=edit'}]}</td></tr><tr><td>1</td><td>Guillain-Barré syndrome Information - Mount Sinai</td><td>https://www.mountsinai.org/health-library/diseases-conditions/guillain-barr-syndrome</td><td>GBS damages parts of nerves. This nerve damage causes tingling, muscle weakness, loss of balance, and paralysis. GBS most often affects the nerve covering ( ...</td><td>Mount Sinai</td><td>https://www.mountsinai.org › ...</td><td></td></tr><tr><td>2</td><td>Guillain-Barre Syndrome - StatPearls</td><td>https://www.ncbi.nlm.nih.gov/books/NBK532254/</td><td>Guillain-Barré syndrome (GBS) is a rare but serious post-infectious immune-mediated neuropathy. It results from the autoimmune destruction of nerves in the ...</td><td>National Institutes of Health (NIH) (.gov)</td><td>https://www.ncbi.nlm.nih.gov › ...</td><td></td></tr><tr><td>10</td><td>Guillain-Barré Syndrome | Campylobacter</td><td>https://www.cdc.gov/campylobacter/signs-symptoms/guillain-barre-syndrome.html</td><td>Guillain-Barré (Ghee-YAN Bah-RAY) syndrome happens when a person's immune system harms their nerves. This harm causes muscle weakness and ...</td><td>Centers for Disease Control and Prevention | CDC (.gov)</td><td>https://www.cdc.gov › ...</td><td></td></tr><tr><td>4</td><td>Guillain–Barré syndrome | Nature Reviews Disease Primers</td><td>https://www.nature.com/articles/s41572-024-00580-4</td><td>GBS is usually a monophasic condition in which the immune system aberrantly disrupts the function and structure of the peripheral nervous system ...</td><td>Nature</td><td>https://www.nature.com › ...</td><td></td></tr><tr><td>9</td><td>Guillain-Barre Syndrome: Practice Essentials, Background, ...</td><td>https://emedicine.medscape.com/article/315632-overview</td><td>GBS is considered to be a postinfectious, immune-mediated disease targeting peripheral nerves. Up to two thirds of patients report an antecedent ...</td><td>Medscape</td><td>https://emedicine.medscape.com › ...</td><td></td></tr><tr><td>3</td><td>Guillain-Barré Syndrome: Causes, Symptoms, ... - WebMD</td><td>https://www.webmd.com/brain/what-is-guillain-barre</td><td>Guillain-Barré Syndrome (GBS) is a rare disorder in which your immune system suddenly attacks your nerves, often after you've had a stomach ...</td><td>WebMD</td><td>https://www.webmd.com › ...</td><td></td></tr><tr><td>8</td><td>Guillain-Barré Syndrome (GBS) - Brain, Spinal Cord, and ...</td><td>https://www.msdmanuals.com/home/brain-spinal-cord-and-nerve-disorders/peripheral-nerve-and-related-disorders/guillain-barr%C3%A9-syndrome-gbs</td><td>Guillain-Barré syndrome is a form of polyneuropathy causing muscle weakness, which usually worsens over a few days to weeks, then slowly improves or returns ...</td><td>MSD Manuals</td><td>https://www.msdmanuals.com › ...</td><td></td></tr><tr><td>9</td><td>Guillain-Barré syndrome: Symptoms, causes, diagnosis, ...</td><td>https://www.medicalnewstoday.com/articles/167892</td><td>Guillain-Barré syndrome is a neurological disorder and autoimmune disease that affects the peripheral nervous system. Guillain-Barré syndrome can lead to ...</td><td>Medical News Today</td><td>https://www.medicalnewstoday.com › ...</td><td></td></tr><tr><td>5</td><td>Guillain-Barré syndrome</td><td>https://www.sciencedirect.com/science/article/abs/pii/S0140673621005171</td><td>Guillain-Barré syndrome is an immune-mediated polyradiculoneuropathy that accounts for an estimated 100 000 new cases annually worldwide.1 In ...</td><td>ScienceDirect.com</td><td>https://www.sciencedirect.com › ...</td><td></td></tr><tr><td>2</td><td>Guillain-Barré Syndrome (GBS) and Vaccines</td><td>https://www.cdc.gov/vaccine-safety/about/guillain-barre.html</td><td>Guillain-Barré syndrome (GBS) is a rare disorder where the body's immune system damages nerve. To study whether a new vaccine might be ...</td><td>Centers for Disease Control and Prevention | CDC (.gov)</td><td>https://www.cdc.gov › ...</td><td></td></tr><tr><td>1</td><td>Guillain-Barré syndrome (GBS)</td><td>https://www.healthline.com/health/guillain-barre-syndrome</td><td>The first symptom of Guillain-Barré syndrome is usually a tingling sensation in your toes, feet, and legs. The tingling spreads upward to your arms and fingers.</td><td>Healthline</td><td>https://www.healthline.com › ...</td><td></td></tr><tr><td>7</td><td>Guillain-Barre Syndrome - GBS</td><td>https://medlineplus.gov/guillainbarresyndrome.html</td><td>Guillain-Barre syndrome is a rare disorder that causes your immune system to attack your peripheral nervous system (PNS).</td><td>MedlinePlus (.gov)</td><td>https://medlineplus.gov › ...</td><td></td></tr><tr><td>6</td><td>Guillain-Barré Syndrome : CONTINUUM</td><td>https://journals.lww.com/continuum/fulltext/2020/10000/guillain_barr__syndrome.6.aspx</td><td>Guillain-Barré syndrome (GBS) encompasses a spectrum of acute neuropathic disorders, with muscle weakness being the cardinal manifestation in the majority of ...</td><td>Lippincott</td><td>https://journals.lww.com › ...</td><td></td></tr><tr><td>3</td><td>Diagnosis and management of Guillain–Barré syndrome ...</td><td>https://www.nature.com/articles/s41582-019-0250-9</td><td>Guillain–Barré syndrome (GBS) is a rare, but potentially fatal, immune-mediated disease of the peripheral nerves and nerve roots that is ...</td><td>Nature</td><td>https://www.nature.com › ...</td><td></td></tr><tr><td>6</td><td>Guillain-Barré Syndrome | Diagnosis & Disease Information</td><td>https://www.pulmonologyadvisor.com/ddi/guillain-barre-syndrome/</td><td>Guillain-Barré syndrome is an autoimmune disorder that results in inflammatory demyelination.1 The condition was first described in 1916 by ...</td><td>Pulmonology Advisor</td><td>https://www.pulmonologyadvisor.com › ...</td><td></td></tr><tr><td>4</td><td>Guillain–Barré Syndrome | NEJM</td><td>https://www.nejm.org/doi/full/10.1056/NEJMra1114525</td><td>The Guillain–Barré syndrome is the most frequent cause of acute flaccid paralysis worldwide and constitutes a neurologic emergency.</td><td>The New England Journal of Medicine</td><td>https://www.nejm.org › ...</td><td></td></tr><tr><td>10</td><td>What is Guillain-Barré Syndrome or GBS</td><td>https://www.gbs-cidp.org/gbs/</td><td>GBS is characterized by the rapid onset of numbness, weakness, and often paralysis of the legs, arms, breathing muscles, and face. Paralysis is ascending, ...</td><td>GBS/CIDP Foundation International</td><td>https://www.gbs-cidp.org › ...</td><td></td></tr><tr><td>5</td><td>Guillain-Barré syndrome</td><td>https://www.sciencedirect.com/science/article/pii/S0140673621005171</td><td>Guillain-Barré syndrome is an immune-mediated polyradiculoneuropathy that accounts for an estimated 100 000 new cases annually worldwide.</td><td>ScienceDirect.com</td><td>https://www.sciencedirect.com › ...</td><td></td></tr><tr><td>8</td><td>Guillain-Barré Syndrome (GBS)</td><td>https://www.childrenshospital.org/conditions/guillain-barre-syndrome</td><td>Guillain-Barré syndrome (GBS) occurs when the immune system attacks the peripheral nervous system. Learn more from Boston Children's Hospital.</td><td>Boston Children's Hospital</td><td>https://www.childrenshospital.org › ...</td><td></td></tr><tr><td>9</td><td>Guillain–Barré syndrome outbreak in Pune - The Lancet</td><td>https://www.thelancet.com/journals/lancet/article/PIIS0140-6736(25)00414-3/fulltext</td><td>As of March 8, 2025, the total number of Guillain–Barré syndrome cases in Pune was 225, with 197 confirmed diagnoses and 28 suspected cases, ...</td><td>The Lancet</td><td>https://www.thelancet.com › ...</td><td></td></tr><tr><td>7</td><td>Guillain‐Barré syndrome: a comprehensive review - Bellanti</td><td>https://onlinelibrary.wiley.com/doi/10.1111/ene.16365</td><td>Guillain-Barré syndrome is a postinfectious, immune-mediated peripheral neuropathy. As our knowledge continues to expand, its pathophysiological ...</td><td>Wiley Online Library</td><td>https://onlinelibrary.wiley.com › ...</td><td></td></tr><tr><td>5</td><td>Guillain-Barré Syndrome</td><td>https://www.americanbrainfoundation.org/diseases/guillain-barre-syndrome/</td><td>Guillain-Barré syndrome (GBS) is a rare neurologic disorder in which the body's autoimmune response attacks the peripheral nervous system.</td><td>American Brain Foundation</td><td>https://www.americanbrainfoundation.org › ...</td><td></td></tr><tr><td>4</td><td>Guillain-Barre syndrome: Video, Causes, & Meaning</td><td>https://www.osmosis.org/learn/Guillain-Barre_syndrome</td><td>The cause of Guillain- Barré syndrome is unknown, but it's known to develop after a bacterial infection, like Campylobacter jejuni and Mycoplasma pneumoniae, or ...</td><td>Osmosis</td><td>https://www.osmosis.org › ...</td><td></td></tr><tr><td>6</td><td>What is Guillain-Barré Syndrome (GBS)? - By Adhikari Lifeline</td><td>https://www.adhikarilifeline.com/what-is-guillain-barre-syndrome-gbs/</td><td>Guillain-Barré Syndrome (GBS) is a rare but serious neurological disorder in which the body's immune system mistakenly attacks the nervous system.</td><td>adhikarilifeline.com</td><td>https://www.adhikarilifeline.com › ...</td><td></td></tr><tr><td>1</td><td>Guillain-Barré Syndrome - Symptoms, Causes, Treatment</td><td>https://rarediseases.org/rare-diseases/guillain-barre-syndrome/</td><td>Guillain-Barré syndrome (GBS) is a rare, rapidly progressive disease due to inflammation of the nerves causing muscle weakness, sometimes ...</td><td>National Organization for Rare Disorders</td><td>https://rarediseases.org › ...</td><td></td></tr><tr><td>7</td><td>Guillain-Barré syndrome: Types, Symptoms, Causes & ...</td><td>https://www.pacehospital.com/guillain-barre-syndrome-symptoms-causes-diagnosis-treatment</td><td>Guillain-Barré Syndrome is a rare autoimmune disorder in which the immune system attacks the nerves, leading to muscle weakness, numbness, and paralysis.</td><td>PACE Hospitals</td><td>https://www.pacehospital.com › ...</td><td></td></tr><tr><td>3</td><td>Current treatment practice of Guillain-Barré syndrome</td><td>https://www.neurology.org/doi/10.1212/WNL.0000000000007719</td><td>Plasma exchange (PE) and IV immunoglobulin (IVIg) are the only proven effective treatments for Guillain-Barré syndrome (GBS), although there has been little ...</td><td>Neurology® Journals</td><td>https://www.neurology.org › ...</td><td></td></tr><tr><td>2</td><td>Guillain-Barré syndrome in adults: Pathogenesis, clinical ...</td><td>https://www.uptodate.com/contents/guillain-barre-syndrome-in-adults-pathogenesis-clinical-features-and-diagnosis</td><td>Time course of symptoms · Examination findings · - Weakness · - Deep tendon reflexes · - Other findings · Variant forms of Guillain-Barré syndrome.</td><td>Wolters Kluwer</td><td>https://www.uptodate.com › ...</td><td></td></tr><tr><td>4</td><td>Pune's Guillain-Barré Syndrome Epidemic Related to ...</td><td>https://www.vax-before-travel.com/punes-guillain-barr-syndrome-epidemic-related-water-quality-2025-03-10</td><td>Experts have linked these GBS infections with Campylobacter jejuni. This bacteria is one of the most common causes of food poisoning.</td><td>Vax-Before-Travel</td><td>https://www.vax-before-travel.com › ...</td><td></td></tr><tr><td>5</td><td>Guillain-Barré Syndrome (GBS)</td><td>https://litfl.com/guillain-barre-syndrome-gbs/</td><td>Guillain-Barré Syndrome (GBS) is the most common and most severe acute paralytic neuropathy, consisting of multiple variants with distinct clinical and ...</td><td>Life in the Fast Lane • LITFL</td><td>https://litfl.com › ...</td><td></td></tr><tr><td>3</td><td>Guillain-Barre Syndrome (GBS)</td><td>https://www.jeffersonhealth.org/conditions-and-treatments/guillain-barre-syndrome</td><td>We're also involved in researching the underlying causes of GBS and other autoimmune neuromuscular conditions. At Jefferson Health, you can be sure you're ...</td><td>Jefferson Health</td><td>https://www.jeffersonhealth.org › ...</td><td></td></tr><tr><td>8</td><td>Guillain Barré Syndrome</td><td>https://www.brainfacts.org/diseases-and-disorders/neurological-disorders-az/diseases-a-to-z-from-ninds/guillain-barr%C3%A9-syndrome</td><td>Guillain-Barré syndrome is a disorder in which the body's immune system attacks part of the peripheral nervous system. The first symptoms of this disorder ...</td><td>BrainFacts</td><td>https://www.brainfacts.org › ...</td><td></td></tr><tr><td>2</td><td>Pediatric Guillain-Barré syndrome (GBS) - Dallas</td><td>https://www.childrens.com/specialties-services/conditions/guillain-barre-syndrome</td><td>A typical sign of GBS is muscle weakness, numbness, tingling (pins-and-needle sensation) and occasionally pain, that starts in the feet and legs. These symptoms ...</td><td>Children’s Health</td><td>https://www.childrens.com › ...</td><td></td></tr><tr><td>1</td><td>Guillain-Barre Syndrome: Symptoms, Causes & Treatment</td><td>https://www.blkmaxhospital.com/blogs/guillain-barre-syndrome</td><td>Guillain-Barre Syndrome (GBS) is a rare but serious autoimmune disorder that affects the peripheral nervous system.</td><td>BLK-Max Hospital</td><td>https://www.blkmaxhospital.com › ...</td><td></td></tr><tr><td>9</td><td>Guillain-Barré Syndrome</td><td>https://www.mayoclinicproceedings.org/article/S0025-6196(16)30818-7/fulltext</td><td>Guillain-Barré syndrome is an acute inflammatory immune-mediated polyradiculoneuropathy presenting typically with tingling, progressive weakness, and pain.</td><td>Mayo Clinic Proceedings</td><td>https://www.mayoclinicproceedings.org › ...</td><td></td></tr><tr><td>10</td><td>Guillain-Barré Syndrome - Neurology - Highland Hospital</td><td>https://www.urmc.rochester.edu/highland/departments-centers/neurology/conditions-we-treat/guillain-barr</td><td>Guillain-Barré (ghee-yan bah-ray) syndrome is a disorder in which the body's immune system attacks part of the peripheral nervous system.</td><td>University of Rochester Medical Center</td><td>https://www.urmc.rochester.edu › ...</td><td></td></tr><tr><td>2</td><td>Guillain-Barré Syndrome</td><td>https://www.yalemedicine.org/conditions/guillain-barre-syndrome</td><td>Guillain-Barré syndrome (GBS) is a neurological condition in which the body's immune system attacks healthy nerve cells.</td><td>Yale Medicine</td><td>https://www.yalemedicine.org › ...</td><td></td></tr><tr><td>1</td><td>Guillain-Barre Syndrome: Symptoms, Causes & Treatment</td><td>https://www.blkmaxhospital.com/blogs/guillain-barre-syndrome</td><td>Guillain-Barre Syndrome is a rare but serious neurological disorder that requires immediate medical attention. While most people recover, early ...</td><td>BLK-Max Hospital</td><td>https://www.blkmaxhospital.com › ...</td><td></td></tr><tr><td>8</td><td>Guillain-Barré Syndrome | McGovern Medical School</td><td>https://med.uth.edu/neurosciences/conditions-and-treatments/nerve-disorders/guillain-barre-syndrome/</td><td>Signs Guillain-Barré Syndrome. Initial symptoms may present as pain, weakness, or tingling in the hands or feet. Patients usually experience this in one side of ...</td><td>UTHealth Houston</td><td>https://med.uth.edu › ...</td><td></td></tr><tr><td>9</td><td>Guillain-Barré Syndrome</td><td>https://www.medcomic.com/medcomic/guillain-barre-syndrome</td><td>Guillain-Barré syndrome (GBS) is an acute, inflammatory demyelinating polyneuropathy with ascending muscle weakness that is autoimmune in nature.</td><td>Medcomic</td><td>https://www.medcomic.com › ...</td><td></td></tr><tr><td>6</td><td>Guillain-Barré Syndrome</td><td>https://zerotofinals.com/medicine/neurology/guillainbarre/</td><td>Presentation. Symptoms usually start within four weeks of the triggering infection. They begin in the feet and progress upward. Symptoms peak within 2-4 weeks.</td><td>Zero To Finals</td><td>https://zerotofinals.com › ...</td><td></td></tr><tr><td>10</td><td>Physical Therapy Guide to Guillain-Barré Syndrome</td><td>https://www.choosept.com/guide/physical-therapy-guide-guillain-barre-syndrome</td><td>Physical therapists have extensive training to help people during GBS recovery. They help patients understand how GBS affects their ability to move safely.</td><td>ChoosePT</td><td>https://www.choosept.com › ...</td><td></td></tr><tr><td>7</td><td>Guillain-Barré Syndrome (for Parents)</td><td>https://kidshealth.org/en/parents/gbs.html</td><td>What Are the Signs & Symptoms of Guillain-Barré Syndrome? · tingling or pain in the toes and fingertips · weakness or pain in the legs that causes trouble ...</td><td>KidsHealth</td><td>https://kidshealth.org › ...</td><td></td></tr><tr><td>7</td><td>Guillain-Barré Syndrome (GBS): Symptoms & Causes</td><td>https://www.nyp.org/neuro/neuromuscular-disorders/guillain-barre-syndrome</td><td>Guillain-Barré syndrome is a neurological disorder in which the body's immune system attacks the nerves outside the brain and spinal cord.</td><td>NewYork-Presbyterian</td><td>https://www.nyp.org › ...</td><td></td></tr><tr><td>3</td><td>Definition of Guillain-Barré syndrome</td><td>https://www.cancer.gov/publications/dictionaries/cancer-terms/def/guillain-barre-syndrome</td><td>A rare condition in which the body's immune system attacks the nerves located outside the brain and spinal cord. Symptoms of Guillain-Barré syndrome include ...</td><td>National Cancer Institute (.gov)</td><td>https://www.cancer.gov › ...</td><td></td></tr><tr><td>9</td><td>Guillain-Barré Syndrome</td><td>https://zerotofinals.com/medicine/neurology/guillainbarre/</td><td>Guillain-Barré syndrome is an acute paralytic polyneuropathy that affects the peripheral nervous system. It causes acute, symmetrical, ascending weakness.</td><td>Zero To Finals</td><td>https://zerotofinals.com › ...</td><td></td></tr><tr><td>10</td><td>क्या है Guillain-Barre Syndrome? महाराष्ट्र में 6 की मौत ...</td><td>https://www.prabhatkhabar.com/state/maharashtra/what-is-guillain-barre-syndrome-maharashtra-in-grip-most-cases-from-youth</td><td>गिलियन-बैरे सिंड्रोम (जीबीएस) एक ऑटोइम्यून बीमारी है. यह मरीजों के इम्यून सिस्टम को प्रभावित करता है. जीबीएस मरीजों के स्वस्थ्य नसों पर हमला करता है. जिससे नसें कमजोर हो जाती हैं. अगर समय पर इसका इलाज ...</td><td>Prabhat Khabar</td><td>https://www.prabhatkhabar.com › Rajya › Maharashtra</td><td></td></tr><tr><td>8</td><td>Guillain-Barre syndrome (GBS)</td><td>https://gpnotebook.com/pages/infectious-disease/guillain-barre-syndrome-gbs</td><td>Guillain-Barre syndrome (GBS) ... A prodromal malaise with vomiting, headache, fever and limb pains is rapidly surmounted by a progressive and ...</td><td>GPnotebook</td><td>https://gpnotebook.com › ...</td><td></td></tr><tr><td>6</td><td>When Your Child Has Guillain-Barre Syndrome (GBS)</td><td>https://www.saintlukeskc.org/health-library/when-your-child-has-guillain-barre-syndrome-gbs</td><td>Your child has been diagnosed with Guillain-Barré syndrome (GBS). This is an illness that affects the peripheral nerves, often both the sensory and motor ...</td><td>Saint Luke's Health System Kansas City</td><td>https://www.saintlukeskc.org › ...</td><td></td></tr><tr><td>4</td><td>à¥ à¤¯à¤¾ à¤¹à¥ˆ?</td><td>https://translate.google.com/translate?u=https://www.webmd.com/brain/what-is-guillain-barre&hl=hi&sl=en&tl=hi&client=srp</td><td>à¤—à¥ à¤‡à¤²à¥‡à¤¨-à¤¬à¥ˆà¤°à¥‡ à¤¸à¤¿à¤‚à¤¡à¥ à¤°à¥‹à¤® à¤ à¤• à¤¦à¥ à¤°à¥ à¤²à¤ à¤'à¤Ÿà¥‹à¤‡à¤®à¥ à¤¯à¥‚à¤¨ à¤µà¤¿à¤•à¤¾à¤° à¤¹à¥ˆà¥¤ ...</td><td>WebMD</td><td>https://www.webmd.com › brain › what-is-guillain-barre</td><td></td></tr><tr><td>5</td><td>Epidemiology of Guillain Barre Syndrome in North Western ...</td><td>https://www.ijnonline.org/article-details/1785</td><td>In our study prevalence of GBS was 41.5%. Most cases were in the age range of 13-60 months. In these study males (68.5%) were more affected than girls (31.5%).</td><td>Indian Journal of Neurosciences</td><td>https://www.ijnonline.org › ...</td><td></td></tr></tbody></table></div>"
      ]
     },
     "metadata": {
      "application/vnd.databricks.v1+output": {
       "addedWidgets": {},
       "aggData": [],
       "aggError": "",
       "aggOverflow": false,
       "aggSchema": [],
       "aggSeriesLimitReached": false,
       "aggType": "",
       "arguments": {},
       "columnCustomDisplayInfos": {},
       "data": [
        [
         6,
         "Guillain-Barré Syndrome",
         "https://www.hopkinsmedicine.org/health/conditions-and-diseases/guillainbarr-syndrome",
         "Guillain-Barré syndrome (GBS) is a rare neurological disorder in which the body's immune system attacks the peripheral nervous system.",
         "Johns Hopkins Medicine",
         "https://www.hopkinsmedicine.org › ...",
         ""
        ],
        [
         5,
         "Guillain–Barré syndrome",
         "https://www.who.int/news-room/fact-sheets/detail/guillain-barr%C3%A9-syndrome",
         "Guillain-Barré syndrome (GBS) is a rare condition in which a person's immune system attacks the peripheral nerves.",
         "World Health Organization (WHO)",
         "https://www.who.int › ...",
         ""
        ],
        [
         2,
         "Guillain-Barré Syndrome (GBS): Symptoms & Treatment",
         "https://my.clevelandclinic.org/health/diseases/15838-guillain-barre-syndrome",
         "Guillain-Barré syndrome is a rare autoimmune condition in which your immune system attacks your peripheral nerves. It causes numbness and muscle weakness.",
         "Cleveland Clinic",
         "https://my.clevelandclinic.org › ...",
         ""
        ],
        [
         1,
         "Guillain-Barre syndrome - Symptoms and causes",
         "https://www.mayoclinic.org/diseases-conditions/guillain-barre-syndrome/symptoms-causes/syc-20362793",
         "Guillain-Barre syndrome often begins with tingling and weakness starting in the feet and legs and spreading to the upper body and arms. Some ...",
         "Mayo Clinic",
         "https://www.mayoclinic.org › ...",
         ""
        ],
        [
         7,
         "Guillain-Barre syndrome - Diagnosis and treatment",
         "https://www.mayoclinic.org/diseases-conditions/guillain-barre-syndrome/diagnosis-treatment/drc-20363006",
         "This rare autoimmune condition affects the nerves, causing weakness and tingling in the arms and legs that quickly spreads throughout the ...",
         "Mayo Clinic",
         "https://www.mayoclinic.org › ...",
         "{'inline': [{'title': 'Symptoms and causes', 'link': 'https://www.mayoclinic.org/diseases-conditions/guillain-barre-syndrome/symptoms-causes/syc-20362793'}, {'title': 'Doctors and departments', 'link': 'https://www.mayoclinic.org/diseases-conditions/guillain-barre-syndrome/doctors-departments/ddc-20363037'}, {'title': 'Care at Mayo Clinic', 'link': 'https://www.mayoclinic.org/diseases-conditions/guillain-barre-syndrome/care-at-mayo-clinic/mac-20363049'}]}"
        ],
        [
         4,
         "Guillain–Barré syndrome",
         "https://en.wikipedia.org/wiki/Guillain%E2%80%93Barr%C3%A9_syndrome",
         "Guillain–Barré syndrome (GBS) is a rapid-onset muscle weakness caused by the immune system damaging the peripheral nervous system.",
         "Wikipedia",
         "https://en.wikipedia.org › ...",
         ""
        ],
        [
         3,
         "Guillain-Barré Syndrome",
         "https://www.ninds.nih.gov/health-information/disorders/guillain-barre-syndrome",
         "Guillain-Barré syndrome (GBS) (pronounced Ghee-yan Bah-ray) is a rare neurological disorder in which a person's immune system mistakenly attacks ...",
         "National Institute of Neurological Disorders and Stroke (.gov)",
         "https://www.ninds.nih.gov › ...",
         "{'inline': [{'title': 'What is Guillain-Barré...', 'link': 'https://www.ninds.nih.gov/health-information/disorders/guillain-barre-syndrome#toc-what-is-guillain-barr-syndrome-'}, {'title': 'How is Guillain-Barré...', 'link': 'https://www.ninds.nih.gov/health-information/disorders/guillain-barre-syndrome#toc-how-is-guillain-barr-syndrome-diagnosed-and-treated-'}, {'title': 'What are the latest updates on...', 'link': 'https://www.ninds.nih.gov/health-information/disorders/guillain-barre-syndrome#toc-what-are-the-latest-updates-on-guillain-barr-syndrome-'}]}"
        ],
        [
         8,
         "Guillain-Barre Syndrome",
         "https://www.physio-pedia.com/Guillain-Barre_Syndrome",
         "Guillain-Barré syndrome (GBS) is a condition characterised by the autoimmune destruction of the peripheral sensory system.",
         "Physiopedia",
         "https://www.physio-pedia.com › ...",
         "{'inline': [{'title': 'Case Study', 'link': 'https://www.physio-pedia.com/Case_Study:_Guillain-Barre_Syndrome_(Sub-Acute)'}, {'title': 'Acute Motor Axonal...', 'link': 'https://www.physio-pedia.com/Acute_Motor_Axonal_Neuropathy_(AMAN),_a_Variant_of_Guillain-Barre_Syndrome:_A_Case_Study'}, {'title': 'Edit', 'link': 'https://www.physio-pedia.com/Guillain-Barre_Syndrome?veaction=edit'}]}"
        ],
        [
         1,
         "Guillain-Barré syndrome Information - Mount Sinai",
         "https://www.mountsinai.org/health-library/diseases-conditions/guillain-barr-syndrome",
         "GBS damages parts of nerves. This nerve damage causes tingling, muscle weakness, loss of balance, and paralysis. GBS most often affects the nerve covering ( ...",
         "Mount Sinai",
         "https://www.mountsinai.org › ...",
         ""
        ],
        [
         2,
         "Guillain-Barre Syndrome - StatPearls",
         "https://www.ncbi.nlm.nih.gov/books/NBK532254/",
         "Guillain-Barré syndrome (GBS) is a rare but serious post-infectious immune-mediated neuropathy. It results from the autoimmune destruction of nerves in the ...",
         "National Institutes of Health (NIH) (.gov)",
         "https://www.ncbi.nlm.nih.gov › ...",
         ""
        ],
        [
         10,
         "Guillain-Barré Syndrome | Campylobacter",
         "https://www.cdc.gov/campylobacter/signs-symptoms/guillain-barre-syndrome.html",
         "Guillain-Barré (Ghee-YAN Bah-RAY) syndrome happens when a person's immune system harms their nerves. This harm causes muscle weakness and ...",
         "Centers for Disease Control and Prevention | CDC (.gov)",
         "https://www.cdc.gov › ...",
         ""
        ],
        [
         4,
         "Guillain–Barré syndrome | Nature Reviews Disease Primers",
         "https://www.nature.com/articles/s41572-024-00580-4",
         "GBS is usually a monophasic condition in which the immune system aberrantly disrupts the function and structure of the peripheral nervous system ...",
         "Nature",
         "https://www.nature.com › ...",
         ""
        ],
        [
         9,
         "Guillain-Barre Syndrome: Practice Essentials, Background, ...",
         "https://emedicine.medscape.com/article/315632-overview",
         "GBS is considered to be a postinfectious, immune-mediated disease targeting peripheral nerves. Up to two thirds of patients report an antecedent ...",
         "Medscape",
         "https://emedicine.medscape.com › ...",
         ""
        ],
        [
         3,
         "Guillain-Barré Syndrome: Causes, Symptoms, ... - WebMD",
         "https://www.webmd.com/brain/what-is-guillain-barre",
         "Guillain-Barré Syndrome (GBS) is a rare disorder in which your immune system suddenly attacks your nerves, often after you've had a stomach ...",
         "WebMD",
         "https://www.webmd.com › ...",
         ""
        ],
        [
         8,
         "Guillain-Barré Syndrome (GBS) - Brain, Spinal Cord, and ...",
         "https://www.msdmanuals.com/home/brain-spinal-cord-and-nerve-disorders/peripheral-nerve-and-related-disorders/guillain-barr%C3%A9-syndrome-gbs",
         "Guillain-Barré syndrome is a form of polyneuropathy causing muscle weakness, which usually worsens over a few days to weeks, then slowly improves or returns ...",
         "MSD Manuals",
         "https://www.msdmanuals.com › ...",
         ""
        ],
        [
         9,
         "Guillain-Barré syndrome: Symptoms, causes, diagnosis, ...",
         "https://www.medicalnewstoday.com/articles/167892",
         "Guillain-Barré syndrome is a neurological disorder and autoimmune disease that affects the peripheral nervous system. Guillain-Barré syndrome can lead to ...",
         "Medical News Today",
         "https://www.medicalnewstoday.com › ...",
         ""
        ],
        [
         5,
         "Guillain-Barré syndrome",
         "https://www.sciencedirect.com/science/article/abs/pii/S0140673621005171",
         "Guillain-Barré syndrome is an immune-mediated polyradiculoneuropathy that accounts for an estimated 100 000 new cases annually worldwide.1 In ...",
         "ScienceDirect.com",
         "https://www.sciencedirect.com › ...",
         ""
        ],
        [
         2,
         "Guillain-Barré Syndrome (GBS) and Vaccines",
         "https://www.cdc.gov/vaccine-safety/about/guillain-barre.html",
         "Guillain-Barré syndrome (GBS) is a rare disorder where the body's immune system damages nerve. To study whether a new vaccine might be ...",
         "Centers for Disease Control and Prevention | CDC (.gov)",
         "https://www.cdc.gov › ...",
         ""
        ],
        [
         1,
         "Guillain-Barré syndrome (GBS)",
         "https://www.healthline.com/health/guillain-barre-syndrome",
         "The first symptom of Guillain-Barré syndrome is usually a tingling sensation in your toes, feet, and legs. The tingling spreads upward to your arms and fingers.",
         "Healthline",
         "https://www.healthline.com › ...",
         ""
        ],
        [
         7,
         "Guillain-Barre Syndrome - GBS",
         "https://medlineplus.gov/guillainbarresyndrome.html",
         "Guillain-Barre syndrome is a rare disorder that causes your immune system to attack your peripheral nervous system (PNS).",
         "MedlinePlus (.gov)",
         "https://medlineplus.gov › ...",
         ""
        ],
        [
         6,
         "Guillain-Barré Syndrome : CONTINUUM",
         "https://journals.lww.com/continuum/fulltext/2020/10000/guillain_barr__syndrome.6.aspx",
         "Guillain-Barré syndrome (GBS) encompasses a spectrum of acute neuropathic disorders, with muscle weakness being the cardinal manifestation in the majority of ...",
         "Lippincott",
         "https://journals.lww.com › ...",
         ""
        ],
        [
         3,
         "Diagnosis and management of Guillain–Barré syndrome ...",
         "https://www.nature.com/articles/s41582-019-0250-9",
         "Guillain–Barré syndrome (GBS) is a rare, but potentially fatal, immune-mediated disease of the peripheral nerves and nerve roots that is ...",
         "Nature",
         "https://www.nature.com › ...",
         ""
        ],
        [
         6,
         "Guillain-Barré Syndrome | Diagnosis & Disease Information",
         "https://www.pulmonologyadvisor.com/ddi/guillain-barre-syndrome/",
         "Guillain-Barré syndrome is an autoimmune disorder that results in inflammatory demyelination.1 The condition was first described in 1916 by ...",
         "Pulmonology Advisor",
         "https://www.pulmonologyadvisor.com › ...",
         ""
        ],
        [
         4,
         "Guillain–Barré Syndrome | NEJM",
         "https://www.nejm.org/doi/full/10.1056/NEJMra1114525",
         "The Guillain–Barré syndrome is the most frequent cause of acute flaccid paralysis worldwide and constitutes a neurologic emergency.",
         "The New England Journal of Medicine",
         "https://www.nejm.org › ...",
         ""
        ],
        [
         10,
         "What is Guillain-Barré Syndrome or GBS",
         "https://www.gbs-cidp.org/gbs/",
         "GBS is characterized by the rapid onset of numbness, weakness, and often paralysis of the legs, arms, breathing muscles, and face. Paralysis is ascending, ...",
         "GBS/CIDP Foundation International",
         "https://www.gbs-cidp.org › ...",
         ""
        ],
        [
         5,
         "Guillain-Barré syndrome",
         "https://www.sciencedirect.com/science/article/pii/S0140673621005171",
         "Guillain-Barré syndrome is an immune-mediated polyradiculoneuropathy that accounts for an estimated 100 000 new cases annually worldwide.",
         "ScienceDirect.com",
         "https://www.sciencedirect.com › ...",
         ""
        ],
        [
         8,
         "Guillain-Barré Syndrome (GBS)",
         "https://www.childrenshospital.org/conditions/guillain-barre-syndrome",
         "Guillain-Barré syndrome (GBS) occurs when the immune system attacks the peripheral nervous system. Learn more from Boston Children's Hospital.",
         "Boston Children's Hospital",
         "https://www.childrenshospital.org › ...",
         ""
        ],
        [
         9,
         "Guillain–Barré syndrome outbreak in Pune - The Lancet",
         "https://www.thelancet.com/journals/lancet/article/PIIS0140-6736(25)00414-3/fulltext",
         "As of March 8, 2025, the total number of Guillain–Barré syndrome cases in Pune was 225, with 197 confirmed diagnoses and 28 suspected cases, ...",
         "The Lancet",
         "https://www.thelancet.com › ...",
         ""
        ],
        [
         7,
         "Guillain‐Barré syndrome: a comprehensive review - Bellanti",
         "https://onlinelibrary.wiley.com/doi/10.1111/ene.16365",
         "Guillain-Barré syndrome is a postinfectious, immune-mediated peripheral neuropathy. As our knowledge continues to expand, its pathophysiological ...",
         "Wiley Online Library",
         "https://onlinelibrary.wiley.com › ...",
         ""
        ],
        [
         5,
         "Guillain-Barré Syndrome",
         "https://www.americanbrainfoundation.org/diseases/guillain-barre-syndrome/",
         "Guillain-Barré syndrome (GBS) is a rare neurologic disorder in which the body's autoimmune response attacks the peripheral nervous system.",
         "American Brain Foundation",
         "https://www.americanbrainfoundation.org › ...",
         ""
        ],
        [
         4,
         "Guillain-Barre syndrome: Video, Causes, & Meaning",
         "https://www.osmosis.org/learn/Guillain-Barre_syndrome",
         "The cause of Guillain- Barré syndrome is unknown, but it's known to develop after a bacterial infection, like Campylobacter jejuni and Mycoplasma pneumoniae, or ...",
         "Osmosis",
         "https://www.osmosis.org › ...",
         ""
        ],
        [
         6,
         "What is Guillain-Barré Syndrome (GBS)? - By Adhikari Lifeline",
         "https://www.adhikarilifeline.com/what-is-guillain-barre-syndrome-gbs/",
         "Guillain-Barré Syndrome (GBS) is a rare but serious neurological disorder in which the body's immune system mistakenly attacks the nervous system.",
         "adhikarilifeline.com",
         "https://www.adhikarilifeline.com › ...",
         ""
        ],
        [
         1,
         "Guillain-Barré Syndrome - Symptoms, Causes, Treatment",
         "https://rarediseases.org/rare-diseases/guillain-barre-syndrome/",
         "Guillain-Barré syndrome (GBS) is a rare, rapidly progressive disease due to inflammation of the nerves causing muscle weakness, sometimes ...",
         "National Organization for Rare Disorders",
         "https://rarediseases.org › ...",
         ""
        ],
        [
         7,
         "Guillain-Barré syndrome: Types, Symptoms, Causes & ...",
         "https://www.pacehospital.com/guillain-barre-syndrome-symptoms-causes-diagnosis-treatment",
         "Guillain-Barré Syndrome is a rare autoimmune disorder in which the immune system attacks the nerves, leading to muscle weakness, numbness, and paralysis.",
         "PACE Hospitals",
         "https://www.pacehospital.com › ...",
         ""
        ],
        [
         3,
         "Current treatment practice of Guillain-Barré syndrome",
         "https://www.neurology.org/doi/10.1212/WNL.0000000000007719",
         "Plasma exchange (PE) and IV immunoglobulin (IVIg) are the only proven effective treatments for Guillain-Barré syndrome (GBS), although there has been little ...",
         "Neurology® Journals",
         "https://www.neurology.org › ...",
         ""
        ],
        [
         2,
         "Guillain-Barré syndrome in adults: Pathogenesis, clinical ...",
         "https://www.uptodate.com/contents/guillain-barre-syndrome-in-adults-pathogenesis-clinical-features-and-diagnosis",
         "Time course of symptoms · Examination findings · - Weakness · - Deep tendon reflexes · - Other findings · Variant forms of Guillain-Barré syndrome.",
         "Wolters Kluwer",
         "https://www.uptodate.com › ...",
         ""
        ],
        [
         4,
         "Pune's Guillain-Barré Syndrome Epidemic Related to ...",
         "https://www.vax-before-travel.com/punes-guillain-barr-syndrome-epidemic-related-water-quality-2025-03-10",
         "Experts have linked these GBS infections with Campylobacter jejuni. This bacteria is one of the most common causes of food poisoning.",
         "Vax-Before-Travel",
         "https://www.vax-before-travel.com › ...",
         ""
        ],
        [
         5,
         "Guillain-Barré Syndrome (GBS)",
         "https://litfl.com/guillain-barre-syndrome-gbs/",
         "Guillain-Barré Syndrome (GBS) is the most common and most severe acute paralytic neuropathy, consisting of multiple variants with distinct clinical and ...",
         "Life in the Fast Lane • LITFL",
         "https://litfl.com › ...",
         ""
        ],
        [
         3,
         "Guillain-Barre Syndrome (GBS)",
         "https://www.jeffersonhealth.org/conditions-and-treatments/guillain-barre-syndrome",
         "We're also involved in researching the underlying causes of GBS and other autoimmune neuromuscular conditions. At Jefferson Health, you can be sure you're ...",
         "Jefferson Health",
         "https://www.jeffersonhealth.org › ...",
         ""
        ],
        [
         8,
         "Guillain Barré Syndrome",
         "https://www.brainfacts.org/diseases-and-disorders/neurological-disorders-az/diseases-a-to-z-from-ninds/guillain-barr%C3%A9-syndrome",
         "Guillain-Barré syndrome is a disorder in which the body's immune system attacks part of the peripheral nervous system. The first symptoms of this disorder ...",
         "BrainFacts",
         "https://www.brainfacts.org › ...",
         ""
        ],
        [
         2,
         "Pediatric Guillain-Barré syndrome (GBS) - Dallas",
         "https://www.childrens.com/specialties-services/conditions/guillain-barre-syndrome",
         "A typical sign of GBS is muscle weakness, numbness, tingling (pins-and-needle sensation) and occasionally pain, that starts in the feet and legs. These symptoms ...",
         "Children’s Health",
         "https://www.childrens.com › ...",
         ""
        ],
        [
         1,
         "Guillain-Barre Syndrome: Symptoms, Causes & Treatment",
         "https://www.blkmaxhospital.com/blogs/guillain-barre-syndrome",
         "Guillain-Barre Syndrome (GBS) is a rare but serious autoimmune disorder that affects the peripheral nervous system.",
         "BLK-Max Hospital",
         "https://www.blkmaxhospital.com › ...",
         ""
        ],
        [
         9,
         "Guillain-Barré Syndrome",
         "https://www.mayoclinicproceedings.org/article/S0025-6196(16)30818-7/fulltext",
         "Guillain-Barré syndrome is an acute inflammatory immune-mediated polyradiculoneuropathy presenting typically with tingling, progressive weakness, and pain.",
         "Mayo Clinic Proceedings",
         "https://www.mayoclinicproceedings.org › ...",
         ""
        ],
        [
         10,
         "Guillain-Barré Syndrome - Neurology - Highland Hospital",
         "https://www.urmc.rochester.edu/highland/departments-centers/neurology/conditions-we-treat/guillain-barr",
         "Guillain-Barré (ghee-yan bah-ray) syndrome is a disorder in which the body's immune system attacks part of the peripheral nervous system.",
         "University of Rochester Medical Center",
         "https://www.urmc.rochester.edu › ...",
         ""
        ],
        [
         2,
         "Guillain-Barré Syndrome",
         "https://www.yalemedicine.org/conditions/guillain-barre-syndrome",
         "Guillain-Barré syndrome (GBS) is a neurological condition in which the body's immune system attacks healthy nerve cells.",
         "Yale Medicine",
         "https://www.yalemedicine.org › ...",
         ""
        ],
        [
         1,
         "Guillain-Barre Syndrome: Symptoms, Causes & Treatment",
         "https://www.blkmaxhospital.com/blogs/guillain-barre-syndrome",
         "Guillain-Barre Syndrome is a rare but serious neurological disorder that requires immediate medical attention. While most people recover, early ...",
         "BLK-Max Hospital",
         "https://www.blkmaxhospital.com › ...",
         ""
        ],
        [
         8,
         "Guillain-Barré Syndrome | McGovern Medical School",
         "https://med.uth.edu/neurosciences/conditions-and-treatments/nerve-disorders/guillain-barre-syndrome/",
         "Signs Guillain-Barré Syndrome. Initial symptoms may present as pain, weakness, or tingling in the hands or feet. Patients usually experience this in one side of ...",
         "UTHealth Houston",
         "https://med.uth.edu › ...",
         ""
        ],
        [
         9,
         "Guillain-Barré Syndrome",
         "https://www.medcomic.com/medcomic/guillain-barre-syndrome",
         "Guillain-Barré syndrome (GBS) is an acute, inflammatory demyelinating polyneuropathy with ascending muscle weakness that is autoimmune in nature.",
         "Medcomic",
         "https://www.medcomic.com › ...",
         ""
        ],
        [
         6,
         "Guillain-Barré Syndrome",
         "https://zerotofinals.com/medicine/neurology/guillainbarre/",
         "Presentation. Symptoms usually start within four weeks of the triggering infection. They begin in the feet and progress upward. Symptoms peak within 2-4 weeks.",
         "Zero To Finals",
         "https://zerotofinals.com › ...",
         ""
        ],
        [
         10,
         "Physical Therapy Guide to Guillain-Barré Syndrome",
         "https://www.choosept.com/guide/physical-therapy-guide-guillain-barre-syndrome",
         "Physical therapists have extensive training to help people during GBS recovery. They help patients understand how GBS affects their ability to move safely.",
         "ChoosePT",
         "https://www.choosept.com › ...",
         ""
        ],
        [
         7,
         "Guillain-Barré Syndrome (for Parents)",
         "https://kidshealth.org/en/parents/gbs.html",
         "What Are the Signs & Symptoms of Guillain-Barré Syndrome? · tingling or pain in the toes and fingertips · weakness or pain in the legs that causes trouble ...",
         "KidsHealth",
         "https://kidshealth.org › ...",
         ""
        ],
        [
         7,
         "Guillain-Barré Syndrome (GBS): Symptoms & Causes",
         "https://www.nyp.org/neuro/neuromuscular-disorders/guillain-barre-syndrome",
         "Guillain-Barré syndrome is a neurological disorder in which the body's immune system attacks the nerves outside the brain and spinal cord.",
         "NewYork-Presbyterian",
         "https://www.nyp.org › ...",
         ""
        ],
        [
         3,
         "Definition of Guillain-Barré syndrome",
         "https://www.cancer.gov/publications/dictionaries/cancer-terms/def/guillain-barre-syndrome",
         "A rare condition in which the body's immune system attacks the nerves located outside the brain and spinal cord. Symptoms of Guillain-Barré syndrome include ...",
         "National Cancer Institute (.gov)",
         "https://www.cancer.gov › ...",
         ""
        ],
        [
         9,
         "Guillain-Barré Syndrome",
         "https://zerotofinals.com/medicine/neurology/guillainbarre/",
         "Guillain-Barré syndrome is an acute paralytic polyneuropathy that affects the peripheral nervous system. It causes acute, symmetrical, ascending weakness.",
         "Zero To Finals",
         "https://zerotofinals.com › ...",
         ""
        ],
        [
         10,
         "क्या है Guillain-Barre Syndrome? महाराष्ट्र में 6 की मौत ...",
         "https://www.prabhatkhabar.com/state/maharashtra/what-is-guillain-barre-syndrome-maharashtra-in-grip-most-cases-from-youth",
         "गिलियन-बैरे सिंड्रोम (जीबीएस) एक ऑटोइम्यून बीमारी है. यह मरीजों के इम्यून सिस्टम को प्रभावित करता है. जीबीएस मरीजों के स्वस्थ्य नसों पर हमला करता है. जिससे नसें कमजोर हो जाती हैं. अगर समय पर इसका इलाज ...",
         "Prabhat Khabar",
         "https://www.prabhatkhabar.com › Rajya › Maharashtra",
         ""
        ],
        [
         8,
         "Guillain-Barre syndrome (GBS)",
         "https://gpnotebook.com/pages/infectious-disease/guillain-barre-syndrome-gbs",
         "Guillain-Barre syndrome (GBS) ... A prodromal malaise with vomiting, headache, fever and limb pains is rapidly surmounted by a progressive and ...",
         "GPnotebook",
         "https://gpnotebook.com › ...",
         ""
        ],
        [
         6,
         "When Your Child Has Guillain-Barre Syndrome (GBS)",
         "https://www.saintlukeskc.org/health-library/when-your-child-has-guillain-barre-syndrome-gbs",
         "Your child has been diagnosed with Guillain-Barré syndrome (GBS). This is an illness that affects the peripheral nerves, often both the sensory and motor ...",
         "Saint Luke's Health System Kansas City",
         "https://www.saintlukeskc.org › ...",
         ""
        ],
        [
         4,
         "à¥ à¤¯à¤¾ à¤¹à¥ˆ?",
         "https://translate.google.com/translate?u=https://www.webmd.com/brain/what-is-guillain-barre&hl=hi&sl=en&tl=hi&client=srp",
         "à¤—à¥ à¤‡à¤²à¥‡à¤¨-à¤¬à¥ˆà¤°à¥‡ à¤¸à¤¿à¤‚à¤¡à¥ à¤°à¥‹à¤® à¤ à¤• à¤¦à¥ à¤°à¥ à¤²à¤ à¤'à¤Ÿà¥‹à¤‡à¤®à¥ à¤¯à¥‚à¤¨ à¤µà¤¿à¤•à¤¾à¤° à¤¹à¥ˆà¥¤ ...",
         "WebMD",
         "https://www.webmd.com › brain › what-is-guillain-barre",
         ""
        ],
        [
         5,
         "Epidemiology of Guillain Barre Syndrome in North Western ...",
         "https://www.ijnonline.org/article-details/1785",
         "In our study prevalence of GBS was 41.5%. Most cases were in the age range of 13-60 months. In these study males (68.5%) were more affected than girls (31.5%).",
         "Indian Journal of Neurosciences",
         "https://www.ijnonline.org › ...",
         ""
        ]
       ],
       "datasetInfos": [],
       "dbfsResultPath": null,
       "isJsonSchema": true,
       "metadata": {},
       "overflow": false,
       "plotOptions": {
        "customPlotOptions": {},
        "displayType": "table",
        "pivotAggregation": null,
        "pivotColumns": null,
        "xColumns": null,
        "yColumns": null
       },
       "removedWidgets": [],
       "schema": [
        {
         "metadata": "{}",
         "name": "Position",
         "type": "\"integer\""
        },
        {
         "metadata": "{}",
         "name": "Title",
         "type": "\"string\""
        },
        {
         "metadata": "{}",
         "name": "Link",
         "type": "\"string\""
        },
        {
         "metadata": "{}",
         "name": "Snippet",
         "type": "\"string\""
        },
        {
         "metadata": "{}",
         "name": "Source",
         "type": "\"string\""
        },
        {
         "metadata": "{}",
         "name": "Displayed_Link",
         "type": "\"string\""
        },
        {
         "metadata": "{}",
         "name": "Sitelinks",
         "type": "\"string\""
        }
       ],
       "type": "table"
      }
     },
     "output_type": "display_data"
    }
   ],
   "source": [
    "# Display Cleaned Google Search Results DataFrame\n",
    "\n",
    "display(df_serpapi_spark)"
   ]
  },
  {
   "cell_type": "markdown",
   "metadata": {
    "application/vnd.databricks.v1+cell": {
     "cellMetadata": {
      "byteLimit": 2048000,
      "rowLimit": 10000
     },
     "inputWidgets": {},
     "nuid": "51c9cff9-274a-4efc-9eba-12f7defb97fd",
     "showTitle": false,
     "tableResultSettingsMap": {},
     "title": ""
    }
   },
   "source": [
    "**Exploratory Data Analysis (EDA) of Clinical Trials and Google Search Data**"
   ]
  },
  {
   "cell_type": "markdown",
   "metadata": {
    "application/vnd.databricks.v1+cell": {
     "cellMetadata": {
      "byteLimit": 2048000,
      "rowLimit": 10000
     },
     "inputWidgets": {},
     "nuid": "05d5636c-b7ec-41a0-ba38-3dcd7deb7fb2",
     "showTitle": false,
     "tableResultSettingsMap": {},
     "title": ""
    }
   },
   "source": [
    "**Distribution of Study Status in Clinical Trials (overallStatus)**"
   ]
  },
  {
   "cell_type": "code",
   "execution_count": 0,
   "metadata": {
    "application/vnd.databricks.v1+cell": {
     "cellMetadata": {
      "byteLimit": 2048000,
      "rowLimit": 10000
     },
     "inputWidgets": {},
     "nuid": "c8a8df44-70eb-4a92-bcec-32eae3eac83f",
     "showTitle": false,
     "tableResultSettingsMap": {},
     "title": ""
    }
   },
   "outputs": [
    {
     "output_type": "display_data",
     "data": {
      "text/html": [
       "<style scoped>\n",
       "  .table-result-container {\n",
       "    max-height: 300px;\n",
       "    overflow: auto;\n",
       "  }\n",
       "  table, th, td {\n",
       "    border: 1px solid black;\n",
       "    border-collapse: collapse;\n",
       "  }\n",
       "  th, td {\n",
       "    padding: 5px;\n",
       "  }\n",
       "  th {\n",
       "    text-align: left;\n",
       "  }\n",
       "</style><div class='table-result-container'><table class='table-result'><thead style='background-color: white'><tr><th>overallStatus</th><th>count</th></tr></thead><tbody><tr><td>COMPLETED</td><td>31</td></tr><tr><td>UNKNOWN</td><td>16</td></tr><tr><td>RECRUITING</td><td>12</td></tr><tr><td>NOT_YET_RECRUITING</td><td>7</td></tr><tr><td>WITHDRAWN</td><td>5</td></tr><tr><td>ENROLLING_BY_INVITATION</td><td>2</td></tr><tr><td>TERMINATED</td><td>2</td></tr><tr><td>ACTIVE_NOT_RECRUITING</td><td>1</td></tr></tbody></table></div>"
      ]
     },
     "metadata": {
      "application/vnd.databricks.v1+output": {
       "addedWidgets": {},
       "aggData": [],
       "aggError": "",
       "aggOverflow": false,
       "aggSchema": [],
       "aggSeriesLimitReached": false,
       "aggType": "",
       "arguments": {},
       "columnCustomDisplayInfos": {},
       "data": [
        [
         "COMPLETED",
         31
        ],
        [
         "UNKNOWN",
         16
        ],
        [
         "RECRUITING",
         12
        ],
        [
         "NOT_YET_RECRUITING",
         7
        ],
        [
         "WITHDRAWN",
         5
        ],
        [
         "ENROLLING_BY_INVITATION",
         2
        ],
        [
         "TERMINATED",
         2
        ],
        [
         "ACTIVE_NOT_RECRUITING",
         1
        ]
       ],
       "datasetInfos": [],
       "dbfsResultPath": null,
       "isJsonSchema": true,
       "metadata": {},
       "overflow": false,
       "plotOptions": {
        "customPlotOptions": {},
        "displayType": "table",
        "pivotAggregation": null,
        "pivotColumns": null,
        "xColumns": null,
        "yColumns": null
       },
       "removedWidgets": [],
       "schema": [
        {
         "metadata": "{}",
         "name": "overallStatus",
         "type": "\"string\""
        },
        {
         "metadata": "{}",
         "name": "count",
         "type": "\"long\""
        }
       ],
       "type": "table"
      }
     },
     "output_type": "display_data"
    }
   ],
   "source": [
    "# Understand the distribution of studies by status — e.g., completed, recruiting, withdrawn, etc.\n",
    "\n",
    "df_clinical_spark.groupBy(\"overallStatus\") \\\n",
    "    .count() \\\n",
    "    .orderBy(\"count\", ascending=False) \\\n",
    "    .display(truncate=False)\n"
   ]
  },
  {
   "cell_type": "markdown",
   "metadata": {
    "application/vnd.databricks.v1+cell": {
     "cellMetadata": {
      "byteLimit": 2048000,
      "rowLimit": 10000
     },
     "inputWidgets": {},
     "nuid": "57de2a02-0a95-4459-8f64-78d25fad99ab",
     "showTitle": false,
     "tableResultSettingsMap": {},
     "title": ""
    }
   },
   "source": [
    "**Percentage of studies with results vs without results**"
   ]
  },
  {
   "cell_type": "code",
   "execution_count": 0,
   "metadata": {
    "application/vnd.databricks.v1+cell": {
     "cellMetadata": {
      "byteLimit": 2048000,
      "rowLimit": 10000
     },
     "inputWidgets": {},
     "nuid": "ccc28280-43e8-4079-a9b8-bbfbfef1a056",
     "showTitle": false,
     "tableResultSettingsMap": {},
     "title": ""
    }
   },
   "outputs": [
    {
     "output_type": "display_data",
     "data": {
      "text/html": [
       "<style scoped>\n",
       "  .table-result-container {\n",
       "    max-height: 300px;\n",
       "    overflow: auto;\n",
       "  }\n",
       "  table, th, td {\n",
       "    border: 1px solid black;\n",
       "    border-collapse: collapse;\n",
       "  }\n",
       "  th, td {\n",
       "    padding: 5px;\n",
       "  }\n",
       "  th {\n",
       "    text-align: left;\n",
       "  }\n",
       "</style><div class='table-result-container'><table class='table-result'><thead style='background-color: white'><tr><th>hasResults</th><th>count</th><th>percentage</th></tr></thead><tbody><tr><td>true</td><td>4</td><td>5.26</td></tr><tr><td>false</td><td>72</td><td>94.74</td></tr></tbody></table></div>"
      ]
     },
     "metadata": {
      "application/vnd.databricks.v1+output": {
       "addedWidgets": {},
       "aggData": [],
       "aggError": "",
       "aggOverflow": false,
       "aggSchema": [],
       "aggSeriesLimitReached": false,
       "aggType": "",
       "arguments": {},
       "columnCustomDisplayInfos": {},
       "data": [
        [
         true,
         4,
         "5.26"
        ],
        [
         false,
         72,
         "94.74"
        ]
       ],
       "datasetInfos": [],
       "dbfsResultPath": null,
       "isJsonSchema": true,
       "metadata": {},
       "overflow": false,
       "plotOptions": {
        "customPlotOptions": {},
        "displayType": "table",
        "pivotAggregation": null,
        "pivotColumns": null,
        "xColumns": null,
        "yColumns": null
       },
       "removedWidgets": [],
       "schema": [
        {
         "metadata": "{}",
         "name": "hasResults",
         "type": "\"boolean\""
        },
        {
         "metadata": "{}",
         "name": "count",
         "type": "\"long\""
        },
        {
         "metadata": "{}",
         "name": "percentage",
         "type": "\"decimal(5,2)\""
        }
       ],
       "type": "table"
      }
     },
     "output_type": "display_data"
    }
   ],
   "source": [
    "# Quick insight into how many studies have published results — and whether most clinical trials on GBS report their findings\n",
    "from pyspark.sql.functions import col\n",
    "\n",
    "total_studies = df_clinical_spark.count()\n",
    "results_group = df_clinical_spark.groupBy(\"hasResults\").count()\n",
    "\n",
    "results_group.withColumn(\n",
    "    \"percentage\", \n",
    "    (col(\"count\") / total_studies * 100).cast(\"decimal(5,2)\")\n",
    ").display()\n"
   ]
  },
  {
   "cell_type": "markdown",
   "metadata": {
    "application/vnd.databricks.v1+cell": {
     "cellMetadata": {
      "byteLimit": 2048000,
      "rowLimit": 10000
     },
     "inputWidgets": {},
     "nuid": "e8ae1245-8672-4be6-a949-641e8d26696e",
     "showTitle": false,
     "tableResultSettingsMap": {},
     "title": ""
    }
   },
   "source": [
    "**Filter studies with results for focused analysis**"
   ]
  },
  {
   "cell_type": "code",
   "execution_count": 0,
   "metadata": {
    "application/vnd.databricks.v1+cell": {
     "cellMetadata": {
      "byteLimit": 2048000,
      "rowLimit": 10000
     },
     "inputWidgets": {},
     "nuid": "582ec39e-eb4e-4d12-bcb0-98700d75a764",
     "showTitle": false,
     "tableResultSettingsMap": {},
     "title": ""
    }
   },
   "outputs": [
    {
     "output_type": "stream",
     "name": "stdout",
     "output_type": "stream",
     "text": [
      "Studies with results: 4\n"
     ]
    },
    {
     "output_type": "display_data",
     "data": {
      "text/html": [
       "<style scoped>\n",
       "  .table-result-container {\n",
       "    max-height: 300px;\n",
       "    overflow: auto;\n",
       "  }\n",
       "  table, th, td {\n",
       "    border: 1px solid black;\n",
       "    border-collapse: collapse;\n",
       "  }\n",
       "  th, td {\n",
       "    padding: 5px;\n",
       "  }\n",
       "  th {\n",
       "    text-align: left;\n",
       "  }\n",
       "</style><div class='table-result-container'><table class='table-result'><thead style='background-color: white'><tr><th>nctId</th><th>briefTitle</th><th>overallStatus</th><th>hasResults</th></tr></thead><tbody><tr><td>NCT04752566</td><td>A Study to Evaluate the Efficacy and Safety of Eculizumab in Guillain-Barré Syndrome</td><td>COMPLETED</td><td>true</td></tr><tr><td>NCT03943589</td><td>A Study of Imlifidase in Patients With Guillain-Barré Syndrome</td><td>COMPLETED</td><td>true</td></tr><tr><td>NCT00411216</td><td>Recovery of Visual Acuity in People With Vestibular Deficits</td><td>COMPLETED</td><td>true</td></tr><tr><td>NCT04053452</td><td>Peripheral Nerve Ultrasound for Diagnosis and Prognosis of Guillain-Barre Syndrome</td><td>TERMINATED</td><td>true</td></tr></tbody></table></div>"
      ]
     },
     "metadata": {
      "application/vnd.databricks.v1+output": {
       "addedWidgets": {},
       "aggData": [],
       "aggError": "",
       "aggOverflow": false,
       "aggSchema": [],
       "aggSeriesLimitReached": false,
       "aggType": "",
       "arguments": {},
       "columnCustomDisplayInfos": {},
       "data": [
        [
         "NCT04752566",
         "A Study to Evaluate the Efficacy and Safety of Eculizumab in Guillain-Barré Syndrome",
         "COMPLETED",
         true
        ],
        [
         "NCT03943589",
         "A Study of Imlifidase in Patients With Guillain-Barré Syndrome",
         "COMPLETED",
         true
        ],
        [
         "NCT00411216",
         "Recovery of Visual Acuity in People With Vestibular Deficits",
         "COMPLETED",
         true
        ],
        [
         "NCT04053452",
         "Peripheral Nerve Ultrasound for Diagnosis and Prognosis of Guillain-Barre Syndrome",
         "TERMINATED",
         true
        ]
       ],
       "datasetInfos": [],
       "dbfsResultPath": null,
       "isJsonSchema": true,
       "metadata": {},
       "overflow": false,
       "plotOptions": {
        "customPlotOptions": {},
        "displayType": "table",
        "pivotAggregation": null,
        "pivotColumns": null,
        "xColumns": null,
        "yColumns": null
       },
       "removedWidgets": [],
       "schema": [
        {
         "metadata": "{}",
         "name": "nctId",
         "type": "\"string\""
        },
        {
         "metadata": "{}",
         "name": "briefTitle",
         "type": "\"string\""
        },
        {
         "metadata": "{}",
         "name": "overallStatus",
         "type": "\"string\""
        },
        {
         "metadata": "{}",
         "name": "hasResults",
         "type": "\"boolean\""
        }
       ],
       "type": "table"
      }
     },
     "output_type": "display_data"
    }
   ],
   "source": [
    "# Filter and preview studies that have published results for further analysis\n",
    "df_with_results = df_clinical_spark.filter(col(\"hasResults\") == True)\n",
    "print(f\"Studies with results: {df_with_results.count()}\")\n",
    "df_with_results.display(5, truncate=False)\n",
    "\n"
   ]
  },
  {
   "cell_type": "markdown",
   "metadata": {
    "application/vnd.databricks.v1+cell": {
     "cellMetadata": {
      "byteLimit": 2048000,
      "rowLimit": 10000
     },
     "inputWidgets": {},
     "nuid": "ba453e53-7453-463c-9ab9-61201512649b",
     "showTitle": false,
     "tableResultSettingsMap": {},
     "title": ""
    }
   },
   "source": [
    "**Exploratory Data Analysis of Google Search Results**"
   ]
  },
  {
   "cell_type": "markdown",
   "metadata": {
    "application/vnd.databricks.v1+cell": {
     "cellMetadata": {
      "byteLimit": 2048000,
      "rowLimit": 10000
     },
     "inputWidgets": {},
     "nuid": "7ea67b7d-1b0b-428a-b4c9-912aa4b88fdf",
     "showTitle": false,
     "tableResultSettingsMap": {},
     "title": ""
    }
   },
   "source": [
    "**Source-wise Result Count with Best Position**"
   ]
  },
  {
   "cell_type": "code",
   "execution_count": 0,
   "metadata": {
    "application/vnd.databricks.v1+cell": {
     "cellMetadata": {
      "byteLimit": 2048000,
      "rowLimit": 10000
     },
     "inputWidgets": {},
     "nuid": "316bd925-58e8-4f1d-9004-f873dee3b4ce",
     "showTitle": false,
     "tableResultSettingsMap": {},
     "title": ""
    }
   },
   "outputs": [
    {
     "output_type": "display_data",
     "data": {
      "text/html": [
       "<style scoped>\n",
       "  .table-result-container {\n",
       "    max-height: 300px;\n",
       "    overflow: auto;\n",
       "  }\n",
       "  table, th, td {\n",
       "    border: 1px solid black;\n",
       "    border-collapse: collapse;\n",
       "  }\n",
       "  th, td {\n",
       "    padding: 5px;\n",
       "  }\n",
       "  th {\n",
       "    text-align: left;\n",
       "  }\n",
       "</style><div class='table-result-container'><table class='table-result'><thead style='background-color: white'><tr><th>Source</th><th>No_of_Results</th><th>Best_Position</th></tr></thead><tbody><tr><td>Mayo Clinic</td><td>2</td><td>1</td></tr><tr><td>BLK-Max Hospital</td><td>2</td><td>1</td></tr><tr><td>Centers for Disease Control and Prevention | CDC (.gov)</td><td>2</td><td>2</td></tr><tr><td>WebMD</td><td>2</td><td>3</td></tr><tr><td>Nature</td><td>2</td><td>3</td></tr><tr><td>ScienceDirect.com</td><td>2</td><td>5</td></tr><tr><td>Zero To Finals</td><td>2</td><td>6</td></tr><tr><td>Mount Sinai</td><td>1</td><td>1</td></tr><tr><td>Healthline</td><td>1</td><td>1</td></tr><tr><td>National Organization for Rare Disorders</td><td>1</td><td>1</td></tr><tr><td>Wolters Kluwer</td><td>1</td><td>2</td></tr><tr><td>Children’s Health</td><td>1</td><td>2</td></tr><tr><td>Cleveland Clinic</td><td>1</td><td>2</td></tr><tr><td>Yale Medicine</td><td>1</td><td>2</td></tr><tr><td>National Institutes of Health (NIH) (.gov)</td><td>1</td><td>2</td></tr><tr><td>National Cancer Institute (.gov)</td><td>1</td><td>3</td></tr><tr><td>Neurology® Journals</td><td>1</td><td>3</td></tr><tr><td>National Institute of Neurological Disorders and Stroke (.gov)</td><td>1</td><td>3</td></tr><tr><td>Jefferson Health</td><td>1</td><td>3</td></tr><tr><td>Vax-Before-Travel</td><td>1</td><td>4</td></tr><tr><td>Wikipedia</td><td>1</td><td>4</td></tr><tr><td>Osmosis</td><td>1</td><td>4</td></tr><tr><td>The New England Journal of Medicine</td><td>1</td><td>4</td></tr><tr><td>American Brain Foundation</td><td>1</td><td>5</td></tr><tr><td>World Health Organization (WHO)</td><td>1</td><td>5</td></tr><tr><td>Life in the Fast Lane • LITFL</td><td>1</td><td>5</td></tr><tr><td>Indian Journal of Neurosciences</td><td>1</td><td>5</td></tr><tr><td>Johns Hopkins Medicine</td><td>1</td><td>6</td></tr><tr><td>adhikarilifeline.com</td><td>1</td><td>6</td></tr><tr><td>Lippincott</td><td>1</td><td>6</td></tr><tr><td>Saint Luke's Health System Kansas City</td><td>1</td><td>6</td></tr><tr><td>Pulmonology Advisor</td><td>1</td><td>6</td></tr><tr><td>NewYork-Presbyterian</td><td>1</td><td>7</td></tr><tr><td>KidsHealth</td><td>1</td><td>7</td></tr><tr><td>PACE Hospitals</td><td>1</td><td>7</td></tr><tr><td>MedlinePlus (.gov)</td><td>1</td><td>7</td></tr><tr><td>Wiley Online Library</td><td>1</td><td>7</td></tr><tr><td>GPnotebook</td><td>1</td><td>8</td></tr><tr><td>Boston Children's Hospital</td><td>1</td><td>8</td></tr><tr><td>MSD Manuals</td><td>1</td><td>8</td></tr><tr><td>UTHealth Houston</td><td>1</td><td>8</td></tr><tr><td>BrainFacts</td><td>1</td><td>8</td></tr><tr><td>Physiopedia</td><td>1</td><td>8</td></tr><tr><td>The Lancet</td><td>1</td><td>9</td></tr><tr><td>Medcomic</td><td>1</td><td>9</td></tr><tr><td>Medscape</td><td>1</td><td>9</td></tr><tr><td>Medical News Today</td><td>1</td><td>9</td></tr><tr><td>Mayo Clinic Proceedings</td><td>1</td><td>9</td></tr><tr><td>GBS/CIDP Foundation International</td><td>1</td><td>10</td></tr><tr><td>ChoosePT</td><td>1</td><td>10</td></tr><tr><td>University of Rochester Medical Center</td><td>1</td><td>10</td></tr><tr><td>Prabhat Khabar</td><td>1</td><td>10</td></tr></tbody></table></div>"
      ]
     },
     "metadata": {
      "application/vnd.databricks.v1+output": {
       "addedWidgets": {},
       "aggData": [],
       "aggError": "",
       "aggOverflow": false,
       "aggSchema": [],
       "aggSeriesLimitReached": false,
       "aggType": "",
       "arguments": {},
       "columnCustomDisplayInfos": {},
       "data": [
        [
         "Mayo Clinic",
         2,
         1
        ],
        [
         "BLK-Max Hospital",
         2,
         1
        ],
        [
         "Centers for Disease Control and Prevention | CDC (.gov)",
         2,
         2
        ],
        [
         "WebMD",
         2,
         3
        ],
        [
         "Nature",
         2,
         3
        ],
        [
         "ScienceDirect.com",
         2,
         5
        ],
        [
         "Zero To Finals",
         2,
         6
        ],
        [
         "Mount Sinai",
         1,
         1
        ],
        [
         "Healthline",
         1,
         1
        ],
        [
         "National Organization for Rare Disorders",
         1,
         1
        ],
        [
         "Wolters Kluwer",
         1,
         2
        ],
        [
         "Children’s Health",
         1,
         2
        ],
        [
         "Cleveland Clinic",
         1,
         2
        ],
        [
         "Yale Medicine",
         1,
         2
        ],
        [
         "National Institutes of Health (NIH) (.gov)",
         1,
         2
        ],
        [
         "National Cancer Institute (.gov)",
         1,
         3
        ],
        [
         "Neurology® Journals",
         1,
         3
        ],
        [
         "National Institute of Neurological Disorders and Stroke (.gov)",
         1,
         3
        ],
        [
         "Jefferson Health",
         1,
         3
        ],
        [
         "Vax-Before-Travel",
         1,
         4
        ],
        [
         "Wikipedia",
         1,
         4
        ],
        [
         "Osmosis",
         1,
         4
        ],
        [
         "The New England Journal of Medicine",
         1,
         4
        ],
        [
         "American Brain Foundation",
         1,
         5
        ],
        [
         "World Health Organization (WHO)",
         1,
         5
        ],
        [
         "Life in the Fast Lane • LITFL",
         1,
         5
        ],
        [
         "Indian Journal of Neurosciences",
         1,
         5
        ],
        [
         "Johns Hopkins Medicine",
         1,
         6
        ],
        [
         "adhikarilifeline.com",
         1,
         6
        ],
        [
         "Lippincott",
         1,
         6
        ],
        [
         "Saint Luke's Health System Kansas City",
         1,
         6
        ],
        [
         "Pulmonology Advisor",
         1,
         6
        ],
        [
         "NewYork-Presbyterian",
         1,
         7
        ],
        [
         "KidsHealth",
         1,
         7
        ],
        [
         "PACE Hospitals",
         1,
         7
        ],
        [
         "MedlinePlus (.gov)",
         1,
         7
        ],
        [
         "Wiley Online Library",
         1,
         7
        ],
        [
         "GPnotebook",
         1,
         8
        ],
        [
         "Boston Children's Hospital",
         1,
         8
        ],
        [
         "MSD Manuals",
         1,
         8
        ],
        [
         "UTHealth Houston",
         1,
         8
        ],
        [
         "BrainFacts",
         1,
         8
        ],
        [
         "Physiopedia",
         1,
         8
        ],
        [
         "The Lancet",
         1,
         9
        ],
        [
         "Medcomic",
         1,
         9
        ],
        [
         "Medscape",
         1,
         9
        ],
        [
         "Medical News Today",
         1,
         9
        ],
        [
         "Mayo Clinic Proceedings",
         1,
         9
        ],
        [
         "GBS/CIDP Foundation International",
         1,
         10
        ],
        [
         "ChoosePT",
         1,
         10
        ],
        [
         "University of Rochester Medical Center",
         1,
         10
        ],
        [
         "Prabhat Khabar",
         1,
         10
        ]
       ],
       "datasetInfos": [],
       "dbfsResultPath": null,
       "isJsonSchema": true,
       "metadata": {},
       "overflow": false,
       "plotOptions": {
        "customPlotOptions": {},
        "displayType": "table",
        "pivotAggregation": null,
        "pivotColumns": null,
        "xColumns": null,
        "yColumns": null
       },
       "removedWidgets": [],
       "schema": [
        {
         "metadata": "{}",
         "name": "Source",
         "type": "\"string\""
        },
        {
         "metadata": "{}",
         "name": "No_of_Results",
         "type": "\"long\""
        },
        {
         "metadata": "{}",
         "name": "Best_Position",
         "type": "\"integer\""
        }
       ],
       "type": "table"
      }
     },
     "output_type": "display_data"
    }
   ],
   "source": [
    "#Source-wise count of Google Search results and their best positions\n",
    "\n",
    "from pyspark.sql.functions import col, count, min\n",
    "\n",
    "df_serpapi_spark.groupBy(\"Source\") \\\n",
    "    .agg(\n",
    "        count(\"*\").alias(\"No_of_Results\"),\n",
    "        min(\"Position\").alias(\"Best_Position\")  # Lower means higher rank\n",
    "    ) \\\n",
    "    .orderBy(col(\"No_of_Results\").desc(), col(\"Best_Position\")) \\\n",
    "    .display(truncate=False)\n"
   ]
  },
  {
   "cell_type": "markdown",
   "metadata": {
    "application/vnd.databricks.v1+cell": {
     "cellMetadata": {
      "byteLimit": 2048000,
      "rowLimit": 10000
     },
     "inputWidgets": {},
     "nuid": "0b85e18c-4f6d-4365-b9a5-b226d1c383d5",
     "showTitle": false,
     "tableResultSettingsMap": {},
     "title": ""
    }
   },
   "source": [
    "**Which Titles appear most frequently in the top 3 positions, and which sources do they come from**"
   ]
  },
  {
   "cell_type": "code",
   "execution_count": 0,
   "metadata": {
    "application/vnd.databricks.v1+cell": {
     "cellMetadata": {
      "byteLimit": 2048000,
      "rowLimit": 10000
     },
     "inputWidgets": {},
     "nuid": "3ddd40c2-3584-4187-8877-0c7ac88e8c82",
     "showTitle": false,
     "tableResultSettingsMap": {},
     "title": ""
    }
   },
   "outputs": [
    {
     "output_type": "display_data",
     "data": {
      "text/html": [
       "<style scoped>\n",
       "  .table-result-container {\n",
       "    max-height: 300px;\n",
       "    overflow: auto;\n",
       "  }\n",
       "  table, th, td {\n",
       "    border: 1px solid black;\n",
       "    border-collapse: collapse;\n",
       "  }\n",
       "  th, td {\n",
       "    padding: 5px;\n",
       "  }\n",
       "  th {\n",
       "    text-align: left;\n",
       "  }\n",
       "</style><div class='table-result-container'><table class='table-result'><thead style='background-color: white'><tr><th>Title</th><th>Count</th><th>Top_Sources</th></tr></thead><tbody><tr><td>Guillain-Barré Syndrome</td><td>2</td><td>List(National Institute of Neurological Disorders and Stroke (.gov), Yale Medicine)</td></tr><tr><td>Guillain-Barre Syndrome: Symptoms, Causes & Treatment</td><td>2</td><td>List(BLK-Max Hospital)</td></tr><tr><td>Guillain-Barre Syndrome - StatPearls</td><td>1</td><td>List(National Institutes of Health (NIH) (.gov))</td></tr><tr><td>Guillain-Barre Syndrome (GBS)</td><td>1</td><td>List(Jefferson Health)</td></tr><tr><td>Diagnosis and management of Guillain–Barré syndrome ...</td><td>1</td><td>List(Nature)</td></tr><tr><td>Guillain-Barré syndrome in adults: Pathogenesis, clinical ...</td><td>1</td><td>List(Wolters Kluwer)</td></tr><tr><td>Guillain-Barré Syndrome (GBS) and Vaccines</td><td>1</td><td>List(Centers for Disease Control and Prevention | CDC (.gov))</td></tr><tr><td>Pediatric Guillain-Barré syndrome (GBS) - Dallas</td><td>1</td><td>List(Children’s Health)</td></tr><tr><td>Guillain-Barré syndrome (GBS)</td><td>1</td><td>List(Healthline)</td></tr><tr><td>Guillain-Barré Syndrome: Causes, Symptoms, ... - WebMD</td><td>1</td><td>List(WebMD)</td></tr><tr><td>Definition of Guillain-Barré syndrome</td><td>1</td><td>List(National Cancer Institute (.gov))</td></tr><tr><td>Guillain-Barré syndrome Information - Mount Sinai</td><td>1</td><td>List(Mount Sinai)</td></tr><tr><td>Guillain-Barre syndrome - Symptoms and causes</td><td>1</td><td>List(Mayo Clinic)</td></tr><tr><td>Current treatment practice of Guillain-Barré syndrome</td><td>1</td><td>List(Neurology® Journals)</td></tr><tr><td>Guillain-Barré Syndrome (GBS): Symptoms & Treatment</td><td>1</td><td>List(Cleveland Clinic)</td></tr><tr><td>Guillain-Barré Syndrome - Symptoms, Causes, Treatment</td><td>1</td><td>List(National Organization for Rare Disorders)</td></tr></tbody></table></div>"
      ]
     },
     "metadata": {
      "application/vnd.databricks.v1+output": {
       "addedWidgets": {},
       "aggData": [],
       "aggError": "",
       "aggOverflow": false,
       "aggSchema": [],
       "aggSeriesLimitReached": false,
       "aggType": "",
       "arguments": {},
       "columnCustomDisplayInfos": {},
       "data": [
        [
         "Guillain-Barré Syndrome",
         2,
         [
          "National Institute of Neurological Disorders and Stroke (.gov)",
          "Yale Medicine"
         ]
        ],
        [
         "Guillain-Barre Syndrome: Symptoms, Causes & Treatment",
         2,
         [
          "BLK-Max Hospital"
         ]
        ],
        [
         "Guillain-Barre Syndrome - StatPearls",
         1,
         [
          "National Institutes of Health (NIH) (.gov)"
         ]
        ],
        [
         "Guillain-Barre Syndrome (GBS)",
         1,
         [
          "Jefferson Health"
         ]
        ],
        [
         "Diagnosis and management of Guillain–Barré syndrome ...",
         1,
         [
          "Nature"
         ]
        ],
        [
         "Guillain-Barré syndrome in adults: Pathogenesis, clinical ...",
         1,
         [
          "Wolters Kluwer"
         ]
        ],
        [
         "Guillain-Barré Syndrome (GBS) and Vaccines",
         1,
         [
          "Centers for Disease Control and Prevention | CDC (.gov)"
         ]
        ],
        [
         "Pediatric Guillain-Barré syndrome (GBS) - Dallas",
         1,
         [
          "Children’s Health"
         ]
        ],
        [
         "Guillain-Barré syndrome (GBS)",
         1,
         [
          "Healthline"
         ]
        ],
        [
         "Guillain-Barré Syndrome: Causes, Symptoms, ... - WebMD",
         1,
         [
          "WebMD"
         ]
        ],
        [
         "Definition of Guillain-Barré syndrome",
         1,
         [
          "National Cancer Institute (.gov)"
         ]
        ],
        [
         "Guillain-Barré syndrome Information - Mount Sinai",
         1,
         [
          "Mount Sinai"
         ]
        ],
        [
         "Guillain-Barre syndrome - Symptoms and causes",
         1,
         [
          "Mayo Clinic"
         ]
        ],
        [
         "Current treatment practice of Guillain-Barré syndrome",
         1,
         [
          "Neurology® Journals"
         ]
        ],
        [
         "Guillain-Barré Syndrome (GBS): Symptoms & Treatment",
         1,
         [
          "Cleveland Clinic"
         ]
        ],
        [
         "Guillain-Barré Syndrome - Symptoms, Causes, Treatment",
         1,
         [
          "National Organization for Rare Disorders"
         ]
        ]
       ],
       "datasetInfos": [],
       "dbfsResultPath": null,
       "isJsonSchema": true,
       "metadata": {},
       "overflow": false,
       "plotOptions": {
        "customPlotOptions": {},
        "displayType": "table",
        "pivotAggregation": null,
        "pivotColumns": null,
        "xColumns": null,
        "yColumns": null
       },
       "removedWidgets": [],
       "schema": [
        {
         "metadata": "{}",
         "name": "Title",
         "type": "\"string\""
        },
        {
         "metadata": "{}",
         "name": "Count",
         "type": "\"long\""
        },
        {
         "metadata": "{}",
         "name": "Top_Sources",
         "type": "{\"type\":\"array\",\"elementType\":\"string\",\"containsNull\":false}"
        }
       ],
       "type": "table"
      }
     },
     "output_type": "display_data"
    }
   ],
   "source": [
    "# Most frequent Titles in top 3 positions along with their Sources\n",
    "\n",
    "from pyspark.sql.functions import col, count, collect_set\n",
    "\n",
    "# Filter top 3 positions\n",
    "top_positions_df = df_serpapi_spark.filter(col(\"Position\") <= 3)\n",
    "\n",
    "# Group by Title and collect the Sources\n",
    "top_titles_with_sources = top_positions_df.groupBy(\"Title\") \\\n",
    "    .agg(\n",
    "        count(\"*\").alias(\"Count\"),\n",
    "        collect_set(\"Source\").alias(\"Top_Sources\")\n",
    "    ) \\\n",
    "    .orderBy(col(\"Count\").desc())\n",
    "\n",
    "top_titles_with_sources.display(truncate=False)\n",
    "\n"
   ]
  },
  {
   "cell_type": "markdown",
   "metadata": {
    "application/vnd.databricks.v1+cell": {
     "cellMetadata": {
      "byteLimit": 2048000,
      "rowLimit": 10000
     },
     "inputWidgets": {},
     "nuid": "d20eb39b-5e81-4933-923d-c2d12c4a183e",
     "showTitle": false,
     "tableResultSettingsMap": {},
     "title": ""
    }
   },
   "source": [
    "**Topic Categorization of Google Search Snippets**"
   ]
  },
  {
   "cell_type": "code",
   "execution_count": 0,
   "metadata": {
    "application/vnd.databricks.v1+cell": {
     "cellMetadata": {
      "byteLimit": 2048000,
      "rowLimit": 10000
     },
     "inputWidgets": {},
     "nuid": "8ac1e7e8-8e53-4e1b-8c06-e6582f69459d",
     "showTitle": false,
     "tableResultSettingsMap": {},
     "title": ""
    }
   },
   "outputs": [
    {
     "output_type": "display_data",
     "data": {
      "text/html": [
       "<style scoped>\n",
       "  .table-result-container {\n",
       "    max-height: 300px;\n",
       "    overflow: auto;\n",
       "  }\n",
       "  table, th, td {\n",
       "    border: 1px solid black;\n",
       "    border-collapse: collapse;\n",
       "  }\n",
       "  th, td {\n",
       "    padding: 5px;\n",
       "  }\n",
       "  th {\n",
       "    text-align: left;\n",
       "  }\n",
       "</style><div class='table-result-container'><table class='table-result'><thead style='background-color: white'><tr><th>Topic</th><th>count</th></tr></thead><tbody><tr><td>Other</td><td>36</td></tr><tr><td>Causes</td><td>10</td></tr><tr><td>Symptoms</td><td>8</td></tr><tr><td>Diagnosis</td><td>2</td></tr><tr><td>Recovery</td><td>2</td></tr><tr><td>Treatment</td><td>1</td></tr></tbody></table></div>"
      ]
     },
     "metadata": {
      "application/vnd.databricks.v1+output": {
       "addedWidgets": {},
       "aggData": [],
       "aggError": "",
       "aggOverflow": false,
       "aggSchema": [],
       "aggSeriesLimitReached": false,
       "aggType": "",
       "arguments": {},
       "columnCustomDisplayInfos": {},
       "data": [
        [
         "Other",
         36
        ],
        [
         "Causes",
         10
        ],
        [
         "Symptoms",
         8
        ],
        [
         "Diagnosis",
         2
        ],
        [
         "Recovery",
         2
        ],
        [
         "Treatment",
         1
        ]
       ],
       "datasetInfos": [],
       "dbfsResultPath": null,
       "isJsonSchema": true,
       "metadata": {},
       "overflow": false,
       "plotOptions": {
        "customPlotOptions": {},
        "displayType": "table",
        "pivotAggregation": null,
        "pivotColumns": null,
        "xColumns": null,
        "yColumns": null
       },
       "removedWidgets": [],
       "schema": [
        {
         "metadata": "{}",
         "name": "Topic",
         "type": "\"string\""
        },
        {
         "metadata": "{}",
         "name": "count",
         "type": "\"long\""
        }
       ],
       "type": "table"
      }
     },
     "output_type": "display_data"
    }
   ],
   "source": [
    "# Categorize search result snippets into medical topics like Symptoms, Causes, Treatment, etc. and count occurrences\n",
    "\n",
    "from pyspark.sql.functions import when, col\n",
    "\n",
    "df_tagged = df_serpapi_spark.withColumn(\"Topic\",\n",
    "    when(col(\"Snippet\").rlike(\"(?i)symptom\"), \"Symptoms\")\n",
    "    .when(col(\"Snippet\").rlike(\"(?i)cause|trigger\"), \"Causes\")\n",
    "    .when(col(\"Snippet\").rlike(\"(?i)treat|therapy|manage\"), \"Treatment\")\n",
    "    .when(col(\"Snippet\").rlike(\"(?i)recover|rehab\"), \"Recovery\")\n",
    "    .when(col(\"Snippet\").rlike(\"(?i)diagnos\"), \"Diagnosis\")\n",
    "    .otherwise(\"Other\")\n",
    ")\n",
    "\n",
    "df_tagged.groupBy(\"Topic\").count().orderBy(\"count\", ascending=False).display()\n"
   ]
  },
  {
   "cell_type": "markdown",
   "metadata": {
    "application/vnd.databricks.v1+cell": {
     "cellMetadata": {
      "byteLimit": 2048000,
      "rowLimit": 10000
     },
     "inputWidgets": {},
     "nuid": "4c80bb80-01b8-4296-9c9a-24548ff49e07",
     "showTitle": false,
     "tableResultSettingsMap": {},
     "title": ""
    }
   },
   "source": [
    "**Saving Clinical Trials and Google Search Results DataFrames as Spark Tables**"
   ]
  },
  {
   "cell_type": "code",
   "execution_count": 0,
   "metadata": {
    "application/vnd.databricks.v1+cell": {
     "cellMetadata": {
      "byteLimit": 2048000,
      "rowLimit": 10000
     },
     "inputWidgets": {},
     "nuid": "8211f76e-5ad6-476d-8ae5-705274352b48",
     "showTitle": false,
     "tableResultSettingsMap": {},
     "title": ""
    }
   },
   "outputs": [],
   "source": [
    "#Saving Clinical Trials DataFrame as a Spark Table\n",
    "df_clinical_spark.write.mode(\"overwrite\").saveAsTable(\"final_clinical_data\")\n"
   ]
  },
  {
   "cell_type": "code",
   "execution_count": 0,
   "metadata": {
    "application/vnd.databricks.v1+cell": {
     "cellMetadata": {
      "byteLimit": 2048000,
      "implicitDf": true,
      "rowLimit": 10000
     },
     "inputWidgets": {},
     "nuid": "0e9836a4-1f0e-492c-b461-34e61be5184d",
     "showTitle": false,
     "tableResultSettingsMap": {},
     "title": ""
    }
   },
   "outputs": [
    {
     "output_type": "display_data",
     "data": {
      "text/html": [
       "<style scoped>\n",
       "  .table-result-container {\n",
       "    max-height: 300px;\n",
       "    overflow: auto;\n",
       "  }\n",
       "  table, th, td {\n",
       "    border: 1px solid black;\n",
       "    border-collapse: collapse;\n",
       "  }\n",
       "  th, td {\n",
       "    padding: 5px;\n",
       "  }\n",
       "  th {\n",
       "    text-align: left;\n",
       "  }\n",
       "</style><div class='table-result-container'><table class='table-result'><thead style='background-color: white'><tr><th>nctId</th><th>briefTitle</th><th>overallStatus</th><th>hasResults</th></tr></thead><tbody><tr><td>NCT01024088</td><td>Prospective Study on Swallowing/Breathing Interactions in Severe Guillain Barre Syndrome.</td><td>COMPLETED</td><td>false</td></tr><tr><td>NCT05461898</td><td>RehabGBs: Rehabilitation in People With Guillain-Barré Syndrome</td><td>RECRUITING</td><td>false</td></tr><tr><td>NCT02780570</td><td>Small Volume Plasma Exchange (SVPE) for Guillain-Barré Syndrome (GBS) Patients</td><td>COMPLETED</td><td>false</td></tr><tr><td>NCT02722070</td><td>Processing Integration in Neurological Patients Using fMRI</td><td>UNKNOWN</td><td>false</td></tr><tr><td>NCT04927598</td><td>Predictors and Prognostic Factors of Gullian Barrie Syndrome Outcome</td><td>COMPLETED</td><td>false</td></tr><tr><td>NCT03773328</td><td>A Clinical Trial of CK0801 (a New Drug) In Patients With Treatment-Resistant Guillain-Barré Syndrome (GBS)</td><td>WITHDRAWN</td><td>false</td></tr><tr><td>NCT03840928</td><td>PatientSpot Formerly Known as ArthritisPower</td><td>RECRUITING</td><td>false</td></tr><tr><td>NCT02582853</td><td>sCD163 as a Potential Biomarker in Guillain- Barré Syndrome</td><td>UNKNOWN</td><td>false</td></tr><tr><td>NCT06200454</td><td>Predictive Value of Neuromuscular Ultrasound of Cranial Nerves in Guillain-Barré Syndrome</td><td>NOT_YET_RECRUITING</td><td>false</td></tr><tr><td>NCT00004833</td><td>Randomized Study of Plasmapheresis or Human Immunoglobulin Infusion in Childhood Guillain-Barre Syndrome</td><td>TERMINATED</td><td>false</td></tr><tr><td>NCT00575653</td><td>Safety Study of GBS Following Menactra Meningococcal Vaccination</td><td>COMPLETED</td><td>false</td></tr><tr><td>NCT06041451</td><td>Early and Late Prognosis in Patients With Guillain-Barre Syndrome</td><td>UNKNOWN</td><td>false</td></tr><tr><td>NCT06620198</td><td>Upper Limb Robot-Assisted Therapy in Patients with Guillain-Barré Syndrome</td><td>ACTIVE_NOT_RECRUITING</td><td>false</td></tr><tr><td>NCT05494619</td><td>A Study to Evaluate the Efficacy, Safety, Pharmacokinetics, and Pharmacodynamics of Crovalimab in Participants With Guillain-Barré Syndrome (GBS)</td><td>WITHDRAWN</td><td>false</td></tr><tr><td>NCT05114941</td><td>Comparison of the Efficacy and Safety of Immunoadsorption and Intravenous Immunoglobulin for Guillain-Barre Syndrome</td><td>NOT_YET_RECRUITING</td><td>false</td></tr><tr><td>NCT03206541</td><td>Neurologic Manifestations of the Arbovirus Infection in Colombia</td><td>COMPLETED</td><td>false</td></tr><tr><td>NCT06334796</td><td>Artificial Intelligence-powered Virtual Assistant for Emergency Triage in Neurology</td><td>COMPLETED</td><td>false</td></tr><tr><td>NCT05491096</td><td>Effects of Proprioceptive Neuromuscular Training on Sensory and Motor Function in Guillain Barre Syndrome</td><td>COMPLETED</td><td>false</td></tr><tr><td>NCT04871035</td><td>Immunoadsorption Versus Plasma Exchange for Treatment of Guillain-Barré Syndrome (GBS)</td><td>RECRUITING</td><td>false</td></tr><tr><td>NCT06612242</td><td>Early vs. Late Tracheostomy in Patients With Guillain -Barre Syndrome</td><td>RECRUITING</td><td>false</td></tr><tr><td>NCT02883270</td><td>Effects of Robotic-assisted Gait Training In Non-Ambulatory Patients After Guillain-Barré Syndrome</td><td>COMPLETED</td><td>false</td></tr><tr><td>NCT00173199</td><td>The Changes of Cytokines in Guillain Barré Syndrome: the Correlation With Clinical Manifestations and Skin Innervation</td><td>UNKNOWN</td><td>false</td></tr><tr><td>NCT00411216</td><td>Recovery of Visual Acuity in People With Vestibular Deficits</td><td>COMPLETED</td><td>true</td></tr><tr><td>NCT01469858</td><td>Perception and Multisensory Integration in Neurological Patients Using fMRI</td><td>UNKNOWN</td><td>false</td></tr><tr><td>NCT06167239</td><td>Ventilator Trigger Sensitivity Adjustment Versus Threshold Inspiratory Muscle Training on Arterial Blood Gases</td><td>RECRUITING</td><td>false</td></tr><tr><td>NCT04674163</td><td>Expression Profile of ERK5 and PKM2 Kinases in Neuroinflammatory Diseases.</td><td>WITHDRAWN</td><td>false</td></tr><tr><td>NCT05630313</td><td>Gene Sequencing as a Strategy for Identifying Genetic Factors Associated With Serious Adverse Events After Covid-19 Vaccines in Use in Brazil</td><td>RECRUITING</td><td>false</td></tr><tr><td>NCT02459808</td><td>Gastrointestinal Transit Time in Patients With Guillain-Barré Syndrome</td><td>WITHDRAWN</td><td>false</td></tr><tr><td>NCT06605612</td><td>Development and Validation of the FBIndex to Determine the Risk of Falls for Patients with Neuromuscular Disorders</td><td>ENROLLING_BY_INVITATION</td><td>false</td></tr><tr><td>NCT00056810</td><td>Assessment of Chronic Guillain-Barre Syndrome Improvement With Use of 4-aminopyridine</td><td>COMPLETED</td><td>false</td></tr><tr><td>NCT06032741</td><td>Prognosis in Patients With Guillain-Barre Syndrome</td><td>UNKNOWN</td><td>false</td></tr><tr><td>NCT02493725</td><td>JET-GBS - Japanese Eculizumab Trial for GBS</td><td>COMPLETED</td><td>false</td></tr><tr><td>NCT04166357</td><td>Early Prediction of Respiratory and Autonomic Complications of GBS Using Neuromuscular Ultrasound</td><td>UNKNOWN</td><td>false</td></tr><tr><td>NCT05940922</td><td>RWE-based Treatment Patterns and Outcomes in CIDP</td><td>NOT_YET_RECRUITING</td><td>false</td></tr><tr><td>NCT05212792</td><td>Genomics and COVID-19 Vaccine Adverse Events</td><td>RECRUITING</td><td>false</td></tr><tr><td>NCT04303962</td><td>Efficacy of Intravenous Gamma Globulin on Guillain-Barre Syndrome</td><td>UNKNOWN</td><td>false</td></tr><tr><td>NCT03943589</td><td>A Study of Imlifidase in Patients With Guillain-Barré Syndrome</td><td>COMPLETED</td><td>true</td></tr><tr><td>NCT05104762</td><td>IVIG Versus Plasmapheresis in the Treatment of Guillian Barrie Syndrome Patients</td><td>COMPLETED</td><td>false</td></tr><tr><td>NCT06615622</td><td>Our Study Aims to Determine If Nerve Alterations in Acute GBS and CIDP Detectable by Ultrasound Match Electrodiagnostic Findings and If This Method Aids Early Diagnosis, Predict Their Outcomes and Differentiate Between Axonal and Demyelinating Subtypes.</td><td>RECRUITING</td><td>false</td></tr><tr><td>NCT05284786</td><td>Ultrasonography and Electrophysiology in GBS</td><td>UNKNOWN</td><td>false</td></tr><tr><td>NCT01005524</td><td>Brain Computer Interface for Communication in ICU: a Feasibility Study</td><td>COMPLETED</td><td>false</td></tr><tr><td>NCT06939634</td><td>Evaluation of Usability and Safety of the System Atalante in Patients With High Paraplegia and Tetraplegia</td><td>COMPLETED</td><td>false</td></tr><tr><td>NCT04035135</td><td>A Clinical Study of ANX005 and IVIG in Subjects With Guillain Barré Syndrome (GBS)</td><td>COMPLETED</td><td>false</td></tr><tr><td>NCT00167622</td><td>Early Mechanical Ventilation for Guillain Barré Syndrome</td><td>COMPLETED</td><td>false</td></tr><tr><td>NCT01582763</td><td>International Guillain-Barré Syndrome Outcome Study</td><td>COMPLETED</td><td>false</td></tr><tr><td>NCT03801135</td><td>Changes in Haemostasis After Therapeutic Plasmapheresis With Citrate Anticoagulation</td><td>UNKNOWN</td><td>false</td></tr><tr><td>NCT03941184</td><td>Spontaneous Coronary Artery Dissection (SCAD) and Autoimmunity</td><td>COMPLETED</td><td>false</td></tr><tr><td>NCT04092140</td><td>Neuromuscular Ultrasound in Correlation to Neurophysiological Findings</td><td>UNKNOWN</td><td>false</td></tr><tr><td>NCT03268304</td><td>Feasibility of Two New Software Modules for the Rehabilitation of Patients With Neuromuscular Upper Limb Impairments</td><td>WITHDRAWN</td><td>false</td></tr><tr><td>NCT04249752</td><td>Biomarkers in Polyradiculoneuropathies</td><td>UNKNOWN</td><td>false</td></tr><tr><td>NCT04053452</td><td>Peripheral Nerve Ultrasound for Diagnosis and Prognosis of Guillain-Barre Syndrome</td><td>TERMINATED</td><td>true</td></tr><tr><td>NCT06740656</td><td>Neuromuscular Complications of MEK Inhibitors: a French Case Series and a Systematic Review of the Literature</td><td>NOT_YET_RECRUITING</td><td>false</td></tr><tr><td>NCT01306578</td><td>Intravenous Immunoglobulin (IVIG) Versus Plasma Exchange (PE) for Ventilated Children With Guillain Barre Syndrome (GBS)</td><td>COMPLETED</td><td>false</td></tr><tr><td>NCT02221271</td><td>Phase III Clinical Trial of NPB-01 in Patients With Guillain-Barré Syndrome</td><td>COMPLETED</td><td>false</td></tr><tr><td>NCT03826056</td><td>Neurology Inpatient Clinical Education Trial</td><td>COMPLETED</td><td>false</td></tr><tr><td>NCT02029378</td><td>Inhibition of Complement Activation (Eculizumab) in Guillain-Barre Syndrome Study</td><td>UNKNOWN</td><td>false</td></tr><tr><td>NCT04550611</td><td>Mini-pool Intravenous Immunoglobulin (MP-IVIG) in Guillain-Barré Syndrome</td><td>UNKNOWN</td><td>false</td></tr><tr><td>NCT03710278</td><td>The Effectiveness and Safety of Human Lumbar Puncture Assist Device (LPat)</td><td>COMPLETED</td><td>false</td></tr><tr><td>NCT05324176</td><td>Diaphragm Thickness by Ultrasonography in Neurological Disorders</td><td>COMPLETED</td><td>false</td></tr><tr><td>NCT01655394</td><td>Change of Nerve Conduction Properties in IVIg Dependent Neuropathies</td><td>UNKNOWN</td><td>false</td></tr><tr><td>NCT00271791</td><td>Prednisone Treatment for Vestibular Neuronitis</td><td>COMPLETED</td><td>false</td></tr><tr><td>NCT06822231</td><td>High-Tech Rehabilitation Pathway for Acute Adult Neuromuscular Diseases - Fit4MedRob-Acute MND Project</td><td>NOT_YET_RECRUITING</td><td>false</td></tr><tr><td>NCT06885762</td><td>Efgartigimod for the Treatment of Guillain-Barré Syndrome</td><td>NOT_YET_RECRUITING</td><td>false</td></tr><tr><td>NCT05095844</td><td>National Vaccine Adverse Event Reporting Survey and Etiology</td><td>UNKNOWN</td><td>false</td></tr><tr><td>NCT05701189</td><td>Evaluating Efgartigimod in Patients with Guillain-Barré Syndrome</td><td>RECRUITING</td><td>false</td></tr><tr><td>NCT04752566</td><td>A Study to Evaluate the Efficacy and Safety of Eculizumab in Guillain-Barré Syndrome</td><td>COMPLETED</td><td>true</td></tr><tr><td>NCT04829526</td><td>Firm Observational Clinical Unicenter Study on Guillain Barré Syndrome</td><td>RECRUITING</td><td>false</td></tr><tr><td>NCT02422875</td><td>Comparative Autoantibody and Immunologic Cell Marker Study</td><td>ENROLLING_BY_INVITATION</td><td>false</td></tr><tr><td>NCT06300359</td><td>Prognostic Indicators of Gullian-Barre Syndrome</td><td>NOT_YET_RECRUITING</td><td>false</td></tr><tr><td>NCT06502015</td><td>Biomarkers in Autoimmune Disease of Nervous System</td><td>RECRUITING</td><td>false</td></tr><tr><td>NCT05945784</td><td>Exploring Accessible Beauty for Individuals With Upper Extremity Deficits</td><td>COMPLETED</td><td>false</td></tr><tr><td>NCT04701164</td><td>Efficacy and Safety of ANX005 in Subjects With Guillain-Barré Syndrome</td><td>COMPLETED</td><td>false</td></tr><tr><td>NCT02342184</td><td>Efficacy and Safety Study of GB-0998 for Guillain-Barré Syndrome</td><td>COMPLETED</td><td>false</td></tr><tr><td>NCT05292690</td><td>An Assistive Powered Wheelchair: Stage 2 Trial</td><td>COMPLETED</td><td>false</td></tr><tr><td>NCT06940908</td><td>Living With Guillain-Barré Syndrome as Children.</td><td>RECRUITING</td><td>false</td></tr><tr><td>NCT01370200</td><td>Regional Citrate Anticoagulation in Plasma Exchange Treatment</td><td>COMPLETED</td><td>false</td></tr></tbody></table></div>"
      ]
     },
     "metadata": {
      "application/vnd.databricks.v1+output": {
       "addedWidgets": {},
       "aggData": [],
       "aggError": "",
       "aggOverflow": false,
       "aggSchema": [],
       "aggSeriesLimitReached": false,
       "aggType": "",
       "arguments": {},
       "columnCustomDisplayInfos": {},
       "data": [
        [
         "NCT01024088",
         "Prospective Study on Swallowing/Breathing Interactions in Severe Guillain Barre Syndrome.",
         "COMPLETED",
         false
        ],
        [
         "NCT05461898",
         "RehabGBs: Rehabilitation in People With Guillain-Barré Syndrome",
         "RECRUITING",
         false
        ],
        [
         "NCT02780570",
         "Small Volume Plasma Exchange (SVPE) for Guillain-Barré Syndrome (GBS) Patients",
         "COMPLETED",
         false
        ],
        [
         "NCT02722070",
         "Processing Integration in Neurological Patients Using fMRI",
         "UNKNOWN",
         false
        ],
        [
         "NCT04927598",
         "Predictors and Prognostic Factors of Gullian Barrie Syndrome Outcome",
         "COMPLETED",
         false
        ],
        [
         "NCT03773328",
         "A Clinical Trial of CK0801 (a New Drug) In Patients With Treatment-Resistant Guillain-Barré Syndrome (GBS)",
         "WITHDRAWN",
         false
        ],
        [
         "NCT03840928",
         "PatientSpot Formerly Known as ArthritisPower",
         "RECRUITING",
         false
        ],
        [
         "NCT02582853",
         "sCD163 as a Potential Biomarker in Guillain- Barré Syndrome",
         "UNKNOWN",
         false
        ],
        [
         "NCT06200454",
         "Predictive Value of Neuromuscular Ultrasound of Cranial Nerves in Guillain-Barré Syndrome",
         "NOT_YET_RECRUITING",
         false
        ],
        [
         "NCT00004833",
         "Randomized Study of Plasmapheresis or Human Immunoglobulin Infusion in Childhood Guillain-Barre Syndrome",
         "TERMINATED",
         false
        ],
        [
         "NCT00575653",
         "Safety Study of GBS Following Menactra Meningococcal Vaccination",
         "COMPLETED",
         false
        ],
        [
         "NCT06041451",
         "Early and Late Prognosis in Patients With Guillain-Barre Syndrome",
         "UNKNOWN",
         false
        ],
        [
         "NCT06620198",
         "Upper Limb Robot-Assisted Therapy in Patients with Guillain-Barré Syndrome",
         "ACTIVE_NOT_RECRUITING",
         false
        ],
        [
         "NCT05494619",
         "A Study to Evaluate the Efficacy, Safety, Pharmacokinetics, and Pharmacodynamics of Crovalimab in Participants With Guillain-Barré Syndrome (GBS)",
         "WITHDRAWN",
         false
        ],
        [
         "NCT05114941",
         "Comparison of the Efficacy and Safety of Immunoadsorption and Intravenous Immunoglobulin for Guillain-Barre Syndrome",
         "NOT_YET_RECRUITING",
         false
        ],
        [
         "NCT03206541",
         "Neurologic Manifestations of the Arbovirus Infection in Colombia",
         "COMPLETED",
         false
        ],
        [
         "NCT06334796",
         "Artificial Intelligence-powered Virtual Assistant for Emergency Triage in Neurology",
         "COMPLETED",
         false
        ],
        [
         "NCT05491096",
         "Effects of Proprioceptive Neuromuscular Training on Sensory and Motor Function in Guillain Barre Syndrome",
         "COMPLETED",
         false
        ],
        [
         "NCT04871035",
         "Immunoadsorption Versus Plasma Exchange for Treatment of Guillain-Barré Syndrome (GBS)",
         "RECRUITING",
         false
        ],
        [
         "NCT06612242",
         "Early vs. Late Tracheostomy in Patients With Guillain -Barre Syndrome",
         "RECRUITING",
         false
        ],
        [
         "NCT02883270",
         "Effects of Robotic-assisted Gait Training In Non-Ambulatory Patients After Guillain-Barré Syndrome",
         "COMPLETED",
         false
        ],
        [
         "NCT00173199",
         "The Changes of Cytokines in Guillain Barré Syndrome: the Correlation With Clinical Manifestations and Skin Innervation",
         "UNKNOWN",
         false
        ],
        [
         "NCT00411216",
         "Recovery of Visual Acuity in People With Vestibular Deficits",
         "COMPLETED",
         true
        ],
        [
         "NCT01469858",
         "Perception and Multisensory Integration in Neurological Patients Using fMRI",
         "UNKNOWN",
         false
        ],
        [
         "NCT06167239",
         "Ventilator Trigger Sensitivity Adjustment Versus Threshold Inspiratory Muscle Training on Arterial Blood Gases",
         "RECRUITING",
         false
        ],
        [
         "NCT04674163",
         "Expression Profile of ERK5 and PKM2 Kinases in Neuroinflammatory Diseases.",
         "WITHDRAWN",
         false
        ],
        [
         "NCT05630313",
         "Gene Sequencing as a Strategy for Identifying Genetic Factors Associated With Serious Adverse Events After Covid-19 Vaccines in Use in Brazil",
         "RECRUITING",
         false
        ],
        [
         "NCT02459808",
         "Gastrointestinal Transit Time in Patients With Guillain-Barré Syndrome",
         "WITHDRAWN",
         false
        ],
        [
         "NCT06605612",
         "Development and Validation of the FBIndex to Determine the Risk of Falls for Patients with Neuromuscular Disorders",
         "ENROLLING_BY_INVITATION",
         false
        ],
        [
         "NCT00056810",
         "Assessment of Chronic Guillain-Barre Syndrome Improvement With Use of 4-aminopyridine",
         "COMPLETED",
         false
        ],
        [
         "NCT06032741",
         "Prognosis in Patients With Guillain-Barre Syndrome",
         "UNKNOWN",
         false
        ],
        [
         "NCT02493725",
         "JET-GBS - Japanese Eculizumab Trial for GBS",
         "COMPLETED",
         false
        ],
        [
         "NCT04166357",
         "Early Prediction of Respiratory and Autonomic Complications of GBS Using Neuromuscular Ultrasound",
         "UNKNOWN",
         false
        ],
        [
         "NCT05940922",
         "RWE-based Treatment Patterns and Outcomes in CIDP",
         "NOT_YET_RECRUITING",
         false
        ],
        [
         "NCT05212792",
         "Genomics and COVID-19 Vaccine Adverse Events",
         "RECRUITING",
         false
        ],
        [
         "NCT04303962",
         "Efficacy of Intravenous Gamma Globulin on Guillain-Barre Syndrome",
         "UNKNOWN",
         false
        ],
        [
         "NCT03943589",
         "A Study of Imlifidase in Patients With Guillain-Barré Syndrome",
         "COMPLETED",
         true
        ],
        [
         "NCT05104762",
         "IVIG Versus Plasmapheresis in the Treatment of Guillian Barrie Syndrome Patients",
         "COMPLETED",
         false
        ],
        [
         "NCT06615622",
         "Our Study Aims to Determine If Nerve Alterations in Acute GBS and CIDP Detectable by Ultrasound Match Electrodiagnostic Findings and If This Method Aids Early Diagnosis, Predict Their Outcomes and Differentiate Between Axonal and Demyelinating Subtypes.",
         "RECRUITING",
         false
        ],
        [
         "NCT05284786",
         "Ultrasonography and Electrophysiology in GBS",
         "UNKNOWN",
         false
        ],
        [
         "NCT01005524",
         "Brain Computer Interface for Communication in ICU: a Feasibility Study",
         "COMPLETED",
         false
        ],
        [
         "NCT06939634",
         "Evaluation of Usability and Safety of the System Atalante in Patients With High Paraplegia and Tetraplegia",
         "COMPLETED",
         false
        ],
        [
         "NCT04035135",
         "A Clinical Study of ANX005 and IVIG in Subjects With Guillain Barré Syndrome (GBS)",
         "COMPLETED",
         false
        ],
        [
         "NCT00167622",
         "Early Mechanical Ventilation for Guillain Barré Syndrome",
         "COMPLETED",
         false
        ],
        [
         "NCT01582763",
         "International Guillain-Barré Syndrome Outcome Study",
         "COMPLETED",
         false
        ],
        [
         "NCT03801135",
         "Changes in Haemostasis After Therapeutic Plasmapheresis With Citrate Anticoagulation",
         "UNKNOWN",
         false
        ],
        [
         "NCT03941184",
         "Spontaneous Coronary Artery Dissection (SCAD) and Autoimmunity",
         "COMPLETED",
         false
        ],
        [
         "NCT04092140",
         "Neuromuscular Ultrasound in Correlation to Neurophysiological Findings",
         "UNKNOWN",
         false
        ],
        [
         "NCT03268304",
         "Feasibility of Two New Software Modules for the Rehabilitation of Patients With Neuromuscular Upper Limb Impairments",
         "WITHDRAWN",
         false
        ],
        [
         "NCT04249752",
         "Biomarkers in Polyradiculoneuropathies",
         "UNKNOWN",
         false
        ],
        [
         "NCT04053452",
         "Peripheral Nerve Ultrasound for Diagnosis and Prognosis of Guillain-Barre Syndrome",
         "TERMINATED",
         true
        ],
        [
         "NCT06740656",
         "Neuromuscular Complications of MEK Inhibitors: a French Case Series and a Systematic Review of the Literature",
         "NOT_YET_RECRUITING",
         false
        ],
        [
         "NCT01306578",
         "Intravenous Immunoglobulin (IVIG) Versus Plasma Exchange (PE) for Ventilated Children With Guillain Barre Syndrome (GBS)",
         "COMPLETED",
         false
        ],
        [
         "NCT02221271",
         "Phase III Clinical Trial of NPB-01 in Patients With Guillain-Barré Syndrome",
         "COMPLETED",
         false
        ],
        [
         "NCT03826056",
         "Neurology Inpatient Clinical Education Trial",
         "COMPLETED",
         false
        ],
        [
         "NCT02029378",
         "Inhibition of Complement Activation (Eculizumab) in Guillain-Barre Syndrome Study",
         "UNKNOWN",
         false
        ],
        [
         "NCT04550611",
         "Mini-pool Intravenous Immunoglobulin (MP-IVIG) in Guillain-Barré Syndrome",
         "UNKNOWN",
         false
        ],
        [
         "NCT03710278",
         "The Effectiveness and Safety of Human Lumbar Puncture Assist Device (LPat)",
         "COMPLETED",
         false
        ],
        [
         "NCT05324176",
         "Diaphragm Thickness by Ultrasonography in Neurological Disorders",
         "COMPLETED",
         false
        ],
        [
         "NCT01655394",
         "Change of Nerve Conduction Properties in IVIg Dependent Neuropathies",
         "UNKNOWN",
         false
        ],
        [
         "NCT00271791",
         "Prednisone Treatment for Vestibular Neuronitis",
         "COMPLETED",
         false
        ],
        [
         "NCT06822231",
         "High-Tech Rehabilitation Pathway for Acute Adult Neuromuscular Diseases - Fit4MedRob-Acute MND Project",
         "NOT_YET_RECRUITING",
         false
        ],
        [
         "NCT06885762",
         "Efgartigimod for the Treatment of Guillain-Barré Syndrome",
         "NOT_YET_RECRUITING",
         false
        ],
        [
         "NCT05095844",
         "National Vaccine Adverse Event Reporting Survey and Etiology",
         "UNKNOWN",
         false
        ],
        [
         "NCT05701189",
         "Evaluating Efgartigimod in Patients with Guillain-Barré Syndrome",
         "RECRUITING",
         false
        ],
        [
         "NCT04752566",
         "A Study to Evaluate the Efficacy and Safety of Eculizumab in Guillain-Barré Syndrome",
         "COMPLETED",
         true
        ],
        [
         "NCT04829526",
         "Firm Observational Clinical Unicenter Study on Guillain Barré Syndrome",
         "RECRUITING",
         false
        ],
        [
         "NCT02422875",
         "Comparative Autoantibody and Immunologic Cell Marker Study",
         "ENROLLING_BY_INVITATION",
         false
        ],
        [
         "NCT06300359",
         "Prognostic Indicators of Gullian-Barre Syndrome",
         "NOT_YET_RECRUITING",
         false
        ],
        [
         "NCT06502015",
         "Biomarkers in Autoimmune Disease of Nervous System",
         "RECRUITING",
         false
        ],
        [
         "NCT05945784",
         "Exploring Accessible Beauty for Individuals With Upper Extremity Deficits",
         "COMPLETED",
         false
        ],
        [
         "NCT04701164",
         "Efficacy and Safety of ANX005 in Subjects With Guillain-Barré Syndrome",
         "COMPLETED",
         false
        ],
        [
         "NCT02342184",
         "Efficacy and Safety Study of GB-0998 for Guillain-Barré Syndrome",
         "COMPLETED",
         false
        ],
        [
         "NCT05292690",
         "An Assistive Powered Wheelchair: Stage 2 Trial",
         "COMPLETED",
         false
        ],
        [
         "NCT06940908",
         "Living With Guillain-Barré Syndrome as Children.",
         "RECRUITING",
         false
        ],
        [
         "NCT01370200",
         "Regional Citrate Anticoagulation in Plasma Exchange Treatment",
         "COMPLETED",
         false
        ]
       ],
       "datasetInfos": [],
       "dbfsResultPath": null,
       "isJsonSchema": true,
       "metadata": {},
       "overflow": false,
       "plotOptions": {
        "customPlotOptions": {},
        "displayType": "table",
        "pivotAggregation": null,
        "pivotColumns": null,
        "xColumns": null,
        "yColumns": null
       },
       "removedWidgets": [],
       "schema": [
        {
         "metadata": "{}",
         "name": "nctId",
         "type": "\"string\""
        },
        {
         "metadata": "{}",
         "name": "briefTitle",
         "type": "\"string\""
        },
        {
         "metadata": "{}",
         "name": "overallStatus",
         "type": "\"string\""
        },
        {
         "metadata": "{}",
         "name": "hasResults",
         "type": "\"boolean\""
        }
       ],
       "type": "table"
      }
     },
     "output_type": "display_data"
    }
   ],
   "source": [
    "%sql\n",
    "select * from final_clinical_data"
   ]
  },
  {
   "cell_type": "code",
   "execution_count": 0,
   "metadata": {
    "application/vnd.databricks.v1+cell": {
     "cellMetadata": {
      "byteLimit": 2048000,
      "rowLimit": 10000
     },
     "inputWidgets": {},
     "nuid": "ff628ef1-a3fd-4758-acb5-3d61b189e330",
     "showTitle": false,
     "tableResultSettingsMap": {},
     "title": ""
    }
   },
   "outputs": [],
   "source": [
    "#Saving Google Search Results DataFrame as a Spark Table\n",
    "df_serpapi_spark.write.mode(\"overwrite\").saveAsTable(\"final_serpapi_data\")\n"
   ]
  },
  {
   "cell_type": "code",
   "execution_count": 0,
   "metadata": {
    "application/vnd.databricks.v1+cell": {
     "cellMetadata": {
      "byteLimit": 2048000,
      "implicitDf": true,
      "rowLimit": 10000
     },
     "inputWidgets": {},
     "nuid": "1a7fcd4c-444f-4dc9-9b52-5ebf1bf36e05",
     "showTitle": false,
     "tableResultSettingsMap": {},
     "title": ""
    }
   },
   "outputs": [
    {
     "output_type": "display_data",
     "data": {
      "text/html": [
       "<style scoped>\n",
       "  .table-result-container {\n",
       "    max-height: 300px;\n",
       "    overflow: auto;\n",
       "  }\n",
       "  table, th, td {\n",
       "    border: 1px solid black;\n",
       "    border-collapse: collapse;\n",
       "  }\n",
       "  th, td {\n",
       "    padding: 5px;\n",
       "  }\n",
       "  th {\n",
       "    text-align: left;\n",
       "  }\n",
       "</style><div class='table-result-container'><table class='table-result'><thead style='background-color: white'><tr><th>Position</th><th>Title</th><th>Link</th><th>Snippet</th><th>Source</th><th>Displayed_Link</th><th>Sitelinks</th></tr></thead><tbody><tr><td>6</td><td>Guillain-Barré Syndrome</td><td>https://www.hopkinsmedicine.org/health/conditions-and-diseases/guillainbarr-syndrome</td><td>Guillain-Barré syndrome (GBS) is a rare neurological disorder in which the body's immune system attacks the peripheral nervous system.</td><td>Johns Hopkins Medicine</td><td>https://www.hopkinsmedicine.org › ...</td><td></td></tr><tr><td>5</td><td>Guillain–Barré syndrome</td><td>https://www.who.int/news-room/fact-sheets/detail/guillain-barr%C3%A9-syndrome</td><td>Guillain-Barré syndrome (GBS) is a rare condition in which a person's immune system attacks the peripheral nerves.</td><td>World Health Organization (WHO)</td><td>https://www.who.int › ...</td><td></td></tr><tr><td>2</td><td>Guillain-Barré Syndrome (GBS): Symptoms & Treatment</td><td>https://my.clevelandclinic.org/health/diseases/15838-guillain-barre-syndrome</td><td>Guillain-Barré syndrome is a rare autoimmune condition in which your immune system attacks your peripheral nerves. It causes numbness and muscle weakness.</td><td>Cleveland Clinic</td><td>https://my.clevelandclinic.org › ...</td><td></td></tr><tr><td>1</td><td>Guillain-Barre syndrome - Symptoms and causes</td><td>https://www.mayoclinic.org/diseases-conditions/guillain-barre-syndrome/symptoms-causes/syc-20362793</td><td>Guillain-Barre syndrome often begins with tingling and weakness starting in the feet and legs and spreading to the upper body and arms. Some ...</td><td>Mayo Clinic</td><td>https://www.mayoclinic.org › ...</td><td></td></tr><tr><td>7</td><td>Guillain-Barre syndrome - Diagnosis and treatment</td><td>https://www.mayoclinic.org/diseases-conditions/guillain-barre-syndrome/diagnosis-treatment/drc-20363006</td><td>This rare autoimmune condition affects the nerves, causing weakness and tingling in the arms and legs that quickly spreads throughout the ...</td><td>Mayo Clinic</td><td>https://www.mayoclinic.org › ...</td><td>{'inline': [{'title': 'Symptoms and causes', 'link': 'https://www.mayoclinic.org/diseases-conditions/guillain-barre-syndrome/symptoms-causes/syc-20362793'}, {'title': 'Doctors and departments', 'link': 'https://www.mayoclinic.org/diseases-conditions/guillain-barre-syndrome/doctors-departments/ddc-20363037'}, {'title': 'Care at Mayo Clinic', 'link': 'https://www.mayoclinic.org/diseases-conditions/guillain-barre-syndrome/care-at-mayo-clinic/mac-20363049'}]}</td></tr><tr><td>4</td><td>Guillain–Barré syndrome</td><td>https://en.wikipedia.org/wiki/Guillain%E2%80%93Barr%C3%A9_syndrome</td><td>Guillain–Barré syndrome (GBS) is a rapid-onset muscle weakness caused by the immune system damaging the peripheral nervous system.</td><td>Wikipedia</td><td>https://en.wikipedia.org › ...</td><td></td></tr><tr><td>3</td><td>Guillain-Barré Syndrome</td><td>https://www.ninds.nih.gov/health-information/disorders/guillain-barre-syndrome</td><td>Guillain-Barré syndrome (GBS) (pronounced Ghee-yan Bah-ray) is a rare neurological disorder in which a person's immune system mistakenly attacks ...</td><td>National Institute of Neurological Disorders and Stroke (.gov)</td><td>https://www.ninds.nih.gov › ...</td><td>{'inline': [{'title': 'What is Guillain-Barré...', 'link': 'https://www.ninds.nih.gov/health-information/disorders/guillain-barre-syndrome#toc-what-is-guillain-barr-syndrome-'}, {'title': 'How is Guillain-Barré...', 'link': 'https://www.ninds.nih.gov/health-information/disorders/guillain-barre-syndrome#toc-how-is-guillain-barr-syndrome-diagnosed-and-treated-'}, {'title': 'What are the latest updates on...', 'link': 'https://www.ninds.nih.gov/health-information/disorders/guillain-barre-syndrome#toc-what-are-the-latest-updates-on-guillain-barr-syndrome-'}]}</td></tr><tr><td>8</td><td>Guillain-Barre Syndrome</td><td>https://www.physio-pedia.com/Guillain-Barre_Syndrome</td><td>Guillain-Barré syndrome (GBS) is a condition characterised by the autoimmune destruction of the peripheral sensory system.</td><td>Physiopedia</td><td>https://www.physio-pedia.com › ...</td><td>{'inline': [{'title': 'Case Study', 'link': 'https://www.physio-pedia.com/Case_Study:_Guillain-Barre_Syndrome_(Sub-Acute)'}, {'title': 'Acute Motor Axonal...', 'link': 'https://www.physio-pedia.com/Acute_Motor_Axonal_Neuropathy_(AMAN),_a_Variant_of_Guillain-Barre_Syndrome:_A_Case_Study'}, {'title': 'Edit', 'link': 'https://www.physio-pedia.com/Guillain-Barre_Syndrome?veaction=edit'}]}</td></tr><tr><td>1</td><td>Guillain-Barré syndrome Information - Mount Sinai</td><td>https://www.mountsinai.org/health-library/diseases-conditions/guillain-barr-syndrome</td><td>GBS damages parts of nerves. This nerve damage causes tingling, muscle weakness, loss of balance, and paralysis. GBS most often affects the nerve covering ( ...</td><td>Mount Sinai</td><td>https://www.mountsinai.org › ...</td><td></td></tr><tr><td>2</td><td>Guillain-Barre Syndrome - StatPearls</td><td>https://www.ncbi.nlm.nih.gov/books/NBK532254/</td><td>Guillain-Barré syndrome (GBS) is a rare but serious post-infectious immune-mediated neuropathy. It results from the autoimmune destruction of nerves in the ...</td><td>National Institutes of Health (NIH) (.gov)</td><td>https://www.ncbi.nlm.nih.gov › ...</td><td></td></tr><tr><td>10</td><td>Guillain-Barré Syndrome | Campylobacter</td><td>https://www.cdc.gov/campylobacter/signs-symptoms/guillain-barre-syndrome.html</td><td>Guillain-Barré (Ghee-YAN Bah-RAY) syndrome happens when a person's immune system harms their nerves. This harm causes muscle weakness and ...</td><td>Centers for Disease Control and Prevention | CDC (.gov)</td><td>https://www.cdc.gov › ...</td><td></td></tr><tr><td>4</td><td>Guillain–Barré syndrome | Nature Reviews Disease Primers</td><td>https://www.nature.com/articles/s41572-024-00580-4</td><td>GBS is usually a monophasic condition in which the immune system aberrantly disrupts the function and structure of the peripheral nervous system ...</td><td>Nature</td><td>https://www.nature.com › ...</td><td></td></tr><tr><td>9</td><td>Guillain-Barre Syndrome: Practice Essentials, Background, ...</td><td>https://emedicine.medscape.com/article/315632-overview</td><td>GBS is considered to be a postinfectious, immune-mediated disease targeting peripheral nerves. Up to two thirds of patients report an antecedent ...</td><td>Medscape</td><td>https://emedicine.medscape.com › ...</td><td></td></tr><tr><td>3</td><td>Guillain-Barré Syndrome: Causes, Symptoms, ... - WebMD</td><td>https://www.webmd.com/brain/what-is-guillain-barre</td><td>Guillain-Barré Syndrome (GBS) is a rare disorder in which your immune system suddenly attacks your nerves, often after you've had a stomach ...</td><td>WebMD</td><td>https://www.webmd.com › ...</td><td></td></tr><tr><td>8</td><td>Guillain-Barré Syndrome (GBS) - Brain, Spinal Cord, and ...</td><td>https://www.msdmanuals.com/home/brain-spinal-cord-and-nerve-disorders/peripheral-nerve-and-related-disorders/guillain-barr%C3%A9-syndrome-gbs</td><td>Guillain-Barré syndrome is a form of polyneuropathy causing muscle weakness, which usually worsens over a few days to weeks, then slowly improves or returns ...</td><td>MSD Manuals</td><td>https://www.msdmanuals.com › ...</td><td></td></tr><tr><td>9</td><td>Guillain-Barré syndrome: Symptoms, causes, diagnosis, ...</td><td>https://www.medicalnewstoday.com/articles/167892</td><td>Guillain-Barré syndrome is a neurological disorder and autoimmune disease that affects the peripheral nervous system. Guillain-Barré syndrome can lead to ...</td><td>Medical News Today</td><td>https://www.medicalnewstoday.com › ...</td><td></td></tr><tr><td>5</td><td>Guillain-Barré syndrome</td><td>https://www.sciencedirect.com/science/article/abs/pii/S0140673621005171</td><td>Guillain-Barré syndrome is an immune-mediated polyradiculoneuropathy that accounts for an estimated 100 000 new cases annually worldwide.1 In ...</td><td>ScienceDirect.com</td><td>https://www.sciencedirect.com › ...</td><td></td></tr><tr><td>2</td><td>Guillain-Barré Syndrome (GBS) and Vaccines</td><td>https://www.cdc.gov/vaccine-safety/about/guillain-barre.html</td><td>Guillain-Barré syndrome (GBS) is a rare disorder where the body's immune system damages nerve. To study whether a new vaccine might be ...</td><td>Centers for Disease Control and Prevention | CDC (.gov)</td><td>https://www.cdc.gov › ...</td><td></td></tr><tr><td>1</td><td>Guillain-Barré syndrome (GBS)</td><td>https://www.healthline.com/health/guillain-barre-syndrome</td><td>The first symptom of Guillain-Barré syndrome is usually a tingling sensation in your toes, feet, and legs. The tingling spreads upward to your arms and fingers.</td><td>Healthline</td><td>https://www.healthline.com › ...</td><td></td></tr><tr><td>7</td><td>Guillain-Barre Syndrome - GBS</td><td>https://medlineplus.gov/guillainbarresyndrome.html</td><td>Guillain-Barre syndrome is a rare disorder that causes your immune system to attack your peripheral nervous system (PNS).</td><td>MedlinePlus (.gov)</td><td>https://medlineplus.gov › ...</td><td></td></tr><tr><td>6</td><td>Guillain-Barré Syndrome : CONTINUUM</td><td>https://journals.lww.com/continuum/fulltext/2020/10000/guillain_barr__syndrome.6.aspx</td><td>Guillain-Barré syndrome (GBS) encompasses a spectrum of acute neuropathic disorders, with muscle weakness being the cardinal manifestation in the majority of ...</td><td>Lippincott</td><td>https://journals.lww.com › ...</td><td></td></tr><tr><td>3</td><td>Diagnosis and management of Guillain–Barré syndrome ...</td><td>https://www.nature.com/articles/s41582-019-0250-9</td><td>Guillain–Barré syndrome (GBS) is a rare, but potentially fatal, immune-mediated disease of the peripheral nerves and nerve roots that is ...</td><td>Nature</td><td>https://www.nature.com › ...</td><td></td></tr><tr><td>6</td><td>Guillain-Barré Syndrome | Diagnosis & Disease Information</td><td>https://www.pulmonologyadvisor.com/ddi/guillain-barre-syndrome/</td><td>Guillain-Barré syndrome is an autoimmune disorder that results in inflammatory demyelination.1 The condition was first described in 1916 by ...</td><td>Pulmonology Advisor</td><td>https://www.pulmonologyadvisor.com › ...</td><td></td></tr><tr><td>4</td><td>Guillain–Barré Syndrome | NEJM</td><td>https://www.nejm.org/doi/full/10.1056/NEJMra1114525</td><td>The Guillain–Barré syndrome is the most frequent cause of acute flaccid paralysis worldwide and constitutes a neurologic emergency.</td><td>The New England Journal of Medicine</td><td>https://www.nejm.org › ...</td><td></td></tr><tr><td>10</td><td>What is Guillain-Barré Syndrome or GBS</td><td>https://www.gbs-cidp.org/gbs/</td><td>GBS is characterized by the rapid onset of numbness, weakness, and often paralysis of the legs, arms, breathing muscles, and face. Paralysis is ascending, ...</td><td>GBS/CIDP Foundation International</td><td>https://www.gbs-cidp.org › ...</td><td></td></tr><tr><td>5</td><td>Guillain-Barré syndrome</td><td>https://www.sciencedirect.com/science/article/pii/S0140673621005171</td><td>Guillain-Barré syndrome is an immune-mediated polyradiculoneuropathy that accounts for an estimated 100 000 new cases annually worldwide.</td><td>ScienceDirect.com</td><td>https://www.sciencedirect.com › ...</td><td></td></tr><tr><td>8</td><td>Guillain-Barré Syndrome (GBS)</td><td>https://www.childrenshospital.org/conditions/guillain-barre-syndrome</td><td>Guillain-Barré syndrome (GBS) occurs when the immune system attacks the peripheral nervous system. Learn more from Boston Children's Hospital.</td><td>Boston Children's Hospital</td><td>https://www.childrenshospital.org › ...</td><td></td></tr><tr><td>9</td><td>Guillain–Barré syndrome outbreak in Pune - The Lancet</td><td>https://www.thelancet.com/journals/lancet/article/PIIS0140-6736(25)00414-3/fulltext</td><td>As of March 8, 2025, the total number of Guillain–Barré syndrome cases in Pune was 225, with 197 confirmed diagnoses and 28 suspected cases, ...</td><td>The Lancet</td><td>https://www.thelancet.com › ...</td><td></td></tr><tr><td>7</td><td>Guillain‐Barré syndrome: a comprehensive review - Bellanti</td><td>https://onlinelibrary.wiley.com/doi/10.1111/ene.16365</td><td>Guillain-Barré syndrome is a postinfectious, immune-mediated peripheral neuropathy. As our knowledge continues to expand, its pathophysiological ...</td><td>Wiley Online Library</td><td>https://onlinelibrary.wiley.com › ...</td><td></td></tr><tr><td>5</td><td>Guillain-Barré Syndrome</td><td>https://www.americanbrainfoundation.org/diseases/guillain-barre-syndrome/</td><td>Guillain-Barré syndrome (GBS) is a rare neurologic disorder in which the body's autoimmune response attacks the peripheral nervous system.</td><td>American Brain Foundation</td><td>https://www.americanbrainfoundation.org › ...</td><td></td></tr><tr><td>4</td><td>Guillain-Barre syndrome: Video, Causes, & Meaning</td><td>https://www.osmosis.org/learn/Guillain-Barre_syndrome</td><td>The cause of Guillain- Barré syndrome is unknown, but it's known to develop after a bacterial infection, like Campylobacter jejuni and Mycoplasma pneumoniae, or ...</td><td>Osmosis</td><td>https://www.osmosis.org › ...</td><td></td></tr><tr><td>6</td><td>What is Guillain-Barré Syndrome (GBS)? - By Adhikari Lifeline</td><td>https://www.adhikarilifeline.com/what-is-guillain-barre-syndrome-gbs/</td><td>Guillain-Barré Syndrome (GBS) is a rare but serious neurological disorder in which the body's immune system mistakenly attacks the nervous system.</td><td>adhikarilifeline.com</td><td>https://www.adhikarilifeline.com › ...</td><td></td></tr><tr><td>1</td><td>Guillain-Barré Syndrome - Symptoms, Causes, Treatment</td><td>https://rarediseases.org/rare-diseases/guillain-barre-syndrome/</td><td>Guillain-Barré syndrome (GBS) is a rare, rapidly progressive disease due to inflammation of the nerves causing muscle weakness, sometimes ...</td><td>National Organization for Rare Disorders</td><td>https://rarediseases.org › ...</td><td></td></tr><tr><td>7</td><td>Guillain-Barré syndrome: Types, Symptoms, Causes & ...</td><td>https://www.pacehospital.com/guillain-barre-syndrome-symptoms-causes-diagnosis-treatment</td><td>Guillain-Barré Syndrome is a rare autoimmune disorder in which the immune system attacks the nerves, leading to muscle weakness, numbness, and paralysis.</td><td>PACE Hospitals</td><td>https://www.pacehospital.com › ...</td><td></td></tr><tr><td>3</td><td>Current treatment practice of Guillain-Barré syndrome</td><td>https://www.neurology.org/doi/10.1212/WNL.0000000000007719</td><td>Plasma exchange (PE) and IV immunoglobulin (IVIg) are the only proven effective treatments for Guillain-Barré syndrome (GBS), although there has been little ...</td><td>Neurology® Journals</td><td>https://www.neurology.org › ...</td><td></td></tr><tr><td>2</td><td>Guillain-Barré syndrome in adults: Pathogenesis, clinical ...</td><td>https://www.uptodate.com/contents/guillain-barre-syndrome-in-adults-pathogenesis-clinical-features-and-diagnosis</td><td>Time course of symptoms · Examination findings · - Weakness · - Deep tendon reflexes · - Other findings · Variant forms of Guillain-Barré syndrome.</td><td>Wolters Kluwer</td><td>https://www.uptodate.com › ...</td><td></td></tr><tr><td>4</td><td>Pune's Guillain-Barré Syndrome Epidemic Related to ...</td><td>https://www.vax-before-travel.com/punes-guillain-barr-syndrome-epidemic-related-water-quality-2025-03-10</td><td>Experts have linked these GBS infections with Campylobacter jejuni. This bacteria is one of the most common causes of food poisoning.</td><td>Vax-Before-Travel</td><td>https://www.vax-before-travel.com › ...</td><td></td></tr><tr><td>5</td><td>Guillain-Barré Syndrome (GBS)</td><td>https://litfl.com/guillain-barre-syndrome-gbs/</td><td>Guillain-Barré Syndrome (GBS) is the most common and most severe acute paralytic neuropathy, consisting of multiple variants with distinct clinical and ...</td><td>Life in the Fast Lane • LITFL</td><td>https://litfl.com › ...</td><td></td></tr><tr><td>3</td><td>Guillain-Barre Syndrome (GBS)</td><td>https://www.jeffersonhealth.org/conditions-and-treatments/guillain-barre-syndrome</td><td>We're also involved in researching the underlying causes of GBS and other autoimmune neuromuscular conditions. At Jefferson Health, you can be sure you're ...</td><td>Jefferson Health</td><td>https://www.jeffersonhealth.org › ...</td><td></td></tr><tr><td>8</td><td>Guillain Barré Syndrome</td><td>https://www.brainfacts.org/diseases-and-disorders/neurological-disorders-az/diseases-a-to-z-from-ninds/guillain-barr%C3%A9-syndrome</td><td>Guillain-Barré syndrome is a disorder in which the body's immune system attacks part of the peripheral nervous system. The first symptoms of this disorder ...</td><td>BrainFacts</td><td>https://www.brainfacts.org › ...</td><td></td></tr><tr><td>2</td><td>Pediatric Guillain-Barré syndrome (GBS) - Dallas</td><td>https://www.childrens.com/specialties-services/conditions/guillain-barre-syndrome</td><td>A typical sign of GBS is muscle weakness, numbness, tingling (pins-and-needle sensation) and occasionally pain, that starts in the feet and legs. These symptoms ...</td><td>Children’s Health</td><td>https://www.childrens.com › ...</td><td></td></tr><tr><td>1</td><td>Guillain-Barre Syndrome: Symptoms, Causes & Treatment</td><td>https://www.blkmaxhospital.com/blogs/guillain-barre-syndrome</td><td>Guillain-Barre Syndrome (GBS) is a rare but serious autoimmune disorder that affects the peripheral nervous system.</td><td>BLK-Max Hospital</td><td>https://www.blkmaxhospital.com › ...</td><td></td></tr><tr><td>9</td><td>Guillain-Barré Syndrome</td><td>https://www.mayoclinicproceedings.org/article/S0025-6196(16)30818-7/fulltext</td><td>Guillain-Barré syndrome is an acute inflammatory immune-mediated polyradiculoneuropathy presenting typically with tingling, progressive weakness, and pain.</td><td>Mayo Clinic Proceedings</td><td>https://www.mayoclinicproceedings.org › ...</td><td></td></tr><tr><td>10</td><td>Guillain-Barré Syndrome - Neurology - Highland Hospital</td><td>https://www.urmc.rochester.edu/highland/departments-centers/neurology/conditions-we-treat/guillain-barr</td><td>Guillain-Barré (ghee-yan bah-ray) syndrome is a disorder in which the body's immune system attacks part of the peripheral nervous system.</td><td>University of Rochester Medical Center</td><td>https://www.urmc.rochester.edu › ...</td><td></td></tr><tr><td>2</td><td>Guillain-Barré Syndrome</td><td>https://www.yalemedicine.org/conditions/guillain-barre-syndrome</td><td>Guillain-Barré syndrome (GBS) is a neurological condition in which the body's immune system attacks healthy nerve cells.</td><td>Yale Medicine</td><td>https://www.yalemedicine.org › ...</td><td></td></tr><tr><td>1</td><td>Guillain-Barre Syndrome: Symptoms, Causes & Treatment</td><td>https://www.blkmaxhospital.com/blogs/guillain-barre-syndrome</td><td>Guillain-Barre Syndrome is a rare but serious neurological disorder that requires immediate medical attention. While most people recover, early ...</td><td>BLK-Max Hospital</td><td>https://www.blkmaxhospital.com › ...</td><td></td></tr><tr><td>8</td><td>Guillain-Barré Syndrome | McGovern Medical School</td><td>https://med.uth.edu/neurosciences/conditions-and-treatments/nerve-disorders/guillain-barre-syndrome/</td><td>Signs Guillain-Barré Syndrome. Initial symptoms may present as pain, weakness, or tingling in the hands or feet. Patients usually experience this in one side of ...</td><td>UTHealth Houston</td><td>https://med.uth.edu › ...</td><td></td></tr><tr><td>9</td><td>Guillain-Barré Syndrome</td><td>https://www.medcomic.com/medcomic/guillain-barre-syndrome</td><td>Guillain-Barré syndrome (GBS) is an acute, inflammatory demyelinating polyneuropathy with ascending muscle weakness that is autoimmune in nature.</td><td>Medcomic</td><td>https://www.medcomic.com › ...</td><td></td></tr><tr><td>6</td><td>Guillain-Barré Syndrome</td><td>https://zerotofinals.com/medicine/neurology/guillainbarre/</td><td>Presentation. Symptoms usually start within four weeks of the triggering infection. They begin in the feet and progress upward. Symptoms peak within 2-4 weeks.</td><td>Zero To Finals</td><td>https://zerotofinals.com › ...</td><td></td></tr><tr><td>10</td><td>Physical Therapy Guide to Guillain-Barré Syndrome</td><td>https://www.choosept.com/guide/physical-therapy-guide-guillain-barre-syndrome</td><td>Physical therapists have extensive training to help people during GBS recovery. They help patients understand how GBS affects their ability to move safely.</td><td>ChoosePT</td><td>https://www.choosept.com › ...</td><td></td></tr><tr><td>7</td><td>Guillain-Barré Syndrome (for Parents)</td><td>https://kidshealth.org/en/parents/gbs.html</td><td>What Are the Signs & Symptoms of Guillain-Barré Syndrome? · tingling or pain in the toes and fingertips · weakness or pain in the legs that causes trouble ...</td><td>KidsHealth</td><td>https://kidshealth.org › ...</td><td></td></tr><tr><td>7</td><td>Guillain-Barré Syndrome (GBS): Symptoms & Causes</td><td>https://www.nyp.org/neuro/neuromuscular-disorders/guillain-barre-syndrome</td><td>Guillain-Barré syndrome is a neurological disorder in which the body's immune system attacks the nerves outside the brain and spinal cord.</td><td>NewYork-Presbyterian</td><td>https://www.nyp.org › ...</td><td></td></tr><tr><td>3</td><td>Definition of Guillain-Barré syndrome</td><td>https://www.cancer.gov/publications/dictionaries/cancer-terms/def/guillain-barre-syndrome</td><td>A rare condition in which the body's immune system attacks the nerves located outside the brain and spinal cord. Symptoms of Guillain-Barré syndrome include ...</td><td>National Cancer Institute (.gov)</td><td>https://www.cancer.gov › ...</td><td></td></tr><tr><td>9</td><td>Guillain-Barré Syndrome</td><td>https://zerotofinals.com/medicine/neurology/guillainbarre/</td><td>Guillain-Barré syndrome is an acute paralytic polyneuropathy that affects the peripheral nervous system. It causes acute, symmetrical, ascending weakness.</td><td>Zero To Finals</td><td>https://zerotofinals.com › ...</td><td></td></tr><tr><td>10</td><td>क्या है Guillain-Barre Syndrome? महाराष्ट्र में 6 की मौत ...</td><td>https://www.prabhatkhabar.com/state/maharashtra/what-is-guillain-barre-syndrome-maharashtra-in-grip-most-cases-from-youth</td><td>गिलियन-बैरे सिंड्रोम (जीबीएस) एक ऑटोइम्यून बीमारी है. यह मरीजों के इम्यून सिस्टम को प्रभावित करता है. जीबीएस मरीजों के स्वस्थ्य नसों पर हमला करता है. जिससे नसें कमजोर हो जाती हैं. अगर समय पर इसका इलाज ...</td><td>Prabhat Khabar</td><td>https://www.prabhatkhabar.com › Rajya › Maharashtra</td><td></td></tr><tr><td>8</td><td>Guillain-Barre syndrome (GBS)</td><td>https://gpnotebook.com/pages/infectious-disease/guillain-barre-syndrome-gbs</td><td>Guillain-Barre syndrome (GBS) ... A prodromal malaise with vomiting, headache, fever and limb pains is rapidly surmounted by a progressive and ...</td><td>GPnotebook</td><td>https://gpnotebook.com › ...</td><td></td></tr><tr><td>6</td><td>When Your Child Has Guillain-Barre Syndrome (GBS)</td><td>https://www.saintlukeskc.org/health-library/when-your-child-has-guillain-barre-syndrome-gbs</td><td>Your child has been diagnosed with Guillain-Barré syndrome (GBS). This is an illness that affects the peripheral nerves, often both the sensory and motor ...</td><td>Saint Luke's Health System Kansas City</td><td>https://www.saintlukeskc.org › ...</td><td></td></tr><tr><td>4</td><td>à¥ à¤¯à¤¾ à¤¹à¥ˆ?</td><td>https://translate.google.com/translate?u=https://www.webmd.com/brain/what-is-guillain-barre&hl=hi&sl=en&tl=hi&client=srp</td><td>à¤—à¥ à¤‡à¤²à¥‡à¤¨-à¤¬à¥ˆà¤°à¥‡ à¤¸à¤¿à¤‚à¤¡à¥ à¤°à¥‹à¤® à¤ à¤• à¤¦à¥ à¤°à¥ à¤²à¤ à¤'à¤Ÿà¥‹à¤‡à¤®à¥ à¤¯à¥‚à¤¨ à¤µà¤¿à¤•à¤¾à¤° à¤¹à¥ˆà¥¤ ...</td><td>WebMD</td><td>https://www.webmd.com › brain › what-is-guillain-barre</td><td></td></tr><tr><td>5</td><td>Epidemiology of Guillain Barre Syndrome in North Western ...</td><td>https://www.ijnonline.org/article-details/1785</td><td>In our study prevalence of GBS was 41.5%. Most cases were in the age range of 13-60 months. In these study males (68.5%) were more affected than girls (31.5%).</td><td>Indian Journal of Neurosciences</td><td>https://www.ijnonline.org › ...</td><td></td></tr></tbody></table></div>"
      ]
     },
     "metadata": {
      "application/vnd.databricks.v1+output": {
       "addedWidgets": {},
       "aggData": [],
       "aggError": "",
       "aggOverflow": false,
       "aggSchema": [],
       "aggSeriesLimitReached": false,
       "aggType": "",
       "arguments": {},
       "columnCustomDisplayInfos": {},
       "data": [
        [
         6,
         "Guillain-Barré Syndrome",
         "https://www.hopkinsmedicine.org/health/conditions-and-diseases/guillainbarr-syndrome",
         "Guillain-Barré syndrome (GBS) is a rare neurological disorder in which the body's immune system attacks the peripheral nervous system.",
         "Johns Hopkins Medicine",
         "https://www.hopkinsmedicine.org › ...",
         ""
        ],
        [
         5,
         "Guillain–Barré syndrome",
         "https://www.who.int/news-room/fact-sheets/detail/guillain-barr%C3%A9-syndrome",
         "Guillain-Barré syndrome (GBS) is a rare condition in which a person's immune system attacks the peripheral nerves.",
         "World Health Organization (WHO)",
         "https://www.who.int › ...",
         ""
        ],
        [
         2,
         "Guillain-Barré Syndrome (GBS): Symptoms & Treatment",
         "https://my.clevelandclinic.org/health/diseases/15838-guillain-barre-syndrome",
         "Guillain-Barré syndrome is a rare autoimmune condition in which your immune system attacks your peripheral nerves. It causes numbness and muscle weakness.",
         "Cleveland Clinic",
         "https://my.clevelandclinic.org › ...",
         ""
        ],
        [
         1,
         "Guillain-Barre syndrome - Symptoms and causes",
         "https://www.mayoclinic.org/diseases-conditions/guillain-barre-syndrome/symptoms-causes/syc-20362793",
         "Guillain-Barre syndrome often begins with tingling and weakness starting in the feet and legs and spreading to the upper body and arms. Some ...",
         "Mayo Clinic",
         "https://www.mayoclinic.org › ...",
         ""
        ],
        [
         7,
         "Guillain-Barre syndrome - Diagnosis and treatment",
         "https://www.mayoclinic.org/diseases-conditions/guillain-barre-syndrome/diagnosis-treatment/drc-20363006",
         "This rare autoimmune condition affects the nerves, causing weakness and tingling in the arms and legs that quickly spreads throughout the ...",
         "Mayo Clinic",
         "https://www.mayoclinic.org › ...",
         "{'inline': [{'title': 'Symptoms and causes', 'link': 'https://www.mayoclinic.org/diseases-conditions/guillain-barre-syndrome/symptoms-causes/syc-20362793'}, {'title': 'Doctors and departments', 'link': 'https://www.mayoclinic.org/diseases-conditions/guillain-barre-syndrome/doctors-departments/ddc-20363037'}, {'title': 'Care at Mayo Clinic', 'link': 'https://www.mayoclinic.org/diseases-conditions/guillain-barre-syndrome/care-at-mayo-clinic/mac-20363049'}]}"
        ],
        [
         4,
         "Guillain–Barré syndrome",
         "https://en.wikipedia.org/wiki/Guillain%E2%80%93Barr%C3%A9_syndrome",
         "Guillain–Barré syndrome (GBS) is a rapid-onset muscle weakness caused by the immune system damaging the peripheral nervous system.",
         "Wikipedia",
         "https://en.wikipedia.org › ...",
         ""
        ],
        [
         3,
         "Guillain-Barré Syndrome",
         "https://www.ninds.nih.gov/health-information/disorders/guillain-barre-syndrome",
         "Guillain-Barré syndrome (GBS) (pronounced Ghee-yan Bah-ray) is a rare neurological disorder in which a person's immune system mistakenly attacks ...",
         "National Institute of Neurological Disorders and Stroke (.gov)",
         "https://www.ninds.nih.gov › ...",
         "{'inline': [{'title': 'What is Guillain-Barré...', 'link': 'https://www.ninds.nih.gov/health-information/disorders/guillain-barre-syndrome#toc-what-is-guillain-barr-syndrome-'}, {'title': 'How is Guillain-Barré...', 'link': 'https://www.ninds.nih.gov/health-information/disorders/guillain-barre-syndrome#toc-how-is-guillain-barr-syndrome-diagnosed-and-treated-'}, {'title': 'What are the latest updates on...', 'link': 'https://www.ninds.nih.gov/health-information/disorders/guillain-barre-syndrome#toc-what-are-the-latest-updates-on-guillain-barr-syndrome-'}]}"
        ],
        [
         8,
         "Guillain-Barre Syndrome",
         "https://www.physio-pedia.com/Guillain-Barre_Syndrome",
         "Guillain-Barré syndrome (GBS) is a condition characterised by the autoimmune destruction of the peripheral sensory system.",
         "Physiopedia",
         "https://www.physio-pedia.com › ...",
         "{'inline': [{'title': 'Case Study', 'link': 'https://www.physio-pedia.com/Case_Study:_Guillain-Barre_Syndrome_(Sub-Acute)'}, {'title': 'Acute Motor Axonal...', 'link': 'https://www.physio-pedia.com/Acute_Motor_Axonal_Neuropathy_(AMAN),_a_Variant_of_Guillain-Barre_Syndrome:_A_Case_Study'}, {'title': 'Edit', 'link': 'https://www.physio-pedia.com/Guillain-Barre_Syndrome?veaction=edit'}]}"
        ],
        [
         1,
         "Guillain-Barré syndrome Information - Mount Sinai",
         "https://www.mountsinai.org/health-library/diseases-conditions/guillain-barr-syndrome",
         "GBS damages parts of nerves. This nerve damage causes tingling, muscle weakness, loss of balance, and paralysis. GBS most often affects the nerve covering ( ...",
         "Mount Sinai",
         "https://www.mountsinai.org › ...",
         ""
        ],
        [
         2,
         "Guillain-Barre Syndrome - StatPearls",
         "https://www.ncbi.nlm.nih.gov/books/NBK532254/",
         "Guillain-Barré syndrome (GBS) is a rare but serious post-infectious immune-mediated neuropathy. It results from the autoimmune destruction of nerves in the ...",
         "National Institutes of Health (NIH) (.gov)",
         "https://www.ncbi.nlm.nih.gov › ...",
         ""
        ],
        [
         10,
         "Guillain-Barré Syndrome | Campylobacter",
         "https://www.cdc.gov/campylobacter/signs-symptoms/guillain-barre-syndrome.html",
         "Guillain-Barré (Ghee-YAN Bah-RAY) syndrome happens when a person's immune system harms their nerves. This harm causes muscle weakness and ...",
         "Centers for Disease Control and Prevention | CDC (.gov)",
         "https://www.cdc.gov › ...",
         ""
        ],
        [
         4,
         "Guillain–Barré syndrome | Nature Reviews Disease Primers",
         "https://www.nature.com/articles/s41572-024-00580-4",
         "GBS is usually a monophasic condition in which the immune system aberrantly disrupts the function and structure of the peripheral nervous system ...",
         "Nature",
         "https://www.nature.com › ...",
         ""
        ],
        [
         9,
         "Guillain-Barre Syndrome: Practice Essentials, Background, ...",
         "https://emedicine.medscape.com/article/315632-overview",
         "GBS is considered to be a postinfectious, immune-mediated disease targeting peripheral nerves. Up to two thirds of patients report an antecedent ...",
         "Medscape",
         "https://emedicine.medscape.com › ...",
         ""
        ],
        [
         3,
         "Guillain-Barré Syndrome: Causes, Symptoms, ... - WebMD",
         "https://www.webmd.com/brain/what-is-guillain-barre",
         "Guillain-Barré Syndrome (GBS) is a rare disorder in which your immune system suddenly attacks your nerves, often after you've had a stomach ...",
         "WebMD",
         "https://www.webmd.com › ...",
         ""
        ],
        [
         8,
         "Guillain-Barré Syndrome (GBS) - Brain, Spinal Cord, and ...",
         "https://www.msdmanuals.com/home/brain-spinal-cord-and-nerve-disorders/peripheral-nerve-and-related-disorders/guillain-barr%C3%A9-syndrome-gbs",
         "Guillain-Barré syndrome is a form of polyneuropathy causing muscle weakness, which usually worsens over a few days to weeks, then slowly improves or returns ...",
         "MSD Manuals",
         "https://www.msdmanuals.com › ...",
         ""
        ],
        [
         9,
         "Guillain-Barré syndrome: Symptoms, causes, diagnosis, ...",
         "https://www.medicalnewstoday.com/articles/167892",
         "Guillain-Barré syndrome is a neurological disorder and autoimmune disease that affects the peripheral nervous system. Guillain-Barré syndrome can lead to ...",
         "Medical News Today",
         "https://www.medicalnewstoday.com › ...",
         ""
        ],
        [
         5,
         "Guillain-Barré syndrome",
         "https://www.sciencedirect.com/science/article/abs/pii/S0140673621005171",
         "Guillain-Barré syndrome is an immune-mediated polyradiculoneuropathy that accounts for an estimated 100 000 new cases annually worldwide.1 In ...",
         "ScienceDirect.com",
         "https://www.sciencedirect.com › ...",
         ""
        ],
        [
         2,
         "Guillain-Barré Syndrome (GBS) and Vaccines",
         "https://www.cdc.gov/vaccine-safety/about/guillain-barre.html",
         "Guillain-Barré syndrome (GBS) is a rare disorder where the body's immune system damages nerve. To study whether a new vaccine might be ...",
         "Centers for Disease Control and Prevention | CDC (.gov)",
         "https://www.cdc.gov › ...",
         ""
        ],
        [
         1,
         "Guillain-Barré syndrome (GBS)",
         "https://www.healthline.com/health/guillain-barre-syndrome",
         "The first symptom of Guillain-Barré syndrome is usually a tingling sensation in your toes, feet, and legs. The tingling spreads upward to your arms and fingers.",
         "Healthline",
         "https://www.healthline.com › ...",
         ""
        ],
        [
         7,
         "Guillain-Barre Syndrome - GBS",
         "https://medlineplus.gov/guillainbarresyndrome.html",
         "Guillain-Barre syndrome is a rare disorder that causes your immune system to attack your peripheral nervous system (PNS).",
         "MedlinePlus (.gov)",
         "https://medlineplus.gov › ...",
         ""
        ],
        [
         6,
         "Guillain-Barré Syndrome : CONTINUUM",
         "https://journals.lww.com/continuum/fulltext/2020/10000/guillain_barr__syndrome.6.aspx",
         "Guillain-Barré syndrome (GBS) encompasses a spectrum of acute neuropathic disorders, with muscle weakness being the cardinal manifestation in the majority of ...",
         "Lippincott",
         "https://journals.lww.com › ...",
         ""
        ],
        [
         3,
         "Diagnosis and management of Guillain–Barré syndrome ...",
         "https://www.nature.com/articles/s41582-019-0250-9",
         "Guillain–Barré syndrome (GBS) is a rare, but potentially fatal, immune-mediated disease of the peripheral nerves and nerve roots that is ...",
         "Nature",
         "https://www.nature.com › ...",
         ""
        ],
        [
         6,
         "Guillain-Barré Syndrome | Diagnosis & Disease Information",
         "https://www.pulmonologyadvisor.com/ddi/guillain-barre-syndrome/",
         "Guillain-Barré syndrome is an autoimmune disorder that results in inflammatory demyelination.1 The condition was first described in 1916 by ...",
         "Pulmonology Advisor",
         "https://www.pulmonologyadvisor.com › ...",
         ""
        ],
        [
         4,
         "Guillain–Barré Syndrome | NEJM",
         "https://www.nejm.org/doi/full/10.1056/NEJMra1114525",
         "The Guillain–Barré syndrome is the most frequent cause of acute flaccid paralysis worldwide and constitutes a neurologic emergency.",
         "The New England Journal of Medicine",
         "https://www.nejm.org › ...",
         ""
        ],
        [
         10,
         "What is Guillain-Barré Syndrome or GBS",
         "https://www.gbs-cidp.org/gbs/",
         "GBS is characterized by the rapid onset of numbness, weakness, and often paralysis of the legs, arms, breathing muscles, and face. Paralysis is ascending, ...",
         "GBS/CIDP Foundation International",
         "https://www.gbs-cidp.org › ...",
         ""
        ],
        [
         5,
         "Guillain-Barré syndrome",
         "https://www.sciencedirect.com/science/article/pii/S0140673621005171",
         "Guillain-Barré syndrome is an immune-mediated polyradiculoneuropathy that accounts for an estimated 100 000 new cases annually worldwide.",
         "ScienceDirect.com",
         "https://www.sciencedirect.com › ...",
         ""
        ],
        [
         8,
         "Guillain-Barré Syndrome (GBS)",
         "https://www.childrenshospital.org/conditions/guillain-barre-syndrome",
         "Guillain-Barré syndrome (GBS) occurs when the immune system attacks the peripheral nervous system. Learn more from Boston Children's Hospital.",
         "Boston Children's Hospital",
         "https://www.childrenshospital.org › ...",
         ""
        ],
        [
         9,
         "Guillain–Barré syndrome outbreak in Pune - The Lancet",
         "https://www.thelancet.com/journals/lancet/article/PIIS0140-6736(25)00414-3/fulltext",
         "As of March 8, 2025, the total number of Guillain–Barré syndrome cases in Pune was 225, with 197 confirmed diagnoses and 28 suspected cases, ...",
         "The Lancet",
         "https://www.thelancet.com › ...",
         ""
        ],
        [
         7,
         "Guillain‐Barré syndrome: a comprehensive review - Bellanti",
         "https://onlinelibrary.wiley.com/doi/10.1111/ene.16365",
         "Guillain-Barré syndrome is a postinfectious, immune-mediated peripheral neuropathy. As our knowledge continues to expand, its pathophysiological ...",
         "Wiley Online Library",
         "https://onlinelibrary.wiley.com › ...",
         ""
        ],
        [
         5,
         "Guillain-Barré Syndrome",
         "https://www.americanbrainfoundation.org/diseases/guillain-barre-syndrome/",
         "Guillain-Barré syndrome (GBS) is a rare neurologic disorder in which the body's autoimmune response attacks the peripheral nervous system.",
         "American Brain Foundation",
         "https://www.americanbrainfoundation.org › ...",
         ""
        ],
        [
         4,
         "Guillain-Barre syndrome: Video, Causes, & Meaning",
         "https://www.osmosis.org/learn/Guillain-Barre_syndrome",
         "The cause of Guillain- Barré syndrome is unknown, but it's known to develop after a bacterial infection, like Campylobacter jejuni and Mycoplasma pneumoniae, or ...",
         "Osmosis",
         "https://www.osmosis.org › ...",
         ""
        ],
        [
         6,
         "What is Guillain-Barré Syndrome (GBS)? - By Adhikari Lifeline",
         "https://www.adhikarilifeline.com/what-is-guillain-barre-syndrome-gbs/",
         "Guillain-Barré Syndrome (GBS) is a rare but serious neurological disorder in which the body's immune system mistakenly attacks the nervous system.",
         "adhikarilifeline.com",
         "https://www.adhikarilifeline.com › ...",
         ""
        ],
        [
         1,
         "Guillain-Barré Syndrome - Symptoms, Causes, Treatment",
         "https://rarediseases.org/rare-diseases/guillain-barre-syndrome/",
         "Guillain-Barré syndrome (GBS) is a rare, rapidly progressive disease due to inflammation of the nerves causing muscle weakness, sometimes ...",
         "National Organization for Rare Disorders",
         "https://rarediseases.org › ...",
         ""
        ],
        [
         7,
         "Guillain-Barré syndrome: Types, Symptoms, Causes & ...",
         "https://www.pacehospital.com/guillain-barre-syndrome-symptoms-causes-diagnosis-treatment",
         "Guillain-Barré Syndrome is a rare autoimmune disorder in which the immune system attacks the nerves, leading to muscle weakness, numbness, and paralysis.",
         "PACE Hospitals",
         "https://www.pacehospital.com › ...",
         ""
        ],
        [
         3,
         "Current treatment practice of Guillain-Barré syndrome",
         "https://www.neurology.org/doi/10.1212/WNL.0000000000007719",
         "Plasma exchange (PE) and IV immunoglobulin (IVIg) are the only proven effective treatments for Guillain-Barré syndrome (GBS), although there has been little ...",
         "Neurology® Journals",
         "https://www.neurology.org › ...",
         ""
        ],
        [
         2,
         "Guillain-Barré syndrome in adults: Pathogenesis, clinical ...",
         "https://www.uptodate.com/contents/guillain-barre-syndrome-in-adults-pathogenesis-clinical-features-and-diagnosis",
         "Time course of symptoms · Examination findings · - Weakness · - Deep tendon reflexes · - Other findings · Variant forms of Guillain-Barré syndrome.",
         "Wolters Kluwer",
         "https://www.uptodate.com › ...",
         ""
        ],
        [
         4,
         "Pune's Guillain-Barré Syndrome Epidemic Related to ...",
         "https://www.vax-before-travel.com/punes-guillain-barr-syndrome-epidemic-related-water-quality-2025-03-10",
         "Experts have linked these GBS infections with Campylobacter jejuni. This bacteria is one of the most common causes of food poisoning.",
         "Vax-Before-Travel",
         "https://www.vax-before-travel.com › ...",
         ""
        ],
        [
         5,
         "Guillain-Barré Syndrome (GBS)",
         "https://litfl.com/guillain-barre-syndrome-gbs/",
         "Guillain-Barré Syndrome (GBS) is the most common and most severe acute paralytic neuropathy, consisting of multiple variants with distinct clinical and ...",
         "Life in the Fast Lane • LITFL",
         "https://litfl.com › ...",
         ""
        ],
        [
         3,
         "Guillain-Barre Syndrome (GBS)",
         "https://www.jeffersonhealth.org/conditions-and-treatments/guillain-barre-syndrome",
         "We're also involved in researching the underlying causes of GBS and other autoimmune neuromuscular conditions. At Jefferson Health, you can be sure you're ...",
         "Jefferson Health",
         "https://www.jeffersonhealth.org › ...",
         ""
        ],
        [
         8,
         "Guillain Barré Syndrome",
         "https://www.brainfacts.org/diseases-and-disorders/neurological-disorders-az/diseases-a-to-z-from-ninds/guillain-barr%C3%A9-syndrome",
         "Guillain-Barré syndrome is a disorder in which the body's immune system attacks part of the peripheral nervous system. The first symptoms of this disorder ...",
         "BrainFacts",
         "https://www.brainfacts.org › ...",
         ""
        ],
        [
         2,
         "Pediatric Guillain-Barré syndrome (GBS) - Dallas",
         "https://www.childrens.com/specialties-services/conditions/guillain-barre-syndrome",
         "A typical sign of GBS is muscle weakness, numbness, tingling (pins-and-needle sensation) and occasionally pain, that starts in the feet and legs. These symptoms ...",
         "Children’s Health",
         "https://www.childrens.com › ...",
         ""
        ],
        [
         1,
         "Guillain-Barre Syndrome: Symptoms, Causes & Treatment",
         "https://www.blkmaxhospital.com/blogs/guillain-barre-syndrome",
         "Guillain-Barre Syndrome (GBS) is a rare but serious autoimmune disorder that affects the peripheral nervous system.",
         "BLK-Max Hospital",
         "https://www.blkmaxhospital.com › ...",
         ""
        ],
        [
         9,
         "Guillain-Barré Syndrome",
         "https://www.mayoclinicproceedings.org/article/S0025-6196(16)30818-7/fulltext",
         "Guillain-Barré syndrome is an acute inflammatory immune-mediated polyradiculoneuropathy presenting typically with tingling, progressive weakness, and pain.",
         "Mayo Clinic Proceedings",
         "https://www.mayoclinicproceedings.org › ...",
         ""
        ],
        [
         10,
         "Guillain-Barré Syndrome - Neurology - Highland Hospital",
         "https://www.urmc.rochester.edu/highland/departments-centers/neurology/conditions-we-treat/guillain-barr",
         "Guillain-Barré (ghee-yan bah-ray) syndrome is a disorder in which the body's immune system attacks part of the peripheral nervous system.",
         "University of Rochester Medical Center",
         "https://www.urmc.rochester.edu › ...",
         ""
        ],
        [
         2,
         "Guillain-Barré Syndrome",
         "https://www.yalemedicine.org/conditions/guillain-barre-syndrome",
         "Guillain-Barré syndrome (GBS) is a neurological condition in which the body's immune system attacks healthy nerve cells.",
         "Yale Medicine",
         "https://www.yalemedicine.org › ...",
         ""
        ],
        [
         1,
         "Guillain-Barre Syndrome: Symptoms, Causes & Treatment",
         "https://www.blkmaxhospital.com/blogs/guillain-barre-syndrome",
         "Guillain-Barre Syndrome is a rare but serious neurological disorder that requires immediate medical attention. While most people recover, early ...",
         "BLK-Max Hospital",
         "https://www.blkmaxhospital.com › ...",
         ""
        ],
        [
         8,
         "Guillain-Barré Syndrome | McGovern Medical School",
         "https://med.uth.edu/neurosciences/conditions-and-treatments/nerve-disorders/guillain-barre-syndrome/",
         "Signs Guillain-Barré Syndrome. Initial symptoms may present as pain, weakness, or tingling in the hands or feet. Patients usually experience this in one side of ...",
         "UTHealth Houston",
         "https://med.uth.edu › ...",
         ""
        ],
        [
         9,
         "Guillain-Barré Syndrome",
         "https://www.medcomic.com/medcomic/guillain-barre-syndrome",
         "Guillain-Barré syndrome (GBS) is an acute, inflammatory demyelinating polyneuropathy with ascending muscle weakness that is autoimmune in nature.",
         "Medcomic",
         "https://www.medcomic.com › ...",
         ""
        ],
        [
         6,
         "Guillain-Barré Syndrome",
         "https://zerotofinals.com/medicine/neurology/guillainbarre/",
         "Presentation. Symptoms usually start within four weeks of the triggering infection. They begin in the feet and progress upward. Symptoms peak within 2-4 weeks.",
         "Zero To Finals",
         "https://zerotofinals.com › ...",
         ""
        ],
        [
         10,
         "Physical Therapy Guide to Guillain-Barré Syndrome",
         "https://www.choosept.com/guide/physical-therapy-guide-guillain-barre-syndrome",
         "Physical therapists have extensive training to help people during GBS recovery. They help patients understand how GBS affects their ability to move safely.",
         "ChoosePT",
         "https://www.choosept.com › ...",
         ""
        ],
        [
         7,
         "Guillain-Barré Syndrome (for Parents)",
         "https://kidshealth.org/en/parents/gbs.html",
         "What Are the Signs & Symptoms of Guillain-Barré Syndrome? · tingling or pain in the toes and fingertips · weakness or pain in the legs that causes trouble ...",
         "KidsHealth",
         "https://kidshealth.org › ...",
         ""
        ],
        [
         7,
         "Guillain-Barré Syndrome (GBS): Symptoms & Causes",
         "https://www.nyp.org/neuro/neuromuscular-disorders/guillain-barre-syndrome",
         "Guillain-Barré syndrome is a neurological disorder in which the body's immune system attacks the nerves outside the brain and spinal cord.",
         "NewYork-Presbyterian",
         "https://www.nyp.org › ...",
         ""
        ],
        [
         3,
         "Definition of Guillain-Barré syndrome",
         "https://www.cancer.gov/publications/dictionaries/cancer-terms/def/guillain-barre-syndrome",
         "A rare condition in which the body's immune system attacks the nerves located outside the brain and spinal cord. Symptoms of Guillain-Barré syndrome include ...",
         "National Cancer Institute (.gov)",
         "https://www.cancer.gov › ...",
         ""
        ],
        [
         9,
         "Guillain-Barré Syndrome",
         "https://zerotofinals.com/medicine/neurology/guillainbarre/",
         "Guillain-Barré syndrome is an acute paralytic polyneuropathy that affects the peripheral nervous system. It causes acute, symmetrical, ascending weakness.",
         "Zero To Finals",
         "https://zerotofinals.com › ...",
         ""
        ],
        [
         10,
         "क्या है Guillain-Barre Syndrome? महाराष्ट्र में 6 की मौत ...",
         "https://www.prabhatkhabar.com/state/maharashtra/what-is-guillain-barre-syndrome-maharashtra-in-grip-most-cases-from-youth",
         "गिलियन-बैरे सिंड्रोम (जीबीएस) एक ऑटोइम्यून बीमारी है. यह मरीजों के इम्यून सिस्टम को प्रभावित करता है. जीबीएस मरीजों के स्वस्थ्य नसों पर हमला करता है. जिससे नसें कमजोर हो जाती हैं. अगर समय पर इसका इलाज ...",
         "Prabhat Khabar",
         "https://www.prabhatkhabar.com › Rajya › Maharashtra",
         ""
        ],
        [
         8,
         "Guillain-Barre syndrome (GBS)",
         "https://gpnotebook.com/pages/infectious-disease/guillain-barre-syndrome-gbs",
         "Guillain-Barre syndrome (GBS) ... A prodromal malaise with vomiting, headache, fever and limb pains is rapidly surmounted by a progressive and ...",
         "GPnotebook",
         "https://gpnotebook.com › ...",
         ""
        ],
        [
         6,
         "When Your Child Has Guillain-Barre Syndrome (GBS)",
         "https://www.saintlukeskc.org/health-library/when-your-child-has-guillain-barre-syndrome-gbs",
         "Your child has been diagnosed with Guillain-Barré syndrome (GBS). This is an illness that affects the peripheral nerves, often both the sensory and motor ...",
         "Saint Luke's Health System Kansas City",
         "https://www.saintlukeskc.org › ...",
         ""
        ],
        [
         4,
         "à¥ à¤¯à¤¾ à¤¹à¥ˆ?",
         "https://translate.google.com/translate?u=https://www.webmd.com/brain/what-is-guillain-barre&hl=hi&sl=en&tl=hi&client=srp",
         "à¤—à¥ à¤‡à¤²à¥‡à¤¨-à¤¬à¥ˆà¤°à¥‡ à¤¸à¤¿à¤‚à¤¡à¥ à¤°à¥‹à¤® à¤ à¤• à¤¦à¥ à¤°à¥ à¤²à¤ à¤'à¤Ÿà¥‹à¤‡à¤®à¥ à¤¯à¥‚à¤¨ à¤µà¤¿à¤•à¤¾à¤° à¤¹à¥ˆà¥¤ ...",
         "WebMD",
         "https://www.webmd.com › brain › what-is-guillain-barre",
         ""
        ],
        [
         5,
         "Epidemiology of Guillain Barre Syndrome in North Western ...",
         "https://www.ijnonline.org/article-details/1785",
         "In our study prevalence of GBS was 41.5%. Most cases were in the age range of 13-60 months. In these study males (68.5%) were more affected than girls (31.5%).",
         "Indian Journal of Neurosciences",
         "https://www.ijnonline.org › ...",
         ""
        ]
       ],
       "datasetInfos": [],
       "dbfsResultPath": null,
       "isJsonSchema": true,
       "metadata": {},
       "overflow": false,
       "plotOptions": {
        "customPlotOptions": {},
        "displayType": "table",
        "pivotAggregation": null,
        "pivotColumns": null,
        "xColumns": null,
        "yColumns": null
       },
       "removedWidgets": [],
       "schema": [
        {
         "metadata": "{}",
         "name": "Position",
         "type": "\"integer\""
        },
        {
         "metadata": "{}",
         "name": "Title",
         "type": "\"string\""
        },
        {
         "metadata": "{}",
         "name": "Link",
         "type": "\"string\""
        },
        {
         "metadata": "{}",
         "name": "Snippet",
         "type": "\"string\""
        },
        {
         "metadata": "{}",
         "name": "Source",
         "type": "\"string\""
        },
        {
         "metadata": "{}",
         "name": "Displayed_Link",
         "type": "\"string\""
        },
        {
         "metadata": "{}",
         "name": "Sitelinks",
         "type": "\"string\""
        }
       ],
       "type": "table"
      }
     },
     "output_type": "display_data"
    }
   ],
   "source": [
    "%sql\n",
    "select * from final_serpapi_data"
   ]
  },
  {
   "cell_type": "markdown",
   "metadata": {
    "application/vnd.databricks.v1+cell": {
     "cellMetadata": {
      "byteLimit": 2048000,
      "rowLimit": 10000
     },
     "inputWidgets": {},
     "nuid": "62f73f3e-71d0-463a-a8f1-79c9966af0a7",
     "showTitle": false,
     "tableResultSettingsMap": {},
     "title": ""
    }
   },
   "source": [
    "**Derived Results Summary**"
   ]
  },
  {
   "cell_type": "markdown",
   "metadata": {
    "application/vnd.databricks.v1+cell": {
     "cellMetadata": {
      "byteLimit": 2048000,
      "rowLimit": 10000
     },
     "inputWidgets": {},
     "nuid": "d7248521-6976-44ff-a6bd-51d7d4c767a0",
     "showTitle": false,
     "tableResultSettingsMap": {},
     "title": ""
    }
   },
   "source": [
    "**Clinical Trials Data Insights:**\n",
    "\n",
    "- The majority of clinical trials related to Guillain-Barré Syndrome (GBS) are completed (31 studies), while a significant portion remains unknown or recruiting.\n",
    "\n",
    "- Only about 5.26% of the studies have published results, indicating that most clinical trials on GBS have yet to report their findings.\n",
    "\n",
    "- A filtered subset of studies with results was created for focused analysis, highlighting the available data for deeper examination.\n",
    "\n",
    "**SERP API Search Results Insights:**\n",
    "\n",
    "- The most frequent sources in Google search results include authoritative health organizations such as the Centers for Disease Control and Prevention (CDC), Mayo Clinic, and The Lancet, often appearing at top ranks.\n",
    "\n",
    "- Titles related to Guillain-Barré Syndrome appearing in the top 3 search positions are mostly from reputable medical institutions, emphasizing the dominance of credible sources in search results.\n",
    "\n",
    "- Search snippets are mainly focused on Symptoms, followed by Causes and Treatment, suggesting public interest and information availability centers on understanding and managing the condition."
   ]
  },
  {
   "cell_type": "markdown",
   "metadata": {
    "application/vnd.databricks.v1+cell": {
     "cellMetadata": {
      "byteLimit": 2048000,
      "rowLimit": 10000
     },
     "inputWidgets": {},
     "nuid": "d4b44630-4417-43e4-9a40-9e33d6f8cc00",
     "showTitle": false,
     "tableResultSettingsMap": {},
     "title": ""
    }
   },
   "source": []
  }
 ],
 "metadata": {
  "application/vnd.databricks.v1+notebook": {
   "computePreferences": null,
   "dashboards": [],
   "environmentMetadata": {
    "base_environment": "",
    "environment_version": "1"
   },
   "inputWidgetPreferences": null,
   "language": "python",
   "notebookMetadata": {
    "mostRecentlyExecutedCommandWithImplicitDF": {
     "commandId": 1502206967976473,
     "dataframes": [
      "_sqldf"
     ]
    },
    "pythonIndentUnit": 4
   },
   "notebookName": "Guillain-Barré Syndrome: Data Exploration with Clinical and Search Data",
   "widgets": {}
  }
 },
 "nbformat": 4,
 "nbformat_minor": 0
}